{
  "nbformat": 4,
  "nbformat_minor": 0,
  "metadata": {
    "colab": {
      "name": "2_AI_Background.ipynb",
      "provenance": []
    },
    "kernelspec": {
      "name": "python3",
      "display_name": "Python 3"
    },
    "language_info": {
      "name": "python"
    },
    "widgets": {
      "application/vnd.jupyter.widget-state+json": {
        "dded75caf63e4eab8c81082e8b3dcd30": {
          "model_module": "@jupyter-widgets/controls",
          "model_name": "HBoxModel",
          "state": {
            "_view_name": "HBoxView",
            "_dom_classes": [],
            "_model_name": "HBoxModel",
            "_view_module": "@jupyter-widgets/controls",
            "_model_module_version": "1.5.0",
            "_view_count": null,
            "_view_module_version": "1.5.0",
            "box_style": "",
            "layout": "IPY_MODEL_e2d1ca9fede54c0ba599c477026c2dde",
            "_model_module": "@jupyter-widgets/controls",
            "children": [
              "IPY_MODEL_fb73bcb5ae6c448fbb714231334cb6e7",
              "IPY_MODEL_108b1904c99f4757aeebbb5407c30213"
            ]
          }
        },
        "e2d1ca9fede54c0ba599c477026c2dde": {
          "model_module": "@jupyter-widgets/base",
          "model_name": "LayoutModel",
          "state": {
            "_view_name": "LayoutView",
            "grid_template_rows": null,
            "right": null,
            "justify_content": null,
            "_view_module": "@jupyter-widgets/base",
            "overflow": null,
            "_model_module_version": "1.2.0",
            "_view_count": null,
            "flex_flow": null,
            "width": null,
            "min_width": null,
            "border": null,
            "align_items": null,
            "bottom": null,
            "_model_module": "@jupyter-widgets/base",
            "top": null,
            "grid_column": null,
            "overflow_y": null,
            "overflow_x": null,
            "grid_auto_flow": null,
            "grid_area": null,
            "grid_template_columns": null,
            "flex": null,
            "_model_name": "LayoutModel",
            "justify_items": null,
            "grid_row": null,
            "max_height": null,
            "align_content": null,
            "visibility": null,
            "align_self": null,
            "height": null,
            "min_height": null,
            "padding": null,
            "grid_auto_rows": null,
            "grid_gap": null,
            "max_width": null,
            "order": null,
            "_view_module_version": "1.2.0",
            "grid_template_areas": null,
            "object_position": null,
            "object_fit": null,
            "grid_auto_columns": null,
            "margin": null,
            "display": null,
            "left": null
          }
        },
        "fb73bcb5ae6c448fbb714231334cb6e7": {
          "model_module": "@jupyter-widgets/controls",
          "model_name": "FloatProgressModel",
          "state": {
            "_view_name": "ProgressView",
            "style": "IPY_MODEL_7d5e9bfe0492427da8ac661c09746a27",
            "_dom_classes": [],
            "description": "",
            "_model_name": "FloatProgressModel",
            "bar_style": "success",
            "max": 9912422,
            "_view_module": "@jupyter-widgets/controls",
            "_model_module_version": "1.5.0",
            "value": 9912422,
            "_view_count": null,
            "_view_module_version": "1.5.0",
            "orientation": "horizontal",
            "min": 0,
            "description_tooltip": null,
            "_model_module": "@jupyter-widgets/controls",
            "layout": "IPY_MODEL_0220db9b66f8423cbbd8223656ec8276"
          }
        },
        "108b1904c99f4757aeebbb5407c30213": {
          "model_module": "@jupyter-widgets/controls",
          "model_name": "HTMLModel",
          "state": {
            "_view_name": "HTMLView",
            "style": "IPY_MODEL_882c7d02dd8b489db59d63ecb2d069e8",
            "_dom_classes": [],
            "description": "",
            "_model_name": "HTMLModel",
            "placeholder": "​",
            "_view_module": "@jupyter-widgets/controls",
            "_model_module_version": "1.5.0",
            "value": " 9913344/? [06:01&lt;00:00, 27459.44it/s]",
            "_view_count": null,
            "_view_module_version": "1.5.0",
            "description_tooltip": null,
            "_model_module": "@jupyter-widgets/controls",
            "layout": "IPY_MODEL_bc1803a61e2349f68af9c998350d2c94"
          }
        },
        "7d5e9bfe0492427da8ac661c09746a27": {
          "model_module": "@jupyter-widgets/controls",
          "model_name": "ProgressStyleModel",
          "state": {
            "_view_name": "StyleView",
            "_model_name": "ProgressStyleModel",
            "description_width": "initial",
            "_view_module": "@jupyter-widgets/base",
            "_model_module_version": "1.5.0",
            "_view_count": null,
            "_view_module_version": "1.2.0",
            "bar_color": null,
            "_model_module": "@jupyter-widgets/controls"
          }
        },
        "0220db9b66f8423cbbd8223656ec8276": {
          "model_module": "@jupyter-widgets/base",
          "model_name": "LayoutModel",
          "state": {
            "_view_name": "LayoutView",
            "grid_template_rows": null,
            "right": null,
            "justify_content": null,
            "_view_module": "@jupyter-widgets/base",
            "overflow": null,
            "_model_module_version": "1.2.0",
            "_view_count": null,
            "flex_flow": null,
            "width": null,
            "min_width": null,
            "border": null,
            "align_items": null,
            "bottom": null,
            "_model_module": "@jupyter-widgets/base",
            "top": null,
            "grid_column": null,
            "overflow_y": null,
            "overflow_x": null,
            "grid_auto_flow": null,
            "grid_area": null,
            "grid_template_columns": null,
            "flex": null,
            "_model_name": "LayoutModel",
            "justify_items": null,
            "grid_row": null,
            "max_height": null,
            "align_content": null,
            "visibility": null,
            "align_self": null,
            "height": null,
            "min_height": null,
            "padding": null,
            "grid_auto_rows": null,
            "grid_gap": null,
            "max_width": null,
            "order": null,
            "_view_module_version": "1.2.0",
            "grid_template_areas": null,
            "object_position": null,
            "object_fit": null,
            "grid_auto_columns": null,
            "margin": null,
            "display": null,
            "left": null
          }
        },
        "882c7d02dd8b489db59d63ecb2d069e8": {
          "model_module": "@jupyter-widgets/controls",
          "model_name": "DescriptionStyleModel",
          "state": {
            "_view_name": "StyleView",
            "_model_name": "DescriptionStyleModel",
            "description_width": "",
            "_view_module": "@jupyter-widgets/base",
            "_model_module_version": "1.5.0",
            "_view_count": null,
            "_view_module_version": "1.2.0",
            "_model_module": "@jupyter-widgets/controls"
          }
        },
        "bc1803a61e2349f68af9c998350d2c94": {
          "model_module": "@jupyter-widgets/base",
          "model_name": "LayoutModel",
          "state": {
            "_view_name": "LayoutView",
            "grid_template_rows": null,
            "right": null,
            "justify_content": null,
            "_view_module": "@jupyter-widgets/base",
            "overflow": null,
            "_model_module_version": "1.2.0",
            "_view_count": null,
            "flex_flow": null,
            "width": null,
            "min_width": null,
            "border": null,
            "align_items": null,
            "bottom": null,
            "_model_module": "@jupyter-widgets/base",
            "top": null,
            "grid_column": null,
            "overflow_y": null,
            "overflow_x": null,
            "grid_auto_flow": null,
            "grid_area": null,
            "grid_template_columns": null,
            "flex": null,
            "_model_name": "LayoutModel",
            "justify_items": null,
            "grid_row": null,
            "max_height": null,
            "align_content": null,
            "visibility": null,
            "align_self": null,
            "height": null,
            "min_height": null,
            "padding": null,
            "grid_auto_rows": null,
            "grid_gap": null,
            "max_width": null,
            "order": null,
            "_view_module_version": "1.2.0",
            "grid_template_areas": null,
            "object_position": null,
            "object_fit": null,
            "grid_auto_columns": null,
            "margin": null,
            "display": null,
            "left": null
          }
        },
        "834842629e2745d3a60f1b011d10f066": {
          "model_module": "@jupyter-widgets/controls",
          "model_name": "HBoxModel",
          "state": {
            "_view_name": "HBoxView",
            "_dom_classes": [],
            "_model_name": "HBoxModel",
            "_view_module": "@jupyter-widgets/controls",
            "_model_module_version": "1.5.0",
            "_view_count": null,
            "_view_module_version": "1.5.0",
            "box_style": "",
            "layout": "IPY_MODEL_e8e9752ef37247029b65514ffeedb12f",
            "_model_module": "@jupyter-widgets/controls",
            "children": [
              "IPY_MODEL_d2ccdf6f5c90497eb8102a2efba9b2f1",
              "IPY_MODEL_802d418b772c467f8086357f77b9607a"
            ]
          }
        },
        "e8e9752ef37247029b65514ffeedb12f": {
          "model_module": "@jupyter-widgets/base",
          "model_name": "LayoutModel",
          "state": {
            "_view_name": "LayoutView",
            "grid_template_rows": null,
            "right": null,
            "justify_content": null,
            "_view_module": "@jupyter-widgets/base",
            "overflow": null,
            "_model_module_version": "1.2.0",
            "_view_count": null,
            "flex_flow": null,
            "width": null,
            "min_width": null,
            "border": null,
            "align_items": null,
            "bottom": null,
            "_model_module": "@jupyter-widgets/base",
            "top": null,
            "grid_column": null,
            "overflow_y": null,
            "overflow_x": null,
            "grid_auto_flow": null,
            "grid_area": null,
            "grid_template_columns": null,
            "flex": null,
            "_model_name": "LayoutModel",
            "justify_items": null,
            "grid_row": null,
            "max_height": null,
            "align_content": null,
            "visibility": null,
            "align_self": null,
            "height": null,
            "min_height": null,
            "padding": null,
            "grid_auto_rows": null,
            "grid_gap": null,
            "max_width": null,
            "order": null,
            "_view_module_version": "1.2.0",
            "grid_template_areas": null,
            "object_position": null,
            "object_fit": null,
            "grid_auto_columns": null,
            "margin": null,
            "display": null,
            "left": null
          }
        },
        "d2ccdf6f5c90497eb8102a2efba9b2f1": {
          "model_module": "@jupyter-widgets/controls",
          "model_name": "FloatProgressModel",
          "state": {
            "_view_name": "ProgressView",
            "style": "IPY_MODEL_67b253bc3cea43a6aea3b983a6b16832",
            "_dom_classes": [],
            "description": "",
            "_model_name": "FloatProgressModel",
            "bar_style": "success",
            "max": 28881,
            "_view_module": "@jupyter-widgets/controls",
            "_model_module_version": "1.5.0",
            "value": 28881,
            "_view_count": null,
            "_view_module_version": "1.5.0",
            "orientation": "horizontal",
            "min": 0,
            "description_tooltip": null,
            "_model_module": "@jupyter-widgets/controls",
            "layout": "IPY_MODEL_8a527cce55ce45a18cc170abbe3dc368"
          }
        },
        "802d418b772c467f8086357f77b9607a": {
          "model_module": "@jupyter-widgets/controls",
          "model_name": "HTMLModel",
          "state": {
            "_view_name": "HTMLView",
            "style": "IPY_MODEL_554bef2c653d49e98b4e40c2915e7285",
            "_dom_classes": [],
            "description": "",
            "_model_name": "HTMLModel",
            "placeholder": "​",
            "_view_module": "@jupyter-widgets/controls",
            "_model_module_version": "1.5.0",
            "value": " 29696/? [00:02&lt;00:00, 12816.17it/s]",
            "_view_count": null,
            "_view_module_version": "1.5.0",
            "description_tooltip": null,
            "_model_module": "@jupyter-widgets/controls",
            "layout": "IPY_MODEL_727a51c3c996417aaa335af0fe18bafd"
          }
        },
        "67b253bc3cea43a6aea3b983a6b16832": {
          "model_module": "@jupyter-widgets/controls",
          "model_name": "ProgressStyleModel",
          "state": {
            "_view_name": "StyleView",
            "_model_name": "ProgressStyleModel",
            "description_width": "initial",
            "_view_module": "@jupyter-widgets/base",
            "_model_module_version": "1.5.0",
            "_view_count": null,
            "_view_module_version": "1.2.0",
            "bar_color": null,
            "_model_module": "@jupyter-widgets/controls"
          }
        },
        "8a527cce55ce45a18cc170abbe3dc368": {
          "model_module": "@jupyter-widgets/base",
          "model_name": "LayoutModel",
          "state": {
            "_view_name": "LayoutView",
            "grid_template_rows": null,
            "right": null,
            "justify_content": null,
            "_view_module": "@jupyter-widgets/base",
            "overflow": null,
            "_model_module_version": "1.2.0",
            "_view_count": null,
            "flex_flow": null,
            "width": null,
            "min_width": null,
            "border": null,
            "align_items": null,
            "bottom": null,
            "_model_module": "@jupyter-widgets/base",
            "top": null,
            "grid_column": null,
            "overflow_y": null,
            "overflow_x": null,
            "grid_auto_flow": null,
            "grid_area": null,
            "grid_template_columns": null,
            "flex": null,
            "_model_name": "LayoutModel",
            "justify_items": null,
            "grid_row": null,
            "max_height": null,
            "align_content": null,
            "visibility": null,
            "align_self": null,
            "height": null,
            "min_height": null,
            "padding": null,
            "grid_auto_rows": null,
            "grid_gap": null,
            "max_width": null,
            "order": null,
            "_view_module_version": "1.2.0",
            "grid_template_areas": null,
            "object_position": null,
            "object_fit": null,
            "grid_auto_columns": null,
            "margin": null,
            "display": null,
            "left": null
          }
        },
        "554bef2c653d49e98b4e40c2915e7285": {
          "model_module": "@jupyter-widgets/controls",
          "model_name": "DescriptionStyleModel",
          "state": {
            "_view_name": "StyleView",
            "_model_name": "DescriptionStyleModel",
            "description_width": "",
            "_view_module": "@jupyter-widgets/base",
            "_model_module_version": "1.5.0",
            "_view_count": null,
            "_view_module_version": "1.2.0",
            "_model_module": "@jupyter-widgets/controls"
          }
        },
        "727a51c3c996417aaa335af0fe18bafd": {
          "model_module": "@jupyter-widgets/base",
          "model_name": "LayoutModel",
          "state": {
            "_view_name": "LayoutView",
            "grid_template_rows": null,
            "right": null,
            "justify_content": null,
            "_view_module": "@jupyter-widgets/base",
            "overflow": null,
            "_model_module_version": "1.2.0",
            "_view_count": null,
            "flex_flow": null,
            "width": null,
            "min_width": null,
            "border": null,
            "align_items": null,
            "bottom": null,
            "_model_module": "@jupyter-widgets/base",
            "top": null,
            "grid_column": null,
            "overflow_y": null,
            "overflow_x": null,
            "grid_auto_flow": null,
            "grid_area": null,
            "grid_template_columns": null,
            "flex": null,
            "_model_name": "LayoutModel",
            "justify_items": null,
            "grid_row": null,
            "max_height": null,
            "align_content": null,
            "visibility": null,
            "align_self": null,
            "height": null,
            "min_height": null,
            "padding": null,
            "grid_auto_rows": null,
            "grid_gap": null,
            "max_width": null,
            "order": null,
            "_view_module_version": "1.2.0",
            "grid_template_areas": null,
            "object_position": null,
            "object_fit": null,
            "grid_auto_columns": null,
            "margin": null,
            "display": null,
            "left": null
          }
        },
        "3f4d6518f1454b1c9366c8b1fb76b5ca": {
          "model_module": "@jupyter-widgets/controls",
          "model_name": "HBoxModel",
          "state": {
            "_view_name": "HBoxView",
            "_dom_classes": [],
            "_model_name": "HBoxModel",
            "_view_module": "@jupyter-widgets/controls",
            "_model_module_version": "1.5.0",
            "_view_count": null,
            "_view_module_version": "1.5.0",
            "box_style": "",
            "layout": "IPY_MODEL_01c0e1f9c1134aa996c9f38661e9920f",
            "_model_module": "@jupyter-widgets/controls",
            "children": [
              "IPY_MODEL_4f69d124758f4bc4addf370839f3e50a",
              "IPY_MODEL_30d988a172da404093010054cd4e3f18"
            ]
          }
        },
        "01c0e1f9c1134aa996c9f38661e9920f": {
          "model_module": "@jupyter-widgets/base",
          "model_name": "LayoutModel",
          "state": {
            "_view_name": "LayoutView",
            "grid_template_rows": null,
            "right": null,
            "justify_content": null,
            "_view_module": "@jupyter-widgets/base",
            "overflow": null,
            "_model_module_version": "1.2.0",
            "_view_count": null,
            "flex_flow": null,
            "width": null,
            "min_width": null,
            "border": null,
            "align_items": null,
            "bottom": null,
            "_model_module": "@jupyter-widgets/base",
            "top": null,
            "grid_column": null,
            "overflow_y": null,
            "overflow_x": null,
            "grid_auto_flow": null,
            "grid_area": null,
            "grid_template_columns": null,
            "flex": null,
            "_model_name": "LayoutModel",
            "justify_items": null,
            "grid_row": null,
            "max_height": null,
            "align_content": null,
            "visibility": null,
            "align_self": null,
            "height": null,
            "min_height": null,
            "padding": null,
            "grid_auto_rows": null,
            "grid_gap": null,
            "max_width": null,
            "order": null,
            "_view_module_version": "1.2.0",
            "grid_template_areas": null,
            "object_position": null,
            "object_fit": null,
            "grid_auto_columns": null,
            "margin": null,
            "display": null,
            "left": null
          }
        },
        "4f69d124758f4bc4addf370839f3e50a": {
          "model_module": "@jupyter-widgets/controls",
          "model_name": "FloatProgressModel",
          "state": {
            "_view_name": "ProgressView",
            "style": "IPY_MODEL_44164d8d23e445359e2fd4ec02e4ce7c",
            "_dom_classes": [],
            "description": "",
            "_model_name": "FloatProgressModel",
            "bar_style": "success",
            "max": 1648877,
            "_view_module": "@jupyter-widgets/controls",
            "_model_module_version": "1.5.0",
            "value": 1648877,
            "_view_count": null,
            "_view_module_version": "1.5.0",
            "orientation": "horizontal",
            "min": 0,
            "description_tooltip": null,
            "_model_module": "@jupyter-widgets/controls",
            "layout": "IPY_MODEL_b7447f558b4b4dbab5f1c2191414daa9"
          }
        },
        "30d988a172da404093010054cd4e3f18": {
          "model_module": "@jupyter-widgets/controls",
          "model_name": "HTMLModel",
          "state": {
            "_view_name": "HTMLView",
            "style": "IPY_MODEL_bb38aa48259b48a6a241f96dac2d49f0",
            "_dom_classes": [],
            "description": "",
            "_model_name": "HTMLModel",
            "placeholder": "​",
            "_view_module": "@jupyter-widgets/controls",
            "_model_module_version": "1.5.0",
            "value": " 1649664/? [00:01&lt;00:00, 1514402.36it/s]",
            "_view_count": null,
            "_view_module_version": "1.5.0",
            "description_tooltip": null,
            "_model_module": "@jupyter-widgets/controls",
            "layout": "IPY_MODEL_7e562d3e693e4b098b7b980d4c0a45b7"
          }
        },
        "44164d8d23e445359e2fd4ec02e4ce7c": {
          "model_module": "@jupyter-widgets/controls",
          "model_name": "ProgressStyleModel",
          "state": {
            "_view_name": "StyleView",
            "_model_name": "ProgressStyleModel",
            "description_width": "initial",
            "_view_module": "@jupyter-widgets/base",
            "_model_module_version": "1.5.0",
            "_view_count": null,
            "_view_module_version": "1.2.0",
            "bar_color": null,
            "_model_module": "@jupyter-widgets/controls"
          }
        },
        "b7447f558b4b4dbab5f1c2191414daa9": {
          "model_module": "@jupyter-widgets/base",
          "model_name": "LayoutModel",
          "state": {
            "_view_name": "LayoutView",
            "grid_template_rows": null,
            "right": null,
            "justify_content": null,
            "_view_module": "@jupyter-widgets/base",
            "overflow": null,
            "_model_module_version": "1.2.0",
            "_view_count": null,
            "flex_flow": null,
            "width": null,
            "min_width": null,
            "border": null,
            "align_items": null,
            "bottom": null,
            "_model_module": "@jupyter-widgets/base",
            "top": null,
            "grid_column": null,
            "overflow_y": null,
            "overflow_x": null,
            "grid_auto_flow": null,
            "grid_area": null,
            "grid_template_columns": null,
            "flex": null,
            "_model_name": "LayoutModel",
            "justify_items": null,
            "grid_row": null,
            "max_height": null,
            "align_content": null,
            "visibility": null,
            "align_self": null,
            "height": null,
            "min_height": null,
            "padding": null,
            "grid_auto_rows": null,
            "grid_gap": null,
            "max_width": null,
            "order": null,
            "_view_module_version": "1.2.0",
            "grid_template_areas": null,
            "object_position": null,
            "object_fit": null,
            "grid_auto_columns": null,
            "margin": null,
            "display": null,
            "left": null
          }
        },
        "bb38aa48259b48a6a241f96dac2d49f0": {
          "model_module": "@jupyter-widgets/controls",
          "model_name": "DescriptionStyleModel",
          "state": {
            "_view_name": "StyleView",
            "_model_name": "DescriptionStyleModel",
            "description_width": "",
            "_view_module": "@jupyter-widgets/base",
            "_model_module_version": "1.5.0",
            "_view_count": null,
            "_view_module_version": "1.2.0",
            "_model_module": "@jupyter-widgets/controls"
          }
        },
        "7e562d3e693e4b098b7b980d4c0a45b7": {
          "model_module": "@jupyter-widgets/base",
          "model_name": "LayoutModel",
          "state": {
            "_view_name": "LayoutView",
            "grid_template_rows": null,
            "right": null,
            "justify_content": null,
            "_view_module": "@jupyter-widgets/base",
            "overflow": null,
            "_model_module_version": "1.2.0",
            "_view_count": null,
            "flex_flow": null,
            "width": null,
            "min_width": null,
            "border": null,
            "align_items": null,
            "bottom": null,
            "_model_module": "@jupyter-widgets/base",
            "top": null,
            "grid_column": null,
            "overflow_y": null,
            "overflow_x": null,
            "grid_auto_flow": null,
            "grid_area": null,
            "grid_template_columns": null,
            "flex": null,
            "_model_name": "LayoutModel",
            "justify_items": null,
            "grid_row": null,
            "max_height": null,
            "align_content": null,
            "visibility": null,
            "align_self": null,
            "height": null,
            "min_height": null,
            "padding": null,
            "grid_auto_rows": null,
            "grid_gap": null,
            "max_width": null,
            "order": null,
            "_view_module_version": "1.2.0",
            "grid_template_areas": null,
            "object_position": null,
            "object_fit": null,
            "grid_auto_columns": null,
            "margin": null,
            "display": null,
            "left": null
          }
        },
        "fdfdccfb54e04101949313348cfff1ce": {
          "model_module": "@jupyter-widgets/controls",
          "model_name": "HBoxModel",
          "state": {
            "_view_name": "HBoxView",
            "_dom_classes": [],
            "_model_name": "HBoxModel",
            "_view_module": "@jupyter-widgets/controls",
            "_model_module_version": "1.5.0",
            "_view_count": null,
            "_view_module_version": "1.5.0",
            "box_style": "",
            "layout": "IPY_MODEL_d13396ed934d411482d2b42c89a8220f",
            "_model_module": "@jupyter-widgets/controls",
            "children": [
              "IPY_MODEL_7929021450f24f55b99357458ad6c7e7",
              "IPY_MODEL_50790039bf454bffa3256aa6c6330ff9"
            ]
          }
        },
        "d13396ed934d411482d2b42c89a8220f": {
          "model_module": "@jupyter-widgets/base",
          "model_name": "LayoutModel",
          "state": {
            "_view_name": "LayoutView",
            "grid_template_rows": null,
            "right": null,
            "justify_content": null,
            "_view_module": "@jupyter-widgets/base",
            "overflow": null,
            "_model_module_version": "1.2.0",
            "_view_count": null,
            "flex_flow": null,
            "width": null,
            "min_width": null,
            "border": null,
            "align_items": null,
            "bottom": null,
            "_model_module": "@jupyter-widgets/base",
            "top": null,
            "grid_column": null,
            "overflow_y": null,
            "overflow_x": null,
            "grid_auto_flow": null,
            "grid_area": null,
            "grid_template_columns": null,
            "flex": null,
            "_model_name": "LayoutModel",
            "justify_items": null,
            "grid_row": null,
            "max_height": null,
            "align_content": null,
            "visibility": null,
            "align_self": null,
            "height": null,
            "min_height": null,
            "padding": null,
            "grid_auto_rows": null,
            "grid_gap": null,
            "max_width": null,
            "order": null,
            "_view_module_version": "1.2.0",
            "grid_template_areas": null,
            "object_position": null,
            "object_fit": null,
            "grid_auto_columns": null,
            "margin": null,
            "display": null,
            "left": null
          }
        },
        "7929021450f24f55b99357458ad6c7e7": {
          "model_module": "@jupyter-widgets/controls",
          "model_name": "FloatProgressModel",
          "state": {
            "_view_name": "ProgressView",
            "style": "IPY_MODEL_79a3295ab77d47ecb91d96d88fe10f50",
            "_dom_classes": [],
            "description": "",
            "_model_name": "FloatProgressModel",
            "bar_style": "success",
            "max": 4542,
            "_view_module": "@jupyter-widgets/controls",
            "_model_module_version": "1.5.0",
            "value": 4542,
            "_view_count": null,
            "_view_module_version": "1.5.0",
            "orientation": "horizontal",
            "min": 0,
            "description_tooltip": null,
            "_model_module": "@jupyter-widgets/controls",
            "layout": "IPY_MODEL_08ba2706af934ba69e3e52eafc4f03f5"
          }
        },
        "50790039bf454bffa3256aa6c6330ff9": {
          "model_module": "@jupyter-widgets/controls",
          "model_name": "HTMLModel",
          "state": {
            "_view_name": "HTMLView",
            "style": "IPY_MODEL_6b5432c325a84272a200ca572f7308f2",
            "_dom_classes": [],
            "description": "",
            "_model_name": "HTMLModel",
            "placeholder": "​",
            "_view_module": "@jupyter-widgets/controls",
            "_model_module_version": "1.5.0",
            "value": " 5120/? [01:12&lt;00:00, 70.99it/s]",
            "_view_count": null,
            "_view_module_version": "1.5.0",
            "description_tooltip": null,
            "_model_module": "@jupyter-widgets/controls",
            "layout": "IPY_MODEL_c817e32fa57443c9953e8d3039d95c0b"
          }
        },
        "79a3295ab77d47ecb91d96d88fe10f50": {
          "model_module": "@jupyter-widgets/controls",
          "model_name": "ProgressStyleModel",
          "state": {
            "_view_name": "StyleView",
            "_model_name": "ProgressStyleModel",
            "description_width": "initial",
            "_view_module": "@jupyter-widgets/base",
            "_model_module_version": "1.5.0",
            "_view_count": null,
            "_view_module_version": "1.2.0",
            "bar_color": null,
            "_model_module": "@jupyter-widgets/controls"
          }
        },
        "08ba2706af934ba69e3e52eafc4f03f5": {
          "model_module": "@jupyter-widgets/base",
          "model_name": "LayoutModel",
          "state": {
            "_view_name": "LayoutView",
            "grid_template_rows": null,
            "right": null,
            "justify_content": null,
            "_view_module": "@jupyter-widgets/base",
            "overflow": null,
            "_model_module_version": "1.2.0",
            "_view_count": null,
            "flex_flow": null,
            "width": null,
            "min_width": null,
            "border": null,
            "align_items": null,
            "bottom": null,
            "_model_module": "@jupyter-widgets/base",
            "top": null,
            "grid_column": null,
            "overflow_y": null,
            "overflow_x": null,
            "grid_auto_flow": null,
            "grid_area": null,
            "grid_template_columns": null,
            "flex": null,
            "_model_name": "LayoutModel",
            "justify_items": null,
            "grid_row": null,
            "max_height": null,
            "align_content": null,
            "visibility": null,
            "align_self": null,
            "height": null,
            "min_height": null,
            "padding": null,
            "grid_auto_rows": null,
            "grid_gap": null,
            "max_width": null,
            "order": null,
            "_view_module_version": "1.2.0",
            "grid_template_areas": null,
            "object_position": null,
            "object_fit": null,
            "grid_auto_columns": null,
            "margin": null,
            "display": null,
            "left": null
          }
        },
        "6b5432c325a84272a200ca572f7308f2": {
          "model_module": "@jupyter-widgets/controls",
          "model_name": "DescriptionStyleModel",
          "state": {
            "_view_name": "StyleView",
            "_model_name": "DescriptionStyleModel",
            "description_width": "",
            "_view_module": "@jupyter-widgets/base",
            "_model_module_version": "1.5.0",
            "_view_count": null,
            "_view_module_version": "1.2.0",
            "_model_module": "@jupyter-widgets/controls"
          }
        },
        "c817e32fa57443c9953e8d3039d95c0b": {
          "model_module": "@jupyter-widgets/base",
          "model_name": "LayoutModel",
          "state": {
            "_view_name": "LayoutView",
            "grid_template_rows": null,
            "right": null,
            "justify_content": null,
            "_view_module": "@jupyter-widgets/base",
            "overflow": null,
            "_model_module_version": "1.2.0",
            "_view_count": null,
            "flex_flow": null,
            "width": null,
            "min_width": null,
            "border": null,
            "align_items": null,
            "bottom": null,
            "_model_module": "@jupyter-widgets/base",
            "top": null,
            "grid_column": null,
            "overflow_y": null,
            "overflow_x": null,
            "grid_auto_flow": null,
            "grid_area": null,
            "grid_template_columns": null,
            "flex": null,
            "_model_name": "LayoutModel",
            "justify_items": null,
            "grid_row": null,
            "max_height": null,
            "align_content": null,
            "visibility": null,
            "align_self": null,
            "height": null,
            "min_height": null,
            "padding": null,
            "grid_auto_rows": null,
            "grid_gap": null,
            "max_width": null,
            "order": null,
            "_view_module_version": "1.2.0",
            "grid_template_areas": null,
            "object_position": null,
            "object_fit": null,
            "grid_auto_columns": null,
            "margin": null,
            "display": null,
            "left": null
          }
        }
      }
    }
  },
  "cells": [
    {
      "cell_type": "markdown",
      "metadata": {
        "id": "eZPi5Tu7-sPK"
      },
      "source": [
        "> 사람의 손글씨 데이터인 MNIST를 이용해 Multi Layer Perceptron(MLP) 설계하기"
      ]
    },
    {
      "cell_type": "code",
      "metadata": {
        "id": "KRetFlzR4rNl"
      },
      "source": [
        "# module import\n",
        "import numpy as np\n",
        "import matplotlib.pyplot as plt\n",
        "import torch\n",
        "import torch.nn as nn\n",
        "import torch.nn.functional as F\n",
        "from torchvision import transforms, datasets"
      ],
      "execution_count": 1,
      "outputs": []
    },
    {
      "cell_type": "code",
      "metadata": {
        "id": "0F3DIYZDBP0g"
      },
      "source": [
        "# 장비 확인\n",
        "if torch.cuda.is_available():\n",
        "  DEVICE=torch.device('cuda')\n",
        "else:\n",
        "  DEVICE=torch.device('cpu')"
      ],
      "execution_count": 10,
      "outputs": []
    },
    {
      "cell_type": "code",
      "metadata": {
        "id": "LxvaYLbI50up"
      },
      "source": [
        "BATCH_SIZE=32 # 32개의 데이터로 1개의 mini-batch를 구성, iteration : 1개의 mini-batch를 이용해 학습하는 횟수\n",
        "EPOCHS=10 # 전체 데이터를 이용해 학습을 진행한 횟수"
      ],
      "execution_count": 2,
      "outputs": []
    },
    {
      "cell_type": "code",
      "metadata": {
        "colab": {
          "base_uri": "https://localhost:8080/",
          "height": 728,
          "referenced_widgets": [
            "dded75caf63e4eab8c81082e8b3dcd30",
            "e2d1ca9fede54c0ba599c477026c2dde",
            "fb73bcb5ae6c448fbb714231334cb6e7",
            "108b1904c99f4757aeebbb5407c30213",
            "7d5e9bfe0492427da8ac661c09746a27",
            "0220db9b66f8423cbbd8223656ec8276",
            "882c7d02dd8b489db59d63ecb2d069e8",
            "bc1803a61e2349f68af9c998350d2c94",
            "834842629e2745d3a60f1b011d10f066",
            "e8e9752ef37247029b65514ffeedb12f",
            "d2ccdf6f5c90497eb8102a2efba9b2f1",
            "802d418b772c467f8086357f77b9607a",
            "67b253bc3cea43a6aea3b983a6b16832",
            "8a527cce55ce45a18cc170abbe3dc368",
            "554bef2c653d49e98b4e40c2915e7285",
            "727a51c3c996417aaa335af0fe18bafd",
            "3f4d6518f1454b1c9366c8b1fb76b5ca",
            "01c0e1f9c1134aa996c9f38661e9920f",
            "4f69d124758f4bc4addf370839f3e50a",
            "30d988a172da404093010054cd4e3f18",
            "44164d8d23e445359e2fd4ec02e4ce7c",
            "b7447f558b4b4dbab5f1c2191414daa9",
            "bb38aa48259b48a6a241f96dac2d49f0",
            "7e562d3e693e4b098b7b980d4c0a45b7",
            "fdfdccfb54e04101949313348cfff1ce",
            "d13396ed934d411482d2b42c89a8220f",
            "7929021450f24f55b99357458ad6c7e7",
            "50790039bf454bffa3256aa6c6330ff9",
            "79a3295ab77d47ecb91d96d88fe10f50",
            "08ba2706af934ba69e3e52eafc4f03f5",
            "6b5432c325a84272a200ca572f7308f2",
            "c817e32fa57443c9953e8d3039d95c0b"
          ]
        },
        "id": "KHzC1KTY62ey",
        "outputId": "f76a8e44-32d2-4bbd-f417-57bf11685641"
      },
      "source": [
        "# MNIST 데이터 다운로드\n",
        "train_dataset=datasets.MNIST(root=\"../data/MNIST\", train=True, download=True, transform=transforms.ToTensor())\n",
        "test_dataset=datasets.MNIST(root=\"../data/MNIST\", train=False, transform=transforms.ToTensor())\n",
        "train_loader=torch.utils.data.DataLoader(dataset=train_dataset, batch_size=BATCH_SIZE, shuffle=True)\n",
        "test_loader=torch.utils.data.DataLoader(dataset=test_dataset, batch_size=BATCH_SIZE, shuffle=True)"
      ],
      "execution_count": 4,
      "outputs": [
        {
          "output_type": "stream",
          "text": [
            "Downloading http://yann.lecun.com/exdb/mnist/train-images-idx3-ubyte.gz\n",
            "Downloading http://yann.lecun.com/exdb/mnist/train-images-idx3-ubyte.gz to ../data/MNIST/MNIST/raw/train-images-idx3-ubyte.gz\n"
          ],
          "name": "stdout"
        },
        {
          "output_type": "display_data",
          "data": {
            "application/vnd.jupyter.widget-view+json": {
              "model_id": "dded75caf63e4eab8c81082e8b3dcd30",
              "version_minor": 0,
              "version_major": 2
            },
            "text/plain": [
              "HBox(children=(FloatProgress(value=0.0, max=9912422.0), HTML(value='')))"
            ]
          },
          "metadata": {
            "tags": []
          }
        },
        {
          "output_type": "stream",
          "text": [
            "\n",
            "Extracting ../data/MNIST/MNIST/raw/train-images-idx3-ubyte.gz to ../data/MNIST/MNIST/raw\n",
            "\n",
            "Downloading http://yann.lecun.com/exdb/mnist/train-labels-idx1-ubyte.gz\n",
            "Downloading http://yann.lecun.com/exdb/mnist/train-labels-idx1-ubyte.gz to ../data/MNIST/MNIST/raw/train-labels-idx1-ubyte.gz\n",
            "Failed to download (trying next):\n",
            "HTTP Error 503: Service Unavailable\n",
            "\n",
            "Downloading https://ossci-datasets.s3.amazonaws.com/mnist/train-labels-idx1-ubyte.gz\n",
            "Downloading https://ossci-datasets.s3.amazonaws.com/mnist/train-labels-idx1-ubyte.gz to ../data/MNIST/MNIST/raw/train-labels-idx1-ubyte.gz\n"
          ],
          "name": "stdout"
        },
        {
          "output_type": "display_data",
          "data": {
            "application/vnd.jupyter.widget-view+json": {
              "model_id": "834842629e2745d3a60f1b011d10f066",
              "version_minor": 0,
              "version_major": 2
            },
            "text/plain": [
              "HBox(children=(FloatProgress(value=0.0, max=28881.0), HTML(value='')))"
            ]
          },
          "metadata": {
            "tags": []
          }
        },
        {
          "output_type": "stream",
          "text": [
            "\n",
            "Extracting ../data/MNIST/MNIST/raw/train-labels-idx1-ubyte.gz to ../data/MNIST/MNIST/raw\n",
            "\n",
            "Downloading http://yann.lecun.com/exdb/mnist/t10k-images-idx3-ubyte.gz\n",
            "Downloading http://yann.lecun.com/exdb/mnist/t10k-images-idx3-ubyte.gz to ../data/MNIST/MNIST/raw/t10k-images-idx3-ubyte.gz\n",
            "Failed to download (trying next):\n",
            "HTTP Error 503: Service Unavailable\n",
            "\n",
            "Downloading https://ossci-datasets.s3.amazonaws.com/mnist/t10k-images-idx3-ubyte.gz\n",
            "Downloading https://ossci-datasets.s3.amazonaws.com/mnist/t10k-images-idx3-ubyte.gz to ../data/MNIST/MNIST/raw/t10k-images-idx3-ubyte.gz\n"
          ],
          "name": "stdout"
        },
        {
          "output_type": "display_data",
          "data": {
            "application/vnd.jupyter.widget-view+json": {
              "model_id": "3f4d6518f1454b1c9366c8b1fb76b5ca",
              "version_minor": 0,
              "version_major": 2
            },
            "text/plain": [
              "HBox(children=(FloatProgress(value=0.0, max=1648877.0), HTML(value='')))"
            ]
          },
          "metadata": {
            "tags": []
          }
        },
        {
          "output_type": "stream",
          "text": [
            "\n",
            "Extracting ../data/MNIST/MNIST/raw/t10k-images-idx3-ubyte.gz to ../data/MNIST/MNIST/raw\n",
            "\n",
            "Downloading http://yann.lecun.com/exdb/mnist/t10k-labels-idx1-ubyte.gz\n",
            "Downloading http://yann.lecun.com/exdb/mnist/t10k-labels-idx1-ubyte.gz to ../data/MNIST/MNIST/raw/t10k-labels-idx1-ubyte.gz\n"
          ],
          "name": "stdout"
        },
        {
          "output_type": "display_data",
          "data": {
            "application/vnd.jupyter.widget-view+json": {
              "model_id": "fdfdccfb54e04101949313348cfff1ce",
              "version_minor": 0,
              "version_major": 2
            },
            "text/plain": [
              "HBox(children=(FloatProgress(value=0.0, max=4542.0), HTML(value='')))"
            ]
          },
          "metadata": {
            "tags": []
          }
        },
        {
          "output_type": "stream",
          "text": [
            "\n",
            "Extracting ../data/MNIST/MNIST/raw/t10k-labels-idx1-ubyte.gz to ../data/MNIST/MNIST/raw\n",
            "\n"
          ],
          "name": "stdout"
        },
        {
          "output_type": "stream",
          "text": [
            "/usr/local/lib/python3.7/dist-packages/torchvision/datasets/mnist.py:498: UserWarning: The given NumPy array is not writeable, and PyTorch does not support non-writeable tensors. This means you can write to the underlying (supposedly non-writeable) NumPy array using the tensor. You may want to copy the array to protect its data or make it writeable before converting it to a tensor. This type of warning will be suppressed for the rest of this program. (Triggered internally at  /pytorch/torch/csrc/utils/tensor_numpy.cpp:180.)\n",
            "  return torch.from_numpy(parsed.astype(m[2], copy=False)).view(*s)\n"
          ],
          "name": "stderr"
        }
      ]
    },
    {
      "cell_type": "code",
      "metadata": {
        "colab": {
          "base_uri": "https://localhost:8080/"
        },
        "id": "31Ra-BRX9J1q",
        "outputId": "f4617581-a231-429c-9ed3-939156986195"
      },
      "source": [
        "# 데이터 확인하기(1)\n",
        "for (X_train, y_train) in train_loader:\n",
        "  print('X_train:', X_train.size(), 'type:', X_train.type()) # 32개의 이미지 데이터가 1개의 mini-batch 구성. 가로 28개, 세로 28개, 채널 1 = 흑백으로 이루어진 데이터\n",
        "  print('y_train:', y_train.size(), 'type:', y_train.type()) # 32개의 이미지 데이터에 각각 label 값이 1개씩 존재\n",
        "  break"
      ],
      "execution_count": 5,
      "outputs": [
        {
          "output_type": "stream",
          "text": [
            "X_train: torch.Size([32, 1, 28, 28]) type: torch.FloatTensor\n",
            "y_train: torch.Size([32]) type: torch.LongTensor\n"
          ],
          "name": "stdout"
        }
      ]
    },
    {
      "cell_type": "code",
      "metadata": {
        "colab": {
          "base_uri": "https://localhost:8080/",
          "height": 94
        },
        "id": "hioBq4oP9p76",
        "outputId": "f6a2b9ea-a36b-401c-c474-4804473f9971"
      },
      "source": [
        "# 데이터 확인하기(2)\n",
        "pltsize=1\n",
        "plt.figure(figsize=(10*pltsize, pltsize))\n",
        "for i in range(10):\n",
        "  plt.subplot(1, 10, i+1)\n",
        "  plt.axis('off')\n",
        "  plt.imshow(X_train[i,:,:,:].numpy().reshape(28,28), cmap=\"gray_r\")\n",
        "  plt.title('Class: '+str(y_train[i].item()))"
      ],
      "execution_count": 6,
      "outputs": [
        {
          "output_type": "display_data",
          "data": {
            "image/png": "[encoded data removed]",
            "text/plain": [
              "<Figure size 720x72 with 10 Axes>"
            ]
          },
          "metadata": {
            "tags": [],
            "needs_background": "light"
          }
        }
      ]
    },
    {
      "cell_type": "code",
      "metadata": {
        "id": "C11pmBat-IkK"
      },
      "source": [
        "# MLP 모델 설계\n",
        "class Net(nn.Module): # 딥러닝 모델 관련 기본 함수를 포함하고 있는 nn.Module 클래스를 상속받는 Net 클래스 정의\n",
        "  def __init__(self):\n",
        "    super(Net, self).__init__()\n",
        "    # fully connected layer 정의\n",
        "    self.fc1=nn.Linear(28*28, 512) \n",
        "    self.fc2=nn.Linear(512, 256)\n",
        "    self.fc3=nn.Linear(256, 10) # label 개수와 동일하게 설정 (원-핫 인코딩) \n",
        "  def forward(self, x):\n",
        "    x=x.view(-1, 28*28) # view 메서드 이용하여 flatten\n",
        "    x=self.fc1(x)\n",
        "    x=F.sigmoid(x)\n",
        "    x=self.fc2(x)\n",
        "    x=F.sigmoid(x)\n",
        "    x=self.fc3(x)\n",
        "    x=F.log_softmax(x, dim=1) # softmax 이용해 확률 계산\n",
        "    return x"
      ],
      "execution_count": 9,
      "outputs": []
    },
    {
      "cell_type": "code",
      "metadata": {
        "id": "ZFhEcLR1BA8E"
      },
      "source": [
        "# Optimizer, Objective Function 설정\n",
        "model=Net().to(DEVICE)\n",
        "optimizer=torch.optim.SGD(model.parameters(), lr=0.01, momentum=0.5) # SGD : 데이터를 조개서 Gradient Descent Method , Optimizer : 이렇게 Gradient Descent해주는 것을 통틀어\n",
        "criterion=nn.CrossEntropyLoss() # 원-핫 인코딩 값 계산 위해"
      ],
      "execution_count": 11,
      "outputs": []
    },
    {
      "cell_type": "code",
      "metadata": {
        "id": "uDyilbVtCOGA"
      },
      "source": [
        "# MLP 모델 학습을 진행하며 학습 데이터에 대한 모델 성능을 확인하는 함수 정의\n",
        "def train(model, train_loader, optimizer, log_interval):\n",
        "  model.train()\n",
        "  for batch_idx, (image, label) in enumerate(train_loader): # train_loader에는 학습에 이용되는 이미지 데이터와 레이블 데이터가 mini-batch 단위로 묶여서 저장되어있음\n",
        "    image=image.to(DEVICE)\n",
        "    label=label.to(DEVICE)\n",
        "    optimizer.zero_grad() # optimizer 초기화\n",
        "    output=model(image)\n",
        "    loss=criterion(output, label)\n",
        "    loss.backward()\n",
        "    optimizer.step()\n",
        "\n",
        "    if batch_idx%log_interval==0:\n",
        "      print(\"Train Epoch: {} [{}/{}({:.0f}%)]\\tTrain Loss: {:.6f}\".format(Epoch, batch_idx*len(image), len(train_loader.dataset), 100.*batch_idx/len(train_loader), loss.item()))"
      ],
      "execution_count": 19,
      "outputs": []
    },
    {
      "cell_type": "code",
      "metadata": {
        "id": "2VfxQDClEXHs"
      },
      "source": [
        "# 학습되는 과정 속에서 검증 데이터에 대한 모델 성능을 확인하는 함수 정의\n",
        "def evaluate(model, test_loader):\n",
        "  model.eval()\n",
        "  test_loss=0\n",
        "  correct=0\n",
        "\n",
        "  with torch.no_grad():\n",
        "    for image, label in test_loader:\n",
        "      image=image.to(DEVICE)\n",
        "      label=label.to(DEVICE)\n",
        "      output=model(image)\n",
        "      test_loss+=criterion(output, label).item()\n",
        "      prediction=output.max(1, keepdim=True)[1] # 계산된 벡터 값 내 가장 큰 값인 위치에 대해 해당 위치에 대응하는 클래스로 예측했다고 판단\n",
        "      correct+=prediction.eq(label.view_as(prediction)).sum().item()\n",
        "  \n",
        "  test_loss/=len(test_loader.dataset)\n",
        "  test_accuracy=100. *correct/len(test_loader.dataset)\n",
        "  return test_loss, test_accuracy"
      ],
      "execution_count": 27,
      "outputs": []
    },
    {
      "cell_type": "code",
      "metadata": {
        "colab": {
          "base_uri": "https://localhost:8080/"
        },
        "id": "SBJDvwuVGet-",
        "outputId": "0f21f338-7640-428b-98c7-ebb77777bac0"
      },
      "source": [
        "# MLP 학습을 실행하면서 Train, Test set의 Loss 및 Test set Accuracy를 확인하기\n",
        "for Epoch in range(1, EPOCHS+1):\n",
        "  train(model, train_loader, optimizer, log_interval=200)\n",
        "  test_loss, test_accuracy=evaluate(model, test_loader)\n",
        "  print(\"\\n[EPOCH: {}], \\tTest Loss: {:.4f}, \\tTest Accuracy: {:.2f} %\\n\".format(Epoch, test_loss, test_accuracy))"
      ],
      "execution_count": 28,
      "outputs": [
        {
          "output_type": "stream",
          "text": [
            "/usr/local/lib/python3.7/dist-packages/torch/nn/functional.py:1805: UserWarning: nn.functional.sigmoid is deprecated. Use torch.sigmoid instead.\n",
            "  warnings.warn(\"nn.functional.sigmoid is deprecated. Use torch.sigmoid instead.\")\n"
          ],
          "name": "stderr"
        },
        {
          "output_type": "stream",
          "text": [
            "Train Epoch: 1 [0/60000(0%)]\tTrain Loss: 0.526383\n",
            "Train Epoch: 1 [6400/60000(11%)]\tTrain Loss: 0.244818\n",
            "Train Epoch: 1 [12800/60000(21%)]\tTrain Loss: 0.606026\n",
            "Train Epoch: 1 [19200/60000(32%)]\tTrain Loss: 0.369139\n",
            "Train Epoch: 1 [25600/60000(43%)]\tTrain Loss: 0.429595\n",
            "Train Epoch: 1 [32000/60000(53%)]\tTrain Loss: 0.375980\n",
            "Train Epoch: 1 [38400/60000(64%)]\tTrain Loss: 0.384075\n",
            "Train Epoch: 1 [44800/60000(75%)]\tTrain Loss: 0.242056\n",
            "Train Epoch: 1 [51200/60000(85%)]\tTrain Loss: 0.453829\n",
            "Train Epoch: 1 [57600/60000(96%)]\tTrain Loss: 0.481677\n",
            "\n",
            "[EPOCH: 1], \tTest Loss: 0.0124, \tTest Accuracy: 88.53 %\n",
            "\n",
            "Train Epoch: 2 [0/60000(0%)]\tTrain Loss: 0.724524\n",
            "Train Epoch: 2 [6400/60000(11%)]\tTrain Loss: 0.259031\n",
            "Train Epoch: 2 [12800/60000(21%)]\tTrain Loss: 0.593533\n",
            "Train Epoch: 2 [19200/60000(32%)]\tTrain Loss: 0.347266\n",
            "Train Epoch: 2 [25600/60000(43%)]\tTrain Loss: 0.306525\n",
            "Train Epoch: 2 [32000/60000(53%)]\tTrain Loss: 0.186966\n",
            "Train Epoch: 2 [38400/60000(64%)]\tTrain Loss: 0.206895\n",
            "Train Epoch: 2 [44800/60000(75%)]\tTrain Loss: 0.493353\n",
            "Train Epoch: 2 [51200/60000(85%)]\tTrain Loss: 0.242027\n",
            "Train Epoch: 2 [57600/60000(96%)]\tTrain Loss: 0.293318\n",
            "\n",
            "[EPOCH: 2], \tTest Loss: 0.0118, \tTest Accuracy: 89.04 %\n",
            "\n",
            "Train Epoch: 3 [0/60000(0%)]\tTrain Loss: 0.508510\n",
            "Train Epoch: 3 [6400/60000(11%)]\tTrain Loss: 0.232820\n",
            "Train Epoch: 3 [12800/60000(21%)]\tTrain Loss: 0.245196\n",
            "Train Epoch: 3 [19200/60000(32%)]\tTrain Loss: 0.448979\n",
            "Train Epoch: 3 [25600/60000(43%)]\tTrain Loss: 0.272480\n",
            "Train Epoch: 3 [32000/60000(53%)]\tTrain Loss: 0.510460\n",
            "Train Epoch: 3 [38400/60000(64%)]\tTrain Loss: 0.341026\n",
            "Train Epoch: 3 [44800/60000(75%)]\tTrain Loss: 0.260567\n",
            "Train Epoch: 3 [51200/60000(85%)]\tTrain Loss: 0.477085\n",
            "Train Epoch: 3 [57600/60000(96%)]\tTrain Loss: 0.123092\n",
            "\n",
            "[EPOCH: 3], \tTest Loss: 0.0112, \tTest Accuracy: 89.57 %\n",
            "\n",
            "Train Epoch: 4 [0/60000(0%)]\tTrain Loss: 0.692059\n",
            "Train Epoch: 4 [6400/60000(11%)]\tTrain Loss: 0.717656\n",
            "Train Epoch: 4 [12800/60000(21%)]\tTrain Loss: 0.548184\n",
            "Train Epoch: 4 [19200/60000(32%)]\tTrain Loss: 0.361850\n",
            "Train Epoch: 4 [25600/60000(43%)]\tTrain Loss: 0.353783\n",
            "Train Epoch: 4 [32000/60000(53%)]\tTrain Loss: 0.517650\n",
            "Train Epoch: 4 [38400/60000(64%)]\tTrain Loss: 0.367930\n",
            "Train Epoch: 4 [44800/60000(75%)]\tTrain Loss: 0.331676\n",
            "Train Epoch: 4 [51200/60000(85%)]\tTrain Loss: 0.627537\n",
            "Train Epoch: 4 [57600/60000(96%)]\tTrain Loss: 0.356545\n",
            "\n",
            "[EPOCH: 4], \tTest Loss: 0.0107, \tTest Accuracy: 89.99 %\n",
            "\n",
            "Train Epoch: 5 [0/60000(0%)]\tTrain Loss: 0.572529\n",
            "Train Epoch: 5 [6400/60000(11%)]\tTrain Loss: 0.163893\n",
            "Train Epoch: 5 [12800/60000(21%)]\tTrain Loss: 0.581874\n",
            "Train Epoch: 5 [19200/60000(32%)]\tTrain Loss: 0.163782\n",
            "Train Epoch: 5 [25600/60000(43%)]\tTrain Loss: 0.717509\n",
            "Train Epoch: 5 [32000/60000(53%)]\tTrain Loss: 0.208463\n",
            "Train Epoch: 5 [38400/60000(64%)]\tTrain Loss: 0.206477\n",
            "Train Epoch: 5 [44800/60000(75%)]\tTrain Loss: 0.050342\n",
            "Train Epoch: 5 [51200/60000(85%)]\tTrain Loss: 0.206261\n",
            "Train Epoch: 5 [57600/60000(96%)]\tTrain Loss: 0.132486\n",
            "\n",
            "[EPOCH: 5], \tTest Loss: 0.0105, \tTest Accuracy: 90.31 %\n",
            "\n",
            "Train Epoch: 6 [0/60000(0%)]\tTrain Loss: 0.322276\n",
            "Train Epoch: 6 [6400/60000(11%)]\tTrain Loss: 0.514562\n",
            "Train Epoch: 6 [12800/60000(21%)]\tTrain Loss: 0.389384\n",
            "Train Epoch: 6 [19200/60000(32%)]\tTrain Loss: 0.350851\n",
            "Train Epoch: 6 [25600/60000(43%)]\tTrain Loss: 0.372584\n",
            "Train Epoch: 6 [32000/60000(53%)]\tTrain Loss: 0.071076\n",
            "Train Epoch: 6 [38400/60000(64%)]\tTrain Loss: 0.311843\n",
            "Train Epoch: 6 [44800/60000(75%)]\tTrain Loss: 0.163309\n",
            "Train Epoch: 6 [51200/60000(85%)]\tTrain Loss: 0.322379\n",
            "Train Epoch: 6 [57600/60000(96%)]\tTrain Loss: 0.332018\n",
            "\n",
            "[EPOCH: 6], \tTest Loss: 0.0102, \tTest Accuracy: 90.39 %\n",
            "\n",
            "Train Epoch: 7 [0/60000(0%)]\tTrain Loss: 0.215362\n",
            "Train Epoch: 7 [6400/60000(11%)]\tTrain Loss: 0.430497\n",
            "Train Epoch: 7 [12800/60000(21%)]\tTrain Loss: 0.641158\n",
            "Train Epoch: 7 [19200/60000(32%)]\tTrain Loss: 0.244552\n",
            "Train Epoch: 7 [25600/60000(43%)]\tTrain Loss: 0.462502\n",
            "Train Epoch: 7 [32000/60000(53%)]\tTrain Loss: 0.165125\n",
            "Train Epoch: 7 [38400/60000(64%)]\tTrain Loss: 0.403396\n",
            "Train Epoch: 7 [44800/60000(75%)]\tTrain Loss: 0.196604\n",
            "Train Epoch: 7 [51200/60000(85%)]\tTrain Loss: 0.147777\n",
            "Train Epoch: 7 [57600/60000(96%)]\tTrain Loss: 0.164229\n",
            "\n",
            "[EPOCH: 7], \tTest Loss: 0.0099, \tTest Accuracy: 90.85 %\n",
            "\n",
            "Train Epoch: 8 [0/60000(0%)]\tTrain Loss: 0.553845\n",
            "Train Epoch: 8 [6400/60000(11%)]\tTrain Loss: 0.326401\n",
            "Train Epoch: 8 [12800/60000(21%)]\tTrain Loss: 0.250925\n",
            "Train Epoch: 8 [19200/60000(32%)]\tTrain Loss: 0.383135\n",
            "Train Epoch: 8 [25600/60000(43%)]\tTrain Loss: 0.236620\n",
            "Train Epoch: 8 [32000/60000(53%)]\tTrain Loss: 0.277342\n",
            "Train Epoch: 8 [38400/60000(64%)]\tTrain Loss: 0.335078\n",
            "Train Epoch: 8 [44800/60000(75%)]\tTrain Loss: 0.702044\n",
            "Train Epoch: 8 [51200/60000(85%)]\tTrain Loss: 0.399945\n",
            "Train Epoch: 8 [57600/60000(96%)]\tTrain Loss: 0.273972\n",
            "\n",
            "[EPOCH: 8], \tTest Loss: 0.0097, \tTest Accuracy: 91.31 %\n",
            "\n",
            "Train Epoch: 9 [0/60000(0%)]\tTrain Loss: 0.322323\n",
            "Train Epoch: 9 [6400/60000(11%)]\tTrain Loss: 0.106831\n",
            "Train Epoch: 9 [12800/60000(21%)]\tTrain Loss: 0.401551\n",
            "Train Epoch: 9 [19200/60000(32%)]\tTrain Loss: 0.479927\n",
            "Train Epoch: 9 [25600/60000(43%)]\tTrain Loss: 0.285861\n",
            "Train Epoch: 9 [32000/60000(53%)]\tTrain Loss: 0.232619\n",
            "Train Epoch: 9 [38400/60000(64%)]\tTrain Loss: 0.604824\n",
            "Train Epoch: 9 [44800/60000(75%)]\tTrain Loss: 0.151623\n",
            "Train Epoch: 9 [51200/60000(85%)]\tTrain Loss: 0.077493\n",
            "Train Epoch: 9 [57600/60000(96%)]\tTrain Loss: 0.257970\n",
            "\n",
            "[EPOCH: 9], \tTest Loss: 0.0095, \tTest Accuracy: 91.31 %\n",
            "\n",
            "Train Epoch: 10 [0/60000(0%)]\tTrain Loss: 0.208099\n",
            "Train Epoch: 10 [6400/60000(11%)]\tTrain Loss: 0.240428\n",
            "Train Epoch: 10 [12800/60000(21%)]\tTrain Loss: 0.745319\n",
            "Train Epoch: 10 [19200/60000(32%)]\tTrain Loss: 0.545881\n",
            "Train Epoch: 10 [25600/60000(43%)]\tTrain Loss: 0.185247\n",
            "Train Epoch: 10 [32000/60000(53%)]\tTrain Loss: 0.448288\n",
            "Train Epoch: 10 [38400/60000(64%)]\tTrain Loss: 0.300540\n",
            "Train Epoch: 10 [44800/60000(75%)]\tTrain Loss: 0.605558\n",
            "Train Epoch: 10 [51200/60000(85%)]\tTrain Loss: 0.430362\n",
            "Train Epoch: 10 [57600/60000(96%)]\tTrain Loss: 0.266565\n",
            "\n",
            "[EPOCH: 10], \tTest Loss: 0.0093, \tTest Accuracy: 91.38 %\n",
            "\n"
          ],
          "name": "stdout"
        }
      ]
    }
  ]
}