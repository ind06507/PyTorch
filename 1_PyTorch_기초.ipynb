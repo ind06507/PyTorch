{
  "nbformat": 4,
  "nbformat_minor": 0,
  "metadata": {
    "colab": {
      "name": "1. PyTorch 기초.ipynb",
      "provenance": []
    },
    "kernelspec": {
      "name": "python3",
      "display_name": "Python 3"
    },
    "language_info": {
      "name": "python"
    }
  },
  "cells": [
    {
      "cell_type": "markdown",
      "metadata": {
        "id": "73MVInh7wXZv"
      },
      "source": [
        "> 텐서 : 데이터를 표현하는 단위"
      ]
    },
    {
      "cell_type": "code",
      "metadata": {
        "colab": {
          "base_uri": "https://localhost:8080/"
        },
        "id": "xmUmGj7guGQX",
        "outputId": "b7e596ba-9a02-47f0-a54c-fa87f0a655a7"
      },
      "source": [
        "import torch\n",
        "\n",
        "# scalar 표현\n",
        "\n",
        "scalar1=torch.tensor([1.])\n",
        "print(scalar1)\n",
        "\n",
        "scalar2=torch.tensor([3.])\n",
        "print(scalar2)"
      ],
      "execution_count": 1,
      "outputs": [
        {
          "output_type": "stream",
          "text": [
            "tensor([1.])\n",
            "tensor([3.])\n"
          ],
          "name": "stdout"
        }
      ]
    },
    {
      "cell_type": "code",
      "metadata": {
        "colab": {
          "base_uri": "https://localhost:8080/"
        },
        "id": "im-G8U_9uZbJ",
        "outputId": "27875495-8fd3-4870-a452-58c3b9ed0a46"
      },
      "source": [
        "# 사칙연산\n",
        "\n",
        "add_scalar=scalar1+scalar2\n",
        "print(add_scalar)\n",
        "\n",
        "sub_scalar=scalar1-scalar2\n",
        "print(sub_scalar)\n",
        "\n",
        "mul_scalar=scalar1*scalar2\n",
        "print(mul_scalar)\n",
        "\n",
        "div_scalar=scalar1/scalar2\n",
        "print(div_scalar)"
      ],
      "execution_count": 2,
      "outputs": [
        {
          "output_type": "stream",
          "text": [
            "tensor([4.])\n",
            "tensor([-2.])\n",
            "tensor([3.])\n",
            "tensor([0.3333])\n"
          ],
          "name": "stdout"
        }
      ]
    },
    {
      "cell_type": "code",
      "metadata": {
        "colab": {
          "base_uri": "https://localhost:8080/"
        },
        "id": "RQJBFdN2vqf8",
        "outputId": "b4c702d6-efef-4e0f-a5a0-8c9c6385b27f"
      },
      "source": [
        "# torch 모듈에 내장된 메서드 이용 가능\n",
        "\n",
        "torch.add(scalar1, scalar2)\n",
        "torch.sub(scalar1, scalar2)\n",
        "torch.mul(scalar1, scalar2)\n",
        "torch.div(scalar1, scalar2)"
      ],
      "execution_count": 3,
      "outputs": [
        {
          "output_type": "execute_result",
          "data": {
            "text/plain": [
              "tensor([0.3333])"
            ]
          },
          "metadata": {
            "tags": []
          },
          "execution_count": 3
        }
      ]
    },
    {
      "cell_type": "code",
      "metadata": {
        "colab": {
          "base_uri": "https://localhost:8080/"
        },
        "id": "SupxMk3_v2CY",
        "outputId": "c4361d6a-27c1-4fe6-bb55-6a09c4a40565"
      },
      "source": [
        "# 벡터 표현\n",
        "\n",
        "vector1=torch.tensor([1.,2.,3.])\n",
        "print(vector1)\n",
        "\n",
        "vector2=torch.tensor([4.,5.,6.])\n",
        "print(vector2)"
      ],
      "execution_count": 4,
      "outputs": [
        {
          "output_type": "stream",
          "text": [
            "tensor([1., 2., 3.])\n",
            "tensor([4., 5., 6.])\n"
          ],
          "name": "stdout"
        }
      ]
    },
    {
      "cell_type": "code",
      "metadata": {
        "colab": {
          "base_uri": "https://localhost:8080/"
        },
        "id": "I-UnJjuwwE4S",
        "outputId": "16917099-ec04-4ea9-bc01-fdfd35efc849"
      },
      "source": [
        "# 사칙연산\n",
        "\n",
        "add_vector=vector1+vector2\n",
        "print(add_vector)\n",
        "\n",
        "sub_vector=vector1-vector2\n",
        "print(sub_vector)\n",
        "\n",
        "mul_vector=vector1*vector2\n",
        "print(mul_vector)\n",
        "\n",
        "div_vector=vector1/vector2\n",
        "print(div_vector)"
      ],
      "execution_count": 5,
      "outputs": [
        {
          "output_type": "stream",
          "text": [
            "tensor([5., 7., 9.])\n",
            "tensor([-3., -3., -3.])\n",
            "tensor([ 4., 10., 18.])\n",
            "tensor([0.2500, 0.4000, 0.5000])\n"
          ],
          "name": "stdout"
        }
      ]
    },
    {
      "cell_type": "code",
      "metadata": {
        "colab": {
          "base_uri": "https://localhost:8080/"
        },
        "id": "985bAIvUxIuS",
        "outputId": "02161a6b-3bec-4c15-873b-63505f8e42fb"
      },
      "source": [
        "# torch 모듈에 내장된 메서드 이용 가능\n",
        "\n",
        "torch.add(vector1, vector2)\n",
        "torch.sub(vector1, vector2)\n",
        "torch.mul(vector1, vector2)\n",
        "torch.div(vector1, vector2)\n",
        "torch.dot(vector1, vector2)"
      ],
      "execution_count": 8,
      "outputs": [
        {
          "output_type": "execute_result",
          "data": {
            "text/plain": [
              "tensor(32.)"
            ]
          },
          "metadata": {
            "tags": []
          },
          "execution_count": 8
        }
      ]
    },
    {
      "cell_type": "code",
      "metadata": {
        "colab": {
          "base_uri": "https://localhost:8080/"
        },
        "id": "XEedWnrrxYa_",
        "outputId": "4b67581a-8e14-475e-c041-12a0de8c99bd"
      },
      "source": [
        "# 행렬\n",
        "\n",
        "matrix1=torch.tensor([[1.,2.], [3.,4.]])\n",
        "print(matrix1)\n",
        "\n",
        "matrix2=torch.tensor([[5.,6.], [7.,8.]])\n",
        "print(matrix2)"
      ],
      "execution_count": 9,
      "outputs": [
        {
          "output_type": "stream",
          "text": [
            "tensor([[1., 2.],\n",
            "        [3., 4.]])\n",
            "tensor([[5., 6.],\n",
            "        [7., 8.]])\n"
          ],
          "name": "stdout"
        }
      ]
    },
    {
      "cell_type": "code",
      "metadata": {
        "colab": {
          "base_uri": "https://localhost:8080/"
        },
        "id": "Sc94HCSKyKHl",
        "outputId": "d52ff4da-b30a-42a5-a4e4-1026c9645330"
      },
      "source": [
        "# 사칙연산\n",
        "\n",
        "sum_matrix=matrix1+matrix2\n",
        "print(sum_matrix)\n",
        "\n",
        "sub_matrix=matrix1-matrix2\n",
        "print(sub_matrix)\n",
        "\n",
        "mul_matrix=matrix1*matrix2\n",
        "print(mul_matrix)\n",
        "\n",
        "div_matrix=matrix1/matrix2\n",
        "print(div_matrix)"
      ],
      "execution_count": 10,
      "outputs": [
        {
          "output_type": "stream",
          "text": [
            "tensor([[ 6.,  8.],\n",
            "        [10., 12.]])\n",
            "tensor([[-4., -4.],\n",
            "        [-4., -4.]])\n",
            "tensor([[ 5., 12.],\n",
            "        [21., 32.]])\n",
            "tensor([[0.2000, 0.3333],\n",
            "        [0.4286, 0.5000]])\n"
          ],
          "name": "stdout"
        }
      ]
    },
    {
      "cell_type": "code",
      "metadata": {
        "colab": {
          "base_uri": "https://localhost:8080/"
        },
        "id": "bTu5_mg6ybo-",
        "outputId": "a4db300b-9d8f-4e2c-994c-467ed698078c"
      },
      "source": [
        "# torch 모듈에 내장된 메서드 이용 가능\n",
        "\n",
        "torch.add(matrix1, matrix2)\n",
        "torch.sub(matrix1, matrix2)\n",
        "torch.mul(matrix1, matrix2)\n",
        "torch.div(matrix1, matrix2)\n",
        "torch.matmul(matrix1, matrix2)"
      ],
      "execution_count": 11,
      "outputs": [
        {
          "output_type": "execute_result",
          "data": {
            "text/plain": [
              "tensor([[19., 22.],\n",
              "        [43., 50.]])"
            ]
          },
          "metadata": {
            "tags": []
          },
          "execution_count": 11
        }
      ]
    },
    {
      "cell_type": "code",
      "metadata": {
        "colab": {
          "base_uri": "https://localhost:8080/"
        },
        "id": "ANVdYsqhzMMj",
        "outputId": "4ab1d372-3268-490f-b8ef-45a0f0222520"
      },
      "source": [
        "# 텐서\n",
        "\n",
        "tensor1=torch.tensor([[[1.,2.], [3.,4.]], [[5.,6.], [7.,8.]]])\n",
        "print(tensor1)\n",
        "\n",
        "tensor2=torch.tensor([[[9.,10.], [11.,12.]], [[13.,14.], [15.,16.]]])\n",
        "print(tensor2)"
      ],
      "execution_count": 12,
      "outputs": [
        {
          "output_type": "stream",
          "text": [
            "tensor([[[1., 2.],\n",
            "         [3., 4.]],\n",
            "\n",
            "        [[5., 6.],\n",
            "         [7., 8.]]])\n",
            "tensor([[[ 9., 10.],\n",
            "         [11., 12.]],\n",
            "\n",
            "        [[13., 14.],\n",
            "         [15., 16.]]])\n"
          ],
          "name": "stdout"
        }
      ]
    },
    {
      "cell_type": "markdown",
      "metadata": {
        "id": "cGKoT2uEzHVc"
      },
      "source": [
        "![image.png](data:image/png;base64,iVBORw0KGgoAAAANSUhEUgAAA/AAAAFlCAYAAABMawPXAAAgAElEQVR4Aey9C5hsR13uvUSuue2Z7tkBdi4GwjWEYMI1esQbXslB4DsqR+QouqeqZ3b2gWgOHvBw3F4Q+RAzsxNC9vTsvXPZQYgoevhAVARFBQ6KaPSIysXLQQiiBFAj5Fbf8/Ze76SmZlX16u7q7tU9bz/Pelb36rVqVf3qX1X/t6pWraLQRwREQAREQAREQAREQAREQAREQAREQAREQAREQAREQAREQAREQAREQAREQAREQAREQAREQAREQAREQAREQAREQAREQAREQAREQAREQAREQAREQAREQAREQAREQAREQAREQAREQAREQAREQAREQAREQAREQAREQAREQAREQAREQAREQAREQAREQAREQAREQAREQAREQAREQAREQAREQAREQAREQAREQAREQAREQAREQAREQAREQAREQAREQAREQAREQAREQAREQAREQAREQAREQAREQAREQAREQAREQAREQAREQAREQAREQAREQAREQAREQAREQAREQAREQAREQAREQAREQAREQAREQAREQAREQAREQAREQAREQAREQAREQAREQAREQAREQAREQAREQAREQAREQAREQAREQAREQAREQAREQAREQAREQAREQAREQAREQAREQAREQAREQAREQAREQAREQAREQAREQAREQAREQAREQAREQAREQAREQAREQAREQAREQAREQAREQAREQAREQAREQAREQAREQAREQAREQAREQAREQAREQAREQAREQAREQAREQAREQAREQAREQAREQAREQAREQAREQAREQAREQAREQAREQAREQAREQAREQAREQAREQAREQAREQAREQAREQAREQAREQAREQAREQAREQAREQAREQAREQAREQAREQAREQAREQAREQAREQAREQAREQAREQAREQAREQAREQAREQAREQAREQAREQAREQAREQAREQAREQAREQAREQAREQAREQAREQAREQAREQAREQAREQAREQAREQAREQAREQAREQAREQAREQAREQAREQAREQAREQAREQAREQAREQAREQAREQAREYOYJrKysXGSMubVq63Q6T5v5BCoBIiACIiACIiACIiACIiACIiACzSZw6NCh+6+srDzSWntBp9M5E7+bHePpxG5lZeUZxhhXtXU6nW+aTqx0VxEQAREQAREQAREQAREQAREQgbkkcMstt3yltfZ7rbVvsNb+prX249bau3xRury8fK+19q+NMUeNMT9w8ODBM+YSxoCJkoAfENgETj906NADO53O18Y2dErljsbq6uppsfvh+MGDBx+U+54KTwSaQuDyyy9/RMr++Z8x5pLccT5w4MATGH5qjw7p3PfeTeE5577CWvt8a+3PdjqdV3U6nefh2G5ioLQ2m8Dq6uqjUnXAuP7DfZtNRrETARGYKwIQFebk52O+WK/z3Vr7BWPMz6+urp4zV1AGTIwE/IDAJnA6nEpjzCdidry8vPyPuWeU7N+//6Wx+yEuhw4dut8Ekq5biMBUCFhrDyfsf2uGEjqGV1dXH5YrkocOHXrw8vLy7XXubYy5Otd9d1s4xpg91trfDTlba99/4MCB9m7jofQ2k4C19nhoo5P4ba091kwiipUIiMDcEeh0OpcbYz41auW2vLz8r9ba/zJ3gGomSAK+JqgJn9bpdH68j20/O2eUjDEfjt1v//79r8h5L4UlAk0jUFfAo4zs37//v+WKvzHm+2LlruK4BPyQ4FPCyFr7y0MGq8tEICuBlJ1W1AdbHYuj/icBnzUbFZgIiECMgLX2ylErrIrrd6VzJAEfs7LpHr/88sv3GWPurrBTNtq/mCuG1tonJe5zZ84Rx1xxVjgikJPAIALeWvt/ct3bWvuuRNljWed+V7ZRo7LGbCVjzL8nON99xRVXPGTU++h6ERiVgAT8qAR1vQiIQGMJdDqdF+B59kRjTGen9n55efnLxphvbWyixxgxCfgxwh0xaGvt/4rZubX2jpe97GWnj3iL3uXW2tcl7vNLOe6hMESgyQQGEfAoK6g3R01Pp9M5b8C2TAJ+COjGmKVY/eYdP3eIoHWJCGQlIAGfFacCEwERaAoBY8w3lmK7rjhPjWD2wsAzjVjMpilpnHQ8JOAnTbz+/ay1/9FzMHfYfKfT+cH6oVWfWY5O3Ra7z8rKyrOqr5zvo9bag1XbysrKk+c75bszdYMKeGvtkVFJWWt/MlbuIscbLeCryguONaHMGGP+LsLUWWv/adS81PUikIOABHwOigpDBESgUQQwxc0Y88+xRhjHsfp8p9O5Aqt0Y1VtiJPyPec/YK1ds9b+jX+9tfYea+33NyqhE46MBPyEgQ9wO7xdYXl5+R98m/W/Y/rtAMFVntrpdC7zw/S/460Nu3GV5nIRwR0dJmBjrX15JUgdnGkCgwp4Y8znR5l2jUUhU6LSL4fe98YK+KaXmeXl5f/H47itbO/mNXBmutDOYeSxUCU6lOpusRk8pW9bOxzUf3OIU0kSARFoAgEI7VgDXB6/vt9K2Vjxd//+/T/BSs9a22lC2qYZBwn4adLvf29jzM/E7B6NdKfTOat/KPEzrLW/FAs/52Jd8Rg075+mi5HmEZv9GMUEvLX2czGhPUrnLx7Zqip31tq/T3RUS8CPYGqYabe8vPy35I4Ofbx+doQgdakITJWAtfbTtOdg/6mpRkw3FwEREAESMMb8RlBB+b3ov4XRSp7bb49XZmEhvH7n7Yb/JeCbnct49zM7nKrsfxSRfcUVV7SstV+qCrc8vtRsOuOJnQT8eLg2OdSYgDfG3Ib3hleVEWPMu4dNk7X2zZEwX51wyiXghwXuXXfw4MG9enWcB0RfZ5ZAoq6QgJ/ZXFXERWDOCMRGQUon6AfmLLkTS44E/MRQD30jY8xvRZx9t7y8/KfDBmyMWYmFa61947Dhzvp1EvCznoODxz8l4FdXVx9fVU7QsXb55Zc/YtC7QTzG1nLBvRJOuQT8oLB1vgjMMYFEXSEBP8f5rqSJwMwQwNR4LDZX5UThGEYpZyYxDYuoBHzDMqQiOpjmGbP98vgTKy7re8gY84FYuCsrK1/fN4A5PUECfk4zNpGslIDHZcaYD1aVFSxElwi28i9jzH+NhPWHuCDhlEvAVxLVQRHYnQQSdYUE/O40CaVaBJpFAK/LqnJ4eOzAgQNPaFaMZyc2EvDNz6tDhw490BjzWdp7xf7/HTQVxpjHVYTTeyxleXn5LwYNb57Ol4Cfp9ysl5Z+Ah6rqVeVFzxT3W/tlTAGmDVTFRaEPc5NOOUS8CFM/RaBXUwgUVdIwO9iu1DSRaBRBJaXl/814vS4/fv3H5h2ZI0xp5QLExlr7f+w1r7WGPPf8aovY8xQI6R+mowxe1ZWVr6j0+ks79+//xXGmJ+31v40nuXvdDrfY4wZ6j224xLw44qvz6TOd2vtpZ1O54dKVj/d6XRedPDgwTPqXNukc4wxvxCzf2PM/x1URBhjXh0LD2tEDJP2qjKAVduttS82xlwCYTxMuHWuqbr3sOVv0gK+Ku5lGd9vrf1mLL5Zh0Guc+alzAzCo5+Ax3PTxpg7q8rMIK9axCvVqsJA2LgH4pxwyocW8OOujyddZvy83Y326qdf33cvgURdkU3AV7VPk2rXmbPlIB4W/jSdTudVxpifgt+PutcY8wCeN8oe7Sx89fL1vZgl9RpjzCs7nY7FK6wPHjz4oFHCD6+t4qp2P6Sk33NBwFr7lxHHB692+hdr7ZMmndDyHdo/gMWMYs80Ms7W2k9aa69ZXV09p2484dCV7wr+EFYcZ1iJ/a14Xc4gQimngJ9EfMvKFaPRVdv5ZGuMwasD/6yKVafT+QaeNyt7vBqxKi081ul0vqluWiD2Ifp5rb+31t6xsrKyOEBY9wfrAcrA64wxWRbHy1H+rLXPj9iSv0im//3fIud/1lr7unFwM8b8OxbxxKMUg3bUID67tczUzYuS0WG/HHjfb2M41tr/5R33beJmntNvb4y5tioMa+3beG3CKR9IwI+rPh53mRmHvZYdJ1VtxmdXVla+juz9vTHmPywvL/9jrLyjE90/P/a90+l8bSwc+AWYDRW7VsdFIEUgUVeMJOCHaFsHbtdj5dxa+16mGR2PnU7nUPk2EL/O3fq+vLx8OwZoBlnImuFjv7q6+rDybT/9XlN9h7X2nehU968f5PsgXNXuD0JW5zaagLX2V6ocHx4rBfTVL3nJSx46iYR0Op0XGmM+wfvX3Zere1+VGlXD6uDGmHVjDMTCVkU1wPcPx5ySkE0OAT/J+Kbe53vgwIHHoDfWGHM0xWoWBTzyzRjzB7F0WWuPh3kb+71///5vSYRzQ+y68PiwZQDv0B511syw9w7LnzHm+2IsBj1urd0IGVX9HjbuiA86MvE6rKpwY8d2c5mJMQmP9xuBx/nW2v9UZRPo9HrpS1+6EIYZ/sZ74+FsVoVhjPlunp9wymsJ+HHXx+MuM+Ow12HbOWvtz0XyCwuI3mutfSbzrWoPAeK/ui4My1r7kqrrdEwE6hBI1BVDC/gR2qeB2vVYOcfAC9JujHm4MebPwzIT+22tfc8g/n85a+iq2Jt4YvfBcWvtuw4ePHh2nTziOSNwVbtPiNrPJoFOp/NtqQLF/8qp9j8zzOrAdcjACYNY4v2G3Vtr38cpk/59O53Ohdbajw8bLq/DrITV1dWv9sOu+j6sY8OwJh3fWKWPdJcC/kYyiO1nVcCXj2NUduhYa78A22S+pPbW2hMxNqurq1+Tuhb/ZSwDa4PMFsl87175G7cY8Vnm4lbm3dVYG8EPP/Z9N5eZGJPweB0BjymUMQFure2EYYa/SwduR/lFmH6HbsIp7yvgJ1Efj7vMjMNeh23nMGJmrf39WH1pjPkYpsKGec3f1to3Ja79NZ6nvQgMQyBRVwws4HO1T9baWu16rJxDwOMxx+Xl5Y8mys6OehTnLi8v/wPe5FGHpTHmqkHD98+31v715Zdfvq/fvXJxLe+tdr8fcP3fPAJw9LG4ll+A+n231v5hp9N5WS4xX049fne/+w7w/7U+acQTwnuA6ysrMV6P6Xn9KphhHRvEexrxjVX6SLO19keY9tR+VgU8HEUI9VjaMMXat6eq72gYMWIYCePWqmv8Y7nLAN6x7Yef+p773uV05omMwI8h7rD3X03x4n+7ucyQQb99HQGPMKy1RyJl54M17vHbVdeGMzcSTnlSwE+qPp6mgB+2jh+lncNjb9baf6rKu/LYelXel2t/VLbR1tq/x0yJqut0TATqEkjUFQMJ+NztU512PdYuQcBba9+QKG+VZco7/639+GHtKO/8fuGl/n916l65uSLOavdTxPVfYwmsrKxclFrMrk+B/B1r7XehQA2bwP379/+3PvdIFfTwv3dULYqBhbci9/i8tfZ30buJkVgsxmat/Z/W2rdjKl/kGtzzqlR6R3FsEO6k4xur9JH+ulOhZlXAg3efhu3/S+V1ef0Px2ylzrT2VBnAc57W2mM4B9ONMT3UWvt6a+3/id0TazvUfWVd6t6x8BPHe+Vv3GKE+ZE57lt1CRa15D1i+91eZmJc/ON1BTyei47ZVOptKHjVaayeDh93SjjlSQGP9EyiPh53mRmHvWZo554dyz8cD/MQs8ESvsrdsCPf/vRdBIYhkKgrBhLwqfZpXO16rJxjgCFW1mJ1r38c16Zmn6Kjs0b4f2Wt/eU+s2F/od8MwhRXP86Dfle7P0xp0TVTJ1AufIFFnbac2EG+Y1oOhMqVV1556iCJKTsPvtznXn9njLkFo/5l5YSV4qsWUqsU74xP4IR9HqtgpioKrJwZe09xuXhOdJXOUR0bxHmS8Y1V+lX5goag7PR4Ix57sNb+ujHmtrqCkfnRpH1iFWt0YNxV9ViGH38sEFPFqnQ29/jnht9jZQCNobV2MzaihMVlytdwfT5y779I2TfiEbt3EN7A5c9a+5RyJB6Li/W2Pp0kH+B5FfvvC5kNE3djzHPLVX7hQGCRq2hdh3xbXV19VNV9eWy3lxlySO3rCnjYacypSy1iiEWWqvIRYYW2n3DK+wp4pHHc9fG4y8w47DVHO1e+WSZWFrem0pev/fxQVX7jWKfT+fGULeo/EahLIFFX1BbwsbZ13O36AOX8w1gAGjNayjcK/Uq/maoQ3zGGWBQvVjaxflKn0znLvxaL3O3fv/8neA24QJj751R9j3FlOOV+y2dRu19FUcfmjkCn07k45kQFhSPW2OL4/+10Ok+rAwcj5caYW2NhQzjB4Y6N7uPZR2/aclK8Mz6lE/bWflPgeX65kmblyuJYP4Dnhfscjg3CnFR8a1b6GOHATIZKQRrLp5BNU39ba/84ZoudTufyWLwxChi7DgI8dh2O9ykDyVkeDLd85UtlmbTWfjvPC/d97t3ruMhZ/iCoEpxeHsYv9XvUuJer1v5M6i0U1tr3p1bgVZlJ5dDJ/+oKeJwdcwCttZ+peqVROY2ysm7GW0bC2CWc8loCHuFNqj5m3HOWmXHYa452rnwe/n2xugELz5bsfz5xzm/NevvDPNd++gQSdUUtAd+nfRpru96vnJdt3ivDDs6yjO3ps4j0P8dyJ/Y2EQzuxa4p74k3G92B2a+p8/BfH659fRa1+/0I6/+ZJlA+D9wxxnwk0VhWigWeX0653lr9NwYEU9V5TbiH01anIwBTeowxXRTs2H1GPR57rgfPDcbCzuHYxMLud3yY+Nao9L+E1xz1u/cs/7+8vLwa2iF/W2v/dyxtMeGBa1dXV58auw7HE2Xgz/0FuFJh4D9jzHWMq7/3X6MVhpG4NxrC7OUvpxjJEXfwwKwRrN7vMwu+/9eQG3+rzJBEfD+IgMeMh4C93848N7wLOqdi51fNnkg45bUFfBiHOr+HqY8Zbs4yMw57zdXOGWPONcZUvm4KI3OoY7GP5Pdt6GgnM+1FYFQCibqiloBPtE9jb9drlPPkGxrgdxtj7oyUNYd3x1fxNcbEZsf0fQTxwIED7aoww2MJrrV9FoSpdj8kq99zRQCOAxwkvJ8x0XD6Dlb4/d8xJTAFJfUOeoyup66d5H/GmG+sqszwHHIsHrkcm1j4qePDxLdfpe+/jil171n+DzMLvBkdoT2jgXh0mL7SwY699vBD4fnh71gZwOMd4bmp3zF7w5S42Chy7N6w9XGUv5xiJGfch+24UZlJWeTJ/wYR8Lgi8UrHHSuL47GqSL38vqqYJZzysQr4Yepjxj9nmRmHvcbqnbIO+Samo85+ZWXlOVX5mTpW+ibfWid8nSMCdQkk6oq6Av4vq+x2Eu16qpxjkcc6b1kxxryjKv7lsSdWcUw8Rnh7VYdqVRj9jqnd70dI/4tAQKBcLfZHMAqZKNQ7BE/5ntbK58SNMY+LhYX3TgZRmNhPjHoaY5Ywxb7T6ZwH0ZZwwN4ci1hOxyZ2DxzPFd9UpY/ZGHAkU/GYl/+stTck7HLHtNyyJ3eH7ZdhmBSXVBk4cODAV6WuDf/D2hOx6eB4vj88P3XvcZW/XGIkd9zLqdh/VJXvEAixx21UZkKr2vl7UAGP18ZV5QMep/LfRYw6enl5ObZ2ysrOmPRmu3y6KmxjTDYBn6s+ZvxzlRmENw57zd3OYb2DSB7F6tjkatXkqL0IDEJgFAGfap/G3a4jjalyXnedCGvt/4iVw06nc1kVy9RrdMu3/HSx0PGwj7qkuA7js6jdr8pFHZtrAuUrdbBw0L/FCrh/PPYKLiya4Z/nf0dP/Lghlu+Q/OZOp/MqzDIoX7HxOT8e/b6nXjuR27EZd3xTlb4xJjqNeNz5NOnwU6th493EYXywOnzETr64urp6Wni+/ztWBspFAl8HZ3aQLbE6846OhNi9kZZxlb9cYmQcccfzd5F8xMyLykdHVGZ8a67+PqiAx4KNMWGOqei8C97EUJVfuDa26GPCKR9YwI+7PmY6c5UZhDcOe83dzmGtA2MMFrSMCXb/+B/gmVay0l4EchFI1BV9R+Bj7dMk2nWkP1XO8V8dRqnHk2LtobX2++uUW7w6Es/LY1Fqa+2lqOPqxCnGFfcc1mdRu1+HvM6ZOwIHDx482xhzc43p9b9Tlfj9+/e/IlbYMfJddU2OY51O50II77qvRovFsTwefbYnl2MzqfimKn1r7TNzsJ+VMFLrP6yurn4N04H1IowxX4zYyHU8L7ZPlYFImL7zWvs77hPGIXXvcZW/XGJkHHG31j4pxjz2GkCVmdCqdv4eVMAjBKx0XJUXeG0i7xBb/NRa+ys8J9wnnPLaAn5S9THjnqvMILxx2Guudo7pxb6c+ZbsTLfW4v9z/ev0XQRyEUjUFX0FfKp9qqrXhj1W1a4j/alyboy5pA4jY8zTY/GKCfhygbi/il0XO46ZunibSNUjin5cU1yH9VnU7vuE9X3XEcD08tiISVlgP18FJeHYfbFuj1xVuLFjmH5ZvvLsnlhFMsTxsQn4Scc3VemvrKw8NsZ1Ho8bY340YQvXMs2pHufU+1K96w8n7lNboNcI4+d5T+4nXf5w31xiZBxxxyKYmKZdxRLOBbn5e5UZn0b190Re3VZ9RU/Af1dVPpTHno6FIRP/71jsjvdJOOV9Bfyk62PGOVeZQXjjsNdxCHjMoMDbbBJ5jFkxfx+baUF22ovAsAQSdUVfAZ+o83K26QhrR7uO9KbK+YEDBx5Thwk6KmPlLybgES5et5tYx6Rv+q21Pxvz/xNch9YMavfrWIPOmWsCeHdjrLDjeNVUYrx/suqa5eXl23PDKlfWj74irCoeNY+NRcBPI745Kv3c+Tat8NAIxTqlMP2Lr7QyxvxWlZ2kVqz30xQrA1VhjnKs6lV2sXuPo/wxzbnEyDjiXk7drVx5F4/ZMA3+XmXGp1H9PeF0RQU88qIsZzscPmvtEWvtG6rKA65JLdCUcMqTAn4a9TFp5iozCG8c9ppbwCO9eHNGVf6GxzANN+bsk5/2IjAMgURdUUfAV/q2of2O+ruqXUdac5RzDNrE4pcS8Lh/KYqjawnFwvWO30gfy887tfs+DX0XgUwEUu/BRqGsGsFNLZKB6fmZotYLxlr7Zq9y2OEU4r/yuZz3lg7i/8Ar4owxK8aY/bH3WxpjxiLgpxHfHJV+zjybdlixFa5LW/mucmHHytkc1toX14l/qgz0s9dB/sdz+mF8UvfOXf5471xiZBxx7zPicJBp8PcqMz6N6u/DCHiEFHPWylf+Vb72L/VWkDLMoRaxm0Z9TJq5ygzCG4e95hbwfWY/VbXdP0pW2otALgIjCvjoAnCDtNv9zq1q15H+HOV8FAHPPMCCfeUrND/YLy0V/9/IcLhXu08S2otARgJYzTE2/RQFE2InvB2EcUWh7TXQKysr3xGeP+xv9BbG7oPn99Hb7z/XXHUfY8xPRcLILuCnFd8clX4Vu1k9Zoz51kieo7Pnl2LPY2EEGyN2ddIdKwPlq+yei4VZcmxV0/lj90aac5Y/n0MuMTKOuFtr/3Msv2OvUFSZ8XO3+vuwAr58F3GVYEsde3p1LE4eTTjl0RH4adXHTEeuMoPwxmGvOQV8GVblLJhE2cT5yXwnS+1FoC6BRF3RdwQ+1j5Nol1H+nKU8xwC3mfd6XTOtNbi0ajXWGvfnyjPrN/vxoLZfhgxrqP4LGr3fcL6PtMEMPVlmAQYY54YK5DlInc7XiW3srJyUewaiOph4lF1jTHmF6ruU06R/saqa8JjmKpUFcY4RuCnFd8clX7IbZZ/l51SfxPJ9383xsTe/R4VAyGPVBmoEt3h9aP8Tt07Z/nz45hLjIwj7tba343ktYstkKMy4+du9fdhBTxCS73ztyKv/qo6BvcdTTjl0TI7rfqYsc5VZhDeOOw1l4BfWVlZNMb8XUW+0qGvnHWB87EIFq4nM+1FYFQCibqir4BPtU/jbteR7hzlPLeAD/NjdXX18caY9dTbrMLFY1Nch/VZ1O6HOaPfM0kAz/1aa/8Er2oYNAGdTueKWMOLijAWXkIEYZTzu2LXDXLcWvv7VXGLPT9UFXZiUY5xjMBPJb45Kv0qdrN8zBjzyirbSR3DVOxB0hwrA9balw8SzjDnxu6N9OUqf2G8Yu+qt9b+XHhu6nfOuFtr/0siTz8ci4fKTIzMfcdHEfB4Z3EiXyjsentMr7zvrtXfEk55VMBPq/3wU5CrzIzDXnMJeGPMryXy+sPldNzPxM5JvdLVZ6nvIlCHQKKu6CvgEX6sfZpEu56jnI9bwDMPrLXfmSjTO3yCGFeEMajPonafuaD9TBNYXV19GF7RUxYkTEn77roJ6nQ6F5fPJW5zqLxCeTQWljHm1d55267HKrPGmMfFruVxzBrodDo/yN/+/pZbbvnKctrStrDLe77SPzf2HasPJ96vnVXATzO+OSr9GMNZPV6+KvHumI2Gx+HsD5rWRBn453AKWSrsAwcOtNGbbK39ScweSJ3L/xL3RmM4cvnjffz98vLyP4bcyt+/6J/X73uOuOMeeI2MtTYqDIwx/z0WF5WZGJn7jo8o4M+r8ZpSjMDeG5slcV9Menk90DPw06yP/XjnKjPjsNccAj41AIC2F2ICPPBoT8oeEI7PTd9FYFgCGQR8zLcde7ueo5yPKuAPHDjwhLp+SPlKyB0+OhYrDfNP7X5IRL93NQGIFGvtX4dOtbX2BojXGBxM7bPW/kdjzGfDa/3f+/fv/5ZYGFid3hjzMf/84Pu/dTqd5cT16Hh4X3nNq8PzUIEYYyqfqbPWvjM8v+q3tfZNQZz8iiargJ9mfHNU+lX8Zv0YHpNI5L9vC5hq/aJB05sqA5gRU/UGh/Aexpjz/TJsrf3tVNnl9al7l2keqfzxPv7eWvtnEZ5frJNWhjVq3FF/7d+//6XW2i9F4oO8vTX1WJHKDHMjvh9FwCNUY8zvJPKnV/7QcRWPwX3/JJzyyhH4adbH98W61/GQpcyMw15HFfDlWgeVbTTyPeycjz3SUNrInQjPZ6fvIjAMgYwujx4AACAASURBVERdUWsEPtU+jbtdz1HORxHwnU7neWhXrbW/fMUVVzwkxR8DD8aY2CDJjkG2FNeyDkj6LGr3U7mh/2aKAEYt+kxJuQsrsFtrO+j9RmPd6XS+B9MV6zyfaK19D0YxUlCstZcmCjAdtD/GCsNY3dsY8x+wOjw6GMKRM7zOLrxXrIMAPflIV3g+f7/0pS9dSDifFG5ZBTzuPa345qj0yW6e9uXCK8zv6L58hdWDh0l7qgwsLy//A5zYqt5sNI74r6oTDQ5Ip9P5hn7xSd2bwslaO3T5C++PzgWGG+5RX6Azgteg7lhZWfn62IygIeOOxTOvS3QksM6BsH8i41K1V5mporL9WKIOjb5Gzg/BWvvDoZ1U/N7vXxP7nnDKKwU8wplWfeynIVeZGYe9jiLgyzY2ts4IZgGd8DngO14TaIz5UIUNsNz+DcINr9NvERiEQKKuqCXgca9U+zTOdj1HOR9WwJfT0rcEOV6pa4x5eBX78tWtNyfK8n+qui7FlWFV+Cxq96tg6thsEiinzWOabFSUjPjf3+G5+jp0rLU/PeK9/DRsc+asta9NhW2tfa9Bj8DKyrPQSdHpdC631q4lpi3698ou4KcV3xyVfp28nrVzDh06dH9jzKdSNlT+9wujpK1fGSg7q96NaWXlooq/EZt6xrjizRDW2gv6xavfvRlezf228hfeG69p7BeOtfZfSuY9R8BauxGGw9+Z4+6X7b6vp1KZYS7E96MK+IMHD56ReAwK+YUFJffEY3DfPwmnPCrgp1Uf3xfrnhDIUmbGYa+jCHhjzFtjdcHy8vJHX/ayl53uc+D3AwcOPCbxWBuE/6/wXO1FYBgCibqitoDHffu1T+No13OU82EEvLX2YNUjLmX9fRTiHoMK8LOttT+WGgSE/52a/daPa6xeqXFc7f4wBUbXTJZAubrtz9cwaN+prfW9LLCX1E0RRJK19g9zxAUL/lhrt3ruyvd1p55x7Zsmb5p+eG52AT+t+Oao9Ovm96ydZ6392X62iQZvlHTlLAOIa9mQmjpxynnvsPyF9y/XzAjLUfJ3SsDnjLuXx++umvEQpkVlJiSy8/eoAh4hGmN+0cubbbaCR5x23rX6SMIpjwr4adXHfgpylZlx2OuwAt5a+5JYnuINMSsrK0/2GYTfy5lH22zBDw/hh9fotwjUJZCoKwYS8Lnbpzrteo5yPqiA73Q6L/TL3yjfSx/i+1N5lZtrGV+1+yno+q95BLBI0yiFreraYZ4FxmtgMF2/KrxBjqFHM3zuvnzO7t8GCYfnYgpQ+cqLKmchu4CHhUwjvjkq/eZZd54YYVp3Vc+yZyPvyXGnjGXgHswqGSROGe+9o/yF8UhNCSZTf58S8Ag7V9zLe/5i3WfxVWbCnN35O4eAT61UbIx59s67Vh9JOOVRAY+QplEfhynIUWbGYa/DCPjV1dWnlq9xrWpTMYL+I2H6q35ba9/o1xP+d4RvrX1K1XU6JgL9CCTqioEEPO6Tq30q30bRt13PUc4HFfAYLTfGvMUvg8N8L9P4A/3yJyfXMp5q9+tA1znNIwAHaXl5+U+HKXDBNe8YpdHkAhNVz/QG94k1/G+PPW/T6XQu67Na/o4w8UwuHjUo1wrY8f843gNP65h0fHNU+oz7PO5TDnSn03lBrjSPWgbwykOM2A0Tn1Hvba2Nlj8/PsaYS/Du5jplGuf0E/AIO0PcsUJ5X+fIT4fKjE+j+nsOAY/RFmPMbRX2chv+q77zzqMJpzwp4BHSpOvjMPY5ysw47HVQAY/n0/usu/N2lOUw/VW/y8crPl5hF2yrP1H38Yqq8HVs9xJI1BUDC3hQHLV9GqRdz1HOBxXwSCNmreF1sH0WhmXZ3LHHzF1rbXLkPbTIUbmW+ax2PwSr37NFAAUBQsQY8+FEg7ij0JXn/hYWlsiV4iuvvPJUY8yPYhXoGnH5orX22MrKykX97o/GvHy3cHLl/HLhohU6EtMQ8EjLJOObo9Lvx3+W/7fW/ucqW8SMDyyslDttA5YBrOL8G5jGRpsdJT4D3rt2+fPjhFFuPM+fmtkA3vi/0+m8yr829X2QuCNsLHaDdS8OHTo08AKEKjOpnDj5Xw4Bj5CMMVeF5Q9rlfSPwX1nJJzyvgK+jMPE2o/7Yn3ft1HLzDjsdVABj5Wpw3zkbyzsVXfdHFIxxjwda30wjIr9W3iu9iJQl0CirhhKwPO+g7RP5RuUBm7Xc5TzYQQ801i+fvdaY8w/V5THKg2BRSlXRulsG4Sr2n3mlPZzSQCvoDLGfB8Wy8LII1ZshlDBStvlqpI3433TmCqP9yiPEwJG1CFM9u/f/wo4bNba49ba1+Gdr5jaOMgIDONpjDnFWvvMTqfzQxAH6AAwxrwGz80NO3rJsMexn7X4joPBbg4zUgZei6mm1trnYyRqXHwi9x6p/PlxXVlZeSTqkfL9rteWb5c43Ol0DqHTZFCH3g87jLsx5noIQWvty6213ztK2P599H13EZh2fTzOMrO7clKpFYHpEQjbp9K3nUi7PolUYzABb3LpdDoW7bkx5uoyjRilP1i+bq7vIruDxjXkqnZ/UII6XwREQAREQAREQAREQAREQAREQAREQAREQAREQAREQAREQAREQAREQAREQAREQAREQAREQAREQAREQAREQAREQAREQAREQAREQAREQAREQAREQAREQAREQAREQAREQAREQAREQAREQAREQAREQAREQAREQAREQAREQAREQAREQAREQAREQAREQAREQAREQAREQAREQAREQAREQAREQAREQAREQAREQAREQAREQAREQAREQAREQAREQAREQAREQAREQAREQAREQAREQAREQAREQAREQAREQAREQAREQAREQAREQAREQAREQAREQAREQAREQAREQAREQAREQAREQAREQAREQAREQAREQAREQAREQAREQAREQAREQAREQAREQAREQAREQAREQAREQAREQAREQAREQAREQAREQAREQAREQAREQAREQAREQAREQAREQAREQAREQAREQAREQAREQAREQAREQAREQAREQAREQAREQAREQAREQAREQAREQAREQAREQAREQAREQAREQAREQAREQAREQAREQAREQAREQAREQAREQAREQAREQAREQAREQAREQAREQAREQAREQAREQAREQAREQAREQAREQAREQAREQAREQAREQAREQAREQAREQAREQAREQAREQAREQAREQAREQAREQAREQAREQAREQAREQAREQAREQAREQAREQAREQAREQAREQAREQAREQAREQAREQAREQAREQAREQAREQAREQAREQAREQAREQAREQAREQAREQAREQAREQAREQAREQAREQAREQAREQAREQAREQAREQAREQAREQAREQAREQAREQAREQAREQAREQAREQAREQAREQAREQAREQAREQAREQAREQAREQAREQAREQAREQAREQAREQAREQAREQAREQAREQAREQAREQAREQAREQAREQAREQAREQAREQAREQAREQAREQAREQAREQAREQAREQAREQAREQAREQAREQAREQAREQAREQAREQAREQAREQAREQAREQAREQAREQAREQAREQAREQAREQAREQAREQAREQAREQAREQAREQAREQAREQAREQAREQAREQAREQAREQAREQAREQAREQAREQAREQAREQAREQAREQAREQAREQAREQAREQAREQAREQAREQAREQAREQAREQAREQAREYC4JfEVRFE3f5hK8EiUCM0Kg6fUD4qePCIiACIiACIiACIiACMw8gSrH+35FUcz6VpWumc8sJUAEpkCgqizNev2A+Felawp4dUsREAEREAEREAEREAERSBPwHVffEf/Koii43b8oiqrtAUVRNGWrih+OMQ3Y++nz050mpH9FYHcT8MuKX4b8shUrf02pHxCPWBz9dPjp89O9uy1AqRcBERABERABERABEZg6ATqndFjpxNLJpeP9wKIouD2oKIpZ2Rhn7JkWpo1pZdrJYuqZogiIQIMIsFywnLDcsByxXPllbVbqB8TTjzfTwrQxrUw7WTQoexQVERABERABERABERCB3UCAjigdUzqqcFzhxNKphYP74HJ7SFEU2E4JtlOLomjKFsaNcWYafIcd6UR6mXayIJvdYAdKowjECLAcsFywnKiOuG+qfYydjouACIiACIiACIiACIhANgJVjrnvlFO0+2IdAv20cju9KApsZzR0Y/ywR5zZuQBxjzSFYt4X8hQrZJQNugISgRkiQPtneYB4r6ojUJZYT7Ccocz5ZbDp9QTrNcSfHYCsJ9jhpzpihoxXURUBERABERABERCBeSLgO+ZVI2qhQ05nHE74nnJbKIpi0dtaRVFMe/Pjg++IIzbEGXGnoKCgr+ugz1PeKy0iUJcA6ol+4h1liB17LF+sJ1j+wnI57XoC9/fjxDrCrydYR/gdfnwEJ5yxw/q0LledJwIiIAIiIAIiIAIiIAIDEaBjHhtRg9MKpxwOue+Mw+mF89suimLJ2/YWRdGkjXFDPLHRYaejTjHP0TaIkNgom5zzgUxLJ88JAdo9BHxVPYEyU6ee8OuKJtURiAvrCezr1BPo2EzVE3OS9UqGCIiACIiACIiACIhAkwhQvNMx57PucEzplGP0icKdoh1OLpzeM8vtoUVRPKzcHl4URWrjeZPaI27YGFc663TSKeTRQYG0QoiEzjlnJoATmOkjAruJAOsJlgO/nkBZQZlB2UEZwsg1ypTfuRfWFX59Mal6IFUn4T/Go6quYKcfR+VZT4SdfeDDWQqqJ3ZTCVFaRUAEREAEREAERGBCBHzHHFNBMS10h3i/+OKL925ubq6dOHHi0zfffLObw+1zN9xww80vfvGLzylnG/giPnzWFczknE/IQHWbqROgvbOTj8+9o56geOcMHQhcdPJxpB3CnWKdAnpfURRnldvZRVFMa0NZx+bfn/FCHCnqKejRaQkhj84JdGhWiXhOp1dH39TNVhEQAREQAREQAREQgfkjEIp3CNVQvPcccoj3ORTtOzoibrzxxl8vRxEhSDC6BoHiP+uq0bX5KwdKUZoA6wnYPsU7ygTKBspIT7w///nP/6rrr7/+jSdOnLh9HuuKEydO3NbtdtcvuOACjNSjkwJ1Yyjiqzr70nT1rwiIgAiIgAiIgAiIgAjUJEDHHNM+OSWWI2pwTDHK1BtNg/M6j055VZpe9KIXnSvHvKYF6bTdQMCvJyjgw46+M2644YZ3VpWneTu2sbFxuJxhgLrRH4n3O/s4lR7s9BEBERABERABERABERCBLATomMMp54gan2WleMe00TPnzQlPpQcjiaVjHo7Ca3psFrNTIDNGgPUERKlfV3D0/QyUmVSZmqf/0JlZrqeBujEm4sFJ0+hnzNAVXREQAREQAREQARFoOgE4mBx954gaRCvEO57zxHOsWPjt4fPkgKfSglFEb3osFuSqehZejnnTLVvxy0mAAh6ilI/ZcKZOb9G6F7zgBeelytW8/Vc+H4+6EXUkn4lnhx/qUnDiKHzOvFBYIiACIiACIiACIiACu5QAnXIK+G0OeblYExagwkJOZ8+bAx6mB8/tHjt27E3Pec5zHuUtVAVxEjrlHIUHP31EYDcQgK1z9J0CnqPvKCO9Feevv/763wjL1bz+Lhe+Q92IOhIL2+F5eL/Dzxfwqit2QylRGkVABERABERABERgzAQo4Dkllg65P3Ueqy9jVebo9NiiKL66KIqLy+2Soii48Rj+f1K5XVQUxRMnuF1YFAW2JxRFcUFRFI8viuJxRVE8piiKRxdFcX5RFI8oigLPvGMlajjk/UbVKOA1Cj9mA1XwjSDAeiIm4Ldm61x22WWPPnr06JvndRE7vzMCdWJZN6KO9KfSs8MPjyShrlA90QgzViREQAREQAREQAREYPYJ+KNqnD6PheswkoQRpd7U+fI1S4/wnVf/eynYn1wURbj5Qp4iXgJ+9u1GKdhdBGoLeK/OQGcYOsXQOYZOMnSWodMMnWfoRENnGjrV2ME2yU491EHoUGTHI+upsP7C70v8us7/XqYNr6Bjpx9H4VGHojMUdSo7+8BQHxEQAREQAREQAREQAREYiQAFPKfE4llvTofFc51bo+9wwn3n1f9eFMVTKrae81uOyofinU77JPYQCeHo+2NLQYGp8o8siuK8spMCMw3weihOicW0YE2hH8nEdPGcEGBdAUHK+oIzdlhnQMCi7KAMoSxB3KJsoYyhrEHEo+yFIt4X8pOoE9BZUCXiUWftqMv8us7/XnZM+KPwfBae0+j95+Al4OekICgZIiACIiACIiACIjBNAnTK4ZDj+XcuXodVlTElFI44RtLghD/Kd1797xVOb5V4h9MM55xiGiNw494w0scNogHiwZ86T/HuT5/3p8OGz7TSIde02Glare49DQKoKzAV3Bfw4ZoZrDdQhnrrZpSj8BTx/ki8L+RZRsddHzB8dhigTgpH4neIeL+u87+XnRJIG+pI1JXhNHrw4XPwEvDTsFrdUwREQAREQAREQATmjAAFPF8fBwHP6fNcvA6jaJgG+2jfefW/ewLeF+54/h3OMUa6INzhPMNR94U0xPQkNoz8YcMoIEQEhTtGz5A+jBZCcEB4+KPveLaXz7PCGeczrVxZWk75nBUIJSdKgAKez8GzzuAoPJ+D5yg8RTxH4lHWfCHPEXlOrZ9EPYB7+B0HqJNQN3E0nmt2YEr9lpD36zr/e1mnoG7kNHrWHahDUW+wzgAz1RVR09IfIiACIiACIiACIiACdQlwRA3OOBxxPv/OV8ftK0fQIHgf4zuv/vdSwPvinVPmMcKF0S4Id45+w3GnkIaYHueGeHODo40NIoLCHSNnoXhH2sP3OvN5Voym8ZlWLUxV18p03jwQCAW8P40ej96g7uDilyhDELO+iEdZg9ClkGd5ZPnEfpx1AcNm/UMxj7oJdVR0NN6v6/zvZecj4o0ZPKgrufglBDyfg2enH+oLfURABERABERABERABERgJAJVAp7vfofzDXELhxvO72N959X/Xo5WYdTKH3UPxTtFO0U0hTTCn8QGJxsCApsv3DH1FY43BAfFO6fOh6PvFPDgJgE/kunp4hkjQAHPOgNlIRyFx7PfKDvoAKOIR9lCGcMMF9QnFPIohyiTkyj7vAfqHGyog1CnoU5Cx6Iv4v3R+N5IvF/X+d/LaxEOwkfaUGci3ahDJeBnzMAVXREQAREQAREQARGYBQJ0xuGI+wvY4VnOQQQ8xTtG3v0p85guj5EuOMoYqYLzTCENR35SG5xrbBglg5DABlGBNEK4I71V4h1MMA3Wf/bdnz6vabGzYOWKYw4CsHWKeE6j5yg8ygjKCjq8QhGPssXReAp5lD+URZbLSdUD7DxAHYS6CHUS6ibUUair/Cn1WyvU+6Ld/x4R8EgvF78EE43A57A+hSECIiACIiACIiACItAjQAEPgUoBz4Wo4GzD4YWjCyf3cb7z6n8vXyOXEu8Y8cIoFUbdfCGNe0xqg1jHhhFBjrhTuOO5XTjdHHnH6Jkv3uGEQ6xAuPgCXmYkAruJgC/gUQ44Co/6gyIeZYciHmUKZQudYxTyLH8sj5Mq/7iP33GAugh1EuqmlIhPvUYOoh/Xoo5EXYl7IJ2oQ/2V6Lno5W6yFaVVBERABERABERABERgDARCAc9nWDFiBme0roDn1HkuVseRd0wvhYOMES8IdzjQFNG4R2qjo193nwoL/8GxpmCHoICwgKNN4Y60w+nGKCLEO597p3gPn33fraPvHImtux+D2U40yLrp5HkTjdyEb8Y0ot7wR+FRRiDiUWZQdjgSjzKFTjGUMZQ1inkKeor6fmW36v+69QLPYxj4jToIdRHqJNRNnFIfjsRjEc6L/c5K/3s5ah8KeNwHaUXawQJcJOAnbKi6nQiIgAiIgAiIgAjMK4FcAh6OLp95p3iHY+uLd3QIwHkOhTSced+h5/+j7hkuRAM3CvZQtEO4Y+TQf+YdjneVeAczCJl5/FCg+XukN+fmh83v02LJ+/v7nGmlrfjh4/ssfxB/MqoS8RiJh5BHWeJoPMqXL+Yp6FEeubGM+iKfZThn/QCB7Yt4dFJiJD6cTr+1sJ0v2v3vEvCzbMaKuwiIgAiIgAiIgAjMJgE44hgdgljFaBGcbDjQcHIHGYHHc+9cbR6jWOHIuy/e6ahTTNOBx57/hXvfkfe/h+fxtx8mxAI3pI8bBbs/4g7xga2feJ91EeZbqy8uKcywhzjjBhup2jCFumqrOhfHGB72/r38OPhxG8d3/15+HPy4xeJflVYci53vh+nfy4/DONI4zjAZd6YHaUT6wYEj8SxH/oh8KOgp6lkeMVLPjeU1FPos3+HerxP871XnsWMQIh71Ep7Fx3R6/5l4f2G7i3zR7n9PCHjcF+nSCPw4LVFhi4AIiIAIiIAIiMAuJAAnHM73qAKeU+fh+IYj75iqypF3OLYQ13TUOb22rqMeOuT+75ho570gGDjSDvEO5xobxQZFezjq7otNipd5MBWmxRdiFGMUZBSsYMINnAbdeC3Z+qKXIpfxYLxyM2a4vA/vS/E9zrROI725+fnhpVgircxv2AnLF8Q8BT3LHvYoi+FIPcQvy+2gYt6vE8Lv7CSEiEcnJafSYxS+aio9OiUv9EW7/10C3jcJfRcBERABERABERABEZgEgUEEfOo1cnB0MXX+0eVUVDjDGNXC6BacZDjMcKbhjHPEDXuOwoXOui/G6XSHzjh+++f5jj7D4z0o3DnaXiXc501kxexnFPEVCjDwrNp8gYbvFG8Uc5PsLBklvWE6qtLq25SfVqR5GumN5fs4jqfY+p1AFPTYs/OHbGgbZA2eoaBnefbLuF/2q+qGsH7g+TyXU+kxCs9n4TEKj8d+UI+hM7K3Kv2JEyecL9z5vTyn6hl43AN1D9KE9IIF6lp9REAEREAEREAEREAERGBoAnC+fQEPxxlOJ5zPcAo9psSnBDzeo8yp83CCudo8nGOEhWmtcL7hiPuiGt995zx0sv3psLHvdMh5LZ18/14ccadYgHigiPSFO0dnsac4wX5ePkwT08kRdzDgyCm4gA9YQYBQtMZGSpGHsS2c9eCLXQrcMB8QJ8aP8R2WP69neH56KSb9tDK9udLK9FallXaXM73Dchr1OnLGnqyxR9q4caZDKOxDe/PzwO/gY7lmOWe5j9UL/nGei2vxHf+hU9GfRs9n4VF/ob7jgnZPgICvEvHea+RwDa5nfYd7oEwg/5E+Cnjw0UcEREAEREAEREAEREAEhiJAZxtCAk4mnE04nXA+fQGPBZ76CXiOvmP0CufDmQ1H331BTWEXOui+c+474HxulXv/P3xHnHlt2FEAMZYSUnSuITh8ITIU1IZfxPRRXFFMVYlZMAM7P4+Qh+BL1tyDv7/xOPbMDz//q/IEcfBFLYUt4zwoWl7HtCI8P72+cK+bVj+Nvs0xvXXTGuu0YJwHTWuTzmca/D3ywN98UZ/qOArtz7c98A/rAdYP3Pv/M+94zB+BR13lC3guaId6bUvAhyLeE/Cs82ICHmlE+sFEHxEQAREQAREQAREQAREYigCcSTiVdQX8Yzh1NNwHU0nDV8bBmYbzDOebI7W+KKRTTocc58O55oZRstjGc3ANHXOE4wtH3IuCkSOhoVikcz3PDjYFFdIailmOgvqjn8grX7D7AogCifyr9jyHeRPmC8JH3rBzpWpWhC/iBzVy2ne/tPazRaajKo08xnNgg+Tk2yDSShsE435pnXc7TNkgyqjfoRLaIMs5mJN/rH7AcZ6DPfMJ3/Efn4HHFHq+F54j8JhGDwF/wU033dQbga8Q8Jx1JAE/aOnU+SIgAiIgAiIgAiJQgwAFTN19jSBn+hQKnBwCno4snF8IeIxoYTTKf/4dggbOuL/hGAQPnXE64rgO12PDInjhxv9wHjbfUUdYoViMCUWMyFIkUsTPdKYmIs/89sWTP/JO8Q5WoWhi/vjCZ5A8Yr5SRDF/cB+KW9wf4s0fnR42b8K0+qO8uAfuBUHNTgrZYcJwMv8V5g3K4CTtkHbLOgXi3R99xywiPNdeKeB9Ee89NiQBn9lIFJwIiIAIiIAIiMD8E4BTGG4QKjm3MHz8nuUP4g8+4xDwcIrhIENoU7RBJGFbOP/888/c3NxcO3HixKfD0fzcv3GPo0ePXnXppZdCNGJkr98o/CznaSruzO9wRJpTyU8FI7CaVL7ABi6++GLYR0zE+x0sg5S3MK0UiNvEO+4tO0yZzFj+C/OGnSvTssPbrr322mvPOussdEJi6jweF+Iidljb4wk33nijqxqFl4Afi30oUBEQgQkQQEU8yDaBKA10i0HijnP1mW8CsofZyl8/vyjUIU78DQKgaoPTWLVVnUsRwXB5L+z9OMwWvZNxzyng+fo4jkZhFB4iHiNeEGmY+oqR3Ha3213PLdT7hQdh6k3Z9kd6mb9+fs5aXvaLL+0UaaSA90UtOjZOB6N+HHP/DwFdduxgNB6j4v5IPMpomD910uqnE2FgVN8X77jXIu6dOz39wpMd9upMP38aYYfXXHPNdaVwh5DHCvS959/xGjkI+CoRLwHfryjqfxEQgWkQYIPv71Hp5tz8sPk9V1oZnr/PGXeE5YfN77nir3DyEmD++HvZQ17GkwitKv8orCm+KczhGHKDAz/MxuuxZ7i8D+9LO2LcJsEhxz0QX8SdAgciDiOhGKmG4MboOaeW9lZljomT0pH1BTxXoaeA5xT33v7EiRO3xcIa13GMKgcjvXwOGekfVCTm4D/JMJjXFO/MczDYmk4+iZH3MH9hC2XnDmZn+CPxiBvLHeLNNrcfNz+tSCfC2JbOssOgLTvshzL7/37eoMw1xg5vuummz5T1GMV77xVyRVE88YYbbpCAz24KClAERCAnAVSu3OiUYk9HlY0/wFf2zAAAIABJREFUHVh/j4q4avPP8b/7Yfr34v2xH/TjX+uH6d/Lj4P/vSruOOaf43/3w/Tv5cdh0Pjr/LwE/Lzw88jPOz9P/e+j2APC5/38OORN3e4LjSzJlvmIfEN+UWxDqMNhx4ZRN468Qahwg1it2vg/97ye4SFs3of1A+PBeDGeTc8hxBNxRjqQrlwCHs/BQ8BD/PtT6fk8+8NCETeJ36WAx8grn4dH3jI/YUMst+Aybx/mNdKItMKGkXYwQL73nnufhoBH3pdrGGB2RkzEI86w1Tp5w7QynVXiHfc6cxJ2F95DdtjLx6baIabMQ7g/odyeWBTFk66//npHEY9n4PkcvEbg562aVHpEYPYIoMFjo4dGkg4pGkBsFDN0XNn4wwEYZPOvZ5h0gnEf3ndQR7hu/HEvPw6DxJ3n+tczDeQ0bPxnz2KaHeO69uDnJfN30L0fRl17QPz0GYxAVZ6ybkIeIN9CwQ5hgim52CBQuGGUr9/Gc3k9wvJFPe6Fe+LerMNQ/getuwajkPdsMEV8EX+kZVQBj+dG8QwpF7LzRTyn00PQnxWKmkn8xrT9hEAEA+bfPJZP5jXSiLTCbncI22k82oC8Lx+1wOwMPGbBtxXAHtnJ4udPv1JAH4Z2zU4KlHmEjXvgXg+fhN2F95Adbgn4JtrhhZgyj1H3cnsSBPzx48cdRLw/jb60Wy7eyceGuOYHZjHB3mDDqFuRVtjlPNYt/cqj/hcBERgDAVQmbNjZ6KGB9x1j3zkOHWQ6tNijoqra/HPQkHJDWL4THDrCdKZY6VVVfKPEH/Hw41YVdxzzz8H3nPEfQ5bu6iBHsYcwn2UPzTKlsJ7y6yiKd+Qh8o2CnSIdo65w3Pm6Mi6mBicr3Pgf9jgf12JDWBD1CJv1AuoC1GGxuov22CyS98WGTCl0kC6kc5gp9Jh26gt4OLRYjR4bRuI5Gt87Foqacf7GNOkjR45cfc4556ATAWmrGoUHA9gU25v7KM3HN+Y1yw3KDOwXeQ67BpMWGIHVpKeWl/aBxy3w6IafRyjTKGPIH/oESEvsw3SyowLXIoytNJb3wL3OHqfdhWHLDntZxvxpqh32BDtEe7l9dVEUF1cJeIzCawQ+Vgx1XAREYJwEUJGyMqV4Z6Xqi3Zf6NI5poOMRpFOcmqP87D5o1mhEwyHgo4wnSk22HSqEF9+UvHH9VVpwD1zpoGij468nwawTMWf6dA+D4GUPVTZgi/2hrXn0KYRJmxB9pAnTxmKn7coU2E9xToKZZt1EgQJBTsEgf/uYP+VWBAM4Yb/ueE6XO8Leop51mF+R2RYd/l1FtPTlD3ihroVcUbdhfSMKuDxrDxew4RReIh4X8jzPcuPCMUNfxdF0XOY4TQXRXGJt+E3NvwP5/qicoQMo2WY8oqpr1h0CiNieBbfnwmAUX+OjHGEF3aC9MJ2kHbmG9uapuRRrngwr1l2kGaknWUGZQVsuPYBmKGzBfkIlmAKtmDMacYcqUReIE/65h3zOdyXdoJ7YsFDlD2UN9gi8wh1OOLeL3/8dOIaphFhIUyEjXvgXl8VxoO/66RFdjiUafr5w3qHeYQyOQk7vJj5HO69Ooa23KuDjh075iDiw2n0EvBD2YAuEgERGIEAKlFWpHCIQ6cYDikqVV/k+I6x7xyjUcQGJ9ffeJz7uqNZMRHMODPZ/I0GPYw/whgmDf3SUTcNcBzoEJIvHQ/EW5+8BEJbCO1hGFvwbZnfacvYwxZoD3AOsaGM+CO0KWFHe8hLYj5DQ/7GyjnrKXbCsG5CnkGQwGGHKMGUWWx8BzAEHZ/Jxmicv/E/nMvrEAbCQrjIf9wHeY77suPGr7tgg4hzk/OZXOlIjyrgOZ2U4hnij0Kee4j780PHmb9Lwf7koijCjWIeIl4CfvByzrwep4D3O13C/MPvS5jP4b7s9EEHD8ohyhzKGcoYyhfKOMoW4o5yhbTEPviP9T+uwbUIA2EhTISNe+BeqY4k2FtlGkoblR3GciB9vAl2+OTQ/vi7zHPWNVs2cPTo0Z6AD6fRS8CnM1v/ioAI5CfASpQNHRw4f5SSwt0X7RArFLh0jOHQ0kEOR7H4m+fgGjSgdIB98YMGFs4j7psSPYi3v8WceoTBNCBsONp07JkGxMNPB+NbtWcasGc6KOLoyINV3TTkz9HdHeK07LmOLdD5DDt1KOwQd33iBFjew7LOTjqU89OuvPLKR9x4441vufnmm79AZ2xceyxCNcb3V8dJ5P+H5WYcAh5CnRvEO7/33rEcy5uiKJ5SsfXEnzc6BgGPZ1QxAozFpjj6zmn8nAWA0X8INUyd5wg86n3U2ayvWT7Z4cpymZ/2dENkXscEPAUu2j+wArOtGRPBu7E5Cg/2HIX3R+ApfHbkZSLfkWfIL47Co26Fj4B8QhlHeUce1RXwtGlcizAQFsLcGn3v05G0I+6euPNngsgOB7PrJtjhUxN2+FSv/mEHzlMk4AfLZJ0tAiIwHgKsQOkQo6GjeIcz03OIPdFLwUuhzhEpfyTLH73id38UiyNZFMcIKxTydKhwf1/Es9cd8aVzFaYB5zANvnhHmKFwZzoQF6QFcRskLUw/rvfTQSGPDgOkgY4hhRscDz8N48nd3RdqaAvjtmfYNe0ZtkA7oJhnxxRsL2YLvk0j/vrECfj5S/GBMoVyjjKGTrPTb7rppt+POWXjOj6G91fHKYznH7Kl2Mk1Ag8xhlF4bhDv/N6bih3LE895poBKiXdMnYeYhHDH6D+ewad4R6cBpoBDEHJUF/U12jN/5gTsKKyj57FMMq/RDrGOZFvJTm6wASPUa2AGdpxGjzwEWzAG6x2v2gqm0VeK+ES+wy6QZ1grAXWsn1ewS8QV8R5EwOMa2jTThrBxD9zrUYn40P64lx3mqYOaYIcpAf+0oigg4n0h/5TNzU2HafQagc9jBApFBERgOAJ+BeoL323i/eKLL94LB3USr5XBPY4ePXrVpZdeClGPBhdx8R2rUPCEafAdkp5Tj7AQ5qTiPycjcsNZ1HSvCm2BHTlTs2eMAmM0GKPCnoiHPXMUqcqep0uxuXcP85dicyt/X/GKV1wYc8THeRyLUpWjerMqCsmWTCl2UA+jY4piByOjEG+PifH0RDSEGAU89uF3CMDHJsKpEkz+dGU+807hjvB4T5Q3CDOOvFO8o8ONna1Vo++oM8Iy2dwSMVzMmNcQwGG7j3xnZzfyHqzAjCKeI/FgSyEP5r28LDtR+M5sPg+PPMO2Tcgn8h1hIWzcC/eF/SEuyC/Ej/5AXQHPTj5cizBo0wgb98C9Hp2Ij+xwODvrd1UT7DAl4J9eFAVEvC/kn9rtdrcEPJ6Dv+mmm3qvktMU+n7Zrf9FQARyEQgrTzpuW85w2dgtQpDGGrdxHYfgLh0JNLqIEwRP6FxxFBv7qDOCsMYVz1i4czAil8vOJhVOo+0Zo8KBPdMJRbmDE01bRjr0qSbg5zG40TFH/dAbOfyxH/uxJ8bK5LiPl6OV/mghZ10wr5nPTcxjsmU7gHoXo9MUO4MIeAhqjMxC2FFQQ7zzO4/jnMfF8qUcgY+NdnK6PKfKI0yM7EOMQbRjtBjiDCOsfG0dhCjEIKdkh6PvsU61amuc3aPMa7aZzHPYqT/rjlPNwYwiHizBFGzBGKzBHOyRBxTyeJQBedR7d7a3ENyWiE/kO+wC4SF83A+zAJBnEN8oUyjv9AVQb8Y++I8dFKwjEAbCQpgIG/fAvVIdUhDwssMY5eGPN8EOUwL+GUVRQMT7Qv5pEPCcRu8vZCcBP7wh6EoREIHBCPiVp+8M+w04RpPak36NDBp2jJZXTG8MHSw4INzQUFc6IpMYeQ+dkTkYkRvMmqZ/dqPtGfaB0WFvFJ6dUrBZ2C7sGA4n0qHPTgLgwjyuKutbo4Y33njjH4TlcRK/venZvkD0OyCR18znnSmc7hGyZR2aW8BTtFPkbQm9WN4EoslfrM4X7xTuHG2HIIPAxIg7hTs6HyDY0LmCvEG7BiEHm/Hzh6KQeUSbm27O5L8704X6BmmlyEX7inoJTFieej5AyQ4MwRIj12ALxmBNIY88oJBHx4ov4v3R+J6IT+Q7rkWHDzoHcA90HrBMjSrg2SmBMBE27oF7pWaC+OJddpjPHptgh09J2OGlRVFAxG8T8hLw+QxAIYmACAxHgA4bG++w9x0NNxyeM2MV3DiPlwK+n5MF54Mb07HDCZmGgAcbz2kEy3C0h86iRNtw9hte1Wh7hj1gdNizAzjKHJn1hR3Soc9OAnT2KDgoNH3B0XPOX/jCF15w/Pjxt05iETu/DizFTDjlF0KIa3k0OZ9Zfsg1l4CHUKd453fs6wh4CD0uEgYB6E+Z5wg/R9zD0XYITYg0iE6MIKMtw2yCKvHul0O0I7Cxea+Xmd9+efJntIQiHuzAECzBFGx9Mc9ReY7II897MyzKV/sh75CHW6/k8suO/718BCMU8Lg3yjfLk99+7qwtTh5BHtIvQBnEtQgDYQ0i4GWHMcKjH5+2HaZWoa8S8E+XgB890xWCCIjAaATY+06HjY4whCZ7qdFQP9xvXCf1vdvtrtdYZIjiHXukgw7ItlkECGtS8fbvM+MjcqNZ1+SvbrQ9Y1TYe46TTiiEgz+rhKIBTo0+2wmEjh7Kut9Zt6Pe8kYHIfIgCCAaKSo4OghhgY4VjhBSYPCZXTjvdOB7YtIv4/73YMQQIoEddxzl9UVH0/KYfNke5BDwFOr+qDvzgPlwgc/Q/15yR36kxDtH3Dna7ov2ULijXfM7hdmxAjti3lC8syxut8L5+cX8Zr1JoQsW7Mz3RTzYwZ59Ie+LeY7Kc0QeZS4l4lOvkcMjGLgWI/oIDx0FLE+sOxFPxBnxj33wH87BuRTwSAPCQpgIG/fAvVKPcqD8yw5jlEc7Pm07TAn4rymKwhfxvZH4jY2NrSn0XMjuxIkTGLBBncaOJ9otygjKDNonlCfYIurYea9fRrMKXS0CIhAlwEqTwpcNNhpHODiocFDxoFE+23eqxv0dU8+PHDly9TnnnAOHDPHwHS50MrACRMNMAY/vdDzZEbGVFoSFMCf9KEDpIMzqiFzUeBr4R2PtGaPAGA3GqLA3DRS2SVEX2jPSgk2f7QT8PEZ5H4eAp3inaMfU2XBLCQ+IFowEo8yj85P1F6f9Iq9ZbzUtj8mX9WhOAU8hDwd3EAGPDhNMWQ5H3uEkgzXEO6ZBgzeEOwU7pluDPTYINgp3zoJC2kLxjnQzb+hcNy2PtpeI0X4hbcxztKNsQ1mu6BOAFewX7NAW+0IefMEaghjskQfIC+QJ8oYdZ1udNWVeIk8vjvkS5UJ4oYBH+OwQQ96xLA0i4JEGhIGwBhHwssPRbC119bTtMFWfVwn4Z0DAYyX648ePb61ELwGfymL9JwIikJMAG246whS9bODQIG9NMUs0tHR4o6NVpQOGERS+IxVChu/qRcOOhhrPzaEnnA4ZGlc0snzuLSV4fOcDjTrTgmvgbCAMNth0LPxn9ehcIE5cPVcjcjmtbfxhTdOe+TwuF+6CQPEFBnriKehozyhnvoAPR/+QHn22E6CjV6e8QzyjDkF5h6D2yzvyh6+98kfhwxF4iHiId65AvbVP1IccfcF9UX8yv1EXUXRAKCINTctjlqEmCXgIPdTFKGMsX2gvfPGOfEZ+o80KBTsEJ8oa+EOEUrijjeDsF5S93SbeWbJYpiCC/XLli3iwgu1SyIMlmIJtKOiRB37Zo4hHnrGd3VrYLlGOqkbgpyngZYe0mPHsp2mHX52wQwn48eS3QhUBERiBACpMNtgUvXBw0CDDCUIjDNEB5/cRiQqOTu6OUSpv2ikav1kW8H7nRJhO/E714M7yiNwI5jXxSydpz5xKyQ4pCfjJZLfv5HG0EHUXRwohLFh/sQMSs3jQgQIhQREPkc1RYC605Xfcob5ixyTrty3xDkGfqA/DUUPEg6OGEECI624V8BBw2Miegi41hR7tBssXzvc7xtBJ4nf0gjPy3xfsFO0p4R6K990w+s4S65epUMSDS0zIU8yDry/okQdVHeb+SDw7zS5KlKOYgIdvgvxlZxjqgUFH4BEGO/TrTqGXHdJixrOfph0+KWGHlQL+yJEjGoEfjx0oVBEQgRoEKHjQSMMJRoOIhpgj1luj73CaEhXcNse2z2t/MA2SzhgaaDjP/mglFr9BhwGcbjpmaGzhlCFucBowGoD4+k4XOyKYFn8Eng49G2yEjXtwoR0681UjchBofZ35Pg79LI/I1TCjxpwyaXuGQxezZ39GCWyNQgOdYv6IbMye6cw0Bm6DIgI2FBoUGBDFKPMQE3DuWYehzPtTelnufSGPvOKIvD8DB/mLso/OO3bgbY3GJ+pDhOV32iEOrMOQ34grRNFuHIEfRsBz6jzqZ+RVOPJOvshztBEU7GjPYBPcwB0b2g7wxxa2IbCr+z35yB894PSr7vra069227YzDjs8/zqPH9Y3vfSXtum3qeTFzjKWN7INR+eRF75IRv3nj8QjL3sdZoly1DQBP3Y7/PvXLO370usXV++6rvXau69bevO93db77z3S/ojrtt7punuvcZutK9zRpee44+eB7zx+pmWH0deOFkUhAT+PlqY0icCME0BliUYaTgwaZDiXcH7Rg45RIwjord7pREMbCvjeiLS3cjCcYI5UotGmcOdIDEdU4FRz+jynG/ujV3DM4CggrnS+EH9/8x16nEuHnmnirAI6FLgnRwY4KkQhrxG52TLwadkzRB9sxrdn/3EQlCF0GkFIwp4p5iA2aM9+hxScaDoys5UDk4kt2FDA+6PwEBMs8+i080cCfRHP0Xh04LH887VXyEPkJUcIox14ifoQYSA81GXId3baIE6ojxBP1F/9Rg4nQ3P7XcgW9Shskm2CL8bAD+xQb6fem416nmUCdSvrVx7DHhvOe3yCJzp8cQ6uJ1fEAW0ExTs7eJH/4Iu4Y6PwZHuBdGEDe2xsOyhcv+Ksa77YXlh3715cc27Htu7+ZTuu2fz1kMPu7KWr3XNa6+7KxXV3pJfedfeRhfV7f3Nx/Z5rW6+768qFq7783Ie85pPgDEbkRX7Y+2zJm2UQdZvfcY68YrlDHiIvkadPSOQ7ymE4m4X5Pa4R+NRr5MZmh1+8du/X3Xmk9Yv3brS+fM+Rtru33NxG21Vvrc+77tJPuZvPRR03sx/XbZ3d65DYXLrSdZeOuI3Fd7uN9kfu7S785j3d9rV3Xbd05ZePLDz3k4cfMm47vDBhh1jALlzE7hkagZ9Zs1PERWAuCFDwoCGmgA8bXYxYQeA+OlHBUcD7wh0jVhDuHKX0hTsabzTMvnDnyDuENRr7KrHjj1Yizr4DRkcMx/AfHAo4E7jGdyYgoHxn3h+Ro5D3R+TgZFDI78YRuVky9EnbM4W7b89wTiEKq+wZzidH3+GAUsyFHVIU8LPEfpJxpcgEJ5R3iglwDMt8KOLRKYn6BfUMnEKUfwhtinnUSSj/oYj3y35vSn2iPsS1CAdh4j6ob5jvzHPWX0hDkz5kC6aoQ4cS8OViTqg7fbGOckLR7n/vsU7wRDnDdWCKsoV88ztGMBoJrhDvFO2IP0Un92wjsKdgZ1lDur/i9Kvd4xbW3Ed3CHeK+RkX8EtXu33tdfeGhXV3ZzSNSOtV9/a2hbV7v7TwursPL73ms+ANVj5DcuWe5RB5wI405A1sH51YCAN5hzxEXiJPUx03LEfMc39GHupP2CbuhfszH8OyRHvGOSl7ZpxSAj67Hf7RoX2n3Hvd4q/6oh3ivVq0VxzvLn3RdRdf5f7oyWA/Mx93dGmf67bf4DZad6bSyo6Me4+0v3T3dYuHP3v10rjsMPUIzw7xjnfCU8AfO3YsXMSOdov6H/Yes1vkWcxuZyYvFVEREIHpEEDlgYYNziQcXzhBEPB+gwvnFqIkNdICAe+Ldzw7ylF3TpdHpUahg/AgllHBIXw40XTKKN6rxA6cAjjpaIjpoPkOBb4jPfgP5+BcOhJo8OlMIGyKeDoVviOPuCGOvpDfrSNy07HM4e46aXuGAwoboT3DCaRNw579zijaMwQlyhgFB8pdaM9q1NP53xNbnqCIlXl23FHEo/OOZZ9CPhTzyD+Uf+Qr8jfswNt6Lj4hOH0HjgIe90b9w1kXu0XAs94HS1+08zv2OCcl5JAHOA/5gvYCTJF/YIq85Wgs6nu/XUA5Cjfajr/vWVvravdti4fd55PCdkYF/OIRt6e97l6zuObuSKaPHRX+/qSYv2Nx/Z7XLv7c51B3URSHbP32l20v8gZ5hLxCniHvkIfIS+Rp6rVtfjkaVggxrvQJ+nVIpQR8Vju8/fh5C/d2W++lSE0J2b7/bbY20lVmM/51tzxyj9tov8Z123f0TVMw+6DHaaN9xz0brdd+7sgjc9thqv6RgG+G+SgWIiACHgE0wKGAp8iFwEVjC4cWveWphs0X7xx1x9RTX7xT6FSJHIhoONJo4NFTj8YenQgUO3B60fBS7ND5hcMQcyJwDoRRbEQO98C96MgjDkgvHAU4GEg34koh33MyyzQhbbtlRM4zl8Z/nbQ9c0SQop0dUbAj2jPKUSjefXuGowtbpfCgPcPx1CdOgI65Lxr8Ms+OO4p41GuYBo56BWUfeYLyjy3szKPASIn41KKVcPRxLeoPCg/cE/UZBTzqJtS9yO8mfci1ruCp7Nj1RuDrCvh+Qo48UcZQtpBvyEt2hqGeZ7sApkhH7TK0sO5esrDu7u4rbmdQwD/5iHvA4rr7vb5p80V75Puedff2Q85V2Sx547/Qp0AecVAAeYc8RNlAnqb8CnT6oI5F/cpyhHKLcuyPwMNWmedhWcpiz+isKzuasthhT8h2l/50UBGbPH+zdUWY+Cb9xiwBt7H0e8k0BKI9em639XbnDuW0w1T9g3UvdmwagW+SdSkuIrD7CPiNLRxeOJdwdOFsDiLgMaUUU+a5MjcXe4Ejy1FK9LijIabI8UU77gWHDI0z7o0Gukq8h2KHAt53HkKHHtdUiXjcw3fkEQdfzMNhQFwR5908IjdLpWKa9kzRHgp32FjYGcXRd9hmbPS9tviYpQzKGNdUmWfHHeo0dPyhXoPDDyGB+g11C8W8L+gp5JGXFPGc6ou6jI/SoJNyEu+vzoirdlBZBE9mAV9HyKEsQcih/q9ddnrids1t1Ba3MyjgMWW+dvoiwt2/vrXuDiWsCeyRB8gL5Em/Ee/KDqBSMNfJd9afkxDwdeJTyw57z6/XF6t3R4XstjBa97ju3u9M5M1U/zo5Zb7iMYBtaRjg/+5STjtMdSTtEO+aQj9VU9LNRUAEyl5r9JajEaSAh3ML0QExCxHLnvJUDyUEfD/xDocY4VG4+6I9FO5wsuFsw/GGA4C4UexwlIXinQ03HU/8pojniByu9Z350JGnkOeoHB15xBVxpjOP3nc04r4zj5F4pH1eR+RmqaBQwE/Tnv2OKIhDCEXfnine/dkkcHZRDmnTtQXILGXOGOJaVebBsqrcgzuFvC/mfUGPegD5h7rPF/F+ucesot7Cdokp9FUj8KhbULfi3qiLYKMagT85jRqj9Kn2pY5w6ifkdpjfWde49sKae48vTvt+nzEBv7juTN801RDtfhgL6+7excPu2TuAnjzAMolyiDzZbQK+rx1i4Tm30f5CWpS3/sZttJbd8Yedh5Fmd+y0ve7Ywte77uKv9rnu1ki+TPWw6y6ZdLwHEO4U/N3WvW5zMZcdSsBP1UJ0cxEQgUEJhIIHziWcTDibgwh4LlgXjrxj9Mp/bhGjkxDHFOwUOBxxp9BBPOBwV4n3KrEDp4GbL+BTzrzvxHNEjqNyFPQU8r4zv9tG5Aa1qWme3wR7pk3Dpnx79juj+ol32LI+/Qn4ZT5V7sEbGzvxULdQ0FPUo1MPeYb8Y/1XVe65FsYk3l/dn0D+M8AULEcSYFMYge8rnHxUpx12FyysuY/7wrTW9xkS8FhpfmHNfblPur64uO6uba+7A+1197zeqvRr7k0La+6ePtd9KjGVfmT7meER+L522Hf0HdPD39Hr/PBNduu721h6YVIMdxcxqNCYT2+l+W7ry+k4YzG+9rWu2z7gNs58nju5Kv2b3EbrnuR1G0ufSkylH8QOJeAbYzGKiAiIQB0CqOD8EfhhBby/YF04bR6j13CE0SGA0S2I41Cww3nGveFM+8IdTrc/8h4T70yr79BzFD4U8aEj7zvwVSPzu31EjmxnYd8Ee/ZFe5VNp+wZ8Zd4H8zS/DIPfij3Ydn3R+TB3xf0vqhHXYD8Q/1UJeJ7z+xyKv0QI/AIFzahEfj7FrTjInYTG4E/42r3Ha1194WYQF1Yc7e31t27Kv+fIQG/sO5eWZmGcsR9Yd295dTXO7TLOz6La+6ihXX3x6nr917jnrnjwpP1F8rhSB1A8y3g9/6wg0jvtv91hzjtLv1RSryTd3I6+uaS5XlN2Ltu65U70slR9N5+4S3u+KmVdui6ixe5bvuPk9dv7s1hhxLwTTAWxUEERKA2gSrB4zuvdafQo8eXC9ZxuqM/8o7KGQ4xRrcwyhUKdop2jrhXCfdQvFPs+IKnyplHBwWuTQl53NcflYOTrRG52mbUmBObYM/shKJNQ6xRMNYR7749NwZswyPCco89bACbL+TDOgCCnqIeI2bY2LGH/EPZZz2IWUN8jAYLWvZWzp7Q+6ungZ0MRxJgTR2Bb625K5Kjy+vu0xCvi+vu1ZXidYYE/OK6+0hlGtaca6259+H5/5SBtd/gzmqtuc/EwgCjiuuz2M88C3gy6y3qtrn3mb0R+W7r/a7butsdPfNb+X9q77oPf3xc1C79ZOraSf+H97pH49ptva/fK/DcDe2z3Eb7M/Ew9uawQwn4SRuG7icCIjASgVyCh1Pn8SwjRqmqxDscYoxuUeD4Yt0XOL7IgZMNJwMOOB1yOuh02kMAPM7zeB2deN95x738ETk68RT0GpEL6Tb7dxPsORSmyCcsAAAgAElEQVTso9pzs4k3L3Ys/xQSsAnWAdyjLvA3v3MP+YfOF9RV6HDEDByuhYH1QPgITeq1Q6gHcZ6/Cj06MDkCj/oFnQaIA+KHuDblQ25zJ+D3HnZfFxWja84trLtPnHnYId+KWRfw+464U1IdFUxnP6Nrr7nLY8wW1t2Jiuuz2M9uEPAhO3eihYGDWh93y3d/ZfRVbJtLr6sVyAROcm/bd0pyGvz1Z/bKW7+ouM325XEB385hhxLw/TJB/4uACDSKwCCCJ1XBYfQdU+cxOoVRKi5Yh9ErOq4Y1YIgpsDhyBcFNcU6HEeKdji4dLoRVzq7dRxenENnAtcxHDruvA/2fhwYL4r53T4i1yiD7ROZJtgz7Me3J9oZ7Y52GNpzHZvuk3z9HRBgHeDvyd3fI0+QP8grdLigjoIzjdlCeOQHM4j85+En8f7qICkT+8k6Eyxgy+hsAAvOSAALzEjA2zngfFeuIt7UEfjFdffaKkG6sO7+7JQjDu1V7zPrAr6cAn9nVVr3rLs/YTr77fdc4y6pCgPH8JhBxfVZ7Gc3CvgKltFD7vh5D3ax58q77QPRCyf8R28K/Ebrzmrx3apth+7Ynkuqw2g7123nsMOUf6tV6CdsN7qdCIhAmgAbWjiuKUeNo06pCg4LO3HqPEedMGqF0SuMYmE0C6NacIwpcOAgUtRwT3GDve9g+w54OlU7//Wv9cP078X7c4+4QYQhrrt9RG4n0WYeabo9+zbt22Qzae6eWDEvUDeg/KPco/MO9RU6HTkKD3E3yfdXTysHWI7mUsBj4bUz1tyv+aIU08nPvdahs2brM+sCnglZPOL2YLT9jMPuGYtr7rL2YfeD7XX3zfy/337fEbfks/K/71l3v15xfRb7kYCvIOsdcph6v+05cm8V927rW7xTG/G19977688833Uf+gy3sXiZ22j/oNts17ZD98Z9S/H0LuWww5R/KwHfCCtSJERABEhg0IY2VcFx9D2cOo/RKzhGGMGBEMboFoW7L2h8YU2H2t8zzqPu/TD53b83vyNucOYR190+Ijcq80ldj/xE/tUVHvNgz5NiuxvuA/tBuWeZH2rkOaPwmBbzQcvRTI3A96De6E5dWHMf7o0ir7l3Yrp5CHteBHyYrkF/tw+7Z/miPfh+XUV4WewnYzlqWnwqkA1+KL6S/dK/4DV1g4fY7CvcsYc+KyrgN1o57DDlD0jAN9s8FDsR2HUEcjZsfPYdo+8YpcJoFUffMYqF0SyMamF0C8IYQgv3xzbS5xve4+7fWndfc/rV7mv9DSMOQwbMeCGOGpEbEuIULpM9TwF6jlv2XjN0dOk55auDjriNxXf3Fj7qLvzmyVcLLf2o6y58l7vplK0pzjnuG4SR0344GwnTzDHdnIt4hs/Ao7OAdWEQnan9zMKhqVPoSbX1enfOwrq7JraQmwT8SVLtdfeGQLQ7/m6vu5eTp7fPYj8S8B7R4Kvb3PtDvQXvqkfgfzY4fS5+plfd35vDDiXg58JSlAgR2B0EJt3QcvQdo1y498ifMzZda2HdvZsOxbb96KsFI44akRs5lyYWgOx5Yqjz3MgdXdp30jGLPSPpTQs96ax+yXVb67FXDo0Yq0nbDx7PkYA/uW4KOoAn9hq5OnYiAV8U7de7xy+subu2tavlK+hwrLXuvr2CZdPKUdPiU4Gs/yEscOc2936367Zvjo5Ed1u3u80z0Ek4V5/eivvd1l3RdG+2ctihBPxcWY0SIwLzTWCmG7bTr3aPW1hzH405F4t5BPwgU7Irp5JmHEmYb2scPXWy59EZTiSE3vOQG+3XRFdRrh5ZclsOXLd9h9tovXaQVZtrJGym7adG+uqekoVD00fg+8HY9QL+9e60xXV3a6x9XVh3H8N6AhUcs9hPxnazafGpQLb9kHOH7ndyBtLSX7qN9ifdxtK/bNV90bqx9Tm3+bCnbQ9p9n+5W4rT3Ebr1kT6PwZeFSkdNN8l4Csg6pAIiEAzCQxawTVGoLaudt+2eNh9PuZc9I5LwDfT6sYXK9nz+NhmC7n37uONpd9LOGT3CfWos1qOzHdbb484b8PEd2btZ5jEJq7JwkECPkG44X/hsYKFdfe2VPu6cNi9NJKMLPazqwU8XhHXr+7b/v8n3cbCV0fyY2YP99qK7tLbkiy6rVx2KAE/s5aiiIvA7iPQtIa2Vg4srLuXLKy7u1POhQR8LZTzdpLseQZyNPks43antJ6Q7y4dypTsmbSfTGn3g8nCQQLeRzo737GmzMK6e0uqfV1Ycx8vXu+wrk3VJ4v9SMDveHxoZ33Ybb3fbS59H4RuVUbM8jH3nm+4v9tYeEsf8f5xjNBH0jmoHUrAR0DqsAiIQPMIDFrBTXUEHqMCi2tuI+VYbPtPI/DNs7jxxkj2PF6+I4fuuksm6ZANJeBb97rNxWePHLmT63LokZlMHCTgM1jkhIO44Bb3wIU199Zt7aj3zDuOL6y7O89Yc09NRK1p9XDT4pNAd/IvV3cEvtv+3ycX/tyDt//MzcfdcsED3Ub7rem2onWnO35GTjuUgJ8bC1JCRGD+CcxMw3bWNa69sObek3IsdvwnAT//Frw9hbLn7Twa9au30ny39eWkU9Zd+uLJVefbB9zGmc8rV6V/k9to3ZO8bmPpUxmm0s+M/Yw5Y7NwkIAfcy5lDv684+7Be9bcO3a0o4GAb625K/rcOov9aAS+xgi83+HZXXqTO34eFgqe6Q/S4DaW3pGu79vObbZy26EE/ExbjiIvAruLQNMa2kr6px12F2DKXj/HYsf/EvCVPOf4oOy5wZnruq1Xpp2yhbfEVpd33cWLXLf9x8nrN/c+c8Tkz4T9jJjGOpdn4SABXwd1M87Zd8Sd0lp379rRhgbifXHdvbZGjLPYjwR86x7Xbd2brPN8AY/v3dZ7Z/kd8O5t+05x3fa7+qe5NQ47lICvUbh1igiIQDMINK2h3UHljKvdd7TW3RdijsXCmrs96nhIwO/gOecHZM8NzuDeqsqhw8nf3db7+j3H6W5on+U22p+JOnfdva8eMfmNt58R01f38iwcJODr4p7ueUtH3elnrLv3xtpYHl847K6uGdMs9rObBbzPuff6uO6eR7hjZ36N21j6SddtfThaB54U8b/rXz8r393RpdN7HRBsE6L7xXHZoQT8rBiL4ikCItB7F3tjn/nEVL2FNXcPHYgd+3X36cU1d9EYX/fTNEdEJpsm0Oj8aoA9p+mN8d/eyEpqGvz1Z55f5/Zus3151Hnttk/UCSNxTqPtJxHv3H9l4SABnztb8od33nG3sLjmPrCjbQ1G3hfW3WHnHOyizieL/UjAx1G7o3u/w3Xb/xqtC4899Fnxq5v3jzt+3oLbWPxAND0U893FcdqhBHzzTEMxEgERiBBoWkO7Fc29h93XpZyKhXX3iTMPu57TLwG/hW23f5E9N9QCelPgN1p3VjtorT+pG213bM8l1WFg+mj7XXXDiZzXWPuJxHdch7NwkIAfV/bkCbdcV+ZDqXYW/y2su58Y8I5Z7EcCPk3dHV16itts/VNlfdhd+v301c35191wVttttD9UmQ4Kd+y7rXHboQR8c8xCMREBEehDoGkN7bbo4nm7KudiYd392SlH3MN5sgQ8Sez6vey54SbgbnnkHnf9mee77kOf4TYWL3Mb7R90m+1vrhtt98Z9S1FHr7v063XDiZzXaPuJxHkch7NwkIAfR9bkCfPUNffQxXV3a1X7ymML6+7e9ro7OMQds9iPBHx/8m5j8epofXh0aV//EKZ7huue+lC30bo1moaTwv1et7F3EnYoAT9dc9DdRUAEBiDQtIZ2W9QPOXe/M9bcr9GhwL615t537rVu0T9RAt6nsau/y57nPPvdsYc+K+7sta4bMfmNtp8R0zbI5Vk4SMAPgnxy5y5d7fYtrruP+O1q+H1hzd21uOa+f8hYZbEfCfj+9N3mwnOj9eGxha/vH8L0znBHl/Yl10U5Kd7vct3FSdmhBPz0zEF3FgERGJBA0xrandG/0Z26sOY+XIr3d2K13PAkCfiQyK79LXue86x33fYbog7r5t6Xj5j85tvPiAmseXkWDhLwNWlP8LTFNXfuwrr7WCjYg993LK65y0aIVhb7kYDvnwO9Z8djK9V39/5w/xCmc4a7Yd+5bqP9sWhd3hPv7TswS2uEGA5qhxLwI8DWpSIgApMlMGgF9xg0qlVbURSPKYoCz6R/VVEUZxdF8bCiKPYWRdEqiuKMoihOLYriQUVRPKAoCiych3vX+rRe785ZWHfXPPmIw7U7PhLwO5Ds1gOy5znOedd9+ONdt3VX1OnbbH37iMmfCfsZMY11Ls/CQQK+DurJnYM1Y/asu78NxLrb9vuw+/zea9y8vY4xiz1n7FCozHQsEuhu7PlJlf9XHXTd1tnR+rC798errpn2sZOPULX+NhpviPeN1ufd5F8LKgE/bePQ/UVABGoTmImGrV9qJOD7Edo1/8ue5zSr3S3FaX2elfyYc4fQMTjKZy7sZxQA5bVZOEjAZ8iJTEEsXeseu7jmPrlNrAcrzbfW3Gf2HnYXZ7hlFvvJKJibFp8txL2R6O7eF7tu+2bXbd/muktv3Pqzxhe3cebz4kK4tVwjiIme4o4uPdZttD8ZjzPEe/szbnPvNOxQAn6i1qCbiYAIjEKgsQ3bIImSgB+E1lyfK3uew+zF++Fdd+ltSaev23pphqTPhf00hYMEfIacyBDEaevuwoV1d1tKvGNk/vRrHGbR5fg0rRw1Kj5uc/FCt7H39a679FcVddqX3OYZmLVY6+O6S7dUhAER7Nzm4rNrBTKhk3rpRidFb4S9J9RPxtP/3cXI/OnTskMJ+AnZgm4jAiIwOoFGNWzDJkcCflhyc3ed7HnOstS95xvu7zYW3tLH6fs4RugzJH0u7KcpHCTgM+TEiEFgRH1h3f1TSrwvrrm/eMhhh8fecn2aVo4aFR93fO+j3Ubrnmid1l16c52McN29PxwPo3UXXs9WJ5xJnIMR9egr7yjgu+2/wCMBGeMzaL5LwGeEr6BEQATGS2DQCm4qz8D3QyAB34/Qrvlf9jxHWe1uueCBbqP91qiT2nP8Wne642c8NVOy58J+MrDIwkECPkNOjBBE+xr39IU1d3tKvC+suw/iffAj3Kbq0iz2M89T6Pt3Si5d5d62b8eCvYB9sl5c/DHXbf97tG7stt5elTHTOOaOtZ/uuq3bo3E9KeA/OIYOh0HtUAJ+Ggaie4qACAxFYNAKTgL+5IJ8mOKGBfqwUB96jLFwHxbwaySfoSxjNi+SPc9mvu2ItTt+3oPdxtI7+jh9zm22rthx8fAH5sJ+hk/+1pVZOEjAb/GcypeFNfehlHhvrbnfXjrqTh9D5LLYz1wL+M2HPa1v3dZd+ge32fqfbmPv97ijrUtdd+/3uu7iz0Sm3t83HR0LfXb3ft0Y8nWoIN1G+0PJtHZbv+2OLjXBDiXgh8phXSQCIjANAk1raIdioBH4obDN40Wy5znIVYw8uW77XUmn7+To+2szJ3cu7CcDkywcJOAz5MQIQexZd3+SEvALa+6jrTX356Nse9Zc1aJrWexnngU8stV1F36zfx0XeVac086r9pt7XzKC2WS/1G20/iSZzm77o67b+vPRtsrF/wa1Qwn47LmvAEVABMZFYNAKrpEjzBLw4zKPmQtX9jxzWbY9whiJcd3We5MOX89pXbx6+5VZfs2F/WQgkYWDBHyGnBghiH4CPiXuB/jvAxVRzGI/cy/gj5+34Lqt9/ev6wYQ8d32DRX5MdVDfQV8VSfEwMcWc9ihBPxULUU3FwERGIRA0xraQeK+da4E/BaK3f5F9jzDFuDg0G4sfqCvQ9tdPIx3Jo8hqXNhPxm4ZOEgAZ8hJ0YIQgJ+C14We87YobAVsd7rMTGFfGDBWiXql34Pjx5tBd6QLxLwvccs8bglHrvE45dnFEVxalEUDyqK4gFFUeD1p+NozxpiAYqGCIjAOAg0tmEbJLES8IPQmutzZc8zmr1YwKjvs5JwcrutnxhjEufCfjLwycJBAj5DTowQhAT8Frws9jwOAY8YuncUD3Ld9htct33HUEJ+s/3XbnPxBWPq1NyCOOwXCXgJ+GFtR9eJgAjECTS6YYtHe/s/EvDbeeziX7LnGcx81z31oW6jdWvSee227nUbew+OOXlzYT8ZGGXhIAGfISdGCEICfgteFnsel4BnLPH+d7e5dKXrtj6erAs5Wt9d+oTbbO3HqzYZRhP3EvAS8E20S8VJBGadwEw0bP0gS8D3I7Rr/pc9z1hWu6NL+9xG+yNJh7W3qvLi908gaXNhPxk4ZeEw6wI+A8epBiEBv4U/iz2PW8Azts4dup/bXLzQdfd+p9tcsq67+Cq3sXDUbbZ+2m0uvKj3Wrabz13k+U3fS8BLwDfdRhU/EZhFAjPVsMUAS8DHyOy647LnGcpyd8O+c91G+2Np8Y5ppYuXTShZc2E/GVhl4SABnyEnZjOILPaTUTA3LT6zmauzF+tB812L2M1eHivGIrBrCQxawWkVer0HvsmFRfbc5Nzx4uauP/N81239bVK8b7Q+7zb3PtO7bNxf58J+MkDKwkECPkNOzGYQWexHAn42M79BsR7UDiXgG5R5iooIiECawKAVnAS8BHzaoqb7r+x5uvxr3d0dXXqs22h/Mi3e259xm3svrhVgvpPmwn4y4MjCYQoCHitwY1Xnr9SqzhmsYPggYD/IA+QF8gQrbmPlbazAjZW4sSL32UVRfFVRFOcXRTFuvyKLPQ/QoSA7HN52cl45qB1KwOekr7BEQATGSmDSDdtYXpuhKfRjtZFZClz23PDcOvlsZ/u2pHjvjcyf/pgpJGUu7CcDtywcMgv4xxZF8aiiKM4riuKcoigeXhTFmUVRtIui2FMUxWlFUTykKIoHFkWBRb34aiakRZ/JEABr2g7yAHmBPEHeII+QV8gz5B3yEHmJPE0JJ9QDEPkQ+xD9w7yOi3FChwJ8kFE6FGSHk7GlUe4yrB0+Dp00VVtRFM+o2o4cOeI2NzfdsWPH3PXXX+9uvPFGV9Z7sJNR7XYUBrpWBERgzgnkbNhyNLRD4ZaAHwrbPF4ke25wrmJE3W22/ikt3tt/4botOOrT+MyF/WQAl4XDEAL+8VXOczny+biiKB5dFMUjiqI4tyiKs0oxt1QUBRb0wgjvKeWIL4QaBCRGgSHkww3pC7cM2OY6iJAXbSRkC+Zgz9F35AnyBnmEvIIAR94hD5GXyNOUcMohhBjXugI+1aEgO5yumY/TDlP1z6US8NPNeN1dBERgO4FBG7ZxT3XbHruavyTga4Ka/9Nkzw3N497Kyd3W7UnxvtH+IN4HP8UkzIX9ZOCXhYMn4NG5C6Hm78PvEGopB/rx5fUY1cLILTp59nmj8AvlSC8EI0ZZMfpLIQ9ByQ0Ck5svPpFmbhkQzkUQ5EF7IC/yo1gnWwp3sEceIC8w+o684eg78gx5hzzsTZ/vk+8U8Mzz2Ag87o34Ia7hh/HHOakReMYpJeBlhyHd8f+elB1ekOhAlIAffz7rDiIgAgMQYMNWt2daAn66z/INkLW78lTZc0Oz3W20P5QU793Wb7ujS6dPOfpzYT8ZGObkgBFLinWIeAp5HsMeG85LCfgnlOfg+keWI7gQgpiOjeeq8Xw1pmnDhiAcMXUbYo1iHqKSoh7tnS/uKUgpUJF+bLv1w/STB/lQqJMf9uRK0Q7eYI88QF4gT/jsO/IKeYbRd+Qh8hL5/oSEcIKA56MTuDYU8OywoYCP5RnSQgGPa6qeyYeA7zelX3YYI5z/+KTt8MKEHULA7xDx/3977wJtyXXWd9aYl2Nbsvp2ywLbAhsj23pblmxZlnUeLdODMPaAdE9bxjgjQiLIyrAI4DWsIcOMYHjMoGTcbTvGfW+3+nVOS+kAhuXBwQnBEyCGSZwJr4EZ85gwIdg84jd+qe/ds37nnv/Vd3dX1alzT506VXW+WmuvOo+q/fh/3971/ff37V0KoT99+nQcQs+Y5iH05etEc3PsfSB86drx8Oor3hHutunKtwfWZ/jhCMyKAAMkDzYexHkz01VtNjNr/cfXuwd+X7C18SbX55pKdeq7gDcP/kHYXPvd+dKhC3M2vxX6MycG3F4mDrMQ+DwP2E1JktzAeukJyYpD6UXi8fZCHPH8stZZZB5SSWKDMZIl9iLzIqoiruBAWpVD7VX7hQfE15J1sBOOwlWkHczBHhkgC5H3OHR+TJQnMs0jTuhP1QQ+L6Tf9XDxvWFZenhzDoF/tRP4xQu+tSVceTKsXXU8/PKBYyFclo6HT7e24d6wRSLAQOkEPhvhVuCT3bzW/dMKeS1wQmppAp9K4DcOhlwPfaH/D/zGnA1shf7MiQG3l4lDWQT+Fjy1eOlNKH0aiSdUm/XWeH7xsorMi9BbUm+JPATVEnmRWLAgtf1QO9VuyLuIu8i7iLsl6yLsIu1gDvbIAFlo13m77n03dH4i01tyiFPdCLzr4WJ7wjL18NYcPXQCv1i5tzf3K94RXnrVsfAHlxF3kXkn8O0V/mJbxmDpBD4b41bgk9281v3TCnk5gd8vmXcCX1KPLrMfpRF4hdHrrBD6PA/8rUmS3DwhfMoTz2xM4tnlnM3S8PxCIvECQyhjQp9H5CGuEFiejWBBavuhdtJmS94VGs9khyXuMWEHX7AGc7BHBsgizfMueTMhg0zziFMWgaccJgvmCaEnD00waF0+OpXngXc9XGxPWKYevmxWAr+xsTHehd5D6BerFI3Nfe0d4b888PbwiUzyDol3At9Y+S654gyWTuCzhdAKfLKb17p/WiEvJ/BO4JfcM8vsRyLbkHWbIHGzEPjbIHpJkiiEWfnizbUknnXW10yIGSQSLzCEMib0kD955SGBsTd+lUg88pbMs8g7GMnbLi+7JezgC9ZgDilGBsgizfOO7FgOgSyR6W05xKluBN71cHGD07L18OU5epjqgXcCvzhlaHzOVx0P33PV8XApl7w7gW+8nJfYAD20CZHzNfCXC6IV+FzerNb+0gp5OYF3Ar/kHlpmPxLRFnnHw6nPsxD4lydJ8rIkSQhhjkm89cTjSWWncxF5vMAQSlKaZ54Qe3njLYm3BF6e+CWLZWHFS97W+2497yLvYJXmaRe+YC3irt3m9bo4ZCTPu8g7skSmecQpjcAjR7zn1Ge/HnjuJQ/yIkqgqAfe9XBharg7ibQsPbx9RgJ/JwT+1KlTwT3wi1OKxuV8+4nwZQeOhY2pxN1D6Bsn25pVWA9uJ/DpgmkFPulNa+WvrZCXE3gn8EvunWX2IxF4EXfO9rPIfO5r5LIM63l+Hw6HHzl16tTb7rrrLrzHkHhCxCHxkNd4PTyYtPWQvGPvu8LmnwlGYAVm82A+672TTQu1mzfefCYIIN14/0XgkRcTLhC/rIP/uIZrIf3cSx7kRZ7krc16M18jN2v9i1zvergrsjrrod2B/s4kScZpc3Nzl8CfPXs2nDt3Lkxen8lklfQ27e0JjDc4zRhn0M02jy+7Am79h+e9Mxy86lj4QGHy7h741uvEAhuoAbPRBN7xWSACzcra9blZ8qpbbV1/diRSJg6WwEPcMWpF4kXkIfGVE3iRK4jphNCJxGNYixS2fS08spa8ReBpOxgwoQEmV4CR8KrynEHgCdWHfLMEgjpKVkUJPPdwL3mQ11IJvPB0Pay1HqYR+Fc6ga/bI3yJ9XnW28MNVx0LfzQTeXcCv0SJNb5oPbidwKeL0vFJx6Wuv7q86iqZZtTL9WdHTmXikEbgReJ1hsiPw6tFZqo84wGdbIgGqcM7q1D6VfDCS9Yi77IFwAAswOTKqj3vkv9EL3hnPKH4hOUTpg/pJpR/XgJPHuRFnuSt99O/WOVXeXY9HHui66qHvKpbnvdXJkkyTk7gm/FgX3gtr3xHuG/tePhkFnm/6lj4+Nrx8Eup//smdguXT0sL0MNbD21m29mghpBC1rVpbZhCyzIfbObVPlzblpAhx6dZiu/yapa86lZb158diZSJA551yLm875AxiDvJfh574c+fP/8XVZImypoQJ8gcYdXTvPB109l56yNZizhd5n2HLC+DwKMLk/0S2KTw2sm+Btgl2CfIC1lpyQP1py1ZB/9xDe3jHu4lD9k67JlAGZR1nethFowL+722enju3Lm/nJB3EfdXJEkyThD4xx57LJw5cyYQQn/+/HkPoV+YitQ047Vj4XuvOha2Usn5jof9IweOhVvauDaypiJZlWpp0HQCny5xxycdl7r+6vKqq2SaUS/Xnx05lYmDCLwl7RB3EmRJn8de+OPHj29WTeA3NzePTzY008708sJD9ng2Qvzauk5VsqaNtFUEd9f7DjZgVLVc0IXJxM8LjFNAG9ghKxF4yYi2ZB38pzaKwJNH6kZ2rodZMC7s99rq4aOPPnpu4nEXcb8jSZJxOnny5C6BZ/27E/iF6Uc9M7767eGeTOJ+LISrjoc/fs7bAw+/xAl8PWXY4Fpp0HQCny5Exycdl7r+6vKqq2SaUS/Xnx05lYmDJfAi7RB3EsRMn7FxrrvmmmtuPnbs2MkqPKDD4fCjJ06ceMe1115L+LS8urEXnmejNkgDl7YdkjVtlB2wu/ZdXmowAiswWzSRR/bowIEDB3jbAHpBVJ82sNP6d21gp43AIOd58uE/EXjuYYJCG9ldtg6esl0PK1X12ukhnvdHH3307NraGq+Qg7yLuN+eJAnpjngHeifwlepMPQo7cDw8mkbirzoefucZJwKhPePDCbyQ8HNJCGjQ1IObGW0PoX8KXMfnKSya8Mnl1QQp1beOrj87sikTh5jAQ9qVIGZ85gyRh6wRbn/95FVxu68Z41VjE6NZxrPO/E7S+7m552bzqjnysuvwmUSgTNY7QwpZJkZYtiWGPAchsSKHq0zgtdGbltSBGdiBIVju7l8wkZteEYcMkMX4Pe8TGU2ToX1NIPZ1s7kAACAASURBVHJjWQV6ofB51qprokXr35ER8ilK4LmWe7SRncLoyXtPGL3rYaUDtcacrImkKvRwTMoNUbced/7TWLOrx07gK9WRehb2SAhPu/JY+HlL4teOhQ9+9bsC4T27hxP4XSj8QzkIaNB0Ap+Op+OTjktdf3V51VUyzaiX68+OnMrEAQIPEYOcy+sOYSdBBEkQNJF4EUJL4iGBkDtIOska0vqN/7nOCfxsfU2yXiRxmkV2eN2RvX0Nl7zvcfg8JJyQf+o+bYmDbSf3KMrAhtHHu9HHk0muh7Pp1ixXW/nIHpWMbKTEPBNJ0/RQY4kdX0TW+Y/7lcf4Gta/8w54+wo5f43cLGJvy7XnwjOvOhb+PSR+7Vj4xeeeCIT47DmcwO+Bw7/Mj4AGTQ2Y7oHfi6njsxePun9zedVdQvWun+vPjnzKxEEEXp5vS9zZ7JQkry5kPvbE3zjxpluPLkRKZEqfRdy5jnvwBMv7rjpoEoE6MGlA6Lw88PLsegj9U+QWLOShFnECMzvhAqZ6DSCRDmAO9sgAWcRygwBJZpwlN4g791jyjpcf/cAzTvlWRtqnANsF73tRAq8weu2yH7eRsiiTsm1EiOvhYsdujTlZE0lV6CG6SLL6yedYZ/XbbZB3NrCz69+dwC9WUWqb+9o/DtdedTy88/YTgUHpssMJ/GWQ+A/zIaBB0wl8Oo6OTzoudf3V5VVXyTSjXq4/O3IqGwcIngi8PO4i7hBCSBMkXkRe5EnE0JJCESkIX5z4LybueFHjCADqQFmUS+i09ezaV8n5JnY7S+q00ZvCzK2cNOECxmDNZElM5GM56TvysjKzEy3ogA2d1xIHbV6Hd1ZLHETgp40ykHwReIXRy2mhEG21kbJdD6chWt7/GnMkn9TNFCd9VTIqWw+ljzpLT5mEsp/5Pib5aQSePSKiCBLGOjtRKB2W/k6bfCoPZc9peQg4gV8e9i0tWYOmE/h0ATs+6bjU9VeXV10l04x6uf7syKlsHAiLV/g8xEjkHQKNYUvSZ4xy/ldIPV5Q7o8JIiQxThBASKRIO/fJ6w4Zk+dd5J2Qaci79eza9e8KzxZBBJe2HZI1bcT7SZstubUearACM024yBMPtiLyVlaW0Mey4rvkhWytrJATOsDkzrQJliLh85KZ2qp2ygs/fte92ZGeMinb9VDILf4s2SxTDzV2oJckRfBoUlCRJRD8MYnX6+PwwON5JzmBX7yyNLIEJ/CNFFudK61B0wl8upQcn3Rc6vqry6uukmlGvVx/duRUNg6QMwheGoGGLBEerXMeQcSLDyEXqSdfm/Qf11GeyrRef3n8KYdyrWfXet/lHYPsrRKBly0Qk1t5qMFMMhLJhciDsSZdwH1WWaVNsKATyIcIALyWVj77iY6QXiNP2pnl5aVMys6aqJi1ba6H08d/Kxv63DL0ELla2WrS0BJ7Jp4g8njkb9bad+0+7wR+uqBX9gon8Csr+kU1XIOmBkuFk+GR4EGNZ0Sz0BhHL856hUxLQ4Ycn0Vp3mLydXktBtdVydX1Z0fSZeNgCbw8q5AjS6Lx7kKcOFuSKI+8JYkQRQhfWuI/kiXt5CHizjMNcqbyIIesr43Xvqd538GlbQdtkryneT/BSjICQ0VOgG1Zcor1QvIRebeh87NOrsTtlN1DnnrvPbqgdroeVqftddBDxgxNRGkyCkLP+CUyj2ceEo8X/iY87/H6d/fAV6c0jSrJCXyjxNWEyuqBpgeZE/i9UnN89uJR928ur7pLqN71c/3Zkc8icIBsYxwrfB3yB0GCSEOYSHh5OTOBzO+QREh+TBRFFpkMICksX9/5n2RJO/mQn8qkDMqKyTueZ3l3ZyWI9dbu7NpJ3iLw2APyTtudwEVuJR+wXISMkD1loA/W8y7ynja5kt26vf/EbSUvLRkQiadMylY7F9FG18O9cuFbLJuq9ZDxgqRxRGTeRpRA5BVef2MaeXcCf7lg/ReeNsfDT9hXze1+Ph4+7QA5AvtAQAOmE/h08ByfdFzq+qvLq66SaUa9XH925LQIHETgMZAh5BBqS9QghxAnzllE0RIpkXo8tjbxu/K3pD0mTBA0ypHnXbuaQ+Zigtj2TaYkb23yxsSFiK1C6Znc13r4eKIFbC2Z16RLERkhU1IsH+lD7HmnXtgrWtYwq2zitookppF418Nqx+1YNlXrIXpL0niiiUJF/EDk5Y0fh9Lb0HmFzzuBr1ZpGlOaE/jGiKopFdWA6QQ+XWKOTzoudf3V5VVXyTSjXq4/O3JaFA54ykXgIW12fTPkELJG4rPIvCWLCt+G+JNEHNPOuoZ78KSS5OW35BBiGpN3noex9x1M2nrQNsk89sJDbC2JRz5psgFfK580meg3yYaz5BPLJmtiJU02s8qlaFtdD2dFdr7rl62H6CIJPWV8YgJKHnl54xVSP/bCWwJvl5e2dEnpfNJd9budwK+6BpTefj3InMCnQ+v4pONS119dXnWVTDPq5fqzI6dF4QCBt2ucFcIOKRSRhkyT+B6TeYi3QptFymV066zfdVYZIu2aKFB5hGVDUOV5TyOI4NH2gzZK7lkkXmvFs2QD1sJdZ8lFZ/3OWVEQ02Qjr7smVeR9V51nlY3uU8RB3F70YVpbXQ9nRb3Y9bFskDl90kaETJPNfvUQmUqu6CskHo+8SDzjF5FE4/2g2KVeO89b77t74IsJeuWucgK/ciJfdIP1wHYCn46045OOS11/dXnVVTLNqJfrz46cFokDBB7DGO8rxjLeXJFpESdroPOfPKHy/IrIy+DOOnOdyCH3kg9J5VGOyDvPwJi8KzwbPNp+0EbJXcRW5En2geSjCRbhCbZlyAa5xLKJyTt1K0Muee2lzLitrofV9IA8uSxaDzVeiMTjiReBJ5xeBB4vPGvhXyoCb73vTuCrUZTGleIEvnEiq3uF9cDWwMhDigcxs+MMXoQQsaEHa4B8F/od48Lxqa9Wuz7XVzZNqJnrz46UFo2DwucxlEWoIdMK14Y8kUQURZ64VmRR5yzyrv85i2iqLJFElUO5Iu+Q1rJIYhN03tYRuUv2YAAWIvFWNmlyiWVTRC5WNsikarnM016rX3wu0l7XQ6tt2Z/nkcs8eih9RJZ48eWFZ9JRXng88KyFH29mF3veReQ9hD5buCv7jxP4lRX9ohquh7UT+HSEHZ90XOr6q8urrpJpRr1cf3bkVBUOGMoi1dYbLmINUSQRSq8UE6ci33UvZ+XJWeXgcSWJsIrAN0Nry6+l2i88hI/wshhabIvIIr7G3q98VY7KVT1Ur7JbrHxVjspVPVQvW9e4HUW+2/uVJ2eVo3JVD9Wr7PY2JT+1X3gIH+FlMbTYFpFFfA33i/zjibcEHkeWNrSzBH7VXqvcFL2pZz2dwNdTLg2uVVWGGoMls+vydDAwU3bdD8en7hLaWz+X1148/NtsCLj+7OC1aBzcAz+bXlZ1NXKX7HlGizhpgt8SJ3nMrVfZkqIiHmmu1/3KzxJa2Quqhwid6jkvLspH+aqcIu21beVzkfaqrZyX0d558arq/nnkArZWNkXkIj3UmXssgXcPfFWSb3M5TuDbLN2ltE0Paz2weKgwiHkI/Y44HJ+lqOW+C3V57Rs6v9GQl1UfDxfZj3wNfD27GjKX3CG0dmM39QcIvN2fQIRUhMmuIc4iTvpd1+remNQqIgOvK+VDrrV5HfVTffeLpu4Xebftpcy4rdhGlhyq/mpP3lnX2raqvUxYqK2asFhEe/eLU9X35cll0XooOSFL2cB6rZyvga9aE9pWnhP4tkl06e3RA1sDoxP4vSJxfPbiUfdvLq+6S6je9XP92ZHPonDwXejrq//IXHKPyazWv1vyHoccQ372u/s390JuIbXkix1iiW1M4kXkVedZUdV9mqiI2xuT97S2iuRB9EjaZV9n/a4z2Igg5rUVrOP2ljFhMStGy7o+lg0TN9inYLJoPdQkjOTpu9AvSwvaWK4T+DZKdalt0gPbCXy6GByfdFzq+qvLq66SaUa9XH925LQoHCDw/h74+vUF5C2Zx2RWpAlCDbGGzEJAIaMQHkvaIa96x7ve+Z521jX+HvgdLO2kBZMHq0ril62HmnxBZyHv/h74+o1Vza2RE/jmyq6mNddD2wl8uoAcn3Rc6vqry6uukmlGvVx/duS0CBzY/OmrDYEnNBUCh7cLIigvrLyUIoZcI4NaHjEMaxLh+HHSf+RP4h6RSJVH3irThjJb8pQWst0MLZ69lpK3PNK03Xo8Rd7BKibuko9kJNwlh1g+fNd/ko9kZOUjfYDcyhtvia288PJOF2113Fbr3VWEgZ2kcD0siuz818WyqVoPpbvSWW1cx1uYtHnd1+kVckmS3HD+/PmgV8nZHel9F/r5laF1OTiBb51Il90gDZhO4NMl4fik41LXX11edZVMM+rl+rMjp0XgIAKPUSwSB+mDtEGSxqT6RS960XNOnjx5bDgcfkSvZFrUmTJOnTr1trvuuotJBLzLWoucFcLcDC2evZaSd+x9Vyj5M8EIrKqSCzpw2223oR94+9NIvJ1gof5Fj7itmqjYQ94p2/WwKKSlXRfLRpMry9LDj77rXe961/Oe97wXJ0nCu995lfL49XFJklyfJMmN586dC5bEa6xyAl+aTrQnIyfw7ZFlTVqiAdMJfLpAHJ90XOr6q8urrpJpRr1cf3bkVDYOeK14dzKerOdPvPCQeDxekDSFXh/c3Nw8LiO4qjPEdLL+WiRent6YJIJL2w7aJHmLwFtSCyZXgFFV8lA5EOjJxA7e+JjEY7PE8pkmm7idsnsseaesA5StelR1dj2spx6+853vfPeEuEPkX5IkyUsh70mS3ASBTyPxTuCndcUV/N8J/AoKfbFN1gNNDzIe1sx445HAsCLUDYMLw4vZx1V776Xjs1j9Kzt3l1fZiK5Wfq4/O/IuGwdL4FkHLy+8Qqh51ozDqIfD4UerIkwqB69y5OlVKP1+SGLTeoxkLfIuWwAMCF0fh5NX4XmXPHRGFyaTO0RnWE88dVOUhELpace0w7aVdpLHnnZOJgwOuh5Og7L0/61smJipjR6eP3/+zyeEXOT9Bsh7kiQ3nz171gl86arQ0gydwLdUsMtrlgZNDZaNIfBhc+354dShN4STh94aNg+dCBsHfjlsHPz9sHnVPw+bB98VNg99f9i86r8K55+Bp2e/R2Px2W+DG35fI+UV3nThmnB0+F1hMPzJMBg9EQbDXw/ro98Pg9EvhgdG7wxHR98bBo+/ITz0HtbtrtQR7rnn5aHfvzs1HTmCV7fMo5H6UyYAk7zKxkEEnjB6CDyTwiLxWg89DqsXeavyPCHweF61Hh6PbJYXfgFwLzVLyVoE/jLvO+vel0Hg0YHJxI6WWaSReMhe0XXwaiv3ZJF3ynpOlfqnslwPx3Ksqx4SMg9xx/NOujlJklvPnDkTROK1Fn6it3jrcXop6ohxjolKnGPoMbY2Ywy2d1H9XepA4YXPiYAT+DkB9NtjBPRAawyBD6cOPTdsHvypsLH2xbBxMBRInw+ba8fD6WcygM56NA6fWRvYsusbJa9w//Du8MDwQhiMvhDWh2FqGow+Ee4f/Uj41hEeqdYfod/vbnW625e6vZCWtjr94yWD0Cj9KbntNruycWDdKGtItQ7eknh2pYe8Q+ifJzJT5Zmw/YnnNY0g8mycxctrcWzCZ8maNtLWVGK7jKUNEyKEbhCdwTILJjBFfjTJYuUzDW9t0id7hzzktCBvyqCsr6pS/1SW6+Euga+jHuJxH3vdRd4h8KdPnw6QeBtGP9FbJ/DTeuOq/e8EftUkvvD26uGtB5oeZrULoQ8Xv/bZYePg/xI2D362AGm/nNiP71t7NAzXMACKHo3Bp2iDWn5dI+QVHvrA08Ng9J6phD2T1I8+Fe4f/Vh4+EP021YeoffQ07e73Q+nEXf95gR+YaIvsx8RdmoJPB4pdqMn4YmXN378m8hMFWfCpE+cOPGOa6+9lkkEnnlpXnj62Cxe3oUJZUEZS9Y2bFnEVrvOr4ERWFUdWj7RD0i8vJeSEeH9hL8jnyITLGqnJioUOr/bxkkZlPX8KvRPZbgejjVb8qmrHt4KYTfpZUmS3JZG4PHE+xr4BY1WTc7WCXyTpVfLumvQrDWBDx+6/cvCxqFf3Rdxj730m2u/EMIjzMQXORqBT5GGrMg1tZdXGFx8dlgf/sr+ybvx1D9wYaOtct3q939cRD3r7AR+YdIvsx+JwBNOypIHvPCQeEvk8cjz/YUiNfE5SZKxwYzRnCTJy03iO4n/MbBvmXjI8JYR8kroK5tO4REjlN9GAuD1V2irPLxxGP2qE3h5prUnDpgx2YIcwRJMwRaMFWYsTyWyQCZTZRfLW98nekGZ7JdgQ+lxNjDRQMRAkQkW6TTXco8mKZjQJ6KJvCmDsr5G5cfnIm1xPdzXuGTlI3tUMqJPVqGHt8Xy1nczxkiXx2PQY489FiDxcRi9E/h96UC7b3IC3275LqF1GjQ1YNbSA78TMl8oXP5yz3tM4Pm+eeiRglg3Ap+CbVmFy2otrx3yPvqtUsi7vPNHR9/bNsGGfv/W7V7vySzirt+dwC9M8mX2Iwi8wklFniF/IvI6Q+5fJIM5Pk8I++1JksRJZB4S7wR+dpWQrLM8n2UQJzvpEsuP7y+P5a3vk0kfJngUSq9ICTbXg+Cxjpi641mnLVkH/3EN13IP95IHHn3yHIfOT/ZoyJtIQt9S2zDRUdfDLAnk/14HPbxdehefJzLXWLOrA6dOnRoT+DiM3ox5TEwSZaSJQnRNy0B8DXy+TrTrXyfw7ZJnDVqjQbO2BD5sHnq4FM+7JfKba9vh5IHXFcC/9vgUaMMqXVJreY3Xr4t4TzsPRpcKEv2tcHT0jW0RchgMvuRSr/dvRdLzzk7gFyb1MvtRTOAh6kqQd30ev2M5Npz1PUmSO1LSmPwZ7xgEns2l8ACz0ZS873EUAEY1pJDQeWtYKzxb3l0Z2JC+tm40JVlnEXgRXHngwWw3YiJ6N7a88ONXbJm1wtZricwuk6XkHJ/NRmDywttICcLoJaOiBF62Dvdaz+6u933KRNJldTfkzkaCuB7ONjzVQQ9fEeufvidJ8gqjt5rAucMJ/GxC9qsdAUegPAQ0aOqhVisP/Hin+c21L+QS+M1Dn9rZdf7g3wsbz/mWya70T4SNta3c+zYO/VmBUPpa41OeGrQmp9rKi43nwvrwk7mk/IHR/xuODv9OePDxF4RHwtPC4OLVYXChG9ZHP5d732D0222R4Fa//315pN3+5wR+YVIvsx9ZAg9JxwuvBHnX53Eotgzm+GyMZxGoPPJO6DxkUmWzBt+G8BMCDiGUV9eGZuOV1fpqQq15NkIO207gaSNtTd3EbhJiLi812CmMHhmOJ18mXkcwB/vdV21FYfTyXkqO43Msb32fhOgz0SMvppUV9opdB4/eZh38pzZyj2wdhc8zkUMZlPV1Kj8+ux5mwTv37xpzJKNl6GEegX/lhMRbIn/HyZMnA2H07oGfW/6egSPgCMyIgAbNuhL4H8on4Vf9dNbu8mHzwC1h8+D/mXv/yas7U/CqNT5T6r6Kf9dWXlO974PRL4Tvfh/epNQjrI/enEvi33SB9aaNPsKRIy/c7nT/2pL0vM9O4Bcm7jL7kUg0BF0EnnP8GZL9kpgw6bshTpa423BlrXkXcSc/lQnJVKg+3mORd62rVlh2vP4dEqHw7FUg8LSVNjMO2fXH8sJrnTgTH2AoT7wiKZApmI9lGRF5rYdHZqQ9RF5yjs+TvJAfZVGu3cxOBJ46Q/zQ26yD/7hGxJB71S7yJG/KoKzr4nrou+thFrxz/64xBxktSw/zCPydSZJA4i2Rf8Xm5uYugWcd/Pnz54NvYje3LngGjoAjUAABDZr1JPC8192GvtvPm2sfZHO7vDaGswefFzYO/nl2Hlf/RN79E4MAw62W+Eyp+yr+XVt9DoPRdwRI+vrwM5cR8cHoQ3nkXYIMD4x+6rJ7d0PxL3ynrmvqebvTf38eYY//cwK/MEmX2Y8g1NpAToRaRE9nfh9vhCaiFJ8nxMmSd21aR6iywuWZLBBxx7MPGdNmeZAzPKx6bR3kHeKmkGzWpVrvu0KzV43A61mnXdrBBGzsWniwg/CCJZiCLR758UaEZnM7EXmWMuy+O9tsBLdL4mN56/tEL5Al+VOeXikH+aZuTDRoooVnddbBfyKGdv27Xh1H3pRBWS9W+fHZ9TAL3rl/15gjAr8MPcwj8K9KkgQSb4n8KyHwCqO3G9lN9JbxzdfAz60anoEj4AikIaBBU4OlwsrwSGjNGw9oBiEGo7wHmzYqKmXACu997jNyw+DPPIf6TD3CyYP/TTaBPzickkFt8ZlS71X9u/by4tVv4f5RZ+yRHwx/PYzXuj9xpIjAwhufuD6TwA+GP1wkj7pec6l7+C0xQdf3rHfBO4FfmDTL7EdpBB7CrgTJ2yV6MWHS92idsd2szpJ38oSAydsOIeP5hbdYxJ1QaUgg3mTIGyHUkMEi3ndwadtBmyRvkacsLzxYgRnYgSFYisiDMViLyCMDZIFMmFixJN5648ckXnKOz5N7RYQog8kDTbrMS+A1KUGe5C07Jy8SxE4iuR6W1xvqoId3xPqn70mS3JUkCSR+D5F3Al+eAnhOjoAjMBsCenDXj8ATAr+x9sV08r32m0WbGR579svT82A3+oO/NCWf2uIzpd6r+nfj5BXe/D68W4WOMLj4JWEw+mwqiR+M/lGhTGp4Ubjvvqu3u/2/EmG3561e7/x2t/9R+5s+O4FfmDDL7EeWwMs7DqnT56IEHqKnTcIggDZkXh5+edxjbztEE5IG6WRiGgLKJHUaecfzDIHlmdh277sUSPIWgaftCjWPQ+nBDOzAECzBFGwtmZdXHkKMTJD3OMLCrI1Hhrub24koxecMAk/ZkG8mXdivYFYPvN3AjrxmIfCuh9Ka8s/L1sO8XejTCPydTuDLVwLP0RFwBIohoAGzdgRe1Q8Xv/bZ4cxzXhQ2r3lV2DjwTWHj4EPh5MF79f+0c7jw3EPZBP7QP5tyf+3xmVL/Vfu71fIKD33g6WEw+kIqgT86/HtNFfZWpz8SKbfn7W73Y+HIkec4ga9csmX2IxF4EXWRd32H2O2Su5jA6ftkzTSEL4+8y+Mub7sl7TFxhwBaz7s2riN0XoQQQkvoNQlM2npI3rRTJB4MwEKh9ETnQZjBDOxiIm/JvLzy8shPI/F5r5FDf9AZPPrkx0QBpJvyReCpJ5Mt1D/r4D+u4VoRePIgL/Ikb8qgrJdK7+Kz62EWvKX8vmw9zCPwr4688GNP/MbGxm4IvTay8zXwpeiCZ+IIOAJTENCAWVsCP6X+U/8Oj13z2kwCv7H27ikZtB6fKe1v2t+tltc49H53zfsw7CHygwtf3zRhUd/Q6XyjJe3281a//zDXOIGvXLJl9qOYwFvizueiBF4b1sWed8KrIYiQd8KgIY8QdxF2wq3xGMvjLuKuNe8Q05i8p3nfwaStB22TzEXg5YWPSbzWxMdEHnwVXg/2yABZIBNkg4yQ1e5kzSSKgjD022KirO+TjfBiAk/+kG9kiOz2Q+C5lzzIaxYC73q4uF6wbD3Mm0hKI/CvgsCzE/3p06d3d6J3Ar84BfGcHQFH4CkE9NBuL4HfPPhTmQT+5NX/3VNQpH5qPT6prW7uj62WV+ZO9oPRp3lNXdPEFnqDZ213un9iSftTn7sfDCEgTyfw1Qu2zH5UFoHXO95Z8648IXaWvEPEtL49JuwQTkgbXltIqIg7IeJ4mSGBeJ1XjbxLu5C55J5F4sEKwgx2YAiWYAq2MaHHs6118pbEIzOR+N2N7UTY43MNCbzroTRmMedl6uHLYv3T9yRJnMAvRt6eqyPgCOwTAT2wW0ngw+ZXXR82157MJvBr3zAFt1bjM6XtTfy7tfIKRx//Wzsb3kWedzzyRy/8eBOFxRr2pwh7L+jzdq/3ZLj3XkKlx4d74IVEZecy+5HItjzv1utuP3PdDTKY4/MkdF4b1kEAY8875B1vKl5gJrNiwi7Snkfc95D3i4NHvvzJ+4d3Pzk4+5pw//Du3fTGJwifbduBzCV3G0oPJiQbUm+JvMh8TOiRAbKQh9uSeHnitbHdLbG89T2HwDNBM68HnjxUv6Ih9IxLpenhv7rzzuv+w9139//ja17T+8hrXtP7y3vu6ZI+3ul0PtXt3vO5SXqy13sNKfT7dxdKvW8m0qSJxzL18FbpXXzOIvAnTpxwD3wTtczr7Ai0AAE9sFtH4MPF5FlhY+23M8n7xsE/DOGRvDVziLe1+LRAd9Oa0Cp5scFdWB8NwmA02hMuvzeM/uNhcBFDtFFH6PVetdXpbom02/NWr/eobYwTeItGJZ/L7EdlEXiFzrOjeZrnHSJGP4C4pHnZIZ3ytluPe+x1H697/7PXnzi0PRj98vb6+b1LVeh7g9GnK5FC9YUgd8leJD72xlsiD47C1ZJ6kXlkYUmyJfHIEFneQCh9TJj0vYYEvlQ9/MRrOj/62U4nkD7X6YbPd7rhC5P0xW43kJ7s9sbJjpHTPod7723kkqqJyi9LD2+W3sVnJ/DVD0ZeoiPgCOQjoId1qwg874cPm4fem0PeQ9hc+/v50Iz/bSU+Bdrd1EsaK6/wSHhaWB/9fhgM/+8wuPCnkIQc0j4hFaOPhcHolU0TVnj44S/b7vV+J80IJaQ+HDmCV2/3cAK/C0VVH8rsR7MQ+Otjw1nfJ15P8sJrz+vJtGEd66xF3vG6a2MzCCVh8QqNh3iKrMurzKZm2ml+TNzZCO0Lbzx3/fbg/B9k9r8GEPjwpgs37kYM2OiBAp+JOCB9bv30PaRPTdLH7393h/SX3/KurtJ7e48QKi9shbfIPLJAJiLxyEob2yFDZIlMb5Sc4/OE5EP27SZ2kveiPPB5r5HTEo5S9PAznc7/DGkvi7hrTG04UztchwAAIABJREFUgR+Pc1/s928n6kBRCEQkkIhO+I+9HjqhfsxZOsh5v3qYN5HELvR2J/rxK+XcA1/VI8nLcQQcgRiBMg01hTWW8h74uKJFv4cP9L40bFz101PI+x/hoS+QZ+vwKdDmJl/SWHmNXxG317N+uefP/r9D8tmVu3HHVrf7QzI043PodN4QN8gJfIzIwr+X0o8mmzlZAs8zwobN28/jd4XHBE7fJ+8R1zNGZI7d5llnTag23l7GdG1qhiGPYS+SrjNEXQkvsxJt/i+eHJz/hjAYfSKTvDfEAx8Go3+R2wY7lmR8JvpAaeuB80Hp0gPngtLH1zd7EcYiU5AoZIFMkA0yQlbITOHqu6H0knN8Nq+Rk8y1VIJJAQg8k32UhXyRJXKMD+kz13At93CvJhbsJnbUKY/AE/Zfmh5+vtd7VJ52623H6x6PjbN8bzqBD/1+d6vT3abNikDg/BRW/bebfqwoEfVxzvvRw7wlPJeRd94JLwL/2GOPxZvYMZ6hS0u1h+OO4N8dAUegPQjowcZgl/dgYxAaP2zjB6y+m4fa0gascPGGLw8bB9+TS955t/zpK19RUIStwqdgm5t8WWPlVZjAD4a/HgbDbw0Pf4g+27gj9I68dLvb/3yaMbrd6f9cWoOcwKehstDfSulHhsBjzIqs62zJPL9NI/Dyvseb1umVYvLGEtZN38CI3/WqG6IukkcbbUrCYPQ9mftMWJI7qH8IfRkE3k4AiMjbM4T+c4Nz3QhbkSlkgCwg8ciGNfF6ZZsNpUf2ea9tK4MIzarPeQS+VD18std7myWoaePifn5rMoEPvYeevt3tfjit3btYdfrHTf/VJJw970cP8yKAnMAv9JHjmTsCjsCsCMz6YHuxCHt8XjaBD6df8PSwceh9+eT9YAgn1753BpBag88MbW7ypY2VV3ECP/o/wtHRW8PgIkSmUQe7yl/q9X41zTDb7vY/Ezqda9Ma5AQ+DZWF/lZKP9oHgZ9G5BRKjZ4Qji3vO2HaeHoJ3cbzDnm3RD0XLCbDwgMXNixhzf28ggQ+E48HH7/HgIveSHeQAbJAJsgGGckLj+yQod67nkeY5e2exzGgOpXhqGBCoTQ93Or13pk2Hs77W5MJ/Fa//+PT2s8GqEbv4o/71cO88WccMo/X3Sb3wMfQ+3dHwBGoCoEyH2xlPGj31e7w3uc+I2we/KWp5H1jbc/mWAUKawU+BdrZlksaK6/CBH6vJ/CJ8NAH8HI14tjqHv67WYbZVqfz/VmNcAKfhczCfi+lH5VM4Is8X+R9x/tGG6Ye4W/+7MGwPvxAJkG1/U2fncA/tbxnL4EX3mCPDOSFzwpZryqyrxR9xmlR0FFRWA+3er13p42J273ep7c6/RP7TaHTIdS/cUfo92/lLSRpmNjfphB4tXtWPcybSNpD3EXincALaj87Ao5A1QhU/WAjTJ+Hurwjc7c3nDp0Rdhc+5Xp5P3AO/ZRWOPx2Uebm3xLY+U1IfBb4YHR9kxkYn34K014B3w4fPh5253uJ60Rps/b3f5vht4jeOxSDyfwqbAs8sdS+tESCPxMz5cwuHhDWB/90Yz9rRG70JcdQp+JUTaB5xlfhse7yMTNNLmXos8zEPhp9dntu1ud/imNg/a83e3/4e5FK/IhDAZfcqnX+7cWh6zPMxD4WfTQCfyK6Jo30xFoAwK1fbAVATecfsFVYePAb0wl75sH3k74bpE8o2sajU/UllX42gp5jV8fN7j4wvDg468Og+EPh8Ho32ca0HgFB6N/VXfhbnf6P59mjLFREa+Uy6u/E/g8dBbyXyn9qM4EPrxxeF9YH34yp199PKwPfyn1/yZ44NdHPxPWh381dxqM/nMqBopGeOMTaX23FP0pkTDXrT67nXar3z+XNi5ud7u/t3vRinzY6ve/Lw2LtN+cwK+IUngzHQFHIBOB2j7YMms8+SOcfd7BsHHw300n72v/47S8cv5vLD45bWrzX62V14RwfCbTmD46em1dBXupe3iQZoTxGyGk0+rtBH4aQqX/X0o/qiuBD0dH3xvWh1uZfWkw/Eh404VbwmD4E6nXNIDAl6URYfD4eioGYwI/+jCvv0wpqxT9WRECfyFtbNzudH8rBdfW/hSOHHnhdqf712lYpP3mBL61quANcwQcgYII1O1BW6jaYfOZ14SNtd/OJe+ba9th4+rvLpRh9kWNxCe7Oa3/p9XyCg8+fsfEo/bUGlR5wgajX6ujdMPdd1+x3et9JM0Ig5iH172O3alzDyfwufAs4s9S+lEdCXx48PF7sgkp0SzDPw7f/ARvXElWncATtRYGw9/MxuvC385QvlL0ZxUI/Hav908zxsYPZWDbyp+3O/33p+GQ9ZsT+FaqgTfKEXAEZkCgbg/aqVUPpw49N2wc/P0p5P3JsHng26ZmNv2CxuEzvUmtvqL18gqD0TsyDeoHH+cdy7U62Ewpywjb7nZ/e6vX25yWtrvdz6blsd3t/27avaH3el5XtZ+j9fpTEJRScKgjgaf94YHRo6l9aHDhd8K3/Qw7pI+PlSfwRy+8PhWn8bKdC38aBhfZZT7tKEV/VoLAd/o/lza2Xep2P5gGbBt/u9Q9/JZ0DHpB74KP/3cC30ZN8DY5Ao7ALAjU7UGbW/dw9rlfHTYO/mE+eT/42bBx4JtyMyr+Z6PwKd6s1l7ZenmFoxe+Oceo5p3MtTryCHxslJX1nXDMfYLQev0piEspONSWwD8SnhYGw5/f048Gow/Gm0GuPIEfDP/NHowU7bND4L8vR5dK0Z8VIfC/kDrudbq139ckR/6F/wr33Xf1drf/V2kYbPV65+eMvppVD30Tu8KS8wsdAUdg2QjMOsAt7T3w4cxzXhQ21/5DLnnfWPtEOHl1p0RQG4NPiW1uclatl1d46D1XZe5UPxh9R92E5wQ+mef91csSZyn9qK4EHlDDW97/zN3NIQejXwwPv/cZMdirTODD+hNHMsk7m+O95f28Gi7rKEV/VoTAp4aOb/d6/wJwQ+8bXhB6X39H6L22F/r9O8O9935teP3rL9PVLEHU/fetTn+URt63u92PhSNHnuMEvu4S9Po5Ao7AshCo24M2FYdw6tBLwsbBP80n7wf/PJy8+rbUDPb/YyPw2X/zWndno+Q1XmOabwhfJqDw5p95fqZhPbjwDy67Yck/OIF3Ap8kyUuSJLlu8g5tnXk9mD5z5pqXQtrSUsH3bxd+fRfdIjz4+LXhgdE7w8Mf4nVnlx0rTeAHo1/NHGfuH03bGLZu43Dd6rOra9vd7i9nENhPbfd6H0//r3/pUqf/G1v9/o/wes7dzBr2IXQ635jWPn7b6vcfpjlO4BsmVK+uI+AIVIZAbR9sQiCcPHBT2Dz40VzyPvbMX4FBWPZRe3zKbnDD86u9vMLg4leH9QvfHgajUVgffTQ8MLwwC+Zh8Pi3ZBrWR4d/Z5a8qrjWCbwT+LoS+Gn6v6oEPgwudDPHmMHo02FwcW0KdnUbh+tWn134LvV6v5pFYov8vt3pfnKre/jv7vM1ubv1qPpD6A2etd3p/kl6G7sfVHucwFctGS/PEXAEmoJAbR9sAIhHPZxc+6t88n7w98Lm2vMXBHit8VlQm5ucbS3lFd74xE3h6PAfhwdG/8/lhvGFzxcwiHdlEtZHFy/PY7izK/3g8dftXliTD07gncA7ga9JZyxYjbA+/KXsMWb0jwpkU7dxuG712YXwUq/36+kkthdm+r3T/zXG2t2Ma/6BTejS2rfd6z0Z7r33FlXfCbyQ8LMj4Ag4AnsRqO2DLTx28M6wufbxXPK+cfDf8D74vU0q9Vtt8Sm1le3JrJbyCt86ui73vdMPDP9JERGEweg7Mg3r9QtPhr/5s4vsC0WqeNk1YTD4G+Hee++aJ7EeMs3Yu9TtX0zN9777CKXez1FL/dlPQ+a8pxQc6rwGvgg+q+iBD4MLd2WOMYPRF8LgYpGQ7VL0ZyXWwHf7H0of22Yk8N1e2O50vxB6vVcV0e1lXkMdtzrdrbR2b/V6j9q6OYG3aPhnR8ARcASeQqBuD9rdmoWNg/8ul7xvrv3LcOrQFbs3LOZDbfFZTHMbn2tt5RUGo5/ONIzZ1fno8G1pG2khEV7XFI6OfiCsDz+Xmcdg9AuNl15GA+Y04jJyTf25tvqTWtvF/VgKDk7gFyegReUcBqNfyBxjjo42C5Zbiv6sBIHvdH8rjcju97ftbvf3wv4nMAuKd/+XhYcf/rLtXu930tpHSH04cmTP5ohzjv2z6qHvQr9/0fqdjoAjUDECsw5wle1CHzbWfjOfwB/8g7C59rvzpUPT1h/XFp+K9aQpxdVWXmEwemWmYbz7eqbRfwqDC/9DOHrh6NgTNhi+MQyGP5oeej8Jmx/fe+HJ8ODj9zRFSLPWc04jbpbiaqs/szSihGtLwcEJfAmSqDCLMBjdnjNGbRFJVLA6pejPihD4/8uSWbzo253uH233eh/Y6vTPbvV6m9ud/vu3e73f3+52P2uvzfq8dU//xwrKqfLLtrrdH8qqd+h03hBXaM6xf1Y9dAIfC8C/OwKOQG0RmHWAqw+B3zgYcgl+of8P/MYUydQWnyn1XtW/ay2vMBj98xwDeWcd+y6ZtwR9yufB6HvaLPA5jbhZoKm1/szSkDmvLQUHJ/BzSqHi28Ng+LOZ41PBZT6TKpeiPytB4LvdD293u3+21e//r6Hfv12bt6WJnuVIW73D37Xd7X44iwTz+3gd+WtfW/YbedKqNNNvoXfkpdvd/ufT6r7d6f9cWmZzjv2z6qET+DQh+G+OgCNQSwRmHeCcwCfJlUmSsAvv1UmSfGWSJGygx7ueX8SrjjA60tIiXoNUS41abqVqq8/AMn6H+2D465lG8n7I+9HR2eVCvvjS5zTiZqlgrfVnlobMeW0pODiBn1MKFd4eBsObwwOj7cyxaTB62QzVKUV/VoHAh273FeGRR542A7YJ12/1+9+XRoT123an/7/Nkueir2ViImvH/e1u/zOh07k2rQ5zjv2z6qET+DQh+G+OgCNQSwRmHeAqI6hTQ+gLedineendA19Lrdx/pWqrz2pSGFx8VhiM/mWmoTwLieddzQ994OnKu63nOY24WWCpvf7M0pg5ri0FByfwc0ig4lvD0dHj2WPS6H0zVqcU/VkFAj8jrnsu3+od/oci7PGZcHs89ntuWOIXXnUX11Hftzqd78+q2pxj/6x66AQ+SxD+uyPgCNQOgVkHOCfw7oGvnRKbCtVWn00dk/Dd7/uK8MDop8Jg9NlsozkvbH704bA+ejAv3NKW1/TPcxpxszS/EfozS4P2eW0pODiB3yf6Fd8WBhdfkvuWjNn31yhFf5zA5ysCnnjWyosIx+dw+PCR/Byq+TccPvw83lcf14/v293+b4beI1+aVZM5x/5Z9dAJfJYg/HdHwBGoHQKzDnBO4J3A106JTYVqq8+mjrsfef97ODp6a1gf/VEhIj8Y/nFYv/C3wyMfyDR4djNv0Yc5jbhZkGiU/szSsBmvLQUHJ/Azor6ky8MDwzOZ489g9Gv7qFYp+uMEfjryW73Dfz+NGPPbVqfzndNzWPwV253+z6fVcavT3Z722rs5x/5Z9dAJ/OLVwUtwBByBkhCYdYCrjMCX1L55s3F85kWw2vsbKa/wSHhaeOMTN4Wjo28M6xe+M9w/+rHwwPBUODr6n8Jg9Jbw4ON3hm8dHagWypUsrZH6swBJlYKDE/gFSKbkLMPg4gvD+oUnswn846/bR5Gl6I8T+OnIh8OHX51GjscEvnf4v5+ew2KvuNQ9PMiuX+/d00p3Aj8NIf/fEXAEVhWBuj1o6yYHx6duEsmvj8srHx//Nx8B158dfErBwQl8vrLV4d8wGJ3IJO/ro9/aZx1L0R8n8NPRD72Hnr7d7X4xjSRv9fs/OT2HxV0R7r77iu1e7yNpdYOYh9e9buqktBP4xcnHc3YEHIFmI1C3B23d0HR86iaR/Pq4vPLx8X/zEXD92cGnFBycwOcr27L/DW/+meeHwegLmQT+6IU37bOOpeiPE/jp6I8JfK/3ZBpJ3up0fmB6Dou7InQ616fVi9+2u93f5h330xKb8aXlsd3t/27avaH3+kOmRbPqoYfQG/D8oyPgCNQbgVkHOA+h9zXwddZo1+c6S6f+dUN/viRJki9LkoTd/Z+ZrGZ/L6UfOYGvt8KHo8O3Z5L3B0Z/GAYX6Qv7OUrRHyfw06EPva+/I43gjn/r9R6ansPirsgj8Jl17vbCPP+FI0deaFo0qx46gTfg+UdHwBGoNwKzDnBO4FfToK+3Fj9VO9fnp7DwT8URQG+kO2wQ+OVJkvAKpmclSfLsJEkOJknynCRJvipJEt5X/IIkSb4uSZI8g+/FSZK8KEmSr0mS5PlJknxlkiRXJ0myNpkUYHLgKyaTBbwHmvLrcggLJjKo474mMpzA10Wcl9cjDC5+ZVgffi6TwK9fmGcDtFL0ZxUIPDvJh8OHX7nV6fyDS53+/36p0/mvL5dW9i95m9iFe++9J/vOxf/jBL6x4//ilcNLcAQcgbkRqPpBi1cLo5CZ/ToZrFlAUkf3yGWhU7/fXZ/rJ5Nl1widiBOEOU70c8i7vO/PmBBt1mkSlgkBf16SJF+dJAlenuuSJHkpJCMtQe6dwA8DGE2wAC8mNXS2n/kNvPLwrHxCJAyGP5FKcAejTy9bqectPzwwejS1bevj11f+Ga+6nKOMqsfhaRNhtapP6N33fHaI3+70f3q72/2Y9Thvd7sfDoNBociHcM89XxXfr7y2e72P572ebQ7ZFr7VCbwT+MLK4hc6Ao7AzAiU+WDDAMMrhXcKLxXeKrxWeK/wYuHNwquFdwtDWV4n6lC3gzoJG/fI1U062fWRzObyHE48P23S52zE2vmP+q/0gbEGo9gm+rVN6AxjE2QA8s54dZXxvj934klnfMOzDqG8Po28G/3hOq7P88DbsbAu0hBuc/Uj98DXRZx76xHedOFQWB9+JpPAHx29de8dM38rRX8m/aiMiZta1edSp/NGEe2081avdzqEQJ0zjzAY/I3tbvd9affz21a/fyHz5or+cALvBL4iVfNiHIGVRGDWB1teyCieFjwpeKfwUuGtwmuF9wov1pUTw1heeAxXDOrYE2aJPfVTKktAys+e0+pA3aije+TKQn7x+SBTZFmUeLRBnxePajNKSOvPIuwi6ugFCaKuBGFXYoIR8n7FZNKRcHfC3pmMhIQzrn2tvO9Jktw4hcBrQjONwFMO5YrA1wnlWftR6tIqJ/B1EulTdQmD4Y9mkvf10cfC3/p59H+eoxT9aSuBx8O+3e3/YRb55vftbvdnQ+8INtVlR+j3u3n3j9+vfvjwKy+7seIfnMA7ga9Y5bw4R2ClENCDFiMSYzJrraO8TnmE5/qJV8p6nfBayQuPNwuvlgxXDGiMaRnXOsvojsm9NdBnFZK915J1W5bK11mGPrisukduVryXdX3d9dnqtNXJZeHVlnKFpfq2+jV9Wf1Y3nUmEEmQdRF2+jdjH+MT5IWxSuQ9Dp0fr31PkuSGJEluyiHwGN9O4D2EvlZ9LDz0nqvCYPSJTAJ//+hHSqiwxmH6Xp5dwf4Q42iWnH7UOg88+G71+w/nEfixF73T3brU6f7rrU7/7Fbv8D/c7vXeu93p/snU+3q9J0qQ4dxZECUQ7r33rnlS1hKBS93+xdR877sPfdMxqx7m2bevSpLksnTixIlw8uTJ8Nhjj4UzZ86Ec+fOhcnEZZOXUAk/PzsCjkDNEcDoxdAVUcVTbo1XvEcQ+LHhmvOgvXGy3hEvPF4qvFXci/dKmzcRSo+BjMGM8UyZJHnDROp58JNEpmWQy0CXwT4NWl2n+5SP8lU5nG0dVC8Z+KvukZuGc53+r4M+Z+m09E56KL2UnnL2YzYEhJ2wBFtwVp9GFjFhF1kXYad/M+4xPhEtxLIfxqyYvO+GzuN9T5Lklpzx0An80NfAz6bKi786HB39UCZ5Xx/9NeH1JdSCPkl/pA/S/7IcAytL4MN9933Fdrf7/00j47P+v93p/qdw+DDRj604/D3wrRCjN8IRcAQWhMAshCdvk6GbJl4prR2OQ+lF4vFuYTBjPPNgF5mXR0weMkuCMAQwyrOITwxNmlEfG/ZZHjmRdhn51HXVPXIxvnX+Xgd9tjpdhj7XGe9l101kAbnHfVzkPfawQ9ZF2OnbJIg7E5cQGKKGYvLOBCbeQIg55P3mJElu3QeBt8uJqB/jGnWv0yFM5yJgHkJfJ5EmCaHxYTD6z5kEfjA6VlKNS9Ef+paJ6pvnbQ51q88YZkLkt3u9j8xK0rOu3+52PxX6/VtLkmEtsnECXwsxeCUcAUegpgiURXhumRi2NpQ+jcTj3cKIxduFES0yL0JvST3kR0QeY9ISeepN4uFM0qHv+t8a9dxvibsl6yLs8srJwHePnJBtxrkO+hzrdEzorU5rYkr6Kv1tBtrLraWwAjvbz9XHbf9GJurTlrAzHpEg7kwyXjOJGrI7zsvzDnkfh85D3pMkuc0JfHYItBP45XaOuPSwPvxvM8n7+vCL4cHH2Xy2jIN+SZ+cawKo7QQeoMPdd79ku9v9syxSXvz37q+E176WScVWHU7gWyVOb4wj4AiUjEAa4YG0KoTUhtDneeAxaHmAKJQebxVeq5jE493CWMbbRTkY05D5mNDnEXlLemTECxZ9zzLqFU6b5pVTPayB7x45IduMcx30WToNYbSTVNLpeGLK6jP1R4f9mI6AiEIeedeEHH0buTDuWMLOeEQScddu83pdnPW8i7wzWfmyJElePiOBZyxhzGMygfHHPfBPvVqOyK2850sZa6Gna5S5ok2vkQsPv/cZYX3455kE/ujoMdP0eT+qXzqBLzCWh3vvffF2t/vLxcl6L+jaMfnvdN48r8Dqer8T+LpKxuvlCDgCdUCgLMJz28QrpVB6vFUyuiyJZ008xjITBBi0GNMY1TGhh/jIK4+xm0d6RNp1ziPvlrineeRiA1+G/Sp75Oqgp0XrUAd9lk7bCSoReZF4vMNZnnjpcdE2r+J1wiju62DKWEE/f9Zb3/rWF547d+6nR6PRJ7PI9iJ+j94Dz9jBOMJ4xySCCDyRAh5Cv/P2EifwC+zFYTD6nkzyvj7cCoOL4F/WQd+kXzqBL0DgBXro92/f6vUe3+72L4mgZ50htlv9/k+Gu+9mLGnt4QS+taL1hjkCjkAJCMSEhwcCxANjk3WgRT3wL594pfBOxSTeeuLJDy+XiDzeL8i8CH1M5KmPSI8l8WleSxkO1qhXOK2MevIiT3nkaCtl0l7Vwz1yJSjWkrKogz5Lp+0Elbzy6B4TUxDMaSR+SRA2oljb1xkLtDyGfg6u435+/vz5X1sEQZ+WZwaBZ2IHPUD+1NEJfI098I3oBQUqGb77fV8RBhf+NJPAD4b/tEA2s1yivukEfgYCL4DDffddHXqvfc2l3r3fttXt/tBWr3dyq99/19Y9/R/e6nS+M/SOYF+txOEEfiXE7I10BByBfSIgwoMxCamAYGBkQj7wGuE90m6xma/ZmGbQ7uf/4XD4kVOnTr3trrvugmBjkGP0YqBTV4wDS+IxGmQ4xCG1u0Y9eZEnee+nTvu9J8OgB+MmeOT2qVpLua22+owXGG8wXmFD4tFNvMZZ+rwUEBtQaFpfB0fGiLH3/Qd/8AczX/O2335c9L5J9JHexmFfp8nEoRP4p4g7UVq8uaR2HvgG9IFCVQxHh9+VSd7XhyEMRrcXyqj4ReqbTuD3QeCLw9z+K53At1/G3kJHwBHYPwKW8GD8YlxCKvEWLZXAy1iGcE8mFkTiFXpsCTztUBKBl/eddo09cuSlfKs8ZxD4pnjk9q9d1d9Ze33GKxzpczwpJT3GEPYjHQGRBPo6RIG+rok6xrArf+AHfuDmKvu4yjp//vxfTEgpEzVsDBa/SpOxSDKn/nWTs7Cdi4A1fRO7dLXzXwsgUIr+0J/MMrzW7UJfAEe/ZD4EZtXDTAdV2jvg+c3fAz+fgPxuR8ARmA+BNMKDlwhySSgw3iM2dMKb9GIZqVWe8ZZPNgPDMMe7lua1xBBWUkjtnvWw5FG15104NdwjN5+GVXt37fUZncA7bLzwTDBleeGrRa8ZpWGYyThL6+taIrN27ty5f60+WNX5+PHjm5MNPF8wWYLEUiSibViuw14IIvAQZCfw7oFvRq8rXkv1zbkmgOivTuCLg+5XXobArHroBP4yCP0HR8ARqDMCDHIYkfJgYVxC4AlbZ0043iO8SHiTrsO7VJUhrHImBJ46YZhTPxEe6iwvvMg7Z367zPtOu5ZB4Fvgkauz/sZ1q70+o9d4h82kFPosj6xIHRMRtMWPyxEAF8nZEvjdSBtFEb35zW++4fTp0++pYhM7+vmxY8dOHjhwgMkZXj2H11Ab2CnahjGMSUhN2DiBL4/A04fUf7zvXN5vqvpFfRNZIBOe2UxcyabQ3jpampfpGGgogXc9rErT8suZVQ+dwOfj6f86Ao5AzRDIGuRSN7LDuyRiXdV5c3PzuPFeWS88JF0GmyXw/KYJifF62IkBcYC8qqq3ymmBR65mKptbndrrM17hiTGrSam0qBIReNrjx14EwAR8sibrIAtaBkQUEZOQbJ6pV8NBrll3zfpr3pZx/eT1lxBvJlb0mjjerMHmnCTWCcdJ//FKOW3eSV7kbcPnqQPkBXkzfmkCUpOPdZOx8GUcZaJhXwSs5BB61sizGSpRDVqWAK5MjFhcNanr/Wdvn6niG3oj3dEkOrqOziMjRfXJKYAskWkecdKbbOoSQu96WIUmzVfGfvUw7zWWr0oLo/cQ+vkE5Xc7Ao7AfAgw2GEIy1iDTGgjOx64e9bB413Cy1SFJ344HH70xIkT77j22msJ45cBHHvhqbcMYRn0aov1yGFArJEXeZK3CPaizi3yyM2nYdXeXVt9xguMNxiv8MSY1QaGNqrE6rMMkWoRrH+SiraSAAAgAElEQVRp4LJoAn/r5K0akHhL5CHt+g3iznWWvFvCIe97HD7PuBQTzTqhLnw1jlZF4K/PGosnEy2aGGEiBmzjpQmaCLN9CD2Jk/qVPdcJ/zrWxWKlzzGutk8iAzzRyIQJNesQQHaaTEOmecQJwqxoFibhkDmRgdgDWo6iaBbKp27xwW/8V1Sf8yYUmPBzPYwRru67dM+ey9LDvPHnLifw1QnZS3IEHIFiCDAQivjyILQz5jwk5cHaDaOfeKzwVslTJU9U7KHiu/7D6JWxi5eL+yEyeKz0znhm41lrz8y8NdJ4YNsQ1CzCo3boQW0JvDxy5IURICOCsiiTsq1HjrpZjxx1t4Z8Xlvb5pErpkn1uKpKfZacpc83RvqMoYfxiTcWfcYAxfskzyE6KSMUXaX/idihy1kGaT2QXl4tZLwV6e9grf7OGGb7O/IZ736e4YVnfKPfk0TW9Z3/YrmLvFOGZC2ywQSiwudtiG0dZQy+sxCe1BBo44EHF7C25/gzcsgzoHlOxPja3f3pS4rOUj8SkWeCVwmdUbKGv3SKsx87CFhMLFbCT/1P2HIGc8YwZAB5RyZ69tIXkRl9gz7C2IhM8+QuAq8+lUXgKTurL0mfuYZ6ZU1IqU55BN71sPreUZUe3pAzgegEvnq5e4mOgCMwBQH7cOPBK9JrZ833eOH10J0QXBm5GLjyTIm0Z3mrZPg2jcDP0kbIv33Y2/WwTfPITVGhWv29TH12Al+NKsigw2AXacAwl8cPojyOuDGvwxRxYCIFQ51JOxtKb4k84xKypA+nJf4jafziXk3WkHcc4p02UQPRgQDRhrod6kOaCM0iPEXWMGtyFnyUIG0xgR8vZcgxoMFb3k9kZyfE0iZJNCEmMs+zjUSblNAdkgipSKr0q25yqao+ar/wED7CS/hxFq6cwZoE9orkUz9ERnYpCzJEH5DpjTlyp29p6USaB55yKJO65fUl/uMarlVUAA4KTehrUmFaSL/rYVVauBNNobEI+S1aDzNfO5okCQT+MhKvEPrTp0+HM2fOhHPnzoXJxKUmG+dZ+lEd0l6SI+AINBIBDZAMjjyQ04xg+/DVLPV45twYupBykXl5qazXSh4rrrPGLw9wawDjrWTQwwjG6LYz7vJi7ccDbw0J8iRvyqAsypQxn2bIU+e4fbZttFftw+CnfZa8g1mTPXJNUuwq9TlN5lafbUQJuqawX+uBz1sSIkO6SfhXVddYzhAIxi7IA14/JiDl+WP8YhISAoEM1O8tkUdWEArGNcYAjQPIM078JwLKfYqykLHG2IKM7USdvMPUkbqKcNCOuh3ClucBhKcqAp/nAWNcZcIE7MFcUS3qU8gYQobM6VPgTb0ha+iEEviTaJfIJ+1EHiIIIq6r1v/UXrVfeICNJetgJxyFK2ewBnOwRwbIwpJkRb0hO2SILJFpHnGi73GtnqHWHqCPL4LA54X0ux4ufrRalh5mvnY0SZJXO4FfvOC9BEfAEZgdAc1uymDjYSyjTUYwBqndfMYSXsiqvFaQ1zSvlYitvFYiOjKEZQTzoFb4vMKN8wxh6ixDQ2cZGxgZPOBl0Gsdntoig4IyLYmXEU8dbdvy2mUnJTBMIAO0ibwhDGqLlgLEodNqB7LwYz4E6qLPeJmkz0zgQOwgkugzhq0mpNBRkQr0wJI7jBk/LkcAXCRnEQyIhYgEfR586fP0uZjEIw/GGUi3+j/yItFvSRCHOOk/rmPM4F5NODKe2H5O2fRz6iIZQxptX6+jfIUt9awLgWeyLJ4YTSPxyBrckT3Yi8wjA55pltSrz0km6ns8R9AtEljUUUaX94j5flE71W4wUL8CFzAScVcfE55gSwJrMI/7HaRbz1o9Z3nG8mxFprfkeODrRuBdD+fTs2l3L1MPb83RQyfw0yTn/zsCjsBSEGDQ5MHNA5sHdR7xhYRg/FrPNUau9V7x0E1L8lyJtHMfBnGWIZxGdjAaMCAwJqgrdRZx11ntkEHPPRgXGBYQJwhUlkdOBoZtkyX0ee0CA9umtnjklqKUcxRapT5Lp63sRdxjYofOQSTtJA6GL/pMnxOREIGgHX6kIyAZa9wSyQBH8LR9PibxEAqINqSCsYwJNpIIPXKDmKcl/iNxLfdwv4i7la9IJPKFvGvMikliHWUsbKnrIgi8nhU6M74yruZ54IlyUvQW13IPY21M4hX5wDiPDJiAZtyPCT36IbnERF7PlFUl8Ja8ZxH3mLCDL1iDuZ6xyCIm78hM8oa8I9M84oSsuYe+SF+TB55ymCxAhugoMkNeWYfGCa7lHu4lD8Zj8iRvyqCsPA+862EWwuX8ztij8adqPXzZrAR+Y2MjnDx5MngIfTnC91wcAUdgdgTsgGkNYR50PKj1sIN4WO81BqyMXQypWb1X3BMbw0wQYFxbYxjDgDrIGJbBZY1hkXc76POw5lrbDkUUWI+cJiWsEU/d9tMmjADaRF4y7MFMnqG4HU7aZtfXaXcsQ59jjywEr43kbhr2Vf2fZejFfV4Tdxjr9EEm79T3ReQZbxgD6K8i9ciOJJKu77pG4xR5MFZZ4hiPVyLvdsJR5LAqvGYpR/2nTgRem6AqhFkkXhPA9DeNt3p2IGtkDqGMCb3GYRF5PVM0Hq8Sic/qS5a88wwFK9kDMWEH37h/aZIM2fAsRVYi7+PQ+ckGkbflEKe6EXjXw1lGktmuXbYevjxHD1M98E7gZxOwX+0IOALlIyCDLSa/GJ4ivzywZQTLANYDWoYuD2rIq0j9LB4saxDLGBbppWwMcQyILGMYg1hJ7ZABwj3cm2bMU5YMeRnxZbQnnoQAO9qhSQi1w05C1NmoL1/rFpfjMvVZhE9kQgSPPpOlz5AHSxykx7TDj2wE0uRs+7zGLvV7iHVMNOj/JEgfslKi/8ZJ/4mwcx9y1ZII9XGRQ8pXP5d8GZvqLl/huggCj4cTz7sShG6X1OUY0GyIyr4jhDDHJJ48IYiaNNOzRHJCRrGc0AX7XEFWlsRbAt/2cVnypp3xs1MT4Pb5CXboOn1JE2Lgq35Ev0EGPEdF3pHRrpwnMkSWyDSPOKUReMqkfPo1ctuPB557yYO86NfUtYgH3vUwezye959l6+HtOeNPGoG/EwJ/6tQp98DPK3m/3xFwBOZCQINn/ADHAJUhjGEqI5gHnx7YPAD10JaHigeikkiNvusaGVrcb40t8pbHxBpZ1CUmOzKIqX/cBgxQDGfu4V5rhMQGyCLaonaAWZZRbw1F6u9HOQjEupBG7Balz/QF6bSIQ0zeNZEj0pA2keP6kK8L4BPLWX0eo15jl/o98mY8sQQEuZDoqySRvbSzruHMPRqjyI98yR9iQHkxIUyTb37rlvevMKXO4Eh7aBvtBRcRHiZqx17VHMNXnnIRd872s4g8S1EyXyeWlf88vw+Hw4+cOnXqbXfddRftoo3Tni/Lk8hiS5a89exXH9p9boIRWIHZPJjPeu9kozt0DF3DbsBOoP/R50TgGduLhtBzLX2Te8mDvMiTvKXPma+Rm7X+Ra53PdxV7jrrod2B/s4kScZpc3Nzl8CfPXvWd6HfFaV/cAQcgSoR0OCpWXg9xK0hbMPn0giwJcEi9XleLEvaRXRiozjLILbEVx6SuA1cI+KGMcKDW8Z8bMjzIJfRrnZQP9pRpC3cQ4rbIcNehA0jEUypFxhrAkJtqFLmbS4r1oVF6zM6In22eiCiJ5KHPmfpgtVp6u/HdARiOYOhlbXt9+AO/pBRS+aRDeOZEmNQnPQfZ8lSfVsyFXHPIoLq69S5zvIVpuBYJoGHuEPGROJF5CHxlRN4kSuIqZl4seNz3B/rLLPpPSX9Cuminvv2mQkW4+clGAmvKs8ZBJ4xlT5If6aOsxJ47uFe8iCvpRJ44el6eNlkrGy3OuhhGoF/pRP49EHFf3UEHIHqEZDhFs/EY8RZQ1hGcEyCeRhChJVEiNPOukYEJybuGNg8ZGUUU74lvmnGVZoxkmfMWyMew1xGu21HWt31m9rAWe2wBj75g1XRNlQv8XaXuCx9LqILGCXT9Lnd0imndbbPWxIS93vwJmkSj7GFRP9Uor9OS7pW96tvky/5541TmqSjznU+1G8WReBF4nWGyI/Dq0VmqjzjAZ3IHZkiR8mQ9sfPmTrLbT91k6ztM98+78Hkyqo975L/RC/YX4RQfCL2mBxlfMX2oG70uf0SePIgL/Ikb8qgrBer/CrProfjpUV11cNXyeueJMkrlZzA72fI8XscAUdgEQhYY5iB1A6mPCQxbGIjGINWRNgSenmsRIp11u86F/VmFSU7cRswwNKMeWvIT2sDdVX9dVb9ORdtAxhaoxB8m2LUL0LfFp1nrAuL0Gf0IdYF6YPIIPqFsSmyJ4IQ6wO6IH1YNDZtyt/KGfzSxi6wFjHROKaxjLFACRmlJf2vM/eSyMvKM5ap+rjkSl3rflBH6lsGgddbGuR9txud2s9jL/z58+f/okrSRFkT4sSzi36K7JGrnjerRuDVT8AALMDk2csg8OjCZK8E9jdgGR7RfEyeM+YiL+pH36PO9LO8vsV/XMO13MO95EFe5EnelEFZ17keVj5EacxBRvS52ujhuXPn/nJC3kXcX5EkyThB4B977LFw5syZQAj9+fPnGU/CZOJJSz9YOkqEnnQXuwD9Y4xhjNWzoXLQvUBHwBFoFwIMpBpMZQznkWAMWgYjCAqJBz5J5CXvrGt1L/mQyFPGsQwpBjpLfqmbBj7qqyOv/tyvBwMPccpQ/ctsgzXyrXFfpP5qh5/LQSBPH9J0QfognZSO5umx/tO1nHW/1ec0nbYEIU2fy0Gh/blIzpw1NmAMyiDUGKYxANlL/owxsybdz5k81bclT8pVPVS3pkhBGNImcEGH0XGRHYxRjFKtGc70WE5CoPGuY8ySIO1KkCV9Hnvhjx8/vlk1gd/c3Dw+mYSjjfRbxgARQzCQLMGlbYdkTRtpK/pM28EALMDkABhVLRd0IeUVckS7MWFKvdBL6ioZ5cmH/9RG7pFOkxd5SqfHG9m5Hlau5rXVw0cfffTcxOMu4n5HkiTjxCvkRODPnTvnBL5ytfECHQFHIEaAwVQDKkYoDz6SjGAZrxh3PAxJkBMRYhFYkSEelnGy1+heERzyI2+VwwN6FsN4nvrHbYjrre+2/nxWG4THPPWP5eHf50NgHn2I5Sz5x+f4OteH+WQ2z92Sd9oYZscyxpQ4Mdakpfg6fVd+nEXYOds6zNOWZdwr3MChTAIPWYe0K0GW9Blyf90111xz87Fjx05W4QEdDocfPXHixDuuvfZawqfl1WXyjb5N/6XtevZIpsuQxyLLlKzRZ8mbtoMBWIy91GAEVmC2aCKP7NGBAwcO8LYBeTG1gR0h70Q4UTfGXMmI/kdbsg7+4xq1kXvJg7zIc886eMp2PcyCciG/104P8bw/+uijZ9fW1tiBHvIu4n57kiSkO+Id6N0DvxDd8EwdAUdgHwgwqGpgjYm8Hvg8EEW0OfNAnTXZ+8lPKTaSZSCrXtOapOt0n4xt5atyFtUGlaNyVQ/Va1r9/f9yERDukoPkIjlJH6w+zqrLut7moXxVjspVPVQvzn6Ui4DFVp+Fe1ln5WvP5bai2txoB9igt+gzZK4MDzwE3r5aFA8+3zlD5CFreOuvj18zxqvGJkazjGed+Z2k93PzarKbzavmyMvuhK86sN4ZUqjQVksMncA/ReBFcAn/BSswAzvkBpa7+xdM5Kb3uyMDZHHrRDaSk+Rmz/rPviYQubGsAr1Q+Dxr1TXRQnSAJlkYVxlT0dusg/+4hmvRae4lD4XRk/eeMHrXwywoF/K7xhzko3HHTiRVoYfopEg6Z+tx5z/pKeex/jqBX4gueKaOgCNQIgIMrkrW6BUR0YNRBMWeRV7is73GfrZ52rJUPudZD3uvzdOWZetgP8f11nd7jf1s87Rl2TrMWn+/vlwErCysjKzsrEztZ8k/Pttr7GebJ59Vnq1Dua3z3GZFwMqiyOdZ82/a9WCAnqLjZRB4iBjkHDImwg5phwiSIGgi8SKElsRDAiF3kHSSNaT1G/9znRP42bRNsmbMkrzLJk6zyA6vO7LXsgv0Qt73OHyeejJRSt3RV9qSddh2co/aOF4ikPE6uXgyyfUwC935f7fyWZYeaiyx44vIOv+hx9Ll8TWEz58+fXq8/p0Qeta/+xr4+ZXBc3AEHIHFIMBAGyeRkrLOcf58L+tIy7useiuftDLKqr/nUy4CabKSHMs6p5VRbis8N0egPATQV3RfhvS8HngIvDzflrizjp4kry5kPvbE3zjxpluPLkRKZEqfRdy5jnvwBMv7zkZ6dhKBOjBpQOi8PPDy7HoI/VPkdjeEfrIBF1iBmZ1wGS99mOx1QKQDmIM9MkAWsdw00RLLDeLOPZa8M9mDfsSb1yl8nuVq6KgmRtHbrEM6zbXcw70Ko5cXXpvZUSZl24gQ18MsZMv5XfLJmkiyMlqUHjKGKGpE+hmPM/p9TOQh72xgZ9e/O4EvRyE8F0fAEVgOAgzGs6Tl1DK71FnqzrV+tBsB14d2y9dbtxcB9L0sAo8X0xJ4edxF3CGEEDRIvIi8yBP3jd8Pb0ihiBSEL078FxN3lW8jAKgDZVEuodPWs+ub2D1Fbnc3sZtgpDBzKydNuCArsEZeMZGP5aTvyMvKzE60oAM2dF5LHLR5HR50okMsgd+rxZd/Q6dF4BVGr8kphWirjZTteng5hov6RWOO5EOUhCZZqtJD6aPO0lMmoexnvo+JfBqBZ4+IKIKEsc5OFEqHpb/opduRi9Isz9cRcAQcAUfAEXAEHIEVQEDGdBkeeEgdYfEKn4cYibxDoDFsSfoMOeR/hdRDvLk/JoiQxDhBAClPpJ37LHGX513knY3LIO9Z3neFZxfx8DZVLSRr2oj3kzZbcmu98GAFZppwkSceoisib2VlCX0sK75LXsjWygo5oQNM7kybYCkSPi/ZqK1qZx5BpGzXQyG3+LNks0w91NiBXpIUwaNJQUWWQPDHJF6vj7Ph807gF68sXoIj4Ag4Ao6AI+AIOAKOwF4EZEyXTeDTCDQEjdBlnfMIImH4EHKRekifTfqP6yCUJMq0Xn95/CmHcq1n13rf5R2D7K0SgZfMY3IrDzWYSUYiuRB5MAZr4T6rrJgEiPUDnUA+em2clQ8TDdb7js5OO6TXyJN7s7y8lEnZWRMVs7bN9XCaZHY80IqQoM8tQw+Rq5WtJg0tsWfiCSKPR/5m3v0eh887gZ8ubL/CEXAEHAFHwBFwBBwBR6BcBER0ZEQrzBhPNQQOj7m8k5DmvPfAY/xCskVi5FmFHFkSjXcX4sTZkkR55C1JhOhB+NIS/5EsaScPEXfqDjlTeZBD1tfGa9/TvO9FSGK5klh8brRJ8p7m/QQryQgMFTkBtmXJKdYLyUfk3YbOzzq5ErdT+k2erIenDHRB7XQ9XLz+qYQ66CFjhiaiGEMYsyD0jF8i83jmIfF44W+CvDuBlwj97Ag4Ao6AI+AIOAKOgCOwLAREdERw5iXwkHzINsaxwtchfxAkiDSEiYSXlzMTBfwOSYTkx0RRZJHJAJLC8vWd/0mWtJMP+alMyqCsmLzjeZZ3d1aCuCx5zVuu5C0Cj9zlndZu7Qqlt/IBy0XICNkjH/SB9cIxeU+bXCmKQdxW8tKSAZF4yqRs18OiqJZzXSybqvWQ8YKkcURkXkSecQwir/D6G9PIu3vgy1EGz8URcAQcAUfAEXAEHAFHoDgCMqQXQeAxkCHkEGpL1CDSECfO8oKKQIkoWrIoUo/H1iZ+V/6WtMfEHYJmyTvkDfIOmYsJYts3mZK8bQiziK1C6ZnEEYmPJ1rAVjICc5LkYGWjz/pP8smaWMki7+illjXMKpu4rSKJaSTe9bD4mFHGlbFsmECrUg+lu9JTTRQq4gciL2/8OJT+/Pnzu6+OY/d5yLsT+DJUwfNwBBwBR8ARcAQcAUfAEZgFARnSZRJ4jGA85SLwkDa7vhlyiKeVxGeReUsWFb4N8SeJOKaddQ33MBFAkpcfYiZyCDGNyTvtjr3vYNLWg7ZJ5rEXHmJrSTzySZMN+Fr5pMlEv0k2nCWfWDboQFHZzCqXom11PZwV2fmuX7Yeoosk9JTxiYkmeeTljVdI/dgLbwm8yLsT+PmUwO92BBwBR8ARcAQcAUfAEZgdARGcRRB4vFt4ujCS4xB2ETYINZ9jMg/xFqHnXpLIuc76XWd52kXaNVGgsggRt573VSPv0o4i5ElrxYvKZpp8isoGL6yVi7zvqrPaUPSs+xRxEE9aoA+ztlX6p7P0T+eibVUEiG2vogyod9uPWDZMpIGF9cTPKpuieqixBRkyuaSIH5F4JiBZCjTe94Nd6vG6KzmBb7tqevscAUfAEXAEHAFHwBGoLwIY0ZAGDGcIBYQNryuGLcQbzxTrRPGqT9vEDk8VYacYvvLAZxF4iDvGuTXQLVmUR1QeYEh5XuI6EveJuDMpkEXeIQnW876qxEnEVuQpj0BJPppssTIS/mnnLJlIB/ImVcqQiyWKcXvTyKKdVCqjrVk6CNakVdVDZCF5xBMraXLJ07+8sUH/STelt/wOkZcnnrGKSUfC6fHCE0Z/GYG35N098PV9sHnNHAFHwBFwBBwBR8ARaCsCsxL4l8QGrL5Pdmxm4ycMX7uJHRMBGMkYyxjPGOIi75ytF1TkyRrrkChLpEQIddb/nLlPibwsSYyJosiTJVAiezq3We6SfRESJRlJbsLWyku462yvkRwkbysLyJpkAZGT1516lSUH5VOUNNr2xu1Q++KzvU44Lau9y9Zb4W3Pwt6eJW/6YNYkkmQhfC3utu9rPIjP9hp91jXyxOOFF4FnwtIS+HEIvV33rjFvQuD5H6LPJCf3MunJmMckKJMG1JfJUXRcOr1s+Xj5joAj4Ag4Ao6AI+AIOAINRQADG6MS4znPA69w0jwCfz2vmZsYs1yPMUtIKuGpGMiEt2LQimhbkjPNOJfhPe1sjXvlyVll0UYSpFHEEcNaRMKSRxnbIiENFXFutdU2kSrhEBMqMBJmnIXjLGd7P/mRVI7KVT1Ur9zK7+NP5atyVK7qoXrZus7SRl1r71eey2jvPiDa9y3ClrPw5SyMOQvn+Cy8hB+kXcSdvmv7su3j08aDtP+5n98Zi/DCMy5ZAk/0EAR+zxp4S9rt58lO9RB4jXlZBJ42gwf4+OEIOAKOgCPgCDgCjoAj4AjsGwGMSoxLjGcMZQzbOIQe45Tw+DwCz/uS2bEZLzzGL0YwJJ6wVHmk8HjJK4UhLXKdZaAXMdbtNfazzVMEnrPIAWcRB84iWiIXIh4iIyIo+wa6xjeqbfshX8ItPgvH+CxcOQtbERvVY9FQqZxVae8i8RSWkqXkK7lLL2xfE1GPz7Zv2j5r+7Lt4/ZzGlnnN3sNn/nNeuC1Dh4PPOHzEHgtGWIsG78L3pJ2+3lC4LV0KM0DT91pJ3iAkR+OgCPgCDgCjoAj4Ag4Ao7AXAhgVGJcFiHwL7XGq/2cJMlNSZLcYAxaG0pvvVIi8RjRsdEtw7qsc5w/BrwlAyIJIg5gIKIB8QAXERIRFBGWuUCv8c1qnz2r7WWdbd76vCxIVL49l9VO5WPz1udltbesctUOtVH9hD5D31E/ok+pf6m/2T7I55hki2jH/bescYFJRIXPs7yHKCEmGiHgCp8fT1hOxrSb7FhnP08IvhP4srTK83EEHAFHwBFwBBwBR8ARmIoABngZBP6WJEnwwttQ+jQSj8FM2CoGNCGsGNNZSRtQFT1n5WN/tyQAgiDyAJGwHnqReUvkRVZEXqaC29IL1P6i56bDULSduq7p7Z1Wf7VT/QHybol7TNotSafP2T5o++asn4uOC7qO/Plsybs260zdvG4ypt1iSbv97AR+mqr4/46AI+AIOAKOgCPgCDgCZSOQRuAh2DJs8UophD7PA39rkiQ3Twxewk5ZD49nKibxWhMPkSd8tYpEe2zCgLcTCCIUIvQi8tNIfNmy8PwcgSYgAIGfRt7pQ/Kkq39ZAi0SbftlFWMBZTD26PVxRAdZ8s6Yxdg1Dp2fjGm3WtJuP+cQeNpFe5m8YBxhggPM/HAEHAFHwBFwBBwBR8ARcATmQqAsAn9bkiSQeIXSi8SzwZMl8Xo/PESeSYIqE0Y7CQNeEwgY2jGZh3jII59F4uWFnAt8v9kRaBgC0nvGjTTPO8RdHneIuyXt9DURaJFo+mOVYwBlMfZo13lL3vXaOMYulgMxljGm3WZJu/3sBL5h2uvVdQQcAUfAEXAEHAFHoAUIxAQeoxtDG8Ma71RRD/zLkyR5WZIkhNLHJF6eeDaHYpMojGZ2qIfMU0ZVCaOdhAGvCQQReoiFiDwY4I2HiLB+15J4rfUFN8iMH47AKiEg77v6gda700foK/QZhckrXF2kXWRd/U/9sar+TzmMOYw9jEHasI4JRut5F3lnLGNMe7kl7fZzBoGnnYyhjCPg4R74Veoh3lZHwBFwBBwBR8ARcAQWjIAIPJtOYWxidEJkMUIxsDF0tStz5i701qht+OePnT17dvTt3/7tGPfyxIvEx+vh5Y1csIg8e0egFghI32PvuyXv9BnGEMg7JFaedjzfjCci0ZZIM8YwUVhVom+zWR1Lg/S6OIXNx+SdyKI8Am/fA087aCNjJ2OoCDxjq4fQ10KFvRKOgCPgCDgCjoAj4Ag0HwFL4Al/xXuG8YnhvYoEPjABce7cuX82McAhJFoTjyEuEg9uJPfCN78PeAuKISDvu8YMed+Z4NKa9yvuv//+rzlz5syF4XD48YZP5o3Hgrw2mPfAM8kpAs/YyRjKWAouTuCL6Zdf5Qg4Ao6AI+AIOAKOgCNQAAEZ4xiZIvB4zzBCCXUl3BRvFZ6qF+cZs2377y1veQvtVig92OBpFIEnhNgJfAEF80tag4AIvF37Tp+gbyh0/sqzZ8/+YtvGgqz2TDa8Y2xkrGCsZNAJEPsAAAkdSURBVMxk7GQMdQLfGtX3hjgCjoAj4Ag4Ao6AI1AfBDDKMcgh8HjS8DhjfLJulbBXQl0JOWWd6HXnz5//iyxjtm2/40mcbMIVe+EJh3UCXx8d9ppUg0BM4DVmQODpI1fSZ9o2DuS1hzFxMjYyRjJWMmYydjKGggljKjgxXoCfH46AI+AIOAKOgCPgCDgCjsBcCIjA41kWgWfn6NSN7I4fP76ZZ9C25T+8iBMMMMS1lhV8rBfePfBzqZ7f3DAEROD1zne79n287v3BBx98QVvGgGntYDJzsvkda+lZv8/6fm1gxxgqAs/Y6gS+Ycru1XUEHAFHwBFwBBwBR6CuCFgCj0FuN7K7bB38gQMHbjp27NjJtnriWbf72GOPPfGGN7yBXam1Mz3kRF54S+DdKK+rVnu9FoGAxgpL4OV9p4+w7nvtzJkz759Gftvw/9vf/vaNJEl49Vza+ndN+mm88LFiERrpeToCjoAj4Ag4Ao6AI7CCCFijHGMTg5y1mwqjZ03nnjD6JEmun7wqbvc1S+zUnCTJ7SmJ30ns5swrmXivMvfdXGHitXakGyfvd6b+ek89IbD2XfV40miv1rJCSuRNAxsZ5B5Gv4KdZYWbLO87RDSNwNNHxptfftM3fdN1p06d+idt3cSOyUsikdbW1tixnqVFCp9nzFD4vNa/M15orABDPxwBR8ARcAQcAUfAEXAEHIG5EJBhjpGpjezG61lNGH28Gz2vXLIkHlIOOYekj1+7NCHtIu6WvDuBn0tcfrMjsBQENE5MJfCTyS8mwZgMY3M3SC6TZEyW6XVtjB8QYCbVNMFW5aQek4iMRbOMXdxDXak77Yi973H4PBN+jKmMrb7cZilq64U6Ao6AI+AIOAKOgCPQPgSsYa518Aqjlxdem9lhkLPeE8NVJF4GOMa3NYplGMtI5j+SjHQZ7VWcqWPsfef9zRAKQuXZRZp24UnjVVCsZdVmVHgVPYS+fXrvLZodAcaKLAK/G0I/6Tv0IfoSfcq+b50+R98jAsaSeI0jVYwHlKFxSOOSxilFCem7xizuoY6WvGvte7x5ncLn2TND69+dwM+ub36HI+AIOAKOgCPgCDgCjkAGAhiXGOYYmwqjlxd+HBZrvGoyyOVRwxgvaohbIo33rYpE3ZQgDdSXyQeFzou84ylU+DwRB/Km+SZ2GUrjP68cAprssyH0kFQ74afNL+lD1gsvEq9xgz5oibz6aBVjgsrQeJQ1aaD/uZ76UV+NG5rwK7LchrGVMdYPR8ARcAQcAUfAEXAEHAFHoBQErGGuV0PtvtfZhNKzxpN3HUN02bhJobF4sTFsrVEOWY4TBrAS11aZqB+JukIiRNxphzzvGOMQD+t9t+vfISsKiZVRDnZ+OAKrgIDGCXnhNVZoIzutg9crKEXi5Ymnr1kir3FDY0eV44HGIc7xOKXv/Eed7LjBmEc7GAP13ndN9tF+1r4zdtqxwr3vq9A7vI2OgCPgCDgCjoAj4AhUiIA1zPHCyzCPSTy70mtTu9gox7CFFEOOSRjnaUn/V3WmTkrUkQSJEHHHEKctlrzTTjyJ1iD3DewqVEgvqpYI2HHCeuHpG2ljBRNhlsTT15gsE5FXf1T/tONHVeND2hjFbyqfOsVjhsYLbXQZjxUi7x4+X0s19ko5Ao6AI+AIOAKOgCPQfASKGOaEkmOoQm6zDHPC0DHOZaBDlLOSrqvyTP0gECRL3FmvizFOu0TeFTqv18dZo1ybUrlnrfm67y0ojoDGCfReBF6TffLCs/47HivoW/QxJskgvyLy9EM7ZlQ5FmSNS/pdddGYYccLRenYsUKed5/oK65PfqUj4Ag4Ao6AI+AIOAKOwBwIyDi34bFaD2+9a6yJJ0SWsFEMc4xZGeeElGKgy0jH6LXGur4v46x6UUeIBIl6yxinPdYg18Z1CofNen0cuPnhCKwCAuh6PE5o3wwmuOgrTHjFJJ6+pUk/jRX0v6zxourxwU7qqex4vNBYwZhHexgDGQvTonR8mc0q9AZvoyPgCDgCjoAj4Ag4AktGQIY53jVIvELp00i8PGwi8hjnGLaW0FtDXYQ5PnNNlQmyTlJdqbeIuwxyed7lUYOYgAFGuUJiff37kpXVi18aAhon6APxOCEST98RideEH5NjIvLqf+qPVY4Bs4xLaWMF4wSRSIwTWeRd4wRjqUfpLE1VvWBHwBFwBBwBR8ARcATaj4A1zm2ILARWxrk8bBivGLEY6Bi0GLYy0jHUZaxDkuuSVC/qSZIxThtkkFvPu8JhRd7BxJJ38PLDEVglBND5vHFC6+GnjRN2rKjL+KB6aJzgXGSciCf54nFilfTD2+oIOAKOgCPgCDgCjoAjUCECsXEOWbVEHkPVGujytInMW0IPqRexhygvM6kuOkPYY9IOcac9ds279bxbo9y9ahUqpRdVOwRE4BWtY8cITfYxTtCXNEbQvzROqP+pP+q8zDFCZasunDVG2Mk9jREsF6CNjInxBJ9P8tVOZb1CjoAj4Ag4Ao6AI+AItBcBS+KnGegYsVr3imEbG+sY7HVLEAklGeMQDWuQ53nURN7ByQ9HYBURKDpGxBN+MaEXqa/bGEF97BihcULjnYj7tAk+HyNWsXd4mx0BR8ARcAQcAUfAEVgCAmkGeuyNx+skb5sMdXnnZeiK3GO41yHZevGZ+soYt6Q9y6Pm5H0JyuhF1hIBHyN29sRQZI687j5G1FJdvVKOgCPgCDgCjoAj4AisBgJ5RrrCZrXZHaRXpB5i34SkOouw0xba5Ub5aui3t3J+BHyM2Nmozon7/LrkOTgCjoAj4Ag4Ao6AI+AIlISAjHTOGKpKeJ2URHzjM6S4Limum76rDdaLZg1y2u2HI+AIZCPgY0Q2Nv6PI+AIOAKOgCPgCDgCjoAjsDQErKGuzyL0TT6rLfa8NJC9YEegwQjYPqTPTR4bVHe1xZ4bLCavuiPgCDgCjoAj4Ag4Ao6AI7CDgDVw6/rZZeUIOALLQ6Cu44Kt1/LQ8ZIdAUfAEXAEHAFHwBFwBBwBR8ARcAQcAUfAEXAEHAFHwBFwBBwBR8ARcAQcAUfAEXAEHAFHwBFwBBwBR8ARcAQcAUfAEXAEHAFHwBFwBByB9iDw/wN1bVcZS2mMYAAAAABJRU5ErkJggg==)"
      ]
    },
    {
      "cell_type": "code",
      "metadata": {
        "colab": {
          "base_uri": "https://localhost:8080/"
        },
        "id": "vYE0gOqDzo0N",
        "outputId": "5f08344c-1c05-4877-9e87-751afb48801f"
      },
      "source": [
        "# 사칙연산\n",
        "\n",
        "sum_tensor=tensor1+tensor2\n",
        "print(sum_tensor)\n",
        "\n",
        "sub_tensor=tensor1-tensor2\n",
        "print(sub_tensor)\n",
        "\n",
        "mul_tensor=tensor1*tensor2\n",
        "print(mul_tensor)\n",
        "\n",
        "div_tensor=tensor1/tensor2\n",
        "print(div_tensor)"
      ],
      "execution_count": 13,
      "outputs": [
        {
          "output_type": "stream",
          "text": [
            "tensor([[[10., 12.],\n",
            "         [14., 16.]],\n",
            "\n",
            "        [[18., 20.],\n",
            "         [22., 24.]]])\n",
            "tensor([[[-8., -8.],\n",
            "         [-8., -8.]],\n",
            "\n",
            "        [[-8., -8.],\n",
            "         [-8., -8.]]])\n",
            "tensor([[[  9.,  20.],\n",
            "         [ 33.,  48.]],\n",
            "\n",
            "        [[ 65.,  84.],\n",
            "         [105., 128.]]])\n",
            "tensor([[[0.1111, 0.2000],\n",
            "         [0.2727, 0.3333]],\n",
            "\n",
            "        [[0.3846, 0.4286],\n",
            "         [0.4667, 0.5000]]])\n"
          ],
          "name": "stdout"
        }
      ]
    },
    {
      "cell_type": "code",
      "metadata": {
        "colab": {
          "base_uri": "https://localhost:8080/"
        },
        "id": "KGpf61BGzomc",
        "outputId": "342ec689-6931-4372-fe14-110ae018a911"
      },
      "source": [
        "# torch 모듈에 내장된 메서드 이용 가능\n",
        "\n",
        "torch.add(tensor1, tensor2)\n",
        "torch.sub(tensor1, tensor2)\n",
        "torch.mul(tensor1, tensor2)\n",
        "torch.div(tensor1, tensor2)\n",
        "torch.matmul(tensor1, tensor2)"
      ],
      "execution_count": 14,
      "outputs": [
        {
          "output_type": "execute_result",
          "data": {
            "text/plain": [
              "tensor([[[ 31.,  34.],\n",
              "         [ 71.,  78.]],\n",
              "\n",
              "        [[155., 166.],\n",
              "         [211., 226.]]])"
            ]
          },
          "metadata": {
            "tags": []
          },
          "execution_count": 14
        }
      ]
    },
    {
      "cell_type": "markdown",
      "metadata": {
        "id": "tz6lnXaZ0gtI"
      },
      "source": [
        "> Autograd 방법 : Back Propagation을 이용해 파라미터를 업데이터하는 방법"
      ]
    },
    {
      "cell_type": "code",
      "metadata": {
        "id": "22VoZrl70vuo"
      },
      "source": [
        "BATCH_SIZE=64 # 딥러닝 모델에서 파라미터를 업데이터할 때 계산되는 데이터의 개수\n",
        "INPUT_SIZE=1000 # input의 크기이자 입력층의 노드의 수 -> 1000 크기의 벡터 값을 64개 이용한다. (64,1000)\n",
        "HIDDEN_SIZE=100 # 입력층에서 은닉층으로 전달됐을 때 은닉층의 노드 수 -> (64,1000) (1000,100)\n",
        "OUTPUT_SIZE=10 # 최종으로 비교하고자 하는 레이블의 크기와 동일하게 설정"
      ],
      "execution_count": 15,
      "outputs": []
    },
    {
      "cell_type": "code",
      "metadata": {
        "id": "EqIEHKNv3fyx"
      },
      "source": [
        "if torch.cuda.is_available():\n",
        "  DEVICE=torch.device('cuda')\n",
        "else:\n",
        "  DEVICE=torch.device('cpu')"
      ],
      "execution_count": 17,
      "outputs": []
    },
    {
      "cell_type": "code",
      "metadata": {
        "id": "UIgRG6wQ121W"
      },
      "source": [
        "x=torch.randn(BATCH_SIZE, INPUT_SIZE, \n",
        "              device=DEVICE, # 미리 설정한 DEVICE를 이용하여 계산\n",
        "              dtype=torch.float, \n",
        "              requires_grad=False) # 해당 데이터는 input으로 이용되기 때문에 gradient를 계산할 필요가 없음. 파라미터 값을 업데이트하기 위해 gradient를 계산하는 것이지, input에 대해 X\n",
        "y=torch.randn(BATCH_SIZE, OUTPUT_SIZE, \n",
        "              device=DEVICE, \n",
        "              dtype=torch.float, \n",
        "              requires_grad=False) \n",
        "w1=torch.randn(INPUT_SIZE, HIDDEN_SIZE, # (1000,100)개의 데이터 생성\n",
        "              device=DEVICE, \n",
        "              dtype=torch.float, \n",
        "              requires_grad=False) \n",
        "w2=torch.randn(HIDDEN_SIZE, OUTPUT_SIZE, # dot(w1, x)에 계산할 수 있는 데이터여야 함. \n",
        "              device=DEVICE, \n",
        "              dtype=torch.float, \n",
        "              requires_grad=False) "
      ],
      "execution_count": 18,
      "outputs": []
    },
    {
      "cell_type": "code",
      "metadata": {
        "colab": {
          "base_uri": "https://localhost:8080/",
          "height": 386
        },
        "id": "WAT4wdzg3qiw",
        "outputId": "a0e2477f-421c-4133-da82-a6ddb7a77745"
      },
      "source": [
        "learning_rate=1e-6\n",
        "for t in range(1,501):\n",
        "  y_pred=x.mm(w1).clamp(min=0).mm(w2) # dot(x,w1) 값을 clamp 매서드를 이용해 비선형 함수를 적용 (ReLU와 같은 역할) & w2를 이용해 행렬 곱을 한 번 더 계산\n",
        "\n",
        "  loss=(y_pred-y).pow(2).sum() # mse 계산\n",
        "  if t%100==0:\n",
        "    print(\"Iteration : \", t, \"\\t\", \"Loss : \", loss.item()) # 모니터링\n",
        "  loss.backward() # 각 파라미터 값에 대해 gradient 값을 계산하고 이를 통해 back propagation을 진행\n",
        "\n",
        "  with torch.no_grad(): # 파라미터 값을 업데이트할 때는 해당 시점의 gradient 값을 고정한 후 업데이트를 진행\n",
        "    # 음수를 사용하는 이유 : loss 값이 최소로 계산될 수 있는 파라미터 값을 찾기 위해 gradient 값에 대한 반대 방향으로 계산\n",
        "    w1-=learning_rate*w1.grad # w1.grad : w1의 gradient\n",
        "    w2-=learning_rate*w2.grad\n",
        "\n",
        "    # 각 파라미터 값의 gradient를 초기화해 다음 반복문을 진행할 수 있도록 설정\n",
        "    w1.grad.zero_()\n",
        "    w2.grad.zero_()"
      ],
      "execution_count": 19,
      "outputs": [
        {
          "output_type": "error",
          "ename": "RuntimeError",
          "evalue": "ignored",
          "traceback": [
            "\u001b[0;31m---------------------------------------------------------------------------\u001b[0m",
            "\u001b[0;31mRuntimeError\u001b[0m                              Traceback (most recent call last)",
            "\u001b[0;32m<ipython-input-19-c32f97c05202>\u001b[0m in \u001b[0;36m<module>\u001b[0;34m()\u001b[0m\n\u001b[1;32m      6\u001b[0m   \u001b[0;32mif\u001b[0m \u001b[0mt\u001b[0m\u001b[0;34m%\u001b[0m\u001b[0;36m100\u001b[0m\u001b[0;34m==\u001b[0m\u001b[0;36m0\u001b[0m\u001b[0;34m:\u001b[0m\u001b[0;34m\u001b[0m\u001b[0;34m\u001b[0m\u001b[0m\n\u001b[1;32m      7\u001b[0m     \u001b[0mprint\u001b[0m\u001b[0;34m(\u001b[0m\u001b[0;34m\"Iteration : \"\u001b[0m\u001b[0;34m,\u001b[0m \u001b[0mt\u001b[0m\u001b[0;34m,\u001b[0m \u001b[0;34m\"\\t\"\u001b[0m\u001b[0;34m,\u001b[0m \u001b[0;34m\"Loss : \"\u001b[0m\u001b[0;34m,\u001b[0m \u001b[0mloss\u001b[0m\u001b[0;34m.\u001b[0m\u001b[0mitem\u001b[0m\u001b[0;34m(\u001b[0m\u001b[0;34m)\u001b[0m\u001b[0;34m)\u001b[0m \u001b[0;31m# 모니터링\u001b[0m\u001b[0;34m\u001b[0m\u001b[0;34m\u001b[0m\u001b[0m\n\u001b[0;32m----> 8\u001b[0;31m   \u001b[0mloss\u001b[0m\u001b[0;34m.\u001b[0m\u001b[0mbackward\u001b[0m\u001b[0;34m(\u001b[0m\u001b[0;34m)\u001b[0m \u001b[0;31m# 각 파라미터 값에 대해 gradient 값을 계산하고 이를 통해 back propagation을 진행\u001b[0m\u001b[0;34m\u001b[0m\u001b[0;34m\u001b[0m\u001b[0m\n\u001b[0m\u001b[1;32m      9\u001b[0m \u001b[0;34m\u001b[0m\u001b[0m\n\u001b[1;32m     10\u001b[0m   \u001b[0;32mwith\u001b[0m \u001b[0mtorch\u001b[0m\u001b[0;34m.\u001b[0m\u001b[0mno_grad\u001b[0m\u001b[0;34m(\u001b[0m\u001b[0;34m)\u001b[0m\u001b[0;34m:\u001b[0m \u001b[0;31m# 파라미터 값을 업데이트할 때는 해당 시점의 gradient 값을 고정한 후 업데이트를 진행\u001b[0m\u001b[0;34m\u001b[0m\u001b[0;34m\u001b[0m\u001b[0m\n",
            "\u001b[0;32m/usr/local/lib/python3.7/dist-packages/torch/_tensor.py\u001b[0m in \u001b[0;36mbackward\u001b[0;34m(self, gradient, retain_graph, create_graph, inputs)\u001b[0m\n\u001b[1;32m    253\u001b[0m                 \u001b[0mcreate_graph\u001b[0m\u001b[0;34m=\u001b[0m\u001b[0mcreate_graph\u001b[0m\u001b[0;34m,\u001b[0m\u001b[0;34m\u001b[0m\u001b[0;34m\u001b[0m\u001b[0m\n\u001b[1;32m    254\u001b[0m                 inputs=inputs)\n\u001b[0;32m--> 255\u001b[0;31m         \u001b[0mtorch\u001b[0m\u001b[0;34m.\u001b[0m\u001b[0mautograd\u001b[0m\u001b[0;34m.\u001b[0m\u001b[0mbackward\u001b[0m\u001b[0;34m(\u001b[0m\u001b[0mself\u001b[0m\u001b[0;34m,\u001b[0m \u001b[0mgradient\u001b[0m\u001b[0;34m,\u001b[0m \u001b[0mretain_graph\u001b[0m\u001b[0;34m,\u001b[0m \u001b[0mcreate_graph\u001b[0m\u001b[0;34m,\u001b[0m \u001b[0minputs\u001b[0m\u001b[0;34m=\u001b[0m\u001b[0minputs\u001b[0m\u001b[0;34m)\u001b[0m\u001b[0;34m\u001b[0m\u001b[0;34m\u001b[0m\u001b[0m\n\u001b[0m\u001b[1;32m    256\u001b[0m \u001b[0;34m\u001b[0m\u001b[0m\n\u001b[1;32m    257\u001b[0m     \u001b[0;32mdef\u001b[0m \u001b[0mregister_hook\u001b[0m\u001b[0;34m(\u001b[0m\u001b[0mself\u001b[0m\u001b[0;34m,\u001b[0m \u001b[0mhook\u001b[0m\u001b[0;34m)\u001b[0m\u001b[0;34m:\u001b[0m\u001b[0;34m\u001b[0m\u001b[0;34m\u001b[0m\u001b[0m\n",
            "\u001b[0;32m/usr/local/lib/python3.7/dist-packages/torch/autograd/__init__.py\u001b[0m in \u001b[0;36mbackward\u001b[0;34m(tensors, grad_tensors, retain_graph, create_graph, grad_variables, inputs)\u001b[0m\n\u001b[1;32m    147\u001b[0m     Variable._execution_engine.run_backward(\n\u001b[1;32m    148\u001b[0m         \u001b[0mtensors\u001b[0m\u001b[0;34m,\u001b[0m \u001b[0mgrad_tensors_\u001b[0m\u001b[0;34m,\u001b[0m \u001b[0mretain_graph\u001b[0m\u001b[0;34m,\u001b[0m \u001b[0mcreate_graph\u001b[0m\u001b[0;34m,\u001b[0m \u001b[0minputs\u001b[0m\u001b[0;34m,\u001b[0m\u001b[0;34m\u001b[0m\u001b[0;34m\u001b[0m\u001b[0m\n\u001b[0;32m--> 149\u001b[0;31m         allow_unreachable=True, accumulate_grad=True)  # allow_unreachable flag\n\u001b[0m\u001b[1;32m    150\u001b[0m \u001b[0;34m\u001b[0m\u001b[0m\n\u001b[1;32m    151\u001b[0m \u001b[0;34m\u001b[0m\u001b[0m\n",
            "\u001b[0;31mRuntimeError\u001b[0m: element 0 of tensors does not require grad and does not have a grad_fn"
          ]
        }
      ]
    }
  ]
}