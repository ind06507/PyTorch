{
  "nbformat": 4,
  "nbformat_minor": 0,
  "metadata": {
    "colab": {
      "name": "3_Deep_Learning.ipynb",
      "provenance": [],
      "collapsed_sections": []
    },
    "kernelspec": {
      "name": "python3",
      "display_name": "Python 3"
    },
    "language_info": {
      "name": "python"
    },
    "widgets": {
      "application/vnd.jupyter.widget-state+json": {
        "e866dc01e8b048fb9712d081835e9b5f": {
          "model_module": "@jupyter-widgets/controls",
          "model_name": "HBoxModel",
          "state": {
            "_view_name": "HBoxView",
            "_dom_classes": [],
            "_model_name": "HBoxModel",
            "_view_module": "@jupyter-widgets/controls",
            "_model_module_version": "1.5.0",
            "_view_count": null,
            "_view_module_version": "1.5.0",
            "box_style": "",
            "layout": "IPY_MODEL_198b943adafb4d4f8b5a7d43089f2319",
            "_model_module": "@jupyter-widgets/controls",
            "children": [
              "IPY_MODEL_1a11a52144954cea8ee5455762a2d74a",
              "IPY_MODEL_a7dac4ad29c54e6bb2bbfee881477c8b"
            ]
          }
        },
        "198b943adafb4d4f8b5a7d43089f2319": {
          "model_module": "@jupyter-widgets/base",
          "model_name": "LayoutModel",
          "state": {
            "_view_name": "LayoutView",
            "grid_template_rows": null,
            "right": null,
            "justify_content": null,
            "_view_module": "@jupyter-widgets/base",
            "overflow": null,
            "_model_module_version": "1.2.0",
            "_view_count": null,
            "flex_flow": null,
            "width": null,
            "min_width": null,
            "border": null,
            "align_items": null,
            "bottom": null,
            "_model_module": "@jupyter-widgets/base",
            "top": null,
            "grid_column": null,
            "overflow_y": null,
            "overflow_x": null,
            "grid_auto_flow": null,
            "grid_area": null,
            "grid_template_columns": null,
            "flex": null,
            "_model_name": "LayoutModel",
            "justify_items": null,
            "grid_row": null,
            "max_height": null,
            "align_content": null,
            "visibility": null,
            "align_self": null,
            "height": null,
            "min_height": null,
            "padding": null,
            "grid_auto_rows": null,
            "grid_gap": null,
            "max_width": null,
            "order": null,
            "_view_module_version": "1.2.0",
            "grid_template_areas": null,
            "object_position": null,
            "object_fit": null,
            "grid_auto_columns": null,
            "margin": null,
            "display": null,
            "left": null
          }
        },
        "1a11a52144954cea8ee5455762a2d74a": {
          "model_module": "@jupyter-widgets/controls",
          "model_name": "FloatProgressModel",
          "state": {
            "_view_name": "ProgressView",
            "style": "IPY_MODEL_14b45092184d4b62b5b1392305db8dad",
            "_dom_classes": [],
            "description": "",
            "_model_name": "FloatProgressModel",
            "bar_style": "success",
            "max": 9912422,
            "_view_module": "@jupyter-widgets/controls",
            "_model_module_version": "1.5.0",
            "value": 9912422,
            "_view_count": null,
            "_view_module_version": "1.5.0",
            "orientation": "horizontal",
            "min": 0,
            "description_tooltip": null,
            "_model_module": "@jupyter-widgets/controls",
            "layout": "IPY_MODEL_3bc1c9f583764c4e9614726be4f91c6c"
          }
        },
        "a7dac4ad29c54e6bb2bbfee881477c8b": {
          "model_module": "@jupyter-widgets/controls",
          "model_name": "HTMLModel",
          "state": {
            "_view_name": "HTMLView",
            "style": "IPY_MODEL_38f136b1845741e689f032f008d331ac",
            "_dom_classes": [],
            "description": "",
            "_model_name": "HTMLModel",
            "placeholder": "​",
            "_view_module": "@jupyter-widgets/controls",
            "_model_module_version": "1.5.0",
            "value": " 9913344/? [00:10&lt;00:00, 924284.49it/s]",
            "_view_count": null,
            "_view_module_version": "1.5.0",
            "description_tooltip": null,
            "_model_module": "@jupyter-widgets/controls",
            "layout": "IPY_MODEL_6993ec26ed984d6bb11a34d6e77cad0a"
          }
        },
        "14b45092184d4b62b5b1392305db8dad": {
          "model_module": "@jupyter-widgets/controls",
          "model_name": "ProgressStyleModel",
          "state": {
            "_view_name": "StyleView",
            "_model_name": "ProgressStyleModel",
            "description_width": "initial",
            "_view_module": "@jupyter-widgets/base",
            "_model_module_version": "1.5.0",
            "_view_count": null,
            "_view_module_version": "1.2.0",
            "bar_color": null,
            "_model_module": "@jupyter-widgets/controls"
          }
        },
        "3bc1c9f583764c4e9614726be4f91c6c": {
          "model_module": "@jupyter-widgets/base",
          "model_name": "LayoutModel",
          "state": {
            "_view_name": "LayoutView",
            "grid_template_rows": null,
            "right": null,
            "justify_content": null,
            "_view_module": "@jupyter-widgets/base",
            "overflow": null,
            "_model_module_version": "1.2.0",
            "_view_count": null,
            "flex_flow": null,
            "width": null,
            "min_width": null,
            "border": null,
            "align_items": null,
            "bottom": null,
            "_model_module": "@jupyter-widgets/base",
            "top": null,
            "grid_column": null,
            "overflow_y": null,
            "overflow_x": null,
            "grid_auto_flow": null,
            "grid_area": null,
            "grid_template_columns": null,
            "flex": null,
            "_model_name": "LayoutModel",
            "justify_items": null,
            "grid_row": null,
            "max_height": null,
            "align_content": null,
            "visibility": null,
            "align_self": null,
            "height": null,
            "min_height": null,
            "padding": null,
            "grid_auto_rows": null,
            "grid_gap": null,
            "max_width": null,
            "order": null,
            "_view_module_version": "1.2.0",
            "grid_template_areas": null,
            "object_position": null,
            "object_fit": null,
            "grid_auto_columns": null,
            "margin": null,
            "display": null,
            "left": null
          }
        },
        "38f136b1845741e689f032f008d331ac": {
          "model_module": "@jupyter-widgets/controls",
          "model_name": "DescriptionStyleModel",
          "state": {
            "_view_name": "StyleView",
            "_model_name": "DescriptionStyleModel",
            "description_width": "",
            "_view_module": "@jupyter-widgets/base",
            "_model_module_version": "1.5.0",
            "_view_count": null,
            "_view_module_version": "1.2.0",
            "_model_module": "@jupyter-widgets/controls"
          }
        },
        "6993ec26ed984d6bb11a34d6e77cad0a": {
          "model_module": "@jupyter-widgets/base",
          "model_name": "LayoutModel",
          "state": {
            "_view_name": "LayoutView",
            "grid_template_rows": null,
            "right": null,
            "justify_content": null,
            "_view_module": "@jupyter-widgets/base",
            "overflow": null,
            "_model_module_version": "1.2.0",
            "_view_count": null,
            "flex_flow": null,
            "width": null,
            "min_width": null,
            "border": null,
            "align_items": null,
            "bottom": null,
            "_model_module": "@jupyter-widgets/base",
            "top": null,
            "grid_column": null,
            "overflow_y": null,
            "overflow_x": null,
            "grid_auto_flow": null,
            "grid_area": null,
            "grid_template_columns": null,
            "flex": null,
            "_model_name": "LayoutModel",
            "justify_items": null,
            "grid_row": null,
            "max_height": null,
            "align_content": null,
            "visibility": null,
            "align_self": null,
            "height": null,
            "min_height": null,
            "padding": null,
            "grid_auto_rows": null,
            "grid_gap": null,
            "max_width": null,
            "order": null,
            "_view_module_version": "1.2.0",
            "grid_template_areas": null,
            "object_position": null,
            "object_fit": null,
            "grid_auto_columns": null,
            "margin": null,
            "display": null,
            "left": null
          }
        },
        "2e2922b8b3fb4855a0de1fdf3670b6c7": {
          "model_module": "@jupyter-widgets/controls",
          "model_name": "HBoxModel",
          "state": {
            "_view_name": "HBoxView",
            "_dom_classes": [],
            "_model_name": "HBoxModel",
            "_view_module": "@jupyter-widgets/controls",
            "_model_module_version": "1.5.0",
            "_view_count": null,
            "_view_module_version": "1.5.0",
            "box_style": "",
            "layout": "IPY_MODEL_2fc2c5dc6efa425ba4264610202ebb3e",
            "_model_module": "@jupyter-widgets/controls",
            "children": [
              "IPY_MODEL_de78a7a7cc8a4001874081e357844982",
              "IPY_MODEL_77e44e71a1ad440cb2f31ab68ca35260"
            ]
          }
        },
        "2fc2c5dc6efa425ba4264610202ebb3e": {
          "model_module": "@jupyter-widgets/base",
          "model_name": "LayoutModel",
          "state": {
            "_view_name": "LayoutView",
            "grid_template_rows": null,
            "right": null,
            "justify_content": null,
            "_view_module": "@jupyter-widgets/base",
            "overflow": null,
            "_model_module_version": "1.2.0",
            "_view_count": null,
            "flex_flow": null,
            "width": null,
            "min_width": null,
            "border": null,
            "align_items": null,
            "bottom": null,
            "_model_module": "@jupyter-widgets/base",
            "top": null,
            "grid_column": null,
            "overflow_y": null,
            "overflow_x": null,
            "grid_auto_flow": null,
            "grid_area": null,
            "grid_template_columns": null,
            "flex": null,
            "_model_name": "LayoutModel",
            "justify_items": null,
            "grid_row": null,
            "max_height": null,
            "align_content": null,
            "visibility": null,
            "align_self": null,
            "height": null,
            "min_height": null,
            "padding": null,
            "grid_auto_rows": null,
            "grid_gap": null,
            "max_width": null,
            "order": null,
            "_view_module_version": "1.2.0",
            "grid_template_areas": null,
            "object_position": null,
            "object_fit": null,
            "grid_auto_columns": null,
            "margin": null,
            "display": null,
            "left": null
          }
        },
        "de78a7a7cc8a4001874081e357844982": {
          "model_module": "@jupyter-widgets/controls",
          "model_name": "FloatProgressModel",
          "state": {
            "_view_name": "ProgressView",
            "style": "IPY_MODEL_740eae35ca4b43248d750fc33d83c385",
            "_dom_classes": [],
            "description": "",
            "_model_name": "FloatProgressModel",
            "bar_style": "success",
            "max": 28881,
            "_view_module": "@jupyter-widgets/controls",
            "_model_module_version": "1.5.0",
            "value": 28881,
            "_view_count": null,
            "_view_module_version": "1.5.0",
            "orientation": "horizontal",
            "min": 0,
            "description_tooltip": null,
            "_model_module": "@jupyter-widgets/controls",
            "layout": "IPY_MODEL_a2272000dec14faf99a198e05422dce4"
          }
        },
        "77e44e71a1ad440cb2f31ab68ca35260": {
          "model_module": "@jupyter-widgets/controls",
          "model_name": "HTMLModel",
          "state": {
            "_view_name": "HTMLView",
            "style": "IPY_MODEL_0507d5f1646d4a06aa88b026acc012db",
            "_dom_classes": [],
            "description": "",
            "_model_name": "HTMLModel",
            "placeholder": "​",
            "_view_module": "@jupyter-widgets/controls",
            "_model_module_version": "1.5.0",
            "value": " 29696/? [00:00&lt;00:00, 33769.24it/s]",
            "_view_count": null,
            "_view_module_version": "1.5.0",
            "description_tooltip": null,
            "_model_module": "@jupyter-widgets/controls",
            "layout": "IPY_MODEL_59615c356e73470c93f4b57e90ff55ec"
          }
        },
        "740eae35ca4b43248d750fc33d83c385": {
          "model_module": "@jupyter-widgets/controls",
          "model_name": "ProgressStyleModel",
          "state": {
            "_view_name": "StyleView",
            "_model_name": "ProgressStyleModel",
            "description_width": "initial",
            "_view_module": "@jupyter-widgets/base",
            "_model_module_version": "1.5.0",
            "_view_count": null,
            "_view_module_version": "1.2.0",
            "bar_color": null,
            "_model_module": "@jupyter-widgets/controls"
          }
        },
        "a2272000dec14faf99a198e05422dce4": {
          "model_module": "@jupyter-widgets/base",
          "model_name": "LayoutModel",
          "state": {
            "_view_name": "LayoutView",
            "grid_template_rows": null,
            "right": null,
            "justify_content": null,
            "_view_module": "@jupyter-widgets/base",
            "overflow": null,
            "_model_module_version": "1.2.0",
            "_view_count": null,
            "flex_flow": null,
            "width": null,
            "min_width": null,
            "border": null,
            "align_items": null,
            "bottom": null,
            "_model_module": "@jupyter-widgets/base",
            "top": null,
            "grid_column": null,
            "overflow_y": null,
            "overflow_x": null,
            "grid_auto_flow": null,
            "grid_area": null,
            "grid_template_columns": null,
            "flex": null,
            "_model_name": "LayoutModel",
            "justify_items": null,
            "grid_row": null,
            "max_height": null,
            "align_content": null,
            "visibility": null,
            "align_self": null,
            "height": null,
            "min_height": null,
            "padding": null,
            "grid_auto_rows": null,
            "grid_gap": null,
            "max_width": null,
            "order": null,
            "_view_module_version": "1.2.0",
            "grid_template_areas": null,
            "object_position": null,
            "object_fit": null,
            "grid_auto_columns": null,
            "margin": null,
            "display": null,
            "left": null
          }
        },
        "0507d5f1646d4a06aa88b026acc012db": {
          "model_module": "@jupyter-widgets/controls",
          "model_name": "DescriptionStyleModel",
          "state": {
            "_view_name": "StyleView",
            "_model_name": "DescriptionStyleModel",
            "description_width": "",
            "_view_module": "@jupyter-widgets/base",
            "_model_module_version": "1.5.0",
            "_view_count": null,
            "_view_module_version": "1.2.0",
            "_model_module": "@jupyter-widgets/controls"
          }
        },
        "59615c356e73470c93f4b57e90ff55ec": {
          "model_module": "@jupyter-widgets/base",
          "model_name": "LayoutModel",
          "state": {
            "_view_name": "LayoutView",
            "grid_template_rows": null,
            "right": null,
            "justify_content": null,
            "_view_module": "@jupyter-widgets/base",
            "overflow": null,
            "_model_module_version": "1.2.0",
            "_view_count": null,
            "flex_flow": null,
            "width": null,
            "min_width": null,
            "border": null,
            "align_items": null,
            "bottom": null,
            "_model_module": "@jupyter-widgets/base",
            "top": null,
            "grid_column": null,
            "overflow_y": null,
            "overflow_x": null,
            "grid_auto_flow": null,
            "grid_area": null,
            "grid_template_columns": null,
            "flex": null,
            "_model_name": "LayoutModel",
            "justify_items": null,
            "grid_row": null,
            "max_height": null,
            "align_content": null,
            "visibility": null,
            "align_self": null,
            "height": null,
            "min_height": null,
            "padding": null,
            "grid_auto_rows": null,
            "grid_gap": null,
            "max_width": null,
            "order": null,
            "_view_module_version": "1.2.0",
            "grid_template_areas": null,
            "object_position": null,
            "object_fit": null,
            "grid_auto_columns": null,
            "margin": null,
            "display": null,
            "left": null
          }
        },
        "ee96322113034d30a77c64af439a8dba": {
          "model_module": "@jupyter-widgets/controls",
          "model_name": "HBoxModel",
          "state": {
            "_view_name": "HBoxView",
            "_dom_classes": [],
            "_model_name": "HBoxModel",
            "_view_module": "@jupyter-widgets/controls",
            "_model_module_version": "1.5.0",
            "_view_count": null,
            "_view_module_version": "1.5.0",
            "box_style": "",
            "layout": "IPY_MODEL_49b7f3fc7a6348f8a8937e33a504d0e0",
            "_model_module": "@jupyter-widgets/controls",
            "children": [
              "IPY_MODEL_52e7aef5c97047c9a4a6a2d9559b5280",
              "IPY_MODEL_ed99c381edab43d4ab6d6af7a9b108bb"
            ]
          }
        },
        "49b7f3fc7a6348f8a8937e33a504d0e0": {
          "model_module": "@jupyter-widgets/base",
          "model_name": "LayoutModel",
          "state": {
            "_view_name": "LayoutView",
            "grid_template_rows": null,
            "right": null,
            "justify_content": null,
            "_view_module": "@jupyter-widgets/base",
            "overflow": null,
            "_model_module_version": "1.2.0",
            "_view_count": null,
            "flex_flow": null,
            "width": null,
            "min_width": null,
            "border": null,
            "align_items": null,
            "bottom": null,
            "_model_module": "@jupyter-widgets/base",
            "top": null,
            "grid_column": null,
            "overflow_y": null,
            "overflow_x": null,
            "grid_auto_flow": null,
            "grid_area": null,
            "grid_template_columns": null,
            "flex": null,
            "_model_name": "LayoutModel",
            "justify_items": null,
            "grid_row": null,
            "max_height": null,
            "align_content": null,
            "visibility": null,
            "align_self": null,
            "height": null,
            "min_height": null,
            "padding": null,
            "grid_auto_rows": null,
            "grid_gap": null,
            "max_width": null,
            "order": null,
            "_view_module_version": "1.2.0",
            "grid_template_areas": null,
            "object_position": null,
            "object_fit": null,
            "grid_auto_columns": null,
            "margin": null,
            "display": null,
            "left": null
          }
        },
        "52e7aef5c97047c9a4a6a2d9559b5280": {
          "model_module": "@jupyter-widgets/controls",
          "model_name": "FloatProgressModel",
          "state": {
            "_view_name": "ProgressView",
            "style": "IPY_MODEL_a6edd7ded45741e08933723df44187e5",
            "_dom_classes": [],
            "description": "",
            "_model_name": "FloatProgressModel",
            "bar_style": "success",
            "max": 1648877,
            "_view_module": "@jupyter-widgets/controls",
            "_model_module_version": "1.5.0",
            "value": 1648877,
            "_view_count": null,
            "_view_module_version": "1.5.0",
            "orientation": "horizontal",
            "min": 0,
            "description_tooltip": null,
            "_model_module": "@jupyter-widgets/controls",
            "layout": "IPY_MODEL_23218582dfb54e54b17d65fb854f0d39"
          }
        },
        "ed99c381edab43d4ab6d6af7a9b108bb": {
          "model_module": "@jupyter-widgets/controls",
          "model_name": "HTMLModel",
          "state": {
            "_view_name": "HTMLView",
            "style": "IPY_MODEL_8a20598b020549b4ba32c0ebe15d579b",
            "_dom_classes": [],
            "description": "",
            "_model_name": "HTMLModel",
            "placeholder": "​",
            "_view_module": "@jupyter-widgets/controls",
            "_model_module_version": "1.5.0",
            "value": " 1649664/? [00:00&lt;00:00, 2777454.68it/s]",
            "_view_count": null,
            "_view_module_version": "1.5.0",
            "description_tooltip": null,
            "_model_module": "@jupyter-widgets/controls",
            "layout": "IPY_MODEL_70e584db4aff44528259a05d1b65bb5a"
          }
        },
        "a6edd7ded45741e08933723df44187e5": {
          "model_module": "@jupyter-widgets/controls",
          "model_name": "ProgressStyleModel",
          "state": {
            "_view_name": "StyleView",
            "_model_name": "ProgressStyleModel",
            "description_width": "initial",
            "_view_module": "@jupyter-widgets/base",
            "_model_module_version": "1.5.0",
            "_view_count": null,
            "_view_module_version": "1.2.0",
            "bar_color": null,
            "_model_module": "@jupyter-widgets/controls"
          }
        },
        "23218582dfb54e54b17d65fb854f0d39": {
          "model_module": "@jupyter-widgets/base",
          "model_name": "LayoutModel",
          "state": {
            "_view_name": "LayoutView",
            "grid_template_rows": null,
            "right": null,
            "justify_content": null,
            "_view_module": "@jupyter-widgets/base",
            "overflow": null,
            "_model_module_version": "1.2.0",
            "_view_count": null,
            "flex_flow": null,
            "width": null,
            "min_width": null,
            "border": null,
            "align_items": null,
            "bottom": null,
            "_model_module": "@jupyter-widgets/base",
            "top": null,
            "grid_column": null,
            "overflow_y": null,
            "overflow_x": null,
            "grid_auto_flow": null,
            "grid_area": null,
            "grid_template_columns": null,
            "flex": null,
            "_model_name": "LayoutModel",
            "justify_items": null,
            "grid_row": null,
            "max_height": null,
            "align_content": null,
            "visibility": null,
            "align_self": null,
            "height": null,
            "min_height": null,
            "padding": null,
            "grid_auto_rows": null,
            "grid_gap": null,
            "max_width": null,
            "order": null,
            "_view_module_version": "1.2.0",
            "grid_template_areas": null,
            "object_position": null,
            "object_fit": null,
            "grid_auto_columns": null,
            "margin": null,
            "display": null,
            "left": null
          }
        },
        "8a20598b020549b4ba32c0ebe15d579b": {
          "model_module": "@jupyter-widgets/controls",
          "model_name": "DescriptionStyleModel",
          "state": {
            "_view_name": "StyleView",
            "_model_name": "DescriptionStyleModel",
            "description_width": "",
            "_view_module": "@jupyter-widgets/base",
            "_model_module_version": "1.5.0",
            "_view_count": null,
            "_view_module_version": "1.2.0",
            "_model_module": "@jupyter-widgets/controls"
          }
        },
        "70e584db4aff44528259a05d1b65bb5a": {
          "model_module": "@jupyter-widgets/base",
          "model_name": "LayoutModel",
          "state": {
            "_view_name": "LayoutView",
            "grid_template_rows": null,
            "right": null,
            "justify_content": null,
            "_view_module": "@jupyter-widgets/base",
            "overflow": null,
            "_model_module_version": "1.2.0",
            "_view_count": null,
            "flex_flow": null,
            "width": null,
            "min_width": null,
            "border": null,
            "align_items": null,
            "bottom": null,
            "_model_module": "@jupyter-widgets/base",
            "top": null,
            "grid_column": null,
            "overflow_y": null,
            "overflow_x": null,
            "grid_auto_flow": null,
            "grid_area": null,
            "grid_template_columns": null,
            "flex": null,
            "_model_name": "LayoutModel",
            "justify_items": null,
            "grid_row": null,
            "max_height": null,
            "align_content": null,
            "visibility": null,
            "align_self": null,
            "height": null,
            "min_height": null,
            "padding": null,
            "grid_auto_rows": null,
            "grid_gap": null,
            "max_width": null,
            "order": null,
            "_view_module_version": "1.2.0",
            "grid_template_areas": null,
            "object_position": null,
            "object_fit": null,
            "grid_auto_columns": null,
            "margin": null,
            "display": null,
            "left": null
          }
        },
        "8b0243e1c7b341e79bc04e3cc26f75b5": {
          "model_module": "@jupyter-widgets/controls",
          "model_name": "HBoxModel",
          "state": {
            "_view_name": "HBoxView",
            "_dom_classes": [],
            "_model_name": "HBoxModel",
            "_view_module": "@jupyter-widgets/controls",
            "_model_module_version": "1.5.0",
            "_view_count": null,
            "_view_module_version": "1.5.0",
            "box_style": "",
            "layout": "IPY_MODEL_211b216ae9df4af88b7739d820197b7f",
            "_model_module": "@jupyter-widgets/controls",
            "children": [
              "IPY_MODEL_46aed7c0a0b84f0aad348572dd285310",
              "IPY_MODEL_f61648f7bbeb4be889be526f6c65f2c1"
            ]
          }
        },
        "211b216ae9df4af88b7739d820197b7f": {
          "model_module": "@jupyter-widgets/base",
          "model_name": "LayoutModel",
          "state": {
            "_view_name": "LayoutView",
            "grid_template_rows": null,
            "right": null,
            "justify_content": null,
            "_view_module": "@jupyter-widgets/base",
            "overflow": null,
            "_model_module_version": "1.2.0",
            "_view_count": null,
            "flex_flow": null,
            "width": null,
            "min_width": null,
            "border": null,
            "align_items": null,
            "bottom": null,
            "_model_module": "@jupyter-widgets/base",
            "top": null,
            "grid_column": null,
            "overflow_y": null,
            "overflow_x": null,
            "grid_auto_flow": null,
            "grid_area": null,
            "grid_template_columns": null,
            "flex": null,
            "_model_name": "LayoutModel",
            "justify_items": null,
            "grid_row": null,
            "max_height": null,
            "align_content": null,
            "visibility": null,
            "align_self": null,
            "height": null,
            "min_height": null,
            "padding": null,
            "grid_auto_rows": null,
            "grid_gap": null,
            "max_width": null,
            "order": null,
            "_view_module_version": "1.2.0",
            "grid_template_areas": null,
            "object_position": null,
            "object_fit": null,
            "grid_auto_columns": null,
            "margin": null,
            "display": null,
            "left": null
          }
        },
        "46aed7c0a0b84f0aad348572dd285310": {
          "model_module": "@jupyter-widgets/controls",
          "model_name": "FloatProgressModel",
          "state": {
            "_view_name": "ProgressView",
            "style": "IPY_MODEL_cc3937f1646c400d9e28f99e1e33a7f1",
            "_dom_classes": [],
            "description": "",
            "_model_name": "FloatProgressModel",
            "bar_style": "success",
            "max": 4542,
            "_view_module": "@jupyter-widgets/controls",
            "_model_module_version": "1.5.0",
            "value": 4542,
            "_view_count": null,
            "_view_module_version": "1.5.0",
            "orientation": "horizontal",
            "min": 0,
            "description_tooltip": null,
            "_model_module": "@jupyter-widgets/controls",
            "layout": "IPY_MODEL_ded357026b5f4028a1f4f294a6636c10"
          }
        },
        "f61648f7bbeb4be889be526f6c65f2c1": {
          "model_module": "@jupyter-widgets/controls",
          "model_name": "HTMLModel",
          "state": {
            "_view_name": "HTMLView",
            "style": "IPY_MODEL_c7db9531922241c790ca42dfd29ddea9",
            "_dom_classes": [],
            "description": "",
            "_model_name": "HTMLModel",
            "placeholder": "​",
            "_view_module": "@jupyter-widgets/controls",
            "_model_module_version": "1.5.0",
            "value": " 5120/? [00:08&lt;00:00, 601.95it/s]",
            "_view_count": null,
            "_view_module_version": "1.5.0",
            "description_tooltip": null,
            "_model_module": "@jupyter-widgets/controls",
            "layout": "IPY_MODEL_36bf60fbb7d5483f987e94d74cf92e02"
          }
        },
        "cc3937f1646c400d9e28f99e1e33a7f1": {
          "model_module": "@jupyter-widgets/controls",
          "model_name": "ProgressStyleModel",
          "state": {
            "_view_name": "StyleView",
            "_model_name": "ProgressStyleModel",
            "description_width": "initial",
            "_view_module": "@jupyter-widgets/base",
            "_model_module_version": "1.5.0",
            "_view_count": null,
            "_view_module_version": "1.2.0",
            "bar_color": null,
            "_model_module": "@jupyter-widgets/controls"
          }
        },
        "ded357026b5f4028a1f4f294a6636c10": {
          "model_module": "@jupyter-widgets/base",
          "model_name": "LayoutModel",
          "state": {
            "_view_name": "LayoutView",
            "grid_template_rows": null,
            "right": null,
            "justify_content": null,
            "_view_module": "@jupyter-widgets/base",
            "overflow": null,
            "_model_module_version": "1.2.0",
            "_view_count": null,
            "flex_flow": null,
            "width": null,
            "min_width": null,
            "border": null,
            "align_items": null,
            "bottom": null,
            "_model_module": "@jupyter-widgets/base",
            "top": null,
            "grid_column": null,
            "overflow_y": null,
            "overflow_x": null,
            "grid_auto_flow": null,
            "grid_area": null,
            "grid_template_columns": null,
            "flex": null,
            "_model_name": "LayoutModel",
            "justify_items": null,
            "grid_row": null,
            "max_height": null,
            "align_content": null,
            "visibility": null,
            "align_self": null,
            "height": null,
            "min_height": null,
            "padding": null,
            "grid_auto_rows": null,
            "grid_gap": null,
            "max_width": null,
            "order": null,
            "_view_module_version": "1.2.0",
            "grid_template_areas": null,
            "object_position": null,
            "object_fit": null,
            "grid_auto_columns": null,
            "margin": null,
            "display": null,
            "left": null
          }
        },
        "c7db9531922241c790ca42dfd29ddea9": {
          "model_module": "@jupyter-widgets/controls",
          "model_name": "DescriptionStyleModel",
          "state": {
            "_view_name": "StyleView",
            "_model_name": "DescriptionStyleModel",
            "description_width": "",
            "_view_module": "@jupyter-widgets/base",
            "_model_module_version": "1.5.0",
            "_view_count": null,
            "_view_module_version": "1.2.0",
            "_model_module": "@jupyter-widgets/controls"
          }
        },
        "36bf60fbb7d5483f987e94d74cf92e02": {
          "model_module": "@jupyter-widgets/base",
          "model_name": "LayoutModel",
          "state": {
            "_view_name": "LayoutView",
            "grid_template_rows": null,
            "right": null,
            "justify_content": null,
            "_view_module": "@jupyter-widgets/base",
            "overflow": null,
            "_model_module_version": "1.2.0",
            "_view_count": null,
            "flex_flow": null,
            "width": null,
            "min_width": null,
            "border": null,
            "align_items": null,
            "bottom": null,
            "_model_module": "@jupyter-widgets/base",
            "top": null,
            "grid_column": null,
            "overflow_y": null,
            "overflow_x": null,
            "grid_auto_flow": null,
            "grid_area": null,
            "grid_template_columns": null,
            "flex": null,
            "_model_name": "LayoutModel",
            "justify_items": null,
            "grid_row": null,
            "max_height": null,
            "align_content": null,
            "visibility": null,
            "align_self": null,
            "height": null,
            "min_height": null,
            "padding": null,
            "grid_auto_rows": null,
            "grid_gap": null,
            "max_width": null,
            "order": null,
            "_view_module_version": "1.2.0",
            "grid_template_areas": null,
            "object_position": null,
            "object_fit": null,
            "grid_auto_columns": null,
            "margin": null,
            "display": null,
            "left": null
          }
        },
        "0c8113d1283f48b1bc013bc12c1d785d": {
          "model_module": "@jupyter-widgets/controls",
          "model_name": "HBoxModel",
          "state": {
            "_view_name": "HBoxView",
            "_dom_classes": [],
            "_model_name": "HBoxModel",
            "_view_module": "@jupyter-widgets/controls",
            "_model_module_version": "1.5.0",
            "_view_count": null,
            "_view_module_version": "1.5.0",
            "box_style": "",
            "layout": "IPY_MODEL_8813d8c052e2489e9afe5071aed864bf",
            "_model_module": "@jupyter-widgets/controls",
            "children": [
              "IPY_MODEL_8c43dd13d8d844569bd93d83d92c02a0",
              "IPY_MODEL_07fee3d615344f1b9227419693527702"
            ]
          }
        },
        "8813d8c052e2489e9afe5071aed864bf": {
          "model_module": "@jupyter-widgets/base",
          "model_name": "LayoutModel",
          "state": {
            "_view_name": "LayoutView",
            "grid_template_rows": null,
            "right": null,
            "justify_content": null,
            "_view_module": "@jupyter-widgets/base",
            "overflow": null,
            "_model_module_version": "1.2.0",
            "_view_count": null,
            "flex_flow": null,
            "width": null,
            "min_width": null,
            "border": null,
            "align_items": null,
            "bottom": null,
            "_model_module": "@jupyter-widgets/base",
            "top": null,
            "grid_column": null,
            "overflow_y": null,
            "overflow_x": null,
            "grid_auto_flow": null,
            "grid_area": null,
            "grid_template_columns": null,
            "flex": null,
            "_model_name": "LayoutModel",
            "justify_items": null,
            "grid_row": null,
            "max_height": null,
            "align_content": null,
            "visibility": null,
            "align_self": null,
            "height": null,
            "min_height": null,
            "padding": null,
            "grid_auto_rows": null,
            "grid_gap": null,
            "max_width": null,
            "order": null,
            "_view_module_version": "1.2.0",
            "grid_template_areas": null,
            "object_position": null,
            "object_fit": null,
            "grid_auto_columns": null,
            "margin": null,
            "display": null,
            "left": null
          }
        },
        "8c43dd13d8d844569bd93d83d92c02a0": {
          "model_module": "@jupyter-widgets/controls",
          "model_name": "FloatProgressModel",
          "state": {
            "_view_name": "ProgressView",
            "style": "IPY_MODEL_44e23938a35c4e54ad95eb2cd8a22eef",
            "_dom_classes": [],
            "description": "",
            "_model_name": "FloatProgressModel",
            "bar_style": "success",
            "max": 26421880,
            "_view_module": "@jupyter-widgets/controls",
            "_model_module_version": "1.5.0",
            "value": 26421880,
            "_view_count": null,
            "_view_module_version": "1.5.0",
            "orientation": "horizontal",
            "min": 0,
            "description_tooltip": null,
            "_model_module": "@jupyter-widgets/controls",
            "layout": "IPY_MODEL_9462efce92e343f7bee0c7d07aba0e1e"
          }
        },
        "07fee3d615344f1b9227419693527702": {
          "model_module": "@jupyter-widgets/controls",
          "model_name": "HTMLModel",
          "state": {
            "_view_name": "HTMLView",
            "style": "IPY_MODEL_d7b877ebb26d4915bf33949e611f8b86",
            "_dom_classes": [],
            "description": "",
            "_model_name": "HTMLModel",
            "placeholder": "​",
            "_view_module": "@jupyter-widgets/controls",
            "_model_module_version": "1.5.0",
            "value": " 26422272/? [00:03&lt;00:00, 7214457.91it/s]",
            "_view_count": null,
            "_view_module_version": "1.5.0",
            "description_tooltip": null,
            "_model_module": "@jupyter-widgets/controls",
            "layout": "IPY_MODEL_11f1e963441141af8eb4cb2af3bd5821"
          }
        },
        "44e23938a35c4e54ad95eb2cd8a22eef": {
          "model_module": "@jupyter-widgets/controls",
          "model_name": "ProgressStyleModel",
          "state": {
            "_view_name": "StyleView",
            "_model_name": "ProgressStyleModel",
            "description_width": "initial",
            "_view_module": "@jupyter-widgets/base",
            "_model_module_version": "1.5.0",
            "_view_count": null,
            "_view_module_version": "1.2.0",
            "bar_color": null,
            "_model_module": "@jupyter-widgets/controls"
          }
        },
        "9462efce92e343f7bee0c7d07aba0e1e": {
          "model_module": "@jupyter-widgets/base",
          "model_name": "LayoutModel",
          "state": {
            "_view_name": "LayoutView",
            "grid_template_rows": null,
            "right": null,
            "justify_content": null,
            "_view_module": "@jupyter-widgets/base",
            "overflow": null,
            "_model_module_version": "1.2.0",
            "_view_count": null,
            "flex_flow": null,
            "width": null,
            "min_width": null,
            "border": null,
            "align_items": null,
            "bottom": null,
            "_model_module": "@jupyter-widgets/base",
            "top": null,
            "grid_column": null,
            "overflow_y": null,
            "overflow_x": null,
            "grid_auto_flow": null,
            "grid_area": null,
            "grid_template_columns": null,
            "flex": null,
            "_model_name": "LayoutModel",
            "justify_items": null,
            "grid_row": null,
            "max_height": null,
            "align_content": null,
            "visibility": null,
            "align_self": null,
            "height": null,
            "min_height": null,
            "padding": null,
            "grid_auto_rows": null,
            "grid_gap": null,
            "max_width": null,
            "order": null,
            "_view_module_version": "1.2.0",
            "grid_template_areas": null,
            "object_position": null,
            "object_fit": null,
            "grid_auto_columns": null,
            "margin": null,
            "display": null,
            "left": null
          }
        },
        "d7b877ebb26d4915bf33949e611f8b86": {
          "model_module": "@jupyter-widgets/controls",
          "model_name": "DescriptionStyleModel",
          "state": {
            "_view_name": "StyleView",
            "_model_name": "DescriptionStyleModel",
            "description_width": "",
            "_view_module": "@jupyter-widgets/base",
            "_model_module_version": "1.5.0",
            "_view_count": null,
            "_view_module_version": "1.2.0",
            "_model_module": "@jupyter-widgets/controls"
          }
        },
        "11f1e963441141af8eb4cb2af3bd5821": {
          "model_module": "@jupyter-widgets/base",
          "model_name": "LayoutModel",
          "state": {
            "_view_name": "LayoutView",
            "grid_template_rows": null,
            "right": null,
            "justify_content": null,
            "_view_module": "@jupyter-widgets/base",
            "overflow": null,
            "_model_module_version": "1.2.0",
            "_view_count": null,
            "flex_flow": null,
            "width": null,
            "min_width": null,
            "border": null,
            "align_items": null,
            "bottom": null,
            "_model_module": "@jupyter-widgets/base",
            "top": null,
            "grid_column": null,
            "overflow_y": null,
            "overflow_x": null,
            "grid_auto_flow": null,
            "grid_area": null,
            "grid_template_columns": null,
            "flex": null,
            "_model_name": "LayoutModel",
            "justify_items": null,
            "grid_row": null,
            "max_height": null,
            "align_content": null,
            "visibility": null,
            "align_self": null,
            "height": null,
            "min_height": null,
            "padding": null,
            "grid_auto_rows": null,
            "grid_gap": null,
            "max_width": null,
            "order": null,
            "_view_module_version": "1.2.0",
            "grid_template_areas": null,
            "object_position": null,
            "object_fit": null,
            "grid_auto_columns": null,
            "margin": null,
            "display": null,
            "left": null
          }
        },
        "c6875873d475431f87aed4f0e9f302e7": {
          "model_module": "@jupyter-widgets/controls",
          "model_name": "HBoxModel",
          "state": {
            "_view_name": "HBoxView",
            "_dom_classes": [],
            "_model_name": "HBoxModel",
            "_view_module": "@jupyter-widgets/controls",
            "_model_module_version": "1.5.0",
            "_view_count": null,
            "_view_module_version": "1.5.0",
            "box_style": "",
            "layout": "IPY_MODEL_39c41f886c104cc896f0586fd065ce30",
            "_model_module": "@jupyter-widgets/controls",
            "children": [
              "IPY_MODEL_850d92a0346e424daf505b78eb4db339",
              "IPY_MODEL_f277f2a457744bb4a36d56c6fa421249"
            ]
          }
        },
        "39c41f886c104cc896f0586fd065ce30": {
          "model_module": "@jupyter-widgets/base",
          "model_name": "LayoutModel",
          "state": {
            "_view_name": "LayoutView",
            "grid_template_rows": null,
            "right": null,
            "justify_content": null,
            "_view_module": "@jupyter-widgets/base",
            "overflow": null,
            "_model_module_version": "1.2.0",
            "_view_count": null,
            "flex_flow": null,
            "width": null,
            "min_width": null,
            "border": null,
            "align_items": null,
            "bottom": null,
            "_model_module": "@jupyter-widgets/base",
            "top": null,
            "grid_column": null,
            "overflow_y": null,
            "overflow_x": null,
            "grid_auto_flow": null,
            "grid_area": null,
            "grid_template_columns": null,
            "flex": null,
            "_model_name": "LayoutModel",
            "justify_items": null,
            "grid_row": null,
            "max_height": null,
            "align_content": null,
            "visibility": null,
            "align_self": null,
            "height": null,
            "min_height": null,
            "padding": null,
            "grid_auto_rows": null,
            "grid_gap": null,
            "max_width": null,
            "order": null,
            "_view_module_version": "1.2.0",
            "grid_template_areas": null,
            "object_position": null,
            "object_fit": null,
            "grid_auto_columns": null,
            "margin": null,
            "display": null,
            "left": null
          }
        },
        "850d92a0346e424daf505b78eb4db339": {
          "model_module": "@jupyter-widgets/controls",
          "model_name": "FloatProgressModel",
          "state": {
            "_view_name": "ProgressView",
            "style": "IPY_MODEL_bf6bd6f28aea41af80f65d2b2382d950",
            "_dom_classes": [],
            "description": "",
            "_model_name": "FloatProgressModel",
            "bar_style": "success",
            "max": 29515,
            "_view_module": "@jupyter-widgets/controls",
            "_model_module_version": "1.5.0",
            "value": 29515,
            "_view_count": null,
            "_view_module_version": "1.5.0",
            "orientation": "horizontal",
            "min": 0,
            "description_tooltip": null,
            "_model_module": "@jupyter-widgets/controls",
            "layout": "IPY_MODEL_b7016dfb894c4048b002b5ccffba4ffa"
          }
        },
        "f277f2a457744bb4a36d56c6fa421249": {
          "model_module": "@jupyter-widgets/controls",
          "model_name": "HTMLModel",
          "state": {
            "_view_name": "HTMLView",
            "style": "IPY_MODEL_dcea72461e364b55b85df6fd8aed567a",
            "_dom_classes": [],
            "description": "",
            "_model_name": "HTMLModel",
            "placeholder": "​",
            "_view_module": "@jupyter-widgets/controls",
            "_model_module_version": "1.5.0",
            "value": " 29696/? [00:01&lt;00:00, 23784.50it/s]",
            "_view_count": null,
            "_view_module_version": "1.5.0",
            "description_tooltip": null,
            "_model_module": "@jupyter-widgets/controls",
            "layout": "IPY_MODEL_cfec04e2286a46b0b61cb1ac4fcbf572"
          }
        },
        "bf6bd6f28aea41af80f65d2b2382d950": {
          "model_module": "@jupyter-widgets/controls",
          "model_name": "ProgressStyleModel",
          "state": {
            "_view_name": "StyleView",
            "_model_name": "ProgressStyleModel",
            "description_width": "initial",
            "_view_module": "@jupyter-widgets/base",
            "_model_module_version": "1.5.0",
            "_view_count": null,
            "_view_module_version": "1.2.0",
            "bar_color": null,
            "_model_module": "@jupyter-widgets/controls"
          }
        },
        "b7016dfb894c4048b002b5ccffba4ffa": {
          "model_module": "@jupyter-widgets/base",
          "model_name": "LayoutModel",
          "state": {
            "_view_name": "LayoutView",
            "grid_template_rows": null,
            "right": null,
            "justify_content": null,
            "_view_module": "@jupyter-widgets/base",
            "overflow": null,
            "_model_module_version": "1.2.0",
            "_view_count": null,
            "flex_flow": null,
            "width": null,
            "min_width": null,
            "border": null,
            "align_items": null,
            "bottom": null,
            "_model_module": "@jupyter-widgets/base",
            "top": null,
            "grid_column": null,
            "overflow_y": null,
            "overflow_x": null,
            "grid_auto_flow": null,
            "grid_area": null,
            "grid_template_columns": null,
            "flex": null,
            "_model_name": "LayoutModel",
            "justify_items": null,
            "grid_row": null,
            "max_height": null,
            "align_content": null,
            "visibility": null,
            "align_self": null,
            "height": null,
            "min_height": null,
            "padding": null,
            "grid_auto_rows": null,
            "grid_gap": null,
            "max_width": null,
            "order": null,
            "_view_module_version": "1.2.0",
            "grid_template_areas": null,
            "object_position": null,
            "object_fit": null,
            "grid_auto_columns": null,
            "margin": null,
            "display": null,
            "left": null
          }
        },
        "dcea72461e364b55b85df6fd8aed567a": {
          "model_module": "@jupyter-widgets/controls",
          "model_name": "DescriptionStyleModel",
          "state": {
            "_view_name": "StyleView",
            "_model_name": "DescriptionStyleModel",
            "description_width": "",
            "_view_module": "@jupyter-widgets/base",
            "_model_module_version": "1.5.0",
            "_view_count": null,
            "_view_module_version": "1.2.0",
            "_model_module": "@jupyter-widgets/controls"
          }
        },
        "cfec04e2286a46b0b61cb1ac4fcbf572": {
          "model_module": "@jupyter-widgets/base",
          "model_name": "LayoutModel",
          "state": {
            "_view_name": "LayoutView",
            "grid_template_rows": null,
            "right": null,
            "justify_content": null,
            "_view_module": "@jupyter-widgets/base",
            "overflow": null,
            "_model_module_version": "1.2.0",
            "_view_count": null,
            "flex_flow": null,
            "width": null,
            "min_width": null,
            "border": null,
            "align_items": null,
            "bottom": null,
            "_model_module": "@jupyter-widgets/base",
            "top": null,
            "grid_column": null,
            "overflow_y": null,
            "overflow_x": null,
            "grid_auto_flow": null,
            "grid_area": null,
            "grid_template_columns": null,
            "flex": null,
            "_model_name": "LayoutModel",
            "justify_items": null,
            "grid_row": null,
            "max_height": null,
            "align_content": null,
            "visibility": null,
            "align_self": null,
            "height": null,
            "min_height": null,
            "padding": null,
            "grid_auto_rows": null,
            "grid_gap": null,
            "max_width": null,
            "order": null,
            "_view_module_version": "1.2.0",
            "grid_template_areas": null,
            "object_position": null,
            "object_fit": null,
            "grid_auto_columns": null,
            "margin": null,
            "display": null,
            "left": null
          }
        },
        "4a69576aebf24c9788582a9f0c32e8f2": {
          "model_module": "@jupyter-widgets/controls",
          "model_name": "HBoxModel",
          "state": {
            "_view_name": "HBoxView",
            "_dom_classes": [],
            "_model_name": "HBoxModel",
            "_view_module": "@jupyter-widgets/controls",
            "_model_module_version": "1.5.0",
            "_view_count": null,
            "_view_module_version": "1.5.0",
            "box_style": "",
            "layout": "IPY_MODEL_a249d801ebf74bd587aee8ac42dda7a4",
            "_model_module": "@jupyter-widgets/controls",
            "children": [
              "IPY_MODEL_9c62b613f828476c85d4f251312c93e8",
              "IPY_MODEL_c0c63b9af180446aa8406e990e9f4b01"
            ]
          }
        },
        "a249d801ebf74bd587aee8ac42dda7a4": {
          "model_module": "@jupyter-widgets/base",
          "model_name": "LayoutModel",
          "state": {
            "_view_name": "LayoutView",
            "grid_template_rows": null,
            "right": null,
            "justify_content": null,
            "_view_module": "@jupyter-widgets/base",
            "overflow": null,
            "_model_module_version": "1.2.0",
            "_view_count": null,
            "flex_flow": null,
            "width": null,
            "min_width": null,
            "border": null,
            "align_items": null,
            "bottom": null,
            "_model_module": "@jupyter-widgets/base",
            "top": null,
            "grid_column": null,
            "overflow_y": null,
            "overflow_x": null,
            "grid_auto_flow": null,
            "grid_area": null,
            "grid_template_columns": null,
            "flex": null,
            "_model_name": "LayoutModel",
            "justify_items": null,
            "grid_row": null,
            "max_height": null,
            "align_content": null,
            "visibility": null,
            "align_self": null,
            "height": null,
            "min_height": null,
            "padding": null,
            "grid_auto_rows": null,
            "grid_gap": null,
            "max_width": null,
            "order": null,
            "_view_module_version": "1.2.0",
            "grid_template_areas": null,
            "object_position": null,
            "object_fit": null,
            "grid_auto_columns": null,
            "margin": null,
            "display": null,
            "left": null
          }
        },
        "9c62b613f828476c85d4f251312c93e8": {
          "model_module": "@jupyter-widgets/controls",
          "model_name": "FloatProgressModel",
          "state": {
            "_view_name": "ProgressView",
            "style": "IPY_MODEL_ab8782aa291a47e5a735b66ad474192a",
            "_dom_classes": [],
            "description": "",
            "_model_name": "FloatProgressModel",
            "bar_style": "success",
            "max": 4422102,
            "_view_module": "@jupyter-widgets/controls",
            "_model_module_version": "1.5.0",
            "value": 4422102,
            "_view_count": null,
            "_view_module_version": "1.5.0",
            "orientation": "horizontal",
            "min": 0,
            "description_tooltip": null,
            "_model_module": "@jupyter-widgets/controls",
            "layout": "IPY_MODEL_056fcc52d43446eaa1f2f50d04b0ea07"
          }
        },
        "c0c63b9af180446aa8406e990e9f4b01": {
          "model_module": "@jupyter-widgets/controls",
          "model_name": "HTMLModel",
          "state": {
            "_view_name": "HTMLView",
            "style": "IPY_MODEL_d35882f7e80b425aaca1b7f31e2e03d0",
            "_dom_classes": [],
            "description": "",
            "_model_name": "HTMLModel",
            "placeholder": "​",
            "_view_module": "@jupyter-widgets/controls",
            "_model_module_version": "1.5.0",
            "value": " 4422656/? [00:08&lt;00:00, 522701.06it/s]",
            "_view_count": null,
            "_view_module_version": "1.5.0",
            "description_tooltip": null,
            "_model_module": "@jupyter-widgets/controls",
            "layout": "IPY_MODEL_3b360f86860b4d61b208b96c26a50463"
          }
        },
        "ab8782aa291a47e5a735b66ad474192a": {
          "model_module": "@jupyter-widgets/controls",
          "model_name": "ProgressStyleModel",
          "state": {
            "_view_name": "StyleView",
            "_model_name": "ProgressStyleModel",
            "description_width": "initial",
            "_view_module": "@jupyter-widgets/base",
            "_model_module_version": "1.5.0",
            "_view_count": null,
            "_view_module_version": "1.2.0",
            "bar_color": null,
            "_model_module": "@jupyter-widgets/controls"
          }
        },
        "056fcc52d43446eaa1f2f50d04b0ea07": {
          "model_module": "@jupyter-widgets/base",
          "model_name": "LayoutModel",
          "state": {
            "_view_name": "LayoutView",
            "grid_template_rows": null,
            "right": null,
            "justify_content": null,
            "_view_module": "@jupyter-widgets/base",
            "overflow": null,
            "_model_module_version": "1.2.0",
            "_view_count": null,
            "flex_flow": null,
            "width": null,
            "min_width": null,
            "border": null,
            "align_items": null,
            "bottom": null,
            "_model_module": "@jupyter-widgets/base",
            "top": null,
            "grid_column": null,
            "overflow_y": null,
            "overflow_x": null,
            "grid_auto_flow": null,
            "grid_area": null,
            "grid_template_columns": null,
            "flex": null,
            "_model_name": "LayoutModel",
            "justify_items": null,
            "grid_row": null,
            "max_height": null,
            "align_content": null,
            "visibility": null,
            "align_self": null,
            "height": null,
            "min_height": null,
            "padding": null,
            "grid_auto_rows": null,
            "grid_gap": null,
            "max_width": null,
            "order": null,
            "_view_module_version": "1.2.0",
            "grid_template_areas": null,
            "object_position": null,
            "object_fit": null,
            "grid_auto_columns": null,
            "margin": null,
            "display": null,
            "left": null
          }
        },
        "d35882f7e80b425aaca1b7f31e2e03d0": {
          "model_module": "@jupyter-widgets/controls",
          "model_name": "DescriptionStyleModel",
          "state": {
            "_view_name": "StyleView",
            "_model_name": "DescriptionStyleModel",
            "description_width": "",
            "_view_module": "@jupyter-widgets/base",
            "_model_module_version": "1.5.0",
            "_view_count": null,
            "_view_module_version": "1.2.0",
            "_model_module": "@jupyter-widgets/controls"
          }
        },
        "3b360f86860b4d61b208b96c26a50463": {
          "model_module": "@jupyter-widgets/base",
          "model_name": "LayoutModel",
          "state": {
            "_view_name": "LayoutView",
            "grid_template_rows": null,
            "right": null,
            "justify_content": null,
            "_view_module": "@jupyter-widgets/base",
            "overflow": null,
            "_model_module_version": "1.2.0",
            "_view_count": null,
            "flex_flow": null,
            "width": null,
            "min_width": null,
            "border": null,
            "align_items": null,
            "bottom": null,
            "_model_module": "@jupyter-widgets/base",
            "top": null,
            "grid_column": null,
            "overflow_y": null,
            "overflow_x": null,
            "grid_auto_flow": null,
            "grid_area": null,
            "grid_template_columns": null,
            "flex": null,
            "_model_name": "LayoutModel",
            "justify_items": null,
            "grid_row": null,
            "max_height": null,
            "align_content": null,
            "visibility": null,
            "align_self": null,
            "height": null,
            "min_height": null,
            "padding": null,
            "grid_auto_rows": null,
            "grid_gap": null,
            "max_width": null,
            "order": null,
            "_view_module_version": "1.2.0",
            "grid_template_areas": null,
            "object_position": null,
            "object_fit": null,
            "grid_auto_columns": null,
            "margin": null,
            "display": null,
            "left": null
          }
        },
        "e0f9b752ae3f4c08abbd042b7a17c864": {
          "model_module": "@jupyter-widgets/controls",
          "model_name": "HBoxModel",
          "state": {
            "_view_name": "HBoxView",
            "_dom_classes": [],
            "_model_name": "HBoxModel",
            "_view_module": "@jupyter-widgets/controls",
            "_model_module_version": "1.5.0",
            "_view_count": null,
            "_view_module_version": "1.5.0",
            "box_style": "",
            "layout": "IPY_MODEL_7d7a405d2ade430580e1a38aa93a264f",
            "_model_module": "@jupyter-widgets/controls",
            "children": [
              "IPY_MODEL_136cd63badf14dc188a71dbfad9e7a39",
              "IPY_MODEL_962a28d5a4ba4ff29ddd5e9108fd71cd"
            ]
          }
        },
        "7d7a405d2ade430580e1a38aa93a264f": {
          "model_module": "@jupyter-widgets/base",
          "model_name": "LayoutModel",
          "state": {
            "_view_name": "LayoutView",
            "grid_template_rows": null,
            "right": null,
            "justify_content": null,
            "_view_module": "@jupyter-widgets/base",
            "overflow": null,
            "_model_module_version": "1.2.0",
            "_view_count": null,
            "flex_flow": null,
            "width": null,
            "min_width": null,
            "border": null,
            "align_items": null,
            "bottom": null,
            "_model_module": "@jupyter-widgets/base",
            "top": null,
            "grid_column": null,
            "overflow_y": null,
            "overflow_x": null,
            "grid_auto_flow": null,
            "grid_area": null,
            "grid_template_columns": null,
            "flex": null,
            "_model_name": "LayoutModel",
            "justify_items": null,
            "grid_row": null,
            "max_height": null,
            "align_content": null,
            "visibility": null,
            "align_self": null,
            "height": null,
            "min_height": null,
            "padding": null,
            "grid_auto_rows": null,
            "grid_gap": null,
            "max_width": null,
            "order": null,
            "_view_module_version": "1.2.0",
            "grid_template_areas": null,
            "object_position": null,
            "object_fit": null,
            "grid_auto_columns": null,
            "margin": null,
            "display": null,
            "left": null
          }
        },
        "136cd63badf14dc188a71dbfad9e7a39": {
          "model_module": "@jupyter-widgets/controls",
          "model_name": "FloatProgressModel",
          "state": {
            "_view_name": "ProgressView",
            "style": "IPY_MODEL_8e41c32b6e6c48289ba095f8c13ae827",
            "_dom_classes": [],
            "description": "",
            "_model_name": "FloatProgressModel",
            "bar_style": "success",
            "max": 5148,
            "_view_module": "@jupyter-widgets/controls",
            "_model_module_version": "1.5.0",
            "value": 5148,
            "_view_count": null,
            "_view_module_version": "1.5.0",
            "orientation": "horizontal",
            "min": 0,
            "description_tooltip": null,
            "_model_module": "@jupyter-widgets/controls",
            "layout": "IPY_MODEL_a72e4d8065294230ba778cc9e48c810f"
          }
        },
        "962a28d5a4ba4ff29ddd5e9108fd71cd": {
          "model_module": "@jupyter-widgets/controls",
          "model_name": "HTMLModel",
          "state": {
            "_view_name": "HTMLView",
            "style": "IPY_MODEL_50d38ee0fdd34823895feaf2d6bbd3d9",
            "_dom_classes": [],
            "description": "",
            "_model_name": "HTMLModel",
            "placeholder": "​",
            "_view_module": "@jupyter-widgets/controls",
            "_model_module_version": "1.5.0",
            "value": " 6144/? [00:07&lt;00:00, 859.63it/s]",
            "_view_count": null,
            "_view_module_version": "1.5.0",
            "description_tooltip": null,
            "_model_module": "@jupyter-widgets/controls",
            "layout": "IPY_MODEL_844fb1220958448baea402df4fbdf9a8"
          }
        },
        "8e41c32b6e6c48289ba095f8c13ae827": {
          "model_module": "@jupyter-widgets/controls",
          "model_name": "ProgressStyleModel",
          "state": {
            "_view_name": "StyleView",
            "_model_name": "ProgressStyleModel",
            "description_width": "initial",
            "_view_module": "@jupyter-widgets/base",
            "_model_module_version": "1.5.0",
            "_view_count": null,
            "_view_module_version": "1.2.0",
            "bar_color": null,
            "_model_module": "@jupyter-widgets/controls"
          }
        },
        "a72e4d8065294230ba778cc9e48c810f": {
          "model_module": "@jupyter-widgets/base",
          "model_name": "LayoutModel",
          "state": {
            "_view_name": "LayoutView",
            "grid_template_rows": null,
            "right": null,
            "justify_content": null,
            "_view_module": "@jupyter-widgets/base",
            "overflow": null,
            "_model_module_version": "1.2.0",
            "_view_count": null,
            "flex_flow": null,
            "width": null,
            "min_width": null,
            "border": null,
            "align_items": null,
            "bottom": null,
            "_model_module": "@jupyter-widgets/base",
            "top": null,
            "grid_column": null,
            "overflow_y": null,
            "overflow_x": null,
            "grid_auto_flow": null,
            "grid_area": null,
            "grid_template_columns": null,
            "flex": null,
            "_model_name": "LayoutModel",
            "justify_items": null,
            "grid_row": null,
            "max_height": null,
            "align_content": null,
            "visibility": null,
            "align_self": null,
            "height": null,
            "min_height": null,
            "padding": null,
            "grid_auto_rows": null,
            "grid_gap": null,
            "max_width": null,
            "order": null,
            "_view_module_version": "1.2.0",
            "grid_template_areas": null,
            "object_position": null,
            "object_fit": null,
            "grid_auto_columns": null,
            "margin": null,
            "display": null,
            "left": null
          }
        },
        "50d38ee0fdd34823895feaf2d6bbd3d9": {
          "model_module": "@jupyter-widgets/controls",
          "model_name": "DescriptionStyleModel",
          "state": {
            "_view_name": "StyleView",
            "_model_name": "DescriptionStyleModel",
            "description_width": "",
            "_view_module": "@jupyter-widgets/base",
            "_model_module_version": "1.5.0",
            "_view_count": null,
            "_view_module_version": "1.2.0",
            "_model_module": "@jupyter-widgets/controls"
          }
        },
        "844fb1220958448baea402df4fbdf9a8": {
          "model_module": "@jupyter-widgets/base",
          "model_name": "LayoutModel",
          "state": {
            "_view_name": "LayoutView",
            "grid_template_rows": null,
            "right": null,
            "justify_content": null,
            "_view_module": "@jupyter-widgets/base",
            "overflow": null,
            "_model_module_version": "1.2.0",
            "_view_count": null,
            "flex_flow": null,
            "width": null,
            "min_width": null,
            "border": null,
            "align_items": null,
            "bottom": null,
            "_model_module": "@jupyter-widgets/base",
            "top": null,
            "grid_column": null,
            "overflow_y": null,
            "overflow_x": null,
            "grid_auto_flow": null,
            "grid_area": null,
            "grid_template_columns": null,
            "flex": null,
            "_model_name": "LayoutModel",
            "justify_items": null,
            "grid_row": null,
            "max_height": null,
            "align_content": null,
            "visibility": null,
            "align_self": null,
            "height": null,
            "min_height": null,
            "padding": null,
            "grid_auto_rows": null,
            "grid_gap": null,
            "max_width": null,
            "order": null,
            "_view_module_version": "1.2.0",
            "grid_template_areas": null,
            "object_position": null,
            "object_fit": null,
            "grid_auto_columns": null,
            "margin": null,
            "display": null,
            "left": null
          }
        }
      }
    }
  },
  "cells": [
    {
      "cell_type": "markdown",
      "metadata": {
        "id": "Ee4lgnDDNUWM"
      },
      "source": [
        "신경망이 지니고 있는 단점인 과적합과 Gradient Vanishing을 완화할 수 있는 여러 알고리즘이 나오면서 딥러닝이 발전하게 되었다.\n",
        "\n",
        "딥러닝 모델 디자인 요소 : Hidden Layer, Hidden 노드의 수, Activation 함수, Initialization 기법, Optimizer"
      ]
    },
    {
      "cell_type": "markdown",
      "metadata": {
        "id": "eZPi5Tu7-sPK"
      },
      "source": [
        "### 사람의 손글씨 데이터인 MNIST를 이용해 Multi Layer Perceptron(MLP) 설계할 때 Dropout 적용해보기\n",
        "\n",
        "Dropout : 신경망의 학습 과정 중 weight matrix에 랜덤하게 일부 column에 0을 집어넣어 연산. epoch마다 랜덤하게 dropout"
      ]
    },
    {
      "cell_type": "code",
      "metadata": {
        "id": "KRetFlzR4rNl"
      },
      "source": [
        "# module import\n",
        "import numpy as np\n",
        "import matplotlib.pyplot as plt\n",
        "import torch\n",
        "import torch.nn as nn\n",
        "import torch.nn.functional as F\n",
        "from torchvision import transforms, datasets"
      ],
      "execution_count": null,
      "outputs": []
    },
    {
      "cell_type": "code",
      "metadata": {
        "id": "0F3DIYZDBP0g"
      },
      "source": [
        "# 장비 확인\n",
        "if torch.cuda.is_available():\n",
        "  DEVICE=torch.device('cuda')\n",
        "else:\n",
        "  DEVICE=torch.device('cpu')"
      ],
      "execution_count": null,
      "outputs": []
    },
    {
      "cell_type": "code",
      "metadata": {
        "id": "LxvaYLbI50up"
      },
      "source": [
        "BATCH_SIZE=32 # 32개의 데이터로 1개의 mini-batch를 구성, iteration : 1개의 mini-batch를 이용해 학습하는 횟수\n",
        "EPOCHS=10 # 전체 데이터를 이용해 학습을 진행한 횟수"
      ],
      "execution_count": null,
      "outputs": []
    },
    {
      "cell_type": "code",
      "metadata": {
        "colab": {
          "base_uri": "https://localhost:8080/",
          "height": 834,
          "referenced_widgets": [
            "e866dc01e8b048fb9712d081835e9b5f",
            "198b943adafb4d4f8b5a7d43089f2319",
            "1a11a52144954cea8ee5455762a2d74a",
            "a7dac4ad29c54e6bb2bbfee881477c8b",
            "14b45092184d4b62b5b1392305db8dad",
            "3bc1c9f583764c4e9614726be4f91c6c",
            "38f136b1845741e689f032f008d331ac",
            "6993ec26ed984d6bb11a34d6e77cad0a",
            "2e2922b8b3fb4855a0de1fdf3670b6c7",
            "2fc2c5dc6efa425ba4264610202ebb3e",
            "de78a7a7cc8a4001874081e357844982",
            "77e44e71a1ad440cb2f31ab68ca35260",
            "740eae35ca4b43248d750fc33d83c385",
            "a2272000dec14faf99a198e05422dce4",
            "0507d5f1646d4a06aa88b026acc012db",
            "59615c356e73470c93f4b57e90ff55ec",
            "ee96322113034d30a77c64af439a8dba",
            "49b7f3fc7a6348f8a8937e33a504d0e0",
            "52e7aef5c97047c9a4a6a2d9559b5280",
            "ed99c381edab43d4ab6d6af7a9b108bb",
            "a6edd7ded45741e08933723df44187e5",
            "23218582dfb54e54b17d65fb854f0d39",
            "8a20598b020549b4ba32c0ebe15d579b",
            "70e584db4aff44528259a05d1b65bb5a",
            "8b0243e1c7b341e79bc04e3cc26f75b5",
            "211b216ae9df4af88b7739d820197b7f",
            "46aed7c0a0b84f0aad348572dd285310",
            "f61648f7bbeb4be889be526f6c65f2c1",
            "cc3937f1646c400d9e28f99e1e33a7f1",
            "ded357026b5f4028a1f4f294a6636c10",
            "c7db9531922241c790ca42dfd29ddea9",
            "36bf60fbb7d5483f987e94d74cf92e02"
          ]
        },
        "id": "KHzC1KTY62ey",
        "outputId": "31ac8041-91dc-4009-958f-f299a9a5b5fd"
      },
      "source": [
        "# MNIST 데이터 다운로드\n",
        "train_dataset=datasets.MNIST(root=\"../data/MNIST\", train=True, download=True, transform=transforms.ToTensor())\n",
        "test_dataset=datasets.MNIST(root=\"../data/MNIST\", train=False, transform=transforms.ToTensor())\n",
        "train_loader=torch.utils.data.DataLoader(dataset=train_dataset, batch_size=BATCH_SIZE, shuffle=True)\n",
        "test_loader=torch.utils.data.DataLoader(dataset=test_dataset, batch_size=BATCH_SIZE, shuffle=True)"
      ],
      "execution_count": null,
      "outputs": [
        {
          "output_type": "stream",
          "text": [
            "Downloading http://yann.lecun.com/exdb/mnist/train-images-idx3-ubyte.gz\n",
            "Failed to download (trying next):\n",
            "HTTP Error 503: Service Unavailable\n",
            "\n",
            "Downloading https://ossci-datasets.s3.amazonaws.com/mnist/train-images-idx3-ubyte.gz\n",
            "Downloading https://ossci-datasets.s3.amazonaws.com/mnist/train-images-idx3-ubyte.gz to ../data/MNIST/MNIST/raw/train-images-idx3-ubyte.gz\n"
          ],
          "name": "stdout"
        },
        {
          "output_type": "display_data",
          "data": {
            "application/vnd.jupyter.widget-view+json": {
              "model_id": "e866dc01e8b048fb9712d081835e9b5f",
              "version_minor": 0,
              "version_major": 2
            },
            "text/plain": [
              "HBox(children=(FloatProgress(value=0.0, max=9912422.0), HTML(value='')))"
            ]
          },
          "metadata": {
            "tags": []
          }
        },
        {
          "output_type": "stream",
          "text": [
            "\n",
            "Extracting ../data/MNIST/MNIST/raw/train-images-idx3-ubyte.gz to ../data/MNIST/MNIST/raw\n",
            "\n",
            "Downloading http://yann.lecun.com/exdb/mnist/train-labels-idx1-ubyte.gz\n",
            "Failed to download (trying next):\n",
            "HTTP Error 503: Service Unavailable\n",
            "\n",
            "Downloading https://ossci-datasets.s3.amazonaws.com/mnist/train-labels-idx1-ubyte.gz\n",
            "Downloading https://ossci-datasets.s3.amazonaws.com/mnist/train-labels-idx1-ubyte.gz to ../data/MNIST/MNIST/raw/train-labels-idx1-ubyte.gz\n"
          ],
          "name": "stdout"
        },
        {
          "output_type": "display_data",
          "data": {
            "application/vnd.jupyter.widget-view+json": {
              "model_id": "2e2922b8b3fb4855a0de1fdf3670b6c7",
              "version_minor": 0,
              "version_major": 2
            },
            "text/plain": [
              "HBox(children=(FloatProgress(value=0.0, max=28881.0), HTML(value='')))"
            ]
          },
          "metadata": {
            "tags": []
          }
        },
        {
          "output_type": "stream",
          "text": [
            "\n",
            "Extracting ../data/MNIST/MNIST/raw/train-labels-idx1-ubyte.gz to ../data/MNIST/MNIST/raw\n",
            "\n",
            "Downloading http://yann.lecun.com/exdb/mnist/t10k-images-idx3-ubyte.gz\n",
            "Failed to download (trying next):\n",
            "HTTP Error 503: Service Unavailable\n",
            "\n",
            "Downloading https://ossci-datasets.s3.amazonaws.com/mnist/t10k-images-idx3-ubyte.gz\n",
            "Downloading https://ossci-datasets.s3.amazonaws.com/mnist/t10k-images-idx3-ubyte.gz to ../data/MNIST/MNIST/raw/t10k-images-idx3-ubyte.gz\n"
          ],
          "name": "stdout"
        },
        {
          "output_type": "display_data",
          "data": {
            "application/vnd.jupyter.widget-view+json": {
              "model_id": "ee96322113034d30a77c64af439a8dba",
              "version_minor": 0,
              "version_major": 2
            },
            "text/plain": [
              "HBox(children=(FloatProgress(value=0.0, max=1648877.0), HTML(value='')))"
            ]
          },
          "metadata": {
            "tags": []
          }
        },
        {
          "output_type": "stream",
          "text": [
            "\n",
            "Extracting ../data/MNIST/MNIST/raw/t10k-images-idx3-ubyte.gz to ../data/MNIST/MNIST/raw\n",
            "\n",
            "Downloading http://yann.lecun.com/exdb/mnist/t10k-labels-idx1-ubyte.gz\n",
            "Failed to download (trying next):\n",
            "HTTP Error 503: Service Unavailable\n",
            "\n",
            "Downloading https://ossci-datasets.s3.amazonaws.com/mnist/t10k-labels-idx1-ubyte.gz\n",
            "Downloading https://ossci-datasets.s3.amazonaws.com/mnist/t10k-labels-idx1-ubyte.gz to ../data/MNIST/MNIST/raw/t10k-labels-idx1-ubyte.gz\n"
          ],
          "name": "stdout"
        },
        {
          "output_type": "display_data",
          "data": {
            "application/vnd.jupyter.widget-view+json": {
              "model_id": "8b0243e1c7b341e79bc04e3cc26f75b5",
              "version_minor": 0,
              "version_major": 2
            },
            "text/plain": [
              "HBox(children=(FloatProgress(value=0.0, max=4542.0), HTML(value='')))"
            ]
          },
          "metadata": {
            "tags": []
          }
        },
        {
          "output_type": "stream",
          "text": [
            "\n",
            "Extracting ../data/MNIST/MNIST/raw/t10k-labels-idx1-ubyte.gz to ../data/MNIST/MNIST/raw\n",
            "\n"
          ],
          "name": "stdout"
        },
        {
          "output_type": "stream",
          "text": [
            "/usr/local/lib/python3.7/dist-packages/torchvision/datasets/mnist.py:498: UserWarning: The given NumPy array is not writeable, and PyTorch does not support non-writeable tensors. This means you can write to the underlying (supposedly non-writeable) NumPy array using the tensor. You may want to copy the array to protect its data or make it writeable before converting it to a tensor. This type of warning will be suppressed for the rest of this program. (Triggered internally at  /pytorch/torch/csrc/utils/tensor_numpy.cpp:180.)\n",
            "  return torch.from_numpy(parsed.astype(m[2], copy=False)).view(*s)\n"
          ],
          "name": "stderr"
        }
      ]
    },
    {
      "cell_type": "code",
      "metadata": {
        "colab": {
          "base_uri": "https://localhost:8080/"
        },
        "id": "31Ra-BRX9J1q",
        "outputId": "b71cd51f-a858-4e55-d1ce-d6c24d566091"
      },
      "source": [
        "# 데이터 확인하기(1)\n",
        "for (X_train, y_train) in train_loader:\n",
        "  print('X_train:', X_train.size(), 'type:', X_train.type()) # 32개의 이미지 데이터가 1개의 mini-batch 구성. 가로 28개, 세로 28개, 채널 1 = 흑백으로 이루어진 데이터\n",
        "  print('y_train:', y_train.size(), 'type:', y_train.type()) # 32개의 이미지 데이터에 각각 label 값이 1개씩 존재\n",
        "  break"
      ],
      "execution_count": null,
      "outputs": [
        {
          "output_type": "stream",
          "text": [
            "X_train: torch.Size([32, 1, 28, 28]) type: torch.FloatTensor\n",
            "y_train: torch.Size([32]) type: torch.LongTensor\n"
          ],
          "name": "stdout"
        }
      ]
    },
    {
      "cell_type": "code",
      "metadata": {
        "colab": {
          "base_uri": "https://localhost:8080/",
          "height": 94
        },
        "id": "hioBq4oP9p76",
        "outputId": "281a8055-4379-434b-c7bf-6b8ef0290526"
      },
      "source": [
        "# 데이터 확인하기(2)\n",
        "pltsize=1\n",
        "plt.figure(figsize=(10*pltsize, pltsize))\n",
        "for i in range(10):\n",
        "  plt.subplot(1, 10, i+1)\n",
        "  plt.axis('off')\n",
        "  plt.imshow(X_train[i,:,:,:].numpy().reshape(28,28), cmap=\"gray_r\")\n",
        "  plt.title('Class: '+str(y_train[i].item()))"
      ],
      "execution_count": null,
      "outputs": [
        {
          "output_type": "display_data",
          "data": {
            "image/png": "[encoded data removed]",
            "text/plain": [
              "<Figure size 720x72 with 10 Axes>"
            ]
          },
          "metadata": {
            "tags": [],
            "needs_background": "light"
          }
        }
      ]
    },
    {
      "cell_type": "code",
      "metadata": {
        "id": "C11pmBat-IkK"
      },
      "source": [
        "# MLP 모델 설계\n",
        "class Net(nn.Module): # 딥러닝 모델 관련 기본 함수를 포함하고 있는 nn.Module 클래스를 상속받는 Net 클래스 정의\n",
        "  def __init__(self):\n",
        "    super(Net, self).__init__()\n",
        "    # fully connected layer 정의\n",
        "    self.fc1=nn.Linear(28*28, 512) \n",
        "    self.fc2=nn.Linear(512, 256)\n",
        "    self.fc3=nn.Linear(256, 10) # label 개수와 동일하게 설정 (원-핫 인코딩) \n",
        "    self.dropout_prob=0.5 # 몇 퍼센트의 노드에 대해 가중값을 계산하지 않을 것인지를 명시\n",
        "  def forward(self, x):\n",
        "    x=x.view(-1, 28*28) # view 메서드 이용하여 flatten\n",
        "    x=self.fc1(x)\n",
        "    x=F.sigmoid(x)\n",
        "    # 마지막에 output(y값) 구하기 전에 dropout\n",
        "    x=F.dropout(x, training=self.training, p=self.dropout_prob) # 평가 과정 속에서는 모든 노드를 이용해 output을 계산하기 때문에 학습 상태와 검증 상태에서 다르게 적용하기 위한 파라미터\n",
        "    x=self.fc2(x)\n",
        "    x=F.sigmoid(x)\n",
        "    x=F.dropout(x, training=self.training, p=self.dropout_prob)\n",
        "    x=self.fc3(x)\n",
        "    x=F.log_softmax(x, dim=1) # softmax 이용해 확률 계산\n",
        "    return x"
      ],
      "execution_count": null,
      "outputs": []
    },
    {
      "cell_type": "code",
      "metadata": {
        "id": "ZFhEcLR1BA8E"
      },
      "source": [
        "# Optimizer, Objective Function 설정\n",
        "model=Net().to(DEVICE)\n",
        "optimizer=torch.optim.SGD(model.parameters(), lr=0.01, momentum=0.5) # SGD : 데이터를 조개서 Gradient Descent Method , Optimizer : 이렇게 Gradient Descent해주는 것을 통틀어\n",
        "criterion=nn.CrossEntropyLoss() # 원-핫 인코딩 값 계산 위해"
      ],
      "execution_count": null,
      "outputs": []
    },
    {
      "cell_type": "code",
      "metadata": {
        "id": "uDyilbVtCOGA"
      },
      "source": [
        "# MLP 모델 학습을 진행하며 학습 데이터에 대한 모델 성능을 확인하는 함수 정의\n",
        "def train(model, train_loader, optimizer, log_interval):\n",
        "  model.train()\n",
        "  for batch_idx, (image, label) in enumerate(train_loader): # train_loader에는 학습에 이용되는 이미지 데이터와 레이블 데이터가 mini-batch 단위로 묶여서 저장되어있음\n",
        "    image=image.to(DEVICE)\n",
        "    label=label.to(DEVICE)\n",
        "    optimizer.zero_grad() # optimizer 초기화\n",
        "    output=model(image)\n",
        "    loss=criterion(output, label)\n",
        "    loss.backward()\n",
        "    optimizer.step()\n",
        "\n",
        "    if batch_idx%log_interval==0:\n",
        "      print(\"Train Epoch: {} [{}/{}({:.0f}%)]\\tTrain Loss: {:.6f}\".format(Epoch, batch_idx*len(image), len(train_loader.dataset), 100.*batch_idx/len(train_loader), loss.item()))"
      ],
      "execution_count": null,
      "outputs": []
    },
    {
      "cell_type": "code",
      "metadata": {
        "id": "2VfxQDClEXHs"
      },
      "source": [
        "# 학습되는 과정 속에서 검증 데이터에 대한 모델 성능을 확인하는 함수 정의\n",
        "def evaluate(model, test_loader):\n",
        "  model.eval()\n",
        "  test_loss=0\n",
        "  correct=0\n",
        "\n",
        "  with torch.no_grad():\n",
        "    for image, label in test_loader:\n",
        "      image=image.to(DEVICE)\n",
        "      label=label.to(DEVICE)\n",
        "      output=model(image)\n",
        "      test_loss+=criterion(output, label).item()\n",
        "      prediction=output.max(1, keepdim=True)[1] # 계산된 벡터 값 내 가장 큰 값인 위치에 대해 해당 위치에 대응하는 클래스로 예측했다고 판단\n",
        "      correct+=prediction.eq(label.view_as(prediction)).sum().item()\n",
        "  \n",
        "  test_loss/=len(test_loader.dataset)\n",
        "  test_accuracy=100. *correct/len(test_loader.dataset)\n",
        "  return test_loss, test_accuracy"
      ],
      "execution_count": null,
      "outputs": []
    },
    {
      "cell_type": "code",
      "metadata": {
        "colab": {
          "base_uri": "https://localhost:8080/"
        },
        "id": "SBJDvwuVGet-",
        "outputId": "f224b6af-ef73-40cd-83c7-d4de18efd216"
      },
      "source": [
        "# MLP 학습을 실행하면서 Train, Test set의 Loss 및 Test set Accuracy를 확인하기\n",
        "for Epoch in range(1, EPOCHS+1):\n",
        "  train(model, train_loader, optimizer, log_interval=200)\n",
        "  test_loss, test_accuracy=evaluate(model, test_loader)\n",
        "  print(\"\\n[EPOCH: {}], \\tTest Loss: {:.4f}, \\tTest Accuracy: {:.2f} %\\n\".format(Epoch, test_loss, test_accuracy))"
      ],
      "execution_count": null,
      "outputs": [
        {
          "output_type": "stream",
          "text": [
            "/usr/local/lib/python3.7/dist-packages/torch/nn/functional.py:1805: UserWarning: nn.functional.sigmoid is deprecated. Use torch.sigmoid instead.\n",
            "  warnings.warn(\"nn.functional.sigmoid is deprecated. Use torch.sigmoid instead.\")\n"
          ],
          "name": "stderr"
        },
        {
          "output_type": "stream",
          "text": [
            "Train Epoch: 1 [0/60000(0%)]\tTrain Loss: 2.505495\n",
            "Train Epoch: 1 [6400/60000(11%)]\tTrain Loss: 2.320647\n",
            "Train Epoch: 1 [12800/60000(21%)]\tTrain Loss: 2.360442\n",
            "Train Epoch: 1 [19200/60000(32%)]\tTrain Loss: 2.359309\n",
            "Train Epoch: 1 [25600/60000(43%)]\tTrain Loss: 2.332768\n",
            "Train Epoch: 1 [32000/60000(53%)]\tTrain Loss: 2.310847\n",
            "Train Epoch: 1 [38400/60000(64%)]\tTrain Loss: 2.332471\n",
            "Train Epoch: 1 [44800/60000(75%)]\tTrain Loss: 2.314453\n",
            "Train Epoch: 1 [51200/60000(85%)]\tTrain Loss: 2.335973\n",
            "Train Epoch: 1 [57600/60000(96%)]\tTrain Loss: 2.258780\n",
            "\n",
            "[EPOCH: 1], \tTest Loss: 0.0713, \tTest Accuracy: 24.68 %\n",
            "\n",
            "Train Epoch: 2 [0/60000(0%)]\tTrain Loss: 2.288188\n",
            "Train Epoch: 2 [6400/60000(11%)]\tTrain Loss: 2.254371\n",
            "Train Epoch: 2 [12800/60000(21%)]\tTrain Loss: 2.338326\n",
            "Train Epoch: 2 [19200/60000(32%)]\tTrain Loss: 2.288421\n",
            "Train Epoch: 2 [25600/60000(43%)]\tTrain Loss: 2.197824\n",
            "Train Epoch: 2 [32000/60000(53%)]\tTrain Loss: 2.180746\n",
            "Train Epoch: 2 [38400/60000(64%)]\tTrain Loss: 2.282663\n",
            "Train Epoch: 2 [44800/60000(75%)]\tTrain Loss: 2.135789\n",
            "Train Epoch: 2 [51200/60000(85%)]\tTrain Loss: 2.159710\n",
            "Train Epoch: 2 [57600/60000(96%)]\tTrain Loss: 1.962940\n",
            "\n",
            "[EPOCH: 2], \tTest Loss: 0.0626, \tTest Accuracy: 37.93 %\n",
            "\n",
            "Train Epoch: 3 [0/60000(0%)]\tTrain Loss: 2.108783\n",
            "Train Epoch: 3 [6400/60000(11%)]\tTrain Loss: 2.077258\n",
            "Train Epoch: 3 [12800/60000(21%)]\tTrain Loss: 1.928538\n",
            "Train Epoch: 3 [19200/60000(32%)]\tTrain Loss: 1.862044\n",
            "Train Epoch: 3 [25600/60000(43%)]\tTrain Loss: 1.921796\n",
            "Train Epoch: 3 [32000/60000(53%)]\tTrain Loss: 1.613556\n",
            "Train Epoch: 3 [38400/60000(64%)]\tTrain Loss: 1.617284\n",
            "Train Epoch: 3 [44800/60000(75%)]\tTrain Loss: 1.496473\n",
            "Train Epoch: 3 [51200/60000(85%)]\tTrain Loss: 1.569341\n",
            "Train Epoch: 3 [57600/60000(96%)]\tTrain Loss: 1.534029\n",
            "\n",
            "[EPOCH: 3], \tTest Loss: 0.0379, \tTest Accuracy: 60.44 %\n",
            "\n",
            "Train Epoch: 4 [0/60000(0%)]\tTrain Loss: 1.063487\n",
            "Train Epoch: 4 [6400/60000(11%)]\tTrain Loss: 1.441338\n",
            "Train Epoch: 4 [12800/60000(21%)]\tTrain Loss: 1.080597\n",
            "Train Epoch: 4 [19200/60000(32%)]\tTrain Loss: 1.472520\n",
            "Train Epoch: 4 [25600/60000(43%)]\tTrain Loss: 1.211711\n",
            "Train Epoch: 4 [32000/60000(53%)]\tTrain Loss: 1.198231\n",
            "Train Epoch: 4 [38400/60000(64%)]\tTrain Loss: 0.976152\n",
            "Train Epoch: 4 [44800/60000(75%)]\tTrain Loss: 1.043949\n",
            "Train Epoch: 4 [51200/60000(85%)]\tTrain Loss: 1.055532\n",
            "Train Epoch: 4 [57600/60000(96%)]\tTrain Loss: 0.856567\n",
            "\n",
            "[EPOCH: 4], \tTest Loss: 0.0276, \tTest Accuracy: 71.62 %\n",
            "\n",
            "Train Epoch: 5 [0/60000(0%)]\tTrain Loss: 1.139915\n",
            "Train Epoch: 5 [6400/60000(11%)]\tTrain Loss: 1.045155\n",
            "Train Epoch: 5 [12800/60000(21%)]\tTrain Loss: 0.779476\n",
            "Train Epoch: 5 [19200/60000(32%)]\tTrain Loss: 0.910372\n",
            "Train Epoch: 5 [25600/60000(43%)]\tTrain Loss: 0.879708\n",
            "Train Epoch: 5 [32000/60000(53%)]\tTrain Loss: 0.878013\n",
            "Train Epoch: 5 [38400/60000(64%)]\tTrain Loss: 0.937188\n",
            "Train Epoch: 5 [44800/60000(75%)]\tTrain Loss: 0.887536\n",
            "Train Epoch: 5 [51200/60000(85%)]\tTrain Loss: 0.894304\n",
            "Train Epoch: 5 [57600/60000(96%)]\tTrain Loss: 0.716802\n",
            "\n",
            "[EPOCH: 5], \tTest Loss: 0.0235, \tTest Accuracy: 76.01 %\n",
            "\n",
            "Train Epoch: 6 [0/60000(0%)]\tTrain Loss: 0.923689\n",
            "Train Epoch: 6 [6400/60000(11%)]\tTrain Loss: 0.804820\n",
            "Train Epoch: 6 [12800/60000(21%)]\tTrain Loss: 1.054942\n",
            "Train Epoch: 6 [19200/60000(32%)]\tTrain Loss: 0.967558\n",
            "Train Epoch: 6 [25600/60000(43%)]\tTrain Loss: 0.681252\n",
            "Train Epoch: 6 [32000/60000(53%)]\tTrain Loss: 0.872571\n",
            "Train Epoch: 6 [38400/60000(64%)]\tTrain Loss: 1.344330\n",
            "Train Epoch: 6 [44800/60000(75%)]\tTrain Loss: 0.701623\n",
            "Train Epoch: 6 [51200/60000(85%)]\tTrain Loss: 0.845107\n",
            "Train Epoch: 6 [57600/60000(96%)]\tTrain Loss: 0.933105\n",
            "\n",
            "[EPOCH: 6], \tTest Loss: 0.0203, \tTest Accuracy: 80.62 %\n",
            "\n",
            "Train Epoch: 7 [0/60000(0%)]\tTrain Loss: 0.892165\n",
            "Train Epoch: 7 [6400/60000(11%)]\tTrain Loss: 0.611751\n",
            "Train Epoch: 7 [12800/60000(21%)]\tTrain Loss: 0.662951\n",
            "Train Epoch: 7 [19200/60000(32%)]\tTrain Loss: 0.586218\n",
            "Train Epoch: 7 [25600/60000(43%)]\tTrain Loss: 1.072251\n",
            "Train Epoch: 7 [32000/60000(53%)]\tTrain Loss: 0.768194\n",
            "Train Epoch: 7 [38400/60000(64%)]\tTrain Loss: 0.995997\n",
            "Train Epoch: 7 [44800/60000(75%)]\tTrain Loss: 0.594581\n",
            "Train Epoch: 7 [51200/60000(85%)]\tTrain Loss: 0.639310\n",
            "Train Epoch: 7 [57600/60000(96%)]\tTrain Loss: 0.940203\n",
            "\n",
            "[EPOCH: 7], \tTest Loss: 0.0175, \tTest Accuracy: 83.65 %\n",
            "\n",
            "Train Epoch: 8 [0/60000(0%)]\tTrain Loss: 0.685749\n",
            "Train Epoch: 8 [6400/60000(11%)]\tTrain Loss: 0.649024\n",
            "Train Epoch: 8 [12800/60000(21%)]\tTrain Loss: 0.926024\n",
            "Train Epoch: 8 [19200/60000(32%)]\tTrain Loss: 0.700976\n",
            "Train Epoch: 8 [25600/60000(43%)]\tTrain Loss: 0.598578\n",
            "Train Epoch: 8 [32000/60000(53%)]\tTrain Loss: 0.472416\n",
            "Train Epoch: 8 [38400/60000(64%)]\tTrain Loss: 0.411157\n",
            "Train Epoch: 8 [44800/60000(75%)]\tTrain Loss: 0.594819\n",
            "Train Epoch: 8 [51200/60000(85%)]\tTrain Loss: 0.750902\n",
            "Train Epoch: 8 [57600/60000(96%)]\tTrain Loss: 0.845603\n",
            "\n",
            "[EPOCH: 8], \tTest Loss: 0.0158, \tTest Accuracy: 85.19 %\n",
            "\n",
            "Train Epoch: 9 [0/60000(0%)]\tTrain Loss: 0.570574\n",
            "Train Epoch: 9 [6400/60000(11%)]\tTrain Loss: 0.833858\n",
            "Train Epoch: 9 [12800/60000(21%)]\tTrain Loss: 0.713311\n",
            "Train Epoch: 9 [19200/60000(32%)]\tTrain Loss: 0.589881\n",
            "Train Epoch: 9 [25600/60000(43%)]\tTrain Loss: 0.551201\n",
            "Train Epoch: 9 [32000/60000(53%)]\tTrain Loss: 0.597305\n",
            "Train Epoch: 9 [38400/60000(64%)]\tTrain Loss: 0.748120\n",
            "Train Epoch: 9 [44800/60000(75%)]\tTrain Loss: 0.609032\n",
            "Train Epoch: 9 [51200/60000(85%)]\tTrain Loss: 0.348715\n",
            "Train Epoch: 9 [57600/60000(96%)]\tTrain Loss: 0.665794\n",
            "\n",
            "[EPOCH: 9], \tTest Loss: 0.0146, \tTest Accuracy: 85.87 %\n",
            "\n",
            "Train Epoch: 10 [0/60000(0%)]\tTrain Loss: 0.689826\n",
            "Train Epoch: 10 [6400/60000(11%)]\tTrain Loss: 0.518624\n",
            "Train Epoch: 10 [12800/60000(21%)]\tTrain Loss: 0.343242\n",
            "Train Epoch: 10 [19200/60000(32%)]\tTrain Loss: 0.551825\n",
            "Train Epoch: 10 [25600/60000(43%)]\tTrain Loss: 0.949109\n",
            "Train Epoch: 10 [32000/60000(53%)]\tTrain Loss: 0.501005\n",
            "Train Epoch: 10 [38400/60000(64%)]\tTrain Loss: 0.428358\n",
            "Train Epoch: 10 [44800/60000(75%)]\tTrain Loss: 0.466910\n",
            "Train Epoch: 10 [51200/60000(85%)]\tTrain Loss: 0.902173\n",
            "Train Epoch: 10 [57600/60000(96%)]\tTrain Loss: 0.419945\n",
            "\n",
            "[EPOCH: 10], \tTest Loss: 0.0138, \tTest Accuracy: 86.87 %\n",
            "\n"
          ],
          "name": "stdout"
        }
      ]
    },
    {
      "cell_type": "markdown",
      "metadata": {
        "id": "SKz1J3uQMhDN"
      },
      "source": [
        "### 사람의 손글씨 데이터인 MNIST를 이용해 Multi Layer Perceptron(MLP) 설계할 때 Dropout+ReLu 적용해보기\n",
        "ReLu : 0 미만인 값은 0으로 계산하고 양수 값은 그대로 반영하는 비선형 함수. 기울기가 0 또는 1이 되기 때문에 gradient 빠르게 계산 가능."
      ]
    },
    {
      "cell_type": "code",
      "metadata": {
        "id": "w90PMvmXMfbM"
      },
      "source": [
        "# MLP 모델 설계\n",
        "class Net(nn.Module): # 딥러닝 모델 관련 기본 함수를 포함하고 있는 nn.Module 클래스를 상속받는 Net 클래스 정의\n",
        "  def __init__(self):\n",
        "    super(Net, self).__init__()\n",
        "    # fully connected layer 정의\n",
        "    self.fc1=nn.Linear(28*28, 512) \n",
        "    self.fc2=nn.Linear(512, 256)\n",
        "    self.fc3=nn.Linear(256, 10) # label 개수와 동일하게 설정 (원-핫 인코딩) \n",
        "    self.dropout_prob=0.5 # 몇 퍼센트의 노드에 대해 가중값을 계산하지 않을 것인지를 명시\n",
        "  def forward(self, x):\n",
        "    x=x.view(-1, 28*28) # view 메서드 이용하여 flatten\n",
        "    x=self.fc1(x)\n",
        "    x=F.relu(x)\n",
        "    # 마지막에 output(y값) 구하기 전에 dropout\n",
        "    x=F.dropout(x, training=self.training, p=self.dropout_prob) # 평가 과정 속에서는 모든 노드를 이용해 output을 계산하기 때문에 학습 상태와 검증 상태에서 다르게 적용하기 위한 파라미터\n",
        "    x=self.fc2(x)\n",
        "    x=F.relu(x)\n",
        "    x=F.dropout(x, training=self.training, p=self.dropout_prob)\n",
        "    x=self.fc3(x)\n",
        "    x=F.log_softmax(x, dim=1) # softmax 이용해 확률 계산\n",
        "    return x"
      ],
      "execution_count": 24,
      "outputs": []
    },
    {
      "cell_type": "code",
      "metadata": {
        "id": "IsFD0fcRMfbM"
      },
      "source": [
        "# Optimizer, Objective Function 설정\n",
        "model=Net().to(DEVICE)\n",
        "optimizer=torch.optim.SGD(model.parameters(), lr=0.01, momentum=0.5) # SGD : 데이터를 조개서 Gradient Descent Method , Optimizer : 이렇게 Gradient Descent해주는 것을 통틀어\n",
        "criterion=nn.CrossEntropyLoss() # 원-핫 인코딩 값 계산 위해"
      ],
      "execution_count": 25,
      "outputs": []
    },
    {
      "cell_type": "code",
      "metadata": {
        "colab": {
          "base_uri": "https://localhost:8080/"
        },
        "id": "Od7QW6I-MfbM",
        "outputId": "2a841cc2-5fbe-4858-8e15-d1f46e189e8d"
      },
      "source": [
        "# MLP 학습을 실행하면서 Train, Test set의 Loss 및 Test set Accuracy를 확인하기\n",
        "for Epoch in range(1, EPOCHS+1):\n",
        "  train(model, train_loader, optimizer, log_interval=200)\n",
        "  test_loss, test_accuracy=evaluate(model, test_loader)\n",
        "  print(\"\\n[EPOCH: {}], \\tTest Loss: {:.4f}, \\tTest Accuracy: {:.2f} %\\n\".format(Epoch, test_loss, test_accuracy))"
      ],
      "execution_count": 26,
      "outputs": [
        {
          "output_type": "stream",
          "text": [
            "Train Epoch: 1 [0/60000(0%)]\tTrain Loss: 2.321565\n",
            "Train Epoch: 1 [6400/60000(11%)]\tTrain Loss: 2.081671\n",
            "Train Epoch: 1 [12800/60000(21%)]\tTrain Loss: 1.134263\n",
            "Train Epoch: 1 [19200/60000(32%)]\tTrain Loss: 0.687257\n",
            "Train Epoch: 1 [25600/60000(43%)]\tTrain Loss: 0.596644\n",
            "Train Epoch: 1 [32000/60000(53%)]\tTrain Loss: 0.784989\n",
            "Train Epoch: 1 [38400/60000(64%)]\tTrain Loss: 0.832633\n",
            "Train Epoch: 1 [44800/60000(75%)]\tTrain Loss: 0.555820\n",
            "Train Epoch: 1 [51200/60000(85%)]\tTrain Loss: 0.390890\n",
            "Train Epoch: 1 [57600/60000(96%)]\tTrain Loss: 0.502354\n",
            "\n",
            "[EPOCH: 1], \tTest Loss: 0.0101, \tTest Accuracy: 90.89 %\n",
            "\n",
            "Train Epoch: 2 [0/60000(0%)]\tTrain Loss: 0.374330\n",
            "Train Epoch: 2 [6400/60000(11%)]\tTrain Loss: 0.277589\n",
            "Train Epoch: 2 [12800/60000(21%)]\tTrain Loss: 0.194745\n",
            "Train Epoch: 2 [19200/60000(32%)]\tTrain Loss: 0.364049\n",
            "Train Epoch: 2 [25600/60000(43%)]\tTrain Loss: 0.662972\n",
            "Train Epoch: 2 [32000/60000(53%)]\tTrain Loss: 0.306130\n",
            "Train Epoch: 2 [38400/60000(64%)]\tTrain Loss: 0.420377\n",
            "Train Epoch: 2 [44800/60000(75%)]\tTrain Loss: 0.352475\n",
            "Train Epoch: 2 [51200/60000(85%)]\tTrain Loss: 0.252825\n",
            "Train Epoch: 2 [57600/60000(96%)]\tTrain Loss: 0.130110\n",
            "\n",
            "[EPOCH: 2], \tTest Loss: 0.0070, \tTest Accuracy: 93.43 %\n",
            "\n",
            "Train Epoch: 3 [0/60000(0%)]\tTrain Loss: 0.276723\n",
            "Train Epoch: 3 [6400/60000(11%)]\tTrain Loss: 0.264729\n",
            "Train Epoch: 3 [12800/60000(21%)]\tTrain Loss: 0.119052\n",
            "Train Epoch: 3 [19200/60000(32%)]\tTrain Loss: 0.175200\n",
            "Train Epoch: 3 [25600/60000(43%)]\tTrain Loss: 0.120208\n",
            "Train Epoch: 3 [32000/60000(53%)]\tTrain Loss: 0.379593\n",
            "Train Epoch: 3 [38400/60000(64%)]\tTrain Loss: 0.124347\n",
            "Train Epoch: 3 [44800/60000(75%)]\tTrain Loss: 0.313588\n",
            "Train Epoch: 3 [51200/60000(85%)]\tTrain Loss: 0.452556\n",
            "Train Epoch: 3 [57600/60000(96%)]\tTrain Loss: 0.322938\n",
            "\n",
            "[EPOCH: 3], \tTest Loss: 0.0055, \tTest Accuracy: 94.81 %\n",
            "\n",
            "Train Epoch: 4 [0/60000(0%)]\tTrain Loss: 0.568216\n",
            "Train Epoch: 4 [6400/60000(11%)]\tTrain Loss: 0.192408\n",
            "Train Epoch: 4 [12800/60000(21%)]\tTrain Loss: 0.284184\n",
            "Train Epoch: 4 [19200/60000(32%)]\tTrain Loss: 0.302484\n",
            "Train Epoch: 4 [25600/60000(43%)]\tTrain Loss: 0.234280\n",
            "Train Epoch: 4 [32000/60000(53%)]\tTrain Loss: 0.314040\n",
            "Train Epoch: 4 [38400/60000(64%)]\tTrain Loss: 0.272045\n",
            "Train Epoch: 4 [44800/60000(75%)]\tTrain Loss: 0.253245\n",
            "Train Epoch: 4 [51200/60000(85%)]\tTrain Loss: 0.289992\n",
            "Train Epoch: 4 [57600/60000(96%)]\tTrain Loss: 0.117192\n",
            "\n",
            "[EPOCH: 4], \tTest Loss: 0.0044, \tTest Accuracy: 95.85 %\n",
            "\n",
            "Train Epoch: 5 [0/60000(0%)]\tTrain Loss: 0.115309\n",
            "Train Epoch: 5 [6400/60000(11%)]\tTrain Loss: 0.092648\n",
            "Train Epoch: 5 [12800/60000(21%)]\tTrain Loss: 0.223232\n",
            "Train Epoch: 5 [19200/60000(32%)]\tTrain Loss: 0.093101\n",
            "Train Epoch: 5 [25600/60000(43%)]\tTrain Loss: 0.144887\n",
            "Train Epoch: 5 [32000/60000(53%)]\tTrain Loss: 0.263801\n",
            "Train Epoch: 5 [38400/60000(64%)]\tTrain Loss: 0.064430\n",
            "Train Epoch: 5 [44800/60000(75%)]\tTrain Loss: 0.110101\n",
            "Train Epoch: 5 [51200/60000(85%)]\tTrain Loss: 0.253691\n",
            "Train Epoch: 5 [57600/60000(96%)]\tTrain Loss: 0.139981\n",
            "\n",
            "[EPOCH: 5], \tTest Loss: 0.0040, \tTest Accuracy: 96.07 %\n",
            "\n",
            "Train Epoch: 6 [0/60000(0%)]\tTrain Loss: 0.189468\n",
            "Train Epoch: 6 [6400/60000(11%)]\tTrain Loss: 0.092798\n",
            "Train Epoch: 6 [12800/60000(21%)]\tTrain Loss: 0.299207\n",
            "Train Epoch: 6 [19200/60000(32%)]\tTrain Loss: 0.203661\n",
            "Train Epoch: 6 [25600/60000(43%)]\tTrain Loss: 0.073053\n",
            "Train Epoch: 6 [32000/60000(53%)]\tTrain Loss: 0.160810\n",
            "Train Epoch: 6 [38400/60000(64%)]\tTrain Loss: 0.070489\n",
            "Train Epoch: 6 [44800/60000(75%)]\tTrain Loss: 0.100515\n",
            "Train Epoch: 6 [51200/60000(85%)]\tTrain Loss: 0.063060\n",
            "Train Epoch: 6 [57600/60000(96%)]\tTrain Loss: 0.115173\n",
            "\n",
            "[EPOCH: 6], \tTest Loss: 0.0035, \tTest Accuracy: 96.55 %\n",
            "\n",
            "Train Epoch: 7 [0/60000(0%)]\tTrain Loss: 0.201003\n",
            "Train Epoch: 7 [6400/60000(11%)]\tTrain Loss: 0.134261\n",
            "Train Epoch: 7 [12800/60000(21%)]\tTrain Loss: 0.032784\n",
            "Train Epoch: 7 [19200/60000(32%)]\tTrain Loss: 0.235496\n",
            "Train Epoch: 7 [25600/60000(43%)]\tTrain Loss: 0.161968\n",
            "Train Epoch: 7 [32000/60000(53%)]\tTrain Loss: 0.292484\n",
            "Train Epoch: 7 [38400/60000(64%)]\tTrain Loss: 0.322523\n",
            "Train Epoch: 7 [44800/60000(75%)]\tTrain Loss: 0.040908\n",
            "Train Epoch: 7 [51200/60000(85%)]\tTrain Loss: 0.061205\n",
            "Train Epoch: 7 [57600/60000(96%)]\tTrain Loss: 0.102364\n",
            "\n",
            "[EPOCH: 7], \tTest Loss: 0.0032, \tTest Accuracy: 96.80 %\n",
            "\n",
            "Train Epoch: 8 [0/60000(0%)]\tTrain Loss: 0.126255\n",
            "Train Epoch: 8 [6400/60000(11%)]\tTrain Loss: 0.082354\n",
            "Train Epoch: 8 [12800/60000(21%)]\tTrain Loss: 0.089362\n",
            "Train Epoch: 8 [19200/60000(32%)]\tTrain Loss: 0.173514\n",
            "Train Epoch: 8 [25600/60000(43%)]\tTrain Loss: 0.061151\n",
            "Train Epoch: 8 [32000/60000(53%)]\tTrain Loss: 0.142023\n",
            "Train Epoch: 8 [38400/60000(64%)]\tTrain Loss: 0.048417\n",
            "Train Epoch: 8 [44800/60000(75%)]\tTrain Loss: 0.116142\n",
            "Train Epoch: 8 [51200/60000(85%)]\tTrain Loss: 0.138223\n",
            "Train Epoch: 8 [57600/60000(96%)]\tTrain Loss: 0.046710\n",
            "\n",
            "[EPOCH: 8], \tTest Loss: 0.0030, \tTest Accuracy: 96.95 %\n",
            "\n",
            "Train Epoch: 9 [0/60000(0%)]\tTrain Loss: 0.093600\n",
            "Train Epoch: 9 [6400/60000(11%)]\tTrain Loss: 0.045685\n",
            "Train Epoch: 9 [12800/60000(21%)]\tTrain Loss: 0.117682\n",
            "Train Epoch: 9 [19200/60000(32%)]\tTrain Loss: 0.117729\n",
            "Train Epoch: 9 [25600/60000(43%)]\tTrain Loss: 0.105973\n",
            "Train Epoch: 9 [32000/60000(53%)]\tTrain Loss: 0.176657\n",
            "Train Epoch: 9 [38400/60000(64%)]\tTrain Loss: 0.234112\n",
            "Train Epoch: 9 [44800/60000(75%)]\tTrain Loss: 0.246589\n",
            "Train Epoch: 9 [51200/60000(85%)]\tTrain Loss: 0.095179\n",
            "Train Epoch: 9 [57600/60000(96%)]\tTrain Loss: 0.169868\n",
            "\n",
            "[EPOCH: 9], \tTest Loss: 0.0027, \tTest Accuracy: 97.28 %\n",
            "\n",
            "Train Epoch: 10 [0/60000(0%)]\tTrain Loss: 0.080085\n",
            "Train Epoch: 10 [6400/60000(11%)]\tTrain Loss: 0.076259\n",
            "Train Epoch: 10 [12800/60000(21%)]\tTrain Loss: 0.111918\n",
            "Train Epoch: 10 [19200/60000(32%)]\tTrain Loss: 0.148911\n",
            "Train Epoch: 10 [25600/60000(43%)]\tTrain Loss: 0.028517\n",
            "Train Epoch: 10 [32000/60000(53%)]\tTrain Loss: 0.291055\n",
            "Train Epoch: 10 [38400/60000(64%)]\tTrain Loss: 0.236257\n",
            "Train Epoch: 10 [44800/60000(75%)]\tTrain Loss: 0.049742\n",
            "Train Epoch: 10 [51200/60000(85%)]\tTrain Loss: 0.141200\n",
            "Train Epoch: 10 [57600/60000(96%)]\tTrain Loss: 0.159440\n",
            "\n",
            "[EPOCH: 10], \tTest Loss: 0.0026, \tTest Accuracy: 97.40 %\n",
            "\n"
          ],
          "name": "stdout"
        }
      ]
    },
    {
      "cell_type": "markdown",
      "metadata": {
        "id": "pch_l3P5NpWc"
      },
      "source": [
        "### 사람의 손글씨 데이터인 MNIST를 이용해 Multi Layer Perceptron(MLP) 설계할 때 Dropout+ReLu+Batch Normalization 적용해보기\n",
        "\n",
        "Batch Normalization : 각 Layer마다 Input의 분포가 달라짐에 따라 학습 속도가 현저히 느려지는 것을 방지하기 위해 이용되는 기법\n"
      ]
    },
    {
      "cell_type": "code",
      "metadata": {
        "id": "sg_Mqg0-N8sW"
      },
      "source": [
        "# MLP 모델 설계\n",
        "class Net(nn.Module): # 딥러닝 모델 관련 기본 함수를 포함하고 있는 nn.Module 클래스를 상속받는 Net 클래스 정의\n",
        "  def __init__(self):\n",
        "    super(Net, self).__init__()\n",
        "    # fully connected layer 정의\n",
        "    self.fc1=nn.Linear(28*28, 512) \n",
        "    self.fc2=nn.Linear(512, 256)\n",
        "    self.fc3=nn.Linear(256, 10) # label 개수와 동일하게 설정 (원-핫 인코딩) \n",
        "    self.dropout_prob=0.5 # 몇 퍼센트의 노드에 대해 가중값을 계산하지 않을 것인지를 명시\n",
        "    self.batch_norm1=nn.BatchNorm1d(512) # 첫 번째 fully connected layer의 output이 512 크기의 벡터 값\n",
        "    self.batch_norm2=nn.BatchNorm1d(256) # 두 번째 fully connected layer의 output이 256 크기의 벡터 값\n",
        "  def forward(self, x):\n",
        "    x=x.view(-1, 28*28) # view 메서드 이용하여 flatten\n",
        "    x=self.fc1(x)\n",
        "    x=self.batch_norm1(x) # activation 이전/이후 적용 상관 X\n",
        "    x=F.relu(x)\n",
        "    # 마지막에 output(y값) 구하기 전에 dropout\n",
        "    x=F.dropout(x, training=self.training, p=self.dropout_prob) # 평가 과정 속에서는 모든 노드를 이용해 output을 계산하기 때문에 학습 상태와 검증 상태에서 다르게 적용하기 위한 파라미터\n",
        "    x=self.fc2(x)\n",
        "    x=F.relu(x)\n",
        "    x=F.dropout(x, training=self.training, p=self.dropout_prob)\n",
        "    x=self.fc3(x)\n",
        "    x=F.log_softmax(x, dim=1) # softmax 이용해 확률 계산\n",
        "    return x"
      ],
      "execution_count": 29,
      "outputs": []
    },
    {
      "cell_type": "code",
      "metadata": {
        "id": "ADIv5OxON8sW"
      },
      "source": [
        "# Optimizer, Objective Function 설정\n",
        "model=Net().to(DEVICE)\n",
        "optimizer=torch.optim.SGD(model.parameters(), lr=0.01, momentum=0.5) # SGD : 데이터를 조개서 Gradient Descent Method , Optimizer : 이렇게 Gradient Descent해주는 것을 통틀어\n",
        "criterion=nn.CrossEntropyLoss() # 원-핫 인코딩 값 계산 위해"
      ],
      "execution_count": 30,
      "outputs": []
    },
    {
      "cell_type": "code",
      "metadata": {
        "colab": {
          "base_uri": "https://localhost:8080/"
        },
        "id": "BJaKuhSjN8sW",
        "outputId": "ba435214-83d2-492a-8001-eee0256877f7"
      },
      "source": [
        "# MLP 학습을 실행하면서 Train, Test set의 Loss 및 Test set Accuracy를 확인하기\n",
        "for Epoch in range(1, EPOCHS+1):\n",
        "  train(model, train_loader, optimizer, log_interval=200)\n",
        "  test_loss, test_accuracy=evaluate(model, test_loader)\n",
        "  print(\"\\n[EPOCH: {}], \\tTest Loss: {:.4f}, \\tTest Accuracy: {:.2f} %\\n\".format(Epoch, test_loss, test_accuracy))"
      ],
      "execution_count": 31,
      "outputs": [
        {
          "output_type": "stream",
          "text": [
            "Train Epoch: 1 [0/60000(0%)]\tTrain Loss: 2.346969\n",
            "Train Epoch: 1 [6400/60000(11%)]\tTrain Loss: 0.700451\n",
            "Train Epoch: 1 [12800/60000(21%)]\tTrain Loss: 0.237478\n",
            "Train Epoch: 1 [19200/60000(32%)]\tTrain Loss: 0.722487\n",
            "Train Epoch: 1 [25600/60000(43%)]\tTrain Loss: 0.310037\n",
            "Train Epoch: 1 [32000/60000(53%)]\tTrain Loss: 0.289065\n",
            "Train Epoch: 1 [38400/60000(64%)]\tTrain Loss: 0.301698\n",
            "Train Epoch: 1 [44800/60000(75%)]\tTrain Loss: 0.473813\n",
            "Train Epoch: 1 [51200/60000(85%)]\tTrain Loss: 0.523973\n",
            "Train Epoch: 1 [57600/60000(96%)]\tTrain Loss: 0.372627\n",
            "\n",
            "[EPOCH: 1], \tTest Loss: 0.0054, \tTest Accuracy: 94.64 %\n",
            "\n",
            "Train Epoch: 2 [0/60000(0%)]\tTrain Loss: 0.404558\n",
            "Train Epoch: 2 [6400/60000(11%)]\tTrain Loss: 0.152860\n",
            "Train Epoch: 2 [12800/60000(21%)]\tTrain Loss: 0.196589\n",
            "Train Epoch: 2 [19200/60000(32%)]\tTrain Loss: 0.146094\n",
            "Train Epoch: 2 [25600/60000(43%)]\tTrain Loss: 0.272170\n",
            "Train Epoch: 2 [32000/60000(53%)]\tTrain Loss: 0.081976\n",
            "Train Epoch: 2 [38400/60000(64%)]\tTrain Loss: 0.644556\n",
            "Train Epoch: 2 [44800/60000(75%)]\tTrain Loss: 0.126911\n",
            "Train Epoch: 2 [51200/60000(85%)]\tTrain Loss: 0.509763\n",
            "Train Epoch: 2 [57600/60000(96%)]\tTrain Loss: 0.075420\n",
            "\n",
            "[EPOCH: 2], \tTest Loss: 0.0039, \tTest Accuracy: 96.14 %\n",
            "\n",
            "Train Epoch: 3 [0/60000(0%)]\tTrain Loss: 0.291804\n",
            "Train Epoch: 3 [6400/60000(11%)]\tTrain Loss: 0.169403\n",
            "Train Epoch: 3 [12800/60000(21%)]\tTrain Loss: 0.043252\n",
            "Train Epoch: 3 [19200/60000(32%)]\tTrain Loss: 0.450668\n",
            "Train Epoch: 3 [25600/60000(43%)]\tTrain Loss: 0.144642\n",
            "Train Epoch: 3 [32000/60000(53%)]\tTrain Loss: 0.137906\n",
            "Train Epoch: 3 [38400/60000(64%)]\tTrain Loss: 0.290121\n",
            "Train Epoch: 3 [44800/60000(75%)]\tTrain Loss: 0.140818\n",
            "Train Epoch: 3 [51200/60000(85%)]\tTrain Loss: 0.037371\n",
            "Train Epoch: 3 [57600/60000(96%)]\tTrain Loss: 0.118642\n",
            "\n",
            "[EPOCH: 3], \tTest Loss: 0.0033, \tTest Accuracy: 96.75 %\n",
            "\n",
            "Train Epoch: 4 [0/60000(0%)]\tTrain Loss: 0.147535\n",
            "Train Epoch: 4 [6400/60000(11%)]\tTrain Loss: 0.176541\n",
            "Train Epoch: 4 [12800/60000(21%)]\tTrain Loss: 0.411011\n",
            "Train Epoch: 4 [19200/60000(32%)]\tTrain Loss: 0.120269\n",
            "Train Epoch: 4 [25600/60000(43%)]\tTrain Loss: 0.173775\n",
            "Train Epoch: 4 [32000/60000(53%)]\tTrain Loss: 0.149190\n",
            "Train Epoch: 4 [38400/60000(64%)]\tTrain Loss: 0.102892\n",
            "Train Epoch: 4 [44800/60000(75%)]\tTrain Loss: 0.280635\n",
            "Train Epoch: 4 [51200/60000(85%)]\tTrain Loss: 0.112181\n",
            "Train Epoch: 4 [57600/60000(96%)]\tTrain Loss: 0.087370\n",
            "\n",
            "[EPOCH: 4], \tTest Loss: 0.0029, \tTest Accuracy: 97.09 %\n",
            "\n",
            "Train Epoch: 5 [0/60000(0%)]\tTrain Loss: 0.357808\n",
            "Train Epoch: 5 [6400/60000(11%)]\tTrain Loss: 0.113478\n",
            "Train Epoch: 5 [12800/60000(21%)]\tTrain Loss: 0.052327\n",
            "Train Epoch: 5 [19200/60000(32%)]\tTrain Loss: 0.220598\n",
            "Train Epoch: 5 [25600/60000(43%)]\tTrain Loss: 0.066190\n",
            "Train Epoch: 5 [32000/60000(53%)]\tTrain Loss: 0.275435\n",
            "Train Epoch: 5 [38400/60000(64%)]\tTrain Loss: 0.054898\n",
            "Train Epoch: 5 [44800/60000(75%)]\tTrain Loss: 0.148948\n",
            "Train Epoch: 5 [51200/60000(85%)]\tTrain Loss: 0.404493\n",
            "Train Epoch: 5 [57600/60000(96%)]\tTrain Loss: 0.095531\n",
            "\n",
            "[EPOCH: 5], \tTest Loss: 0.0027, \tTest Accuracy: 97.30 %\n",
            "\n",
            "Train Epoch: 6 [0/60000(0%)]\tTrain Loss: 0.155743\n",
            "Train Epoch: 6 [6400/60000(11%)]\tTrain Loss: 0.117648\n",
            "Train Epoch: 6 [12800/60000(21%)]\tTrain Loss: 0.322272\n",
            "Train Epoch: 6 [19200/60000(32%)]\tTrain Loss: 0.178207\n",
            "Train Epoch: 6 [25600/60000(43%)]\tTrain Loss: 0.078811\n",
            "Train Epoch: 6 [32000/60000(53%)]\tTrain Loss: 0.006840\n",
            "Train Epoch: 6 [38400/60000(64%)]\tTrain Loss: 0.142625\n",
            "Train Epoch: 6 [44800/60000(75%)]\tTrain Loss: 0.136612\n",
            "Train Epoch: 6 [51200/60000(85%)]\tTrain Loss: 0.293294\n",
            "Train Epoch: 6 [57600/60000(96%)]\tTrain Loss: 0.131370\n",
            "\n",
            "[EPOCH: 6], \tTest Loss: 0.0025, \tTest Accuracy: 97.48 %\n",
            "\n",
            "Train Epoch: 7 [0/60000(0%)]\tTrain Loss: 0.120548\n",
            "Train Epoch: 7 [6400/60000(11%)]\tTrain Loss: 0.138936\n",
            "Train Epoch: 7 [12800/60000(21%)]\tTrain Loss: 0.121495\n",
            "Train Epoch: 7 [19200/60000(32%)]\tTrain Loss: 0.218203\n",
            "Train Epoch: 7 [25600/60000(43%)]\tTrain Loss: 0.118630\n",
            "Train Epoch: 7 [32000/60000(53%)]\tTrain Loss: 0.210466\n",
            "Train Epoch: 7 [38400/60000(64%)]\tTrain Loss: 0.061760\n",
            "Train Epoch: 7 [44800/60000(75%)]\tTrain Loss: 0.073981\n",
            "Train Epoch: 7 [51200/60000(85%)]\tTrain Loss: 0.145881\n",
            "Train Epoch: 7 [57600/60000(96%)]\tTrain Loss: 0.029289\n",
            "\n",
            "[EPOCH: 7], \tTest Loss: 0.0024, \tTest Accuracy: 97.59 %\n",
            "\n",
            "Train Epoch: 8 [0/60000(0%)]\tTrain Loss: 0.266179\n",
            "Train Epoch: 8 [6400/60000(11%)]\tTrain Loss: 0.079065\n",
            "Train Epoch: 8 [12800/60000(21%)]\tTrain Loss: 0.075855\n",
            "Train Epoch: 8 [19200/60000(32%)]\tTrain Loss: 0.061953\n",
            "Train Epoch: 8 [25600/60000(43%)]\tTrain Loss: 0.013277\n",
            "Train Epoch: 8 [32000/60000(53%)]\tTrain Loss: 0.054408\n",
            "Train Epoch: 8 [38400/60000(64%)]\tTrain Loss: 0.171015\n",
            "Train Epoch: 8 [44800/60000(75%)]\tTrain Loss: 0.301941\n",
            "Train Epoch: 8 [51200/60000(85%)]\tTrain Loss: 0.212142\n",
            "Train Epoch: 8 [57600/60000(96%)]\tTrain Loss: 0.023157\n",
            "\n",
            "[EPOCH: 8], \tTest Loss: 0.0023, \tTest Accuracy: 97.77 %\n",
            "\n",
            "Train Epoch: 9 [0/60000(0%)]\tTrain Loss: 0.183731\n",
            "Train Epoch: 9 [6400/60000(11%)]\tTrain Loss: 0.044401\n",
            "Train Epoch: 9 [12800/60000(21%)]\tTrain Loss: 0.106285\n",
            "Train Epoch: 9 [19200/60000(32%)]\tTrain Loss: 0.130118\n",
            "Train Epoch: 9 [25600/60000(43%)]\tTrain Loss: 0.129996\n",
            "Train Epoch: 9 [32000/60000(53%)]\tTrain Loss: 0.194355\n",
            "Train Epoch: 9 [38400/60000(64%)]\tTrain Loss: 0.025068\n",
            "Train Epoch: 9 [44800/60000(75%)]\tTrain Loss: 0.034664\n",
            "Train Epoch: 9 [51200/60000(85%)]\tTrain Loss: 0.042807\n",
            "Train Epoch: 9 [57600/60000(96%)]\tTrain Loss: 0.305906\n",
            "\n",
            "[EPOCH: 9], \tTest Loss: 0.0022, \tTest Accuracy: 97.77 %\n",
            "\n",
            "Train Epoch: 10 [0/60000(0%)]\tTrain Loss: 0.071123\n",
            "Train Epoch: 10 [6400/60000(11%)]\tTrain Loss: 0.053095\n",
            "Train Epoch: 10 [12800/60000(21%)]\tTrain Loss: 0.048389\n",
            "Train Epoch: 10 [19200/60000(32%)]\tTrain Loss: 0.063946\n",
            "Train Epoch: 10 [25600/60000(43%)]\tTrain Loss: 0.068772\n",
            "Train Epoch: 10 [32000/60000(53%)]\tTrain Loss: 0.082349\n",
            "Train Epoch: 10 [38400/60000(64%)]\tTrain Loss: 0.025662\n",
            "Train Epoch: 10 [44800/60000(75%)]\tTrain Loss: 0.108660\n",
            "Train Epoch: 10 [51200/60000(85%)]\tTrain Loss: 0.032834\n",
            "Train Epoch: 10 [57600/60000(96%)]\tTrain Loss: 0.104462\n",
            "\n",
            "[EPOCH: 10], \tTest Loss: 0.0021, \tTest Accuracy: 97.94 %\n",
            "\n"
          ],
          "name": "stdout"
        }
      ]
    },
    {
      "cell_type": "markdown",
      "metadata": {
        "id": "nZLyJ2UMOi3K"
      },
      "source": [
        "### 사람의 손글씨 데이터인 MNIST를 이용해 Multi Layer Perceptron(MLP) 설계할 때 Dropout+ReLu+Batch Normalization+He Uniform Initialization 적용해보기\n",
        "\n",
        "신경망을 어떻게 초기화하느냐에 따라 학습 속도가 달라질 수 있음.\n",
        "\n",
        "기존 파이토치 내 nn.Linear : output으로 계산되는 벡터의 차원 수의 역수 값에 대한 +/- 범위 내 uniform distribution을 설정해 샘플링\n"
      ]
    },
    {
      "cell_type": "code",
      "metadata": {
        "id": "jLiUIqjpJekg"
      },
      "source": [
        "# Optimizer, Objective Function 설정\n",
        "import torch.nn.init as init # 딥러닝 모델에서 초깃값으로 설정되는 요소에 대한 모듈\n",
        "def weight_init(m): # weight 초기화\n",
        "  if isinstance(m, nn.Linear): # MLP 모델을 구성하고 있는 파라미터 중 nn.Linear에 해당하는 파라미터 값에 대해서만 지정\n",
        "    init.kaiming_uniform_(m.weight.data) # he_initialization을 이용해 파라미터 값을 초기화\n",
        "\n",
        "model=Net().to(DEVICE)\n",
        "model.apply(weight_init) # model에 적용\n",
        "optimizer=torch.optim.SGD(model.parameters(), lr=0.01, momentum=0.5) # SGD : 데이터를 조개서 Gradient Descent Method , Optimizer : 이렇게 Gradient Descent해주는 것을 통틀어\n",
        "criterion=nn.CrossEntropyLoss() # 원-핫 인코딩 값 계산 위해"
      ],
      "execution_count": 32,
      "outputs": []
    },
    {
      "cell_type": "code",
      "metadata": {
        "colab": {
          "base_uri": "https://localhost:8080/"
        },
        "id": "Gl8CJsI2Jekh",
        "outputId": "96a8583f-84d5-4232-8d12-643e8f2d9061"
      },
      "source": [
        "# MLP 학습을 실행하면서 Train, Test set의 Loss 및 Test set Accuracy를 확인하기\n",
        "for Epoch in range(1, EPOCHS+1):\n",
        "  train(model, train_loader, optimizer, log_interval=200)\n",
        "  test_loss, test_accuracy=evaluate(model, test_loader)\n",
        "  print(\"\\n[EPOCH: {}], \\tTest Loss: {:.4f}, \\tTest Accuracy: {:.2f} %\\n\".format(Epoch, test_loss, test_accuracy))"
      ],
      "execution_count": 33,
      "outputs": [
        {
          "output_type": "stream",
          "text": [
            "Train Epoch: 1 [0/60000(0%)]\tTrain Loss: 3.787548\n",
            "Train Epoch: 1 [6400/60000(11%)]\tTrain Loss: 0.886507\n",
            "Train Epoch: 1 [12800/60000(21%)]\tTrain Loss: 0.633771\n",
            "Train Epoch: 1 [19200/60000(32%)]\tTrain Loss: 0.825653\n",
            "Train Epoch: 1 [25600/60000(43%)]\tTrain Loss: 0.601164\n",
            "Train Epoch: 1 [32000/60000(53%)]\tTrain Loss: 0.442138\n",
            "Train Epoch: 1 [38400/60000(64%)]\tTrain Loss: 0.431976\n",
            "Train Epoch: 1 [44800/60000(75%)]\tTrain Loss: 0.528390\n",
            "Train Epoch: 1 [51200/60000(85%)]\tTrain Loss: 0.298874\n",
            "Train Epoch: 1 [57600/60000(96%)]\tTrain Loss: 0.787781\n",
            "\n",
            "[EPOCH: 1], \tTest Loss: 0.0066, \tTest Accuracy: 93.78 %\n",
            "\n",
            "Train Epoch: 2 [0/60000(0%)]\tTrain Loss: 0.090706\n",
            "Train Epoch: 2 [6400/60000(11%)]\tTrain Loss: 0.095769\n",
            "Train Epoch: 2 [12800/60000(21%)]\tTrain Loss: 0.600744\n",
            "Train Epoch: 2 [19200/60000(32%)]\tTrain Loss: 0.215633\n",
            "Train Epoch: 2 [25600/60000(43%)]\tTrain Loss: 0.643634\n",
            "Train Epoch: 2 [32000/60000(53%)]\tTrain Loss: 0.453342\n",
            "Train Epoch: 2 [38400/60000(64%)]\tTrain Loss: 0.601618\n",
            "Train Epoch: 2 [44800/60000(75%)]\tTrain Loss: 0.520383\n",
            "Train Epoch: 2 [51200/60000(85%)]\tTrain Loss: 0.425456\n",
            "Train Epoch: 2 [57600/60000(96%)]\tTrain Loss: 0.412025\n",
            "\n",
            "[EPOCH: 2], \tTest Loss: 0.0051, \tTest Accuracy: 95.07 %\n",
            "\n",
            "Train Epoch: 3 [0/60000(0%)]\tTrain Loss: 0.331493\n",
            "Train Epoch: 3 [6400/60000(11%)]\tTrain Loss: 0.081893\n",
            "Train Epoch: 3 [12800/60000(21%)]\tTrain Loss: 0.509682\n",
            "Train Epoch: 3 [19200/60000(32%)]\tTrain Loss: 0.161295\n",
            "Train Epoch: 3 [25600/60000(43%)]\tTrain Loss: 0.173434\n",
            "Train Epoch: 3 [32000/60000(53%)]\tTrain Loss: 0.148133\n",
            "Train Epoch: 3 [38400/60000(64%)]\tTrain Loss: 0.201557\n",
            "Train Epoch: 3 [44800/60000(75%)]\tTrain Loss: 0.116054\n",
            "Train Epoch: 3 [51200/60000(85%)]\tTrain Loss: 0.328605\n",
            "Train Epoch: 3 [57600/60000(96%)]\tTrain Loss: 0.360305\n",
            "\n",
            "[EPOCH: 3], \tTest Loss: 0.0044, \tTest Accuracy: 95.81 %\n",
            "\n",
            "Train Epoch: 4 [0/60000(0%)]\tTrain Loss: 0.176455\n",
            "Train Epoch: 4 [6400/60000(11%)]\tTrain Loss: 0.786554\n",
            "Train Epoch: 4 [12800/60000(21%)]\tTrain Loss: 0.797204\n",
            "Train Epoch: 4 [19200/60000(32%)]\tTrain Loss: 0.356206\n",
            "Train Epoch: 4 [25600/60000(43%)]\tTrain Loss: 0.191701\n",
            "Train Epoch: 4 [32000/60000(53%)]\tTrain Loss: 0.093060\n",
            "Train Epoch: 4 [38400/60000(64%)]\tTrain Loss: 0.082441\n",
            "Train Epoch: 4 [44800/60000(75%)]\tTrain Loss: 0.174901\n",
            "Train Epoch: 4 [51200/60000(85%)]\tTrain Loss: 0.299187\n",
            "Train Epoch: 4 [57600/60000(96%)]\tTrain Loss: 0.073290\n",
            "\n",
            "[EPOCH: 4], \tTest Loss: 0.0040, \tTest Accuracy: 96.09 %\n",
            "\n",
            "Train Epoch: 5 [0/60000(0%)]\tTrain Loss: 0.156755\n",
            "Train Epoch: 5 [6400/60000(11%)]\tTrain Loss: 0.164653\n",
            "Train Epoch: 5 [12800/60000(21%)]\tTrain Loss: 0.091858\n",
            "Train Epoch: 5 [19200/60000(32%)]\tTrain Loss: 0.097956\n",
            "Train Epoch: 5 [25600/60000(43%)]\tTrain Loss: 0.121555\n",
            "Train Epoch: 5 [32000/60000(53%)]\tTrain Loss: 0.241113\n",
            "Train Epoch: 5 [38400/60000(64%)]\tTrain Loss: 0.283509\n",
            "Train Epoch: 5 [44800/60000(75%)]\tTrain Loss: 0.191109\n",
            "Train Epoch: 5 [51200/60000(85%)]\tTrain Loss: 0.151234\n",
            "Train Epoch: 5 [57600/60000(96%)]\tTrain Loss: 0.073627\n",
            "\n",
            "[EPOCH: 5], \tTest Loss: 0.0035, \tTest Accuracy: 96.56 %\n",
            "\n",
            "Train Epoch: 6 [0/60000(0%)]\tTrain Loss: 0.251381\n",
            "Train Epoch: 6 [6400/60000(11%)]\tTrain Loss: 0.169645\n",
            "Train Epoch: 6 [12800/60000(21%)]\tTrain Loss: 0.657481\n",
            "Train Epoch: 6 [19200/60000(32%)]\tTrain Loss: 0.222161\n",
            "Train Epoch: 6 [25600/60000(43%)]\tTrain Loss: 0.277620\n",
            "Train Epoch: 6 [32000/60000(53%)]\tTrain Loss: 0.235497\n",
            "Train Epoch: 6 [38400/60000(64%)]\tTrain Loss: 0.213863\n",
            "Train Epoch: 6 [44800/60000(75%)]\tTrain Loss: 0.411907\n",
            "Train Epoch: 6 [51200/60000(85%)]\tTrain Loss: 0.325470\n",
            "Train Epoch: 6 [57600/60000(96%)]\tTrain Loss: 0.112116\n",
            "\n",
            "[EPOCH: 6], \tTest Loss: 0.0034, \tTest Accuracy: 96.57 %\n",
            "\n",
            "Train Epoch: 7 [0/60000(0%)]\tTrain Loss: 0.083557\n",
            "Train Epoch: 7 [6400/60000(11%)]\tTrain Loss: 0.082658\n",
            "Train Epoch: 7 [12800/60000(21%)]\tTrain Loss: 0.195872\n",
            "Train Epoch: 7 [19200/60000(32%)]\tTrain Loss: 0.134840\n",
            "Train Epoch: 7 [25600/60000(43%)]\tTrain Loss: 0.320852\n",
            "Train Epoch: 7 [32000/60000(53%)]\tTrain Loss: 0.085951\n",
            "Train Epoch: 7 [38400/60000(64%)]\tTrain Loss: 0.418497\n",
            "Train Epoch: 7 [44800/60000(75%)]\tTrain Loss: 0.161203\n",
            "Train Epoch: 7 [51200/60000(85%)]\tTrain Loss: 0.693659\n",
            "Train Epoch: 7 [57600/60000(96%)]\tTrain Loss: 0.367923\n",
            "\n",
            "[EPOCH: 7], \tTest Loss: 0.0031, \tTest Accuracy: 96.86 %\n",
            "\n",
            "Train Epoch: 8 [0/60000(0%)]\tTrain Loss: 0.216248\n",
            "Train Epoch: 8 [6400/60000(11%)]\tTrain Loss: 0.126240\n",
            "Train Epoch: 8 [12800/60000(21%)]\tTrain Loss: 0.150488\n",
            "Train Epoch: 8 [19200/60000(32%)]\tTrain Loss: 0.220069\n",
            "Train Epoch: 8 [25600/60000(43%)]\tTrain Loss: 0.057747\n",
            "Train Epoch: 8 [32000/60000(53%)]\tTrain Loss: 0.260944\n",
            "Train Epoch: 8 [38400/60000(64%)]\tTrain Loss: 0.277387\n",
            "Train Epoch: 8 [44800/60000(75%)]\tTrain Loss: 0.376186\n",
            "Train Epoch: 8 [51200/60000(85%)]\tTrain Loss: 0.212523\n",
            "Train Epoch: 8 [57600/60000(96%)]\tTrain Loss: 0.041334\n",
            "\n",
            "[EPOCH: 8], \tTest Loss: 0.0030, \tTest Accuracy: 97.09 %\n",
            "\n",
            "Train Epoch: 9 [0/60000(0%)]\tTrain Loss: 0.076889\n",
            "Train Epoch: 9 [6400/60000(11%)]\tTrain Loss: 0.174686\n",
            "Train Epoch: 9 [12800/60000(21%)]\tTrain Loss: 0.235724\n",
            "Train Epoch: 9 [19200/60000(32%)]\tTrain Loss: 0.193826\n",
            "Train Epoch: 9 [25600/60000(43%)]\tTrain Loss: 0.015324\n",
            "Train Epoch: 9 [32000/60000(53%)]\tTrain Loss: 0.171872\n",
            "Train Epoch: 9 [38400/60000(64%)]\tTrain Loss: 0.110164\n",
            "Train Epoch: 9 [44800/60000(75%)]\tTrain Loss: 0.155088\n",
            "Train Epoch: 9 [51200/60000(85%)]\tTrain Loss: 0.119141\n",
            "Train Epoch: 9 [57600/60000(96%)]\tTrain Loss: 0.059213\n",
            "\n",
            "[EPOCH: 9], \tTest Loss: 0.0029, \tTest Accuracy: 97.02 %\n",
            "\n",
            "Train Epoch: 10 [0/60000(0%)]\tTrain Loss: 0.012290\n",
            "Train Epoch: 10 [6400/60000(11%)]\tTrain Loss: 0.029993\n",
            "Train Epoch: 10 [12800/60000(21%)]\tTrain Loss: 0.216737\n",
            "Train Epoch: 10 [19200/60000(32%)]\tTrain Loss: 0.229199\n",
            "Train Epoch: 10 [25600/60000(43%)]\tTrain Loss: 0.139238\n",
            "Train Epoch: 10 [32000/60000(53%)]\tTrain Loss: 0.264903\n",
            "Train Epoch: 10 [38400/60000(64%)]\tTrain Loss: 0.304357\n",
            "Train Epoch: 10 [44800/60000(75%)]\tTrain Loss: 0.055796\n",
            "Train Epoch: 10 [51200/60000(85%)]\tTrain Loss: 0.102479\n",
            "Train Epoch: 10 [57600/60000(96%)]\tTrain Loss: 0.113047\n",
            "\n",
            "[EPOCH: 10], \tTest Loss: 0.0027, \tTest Accuracy: 97.36 %\n",
            "\n"
          ],
          "name": "stdout"
        }
      ]
    },
    {
      "cell_type": "markdown",
      "metadata": {
        "id": "ErZ80H43KvVw"
      },
      "source": [
        "### 사람의 손글씨 데이터인 MNIST를 이용해 Multi Layer Perceptron(MLP) 설계할 때 Dropout+ReLu+Batch Normalization+He Uniform Initialization+Adam 적용해보기"
      ]
    },
    {
      "cell_type": "code",
      "metadata": {
        "id": "BN-avm6pLwg2"
      },
      "source": [
        "# Optimizer, Objective Function 설정\n",
        "import torch.nn.init as init # 딥러닝 모델에서 초깃값으로 설정되는 요소에 대한 모듈\n",
        "def weight_init(m): # weight 초기화\n",
        "  if isinstance(m, nn.Linear): # MLP 모델을 구성하고 있는 파라미터 중 nn.Linear에 해당하는 파라미터 값에 대해서만 지정\n",
        "    init.kaiming_uniform_(m.weight.data) # he_initialization을 이용해 파라미터 값을 초기화\n",
        "\n",
        "model=Net().to(DEVICE)\n",
        "model.apply(weight_init) # model에 적용\n",
        "# optimizer=torch.optim.SGD(model.parameters(), lr=0.01, momentum=0.5) # Momentum : 미분을 통한 gradient 방향으로 가되, 일종의 관성을 추가하는 개념\n",
        "optimizer=torch.optim.Adam(model.parameters(), lr=0.01) # Adam : PMSProp + Momentum으로, 기본적으로 가장 많이 사용하는 optimizer\n",
        "criterion=nn.CrossEntropyLoss() # 원-핫 인코딩 값 계산 위해"
      ],
      "execution_count": 34,
      "outputs": []
    },
    {
      "cell_type": "code",
      "metadata": {
        "colab": {
          "base_uri": "https://localhost:8080/"
        },
        "id": "1tptEhUzLwg3",
        "outputId": "80b90f20-bec7-4023-a8ba-c5af6d897c3c"
      },
      "source": [
        "# MLP 학습을 실행하면서 Train, Test set의 Loss 및 Test set Accuracy를 확인하기\n",
        "for Epoch in range(1, EPOCHS+1):\n",
        "  train(model, train_loader, optimizer, log_interval=200)\n",
        "  test_loss, test_accuracy=evaluate(model, test_loader)\n",
        "  print(\"\\n[EPOCH: {}], \\tTest Loss: {:.4f}, \\tTest Accuracy: {:.2f} %\\n\".format(Epoch, test_loss, test_accuracy))"
      ],
      "execution_count": 35,
      "outputs": [
        {
          "output_type": "stream",
          "text": [
            "Train Epoch: 1 [0/60000(0%)]\tTrain Loss: 3.980690\n",
            "Train Epoch: 1 [6400/60000(11%)]\tTrain Loss: 0.878656\n",
            "Train Epoch: 1 [12800/60000(21%)]\tTrain Loss: 0.242553\n",
            "Train Epoch: 1 [19200/60000(32%)]\tTrain Loss: 0.274466\n",
            "Train Epoch: 1 [25600/60000(43%)]\tTrain Loss: 0.107996\n",
            "Train Epoch: 1 [32000/60000(53%)]\tTrain Loss: 0.978303\n",
            "Train Epoch: 1 [38400/60000(64%)]\tTrain Loss: 0.435212\n",
            "Train Epoch: 1 [44800/60000(75%)]\tTrain Loss: 0.580941\n",
            "Train Epoch: 1 [51200/60000(85%)]\tTrain Loss: 0.555775\n",
            "Train Epoch: 1 [57600/60000(96%)]\tTrain Loss: 0.098554\n",
            "\n",
            "[EPOCH: 1], \tTest Loss: 0.0054, \tTest Accuracy: 94.85 %\n",
            "\n",
            "Train Epoch: 2 [0/60000(0%)]\tTrain Loss: 0.237801\n",
            "Train Epoch: 2 [6400/60000(11%)]\tTrain Loss: 0.825815\n",
            "Train Epoch: 2 [12800/60000(21%)]\tTrain Loss: 0.291789\n",
            "Train Epoch: 2 [19200/60000(32%)]\tTrain Loss: 0.668237\n",
            "Train Epoch: 2 [25600/60000(43%)]\tTrain Loss: 0.180862\n",
            "Train Epoch: 2 [32000/60000(53%)]\tTrain Loss: 0.217284\n",
            "Train Epoch: 2 [38400/60000(64%)]\tTrain Loss: 0.460716\n",
            "Train Epoch: 2 [44800/60000(75%)]\tTrain Loss: 0.824144\n",
            "Train Epoch: 2 [51200/60000(85%)]\tTrain Loss: 0.425270\n",
            "Train Epoch: 2 [57600/60000(96%)]\tTrain Loss: 0.049914\n",
            "\n",
            "[EPOCH: 2], \tTest Loss: 0.0050, \tTest Accuracy: 95.76 %\n",
            "\n",
            "Train Epoch: 3 [0/60000(0%)]\tTrain Loss: 0.178247\n",
            "Train Epoch: 3 [6400/60000(11%)]\tTrain Loss: 0.430763\n",
            "Train Epoch: 3 [12800/60000(21%)]\tTrain Loss: 0.776850\n",
            "Train Epoch: 3 [19200/60000(32%)]\tTrain Loss: 0.477582\n",
            "Train Epoch: 3 [25600/60000(43%)]\tTrain Loss: 0.798090\n",
            "Train Epoch: 3 [32000/60000(53%)]\tTrain Loss: 0.295368\n",
            "Train Epoch: 3 [38400/60000(64%)]\tTrain Loss: 0.244955\n",
            "Train Epoch: 3 [44800/60000(75%)]\tTrain Loss: 0.200682\n",
            "Train Epoch: 3 [51200/60000(85%)]\tTrain Loss: 0.291010\n",
            "Train Epoch: 3 [57600/60000(96%)]\tTrain Loss: 0.595328\n",
            "\n",
            "[EPOCH: 3], \tTest Loss: 0.0052, \tTest Accuracy: 95.68 %\n",
            "\n",
            "Train Epoch: 4 [0/60000(0%)]\tTrain Loss: 0.505183\n",
            "Train Epoch: 4 [6400/60000(11%)]\tTrain Loss: 0.388505\n",
            "Train Epoch: 4 [12800/60000(21%)]\tTrain Loss: 0.292219\n",
            "Train Epoch: 4 [19200/60000(32%)]\tTrain Loss: 0.192093\n",
            "Train Epoch: 4 [25600/60000(43%)]\tTrain Loss: 0.976880\n",
            "Train Epoch: 4 [32000/60000(53%)]\tTrain Loss: 0.518340\n",
            "Train Epoch: 4 [38400/60000(64%)]\tTrain Loss: 0.373915\n",
            "Train Epoch: 4 [44800/60000(75%)]\tTrain Loss: 0.553859\n",
            "Train Epoch: 4 [51200/60000(85%)]\tTrain Loss: 0.616816\n",
            "Train Epoch: 4 [57600/60000(96%)]\tTrain Loss: 0.616438\n",
            "\n",
            "[EPOCH: 4], \tTest Loss: 0.0052, \tTest Accuracy: 95.48 %\n",
            "\n",
            "Train Epoch: 5 [0/60000(0%)]\tTrain Loss: 0.227635\n",
            "Train Epoch: 5 [6400/60000(11%)]\tTrain Loss: 0.467529\n",
            "Train Epoch: 5 [12800/60000(21%)]\tTrain Loss: 0.393594\n",
            "Train Epoch: 5 [19200/60000(32%)]\tTrain Loss: 0.315474\n",
            "Train Epoch: 5 [25600/60000(43%)]\tTrain Loss: 0.203830\n",
            "Train Epoch: 5 [32000/60000(53%)]\tTrain Loss: 0.391216\n",
            "Train Epoch: 5 [38400/60000(64%)]\tTrain Loss: 0.564833\n",
            "Train Epoch: 5 [44800/60000(75%)]\tTrain Loss: 0.450829\n",
            "Train Epoch: 5 [51200/60000(85%)]\tTrain Loss: 0.308549\n",
            "Train Epoch: 5 [57600/60000(96%)]\tTrain Loss: 0.686711\n",
            "\n",
            "[EPOCH: 5], \tTest Loss: 0.0044, \tTest Accuracy: 96.29 %\n",
            "\n",
            "Train Epoch: 6 [0/60000(0%)]\tTrain Loss: 1.118479\n",
            "Train Epoch: 6 [6400/60000(11%)]\tTrain Loss: 0.496759\n",
            "Train Epoch: 6 [12800/60000(21%)]\tTrain Loss: 0.702957\n",
            "Train Epoch: 6 [19200/60000(32%)]\tTrain Loss: 0.118980\n",
            "Train Epoch: 6 [25600/60000(43%)]\tTrain Loss: 0.196662\n",
            "Train Epoch: 6 [32000/60000(53%)]\tTrain Loss: 0.473228\n",
            "Train Epoch: 6 [38400/60000(64%)]\tTrain Loss: 0.181167\n",
            "Train Epoch: 6 [44800/60000(75%)]\tTrain Loss: 0.598814\n",
            "Train Epoch: 6 [51200/60000(85%)]\tTrain Loss: 0.543820\n",
            "Train Epoch: 6 [57600/60000(96%)]\tTrain Loss: 0.501422\n",
            "\n",
            "[EPOCH: 6], \tTest Loss: 0.0043, \tTest Accuracy: 96.41 %\n",
            "\n",
            "Train Epoch: 7 [0/60000(0%)]\tTrain Loss: 0.323176\n",
            "Train Epoch: 7 [6400/60000(11%)]\tTrain Loss: 0.496159\n",
            "Train Epoch: 7 [12800/60000(21%)]\tTrain Loss: 0.329781\n",
            "Train Epoch: 7 [19200/60000(32%)]\tTrain Loss: 0.339647\n",
            "Train Epoch: 7 [25600/60000(43%)]\tTrain Loss: 0.158122\n",
            "Train Epoch: 7 [32000/60000(53%)]\tTrain Loss: 0.285384\n",
            "Train Epoch: 7 [38400/60000(64%)]\tTrain Loss: 0.180776\n",
            "Train Epoch: 7 [44800/60000(75%)]\tTrain Loss: 0.542702\n",
            "Train Epoch: 7 [51200/60000(85%)]\tTrain Loss: 0.347906\n",
            "Train Epoch: 7 [57600/60000(96%)]\tTrain Loss: 0.319803\n",
            "\n",
            "[EPOCH: 7], \tTest Loss: 0.0047, \tTest Accuracy: 96.13 %\n",
            "\n",
            "Train Epoch: 8 [0/60000(0%)]\tTrain Loss: 0.463087\n",
            "Train Epoch: 8 [6400/60000(11%)]\tTrain Loss: 0.658484\n",
            "Train Epoch: 8 [12800/60000(21%)]\tTrain Loss: 0.744818\n",
            "Train Epoch: 8 [19200/60000(32%)]\tTrain Loss: 0.316037\n",
            "Train Epoch: 8 [25600/60000(43%)]\tTrain Loss: 0.215315\n",
            "Train Epoch: 8 [32000/60000(53%)]\tTrain Loss: 0.250499\n",
            "Train Epoch: 8 [38400/60000(64%)]\tTrain Loss: 0.189666\n",
            "Train Epoch: 8 [44800/60000(75%)]\tTrain Loss: 0.353672\n",
            "Train Epoch: 8 [51200/60000(85%)]\tTrain Loss: 0.208669\n",
            "Train Epoch: 8 [57600/60000(96%)]\tTrain Loss: 0.196299\n",
            "\n",
            "[EPOCH: 8], \tTest Loss: 0.0047, \tTest Accuracy: 96.03 %\n",
            "\n",
            "Train Epoch: 9 [0/60000(0%)]\tTrain Loss: 0.102054\n",
            "Train Epoch: 9 [6400/60000(11%)]\tTrain Loss: 0.573372\n",
            "Train Epoch: 9 [12800/60000(21%)]\tTrain Loss: 0.521870\n",
            "Train Epoch: 9 [19200/60000(32%)]\tTrain Loss: 0.442756\n",
            "Train Epoch: 9 [25600/60000(43%)]\tTrain Loss: 0.383964\n",
            "Train Epoch: 9 [32000/60000(53%)]\tTrain Loss: 0.546080\n",
            "Train Epoch: 9 [38400/60000(64%)]\tTrain Loss: 0.066425\n",
            "Train Epoch: 9 [44800/60000(75%)]\tTrain Loss: 0.078549\n",
            "Train Epoch: 9 [51200/60000(85%)]\tTrain Loss: 0.836228\n",
            "Train Epoch: 9 [57600/60000(96%)]\tTrain Loss: 0.280266\n",
            "\n",
            "[EPOCH: 9], \tTest Loss: 0.0049, \tTest Accuracy: 96.11 %\n",
            "\n",
            "Train Epoch: 10 [0/60000(0%)]\tTrain Loss: 0.306111\n",
            "Train Epoch: 10 [6400/60000(11%)]\tTrain Loss: 0.181078\n",
            "Train Epoch: 10 [12800/60000(21%)]\tTrain Loss: 0.190602\n",
            "Train Epoch: 10 [19200/60000(32%)]\tTrain Loss: 0.300436\n",
            "Train Epoch: 10 [25600/60000(43%)]\tTrain Loss: 0.525506\n",
            "Train Epoch: 10 [32000/60000(53%)]\tTrain Loss: 0.091533\n",
            "Train Epoch: 10 [38400/60000(64%)]\tTrain Loss: 0.258948\n",
            "Train Epoch: 10 [44800/60000(75%)]\tTrain Loss: 0.401136\n",
            "Train Epoch: 10 [51200/60000(85%)]\tTrain Loss: 0.677566\n",
            "Train Epoch: 10 [57600/60000(96%)]\tTrain Loss: 0.187454\n",
            "\n",
            "[EPOCH: 10], \tTest Loss: 0.0043, \tTest Accuracy: 96.56 %\n",
            "\n"
          ],
          "name": "stdout"
        }
      ]
    },
    {
      "cell_type": "markdown",
      "metadata": {
        "id": "MheDoIhgMMFT"
      },
      "source": [
        "### 옷 종류 데이터 FashionMNIST를 활용해 AutoEncoder 설계하기"
      ]
    },
    {
      "cell_type": "code",
      "metadata": {
        "colab": {
          "base_uri": "https://localhost:8080/",
          "height": 497,
          "referenced_widgets": [
            "0c8113d1283f48b1bc013bc12c1d785d",
            "8813d8c052e2489e9afe5071aed864bf",
            "8c43dd13d8d844569bd93d83d92c02a0",
            "07fee3d615344f1b9227419693527702",
            "44e23938a35c4e54ad95eb2cd8a22eef",
            "9462efce92e343f7bee0c7d07aba0e1e",
            "d7b877ebb26d4915bf33949e611f8b86",
            "11f1e963441141af8eb4cb2af3bd5821",
            "c6875873d475431f87aed4f0e9f302e7",
            "39c41f886c104cc896f0586fd065ce30",
            "850d92a0346e424daf505b78eb4db339",
            "f277f2a457744bb4a36d56c6fa421249",
            "bf6bd6f28aea41af80f65d2b2382d950",
            "b7016dfb894c4048b002b5ccffba4ffa",
            "dcea72461e364b55b85df6fd8aed567a",
            "cfec04e2286a46b0b61cb1ac4fcbf572",
            "4a69576aebf24c9788582a9f0c32e8f2",
            "a249d801ebf74bd587aee8ac42dda7a4",
            "9c62b613f828476c85d4f251312c93e8",
            "c0c63b9af180446aa8406e990e9f4b01",
            "ab8782aa291a47e5a735b66ad474192a",
            "056fcc52d43446eaa1f2f50d04b0ea07",
            "d35882f7e80b425aaca1b7f31e2e03d0",
            "3b360f86860b4d61b208b96c26a50463",
            "e0f9b752ae3f4c08abbd042b7a17c864",
            "7d7a405d2ade430580e1a38aa93a264f",
            "136cd63badf14dc188a71dbfad9e7a39",
            "962a28d5a4ba4ff29ddd5e9108fd71cd",
            "8e41c32b6e6c48289ba095f8c13ae827",
            "a72e4d8065294230ba778cc9e48c810f",
            "50d38ee0fdd34823895feaf2d6bbd3d9",
            "844fb1220958448baea402df4fbdf9a8"
          ]
        },
        "id": "mBio3O4dMqQQ",
        "outputId": "f23d5f15-a552-48aa-9943-69c81360cc7e"
      },
      "source": [
        "# FashionMNIST 데이터 다운로드\n",
        "train_dataset=datasets.FashionMNIST(root=\"../data/FashionMNIST\", train=True, download=True, transform=transforms.ToTensor())\n",
        "test_dataset=datasets.FashionMNIST(root=\"../data/FashionMNIST\", train=False, transform=transforms.ToTensor())\n",
        "train_loader=torch.utils.data.DataLoader(dataset=train_dataset, batch_size=BATCH_SIZE, shuffle=True)\n",
        "test_loader=torch.utils.data.DataLoader(dataset=test_dataset, batch_size=BATCH_SIZE, shuffle=True)"
      ],
      "execution_count": 36,
      "outputs": [
        {
          "output_type": "stream",
          "text": [
            "Downloading http://fashion-mnist.s3-website.eu-central-1.amazonaws.com/train-images-idx3-ubyte.gz\n",
            "Downloading http://fashion-mnist.s3-website.eu-central-1.amazonaws.com/train-images-idx3-ubyte.gz to ../data/FashionMNIST/FashionMNIST/raw/train-images-idx3-ubyte.gz\n"
          ],
          "name": "stdout"
        },
        {
          "output_type": "display_data",
          "data": {
            "application/vnd.jupyter.widget-view+json": {
              "model_id": "0c8113d1283f48b1bc013bc12c1d785d",
              "version_minor": 0,
              "version_major": 2
            },
            "text/plain": [
              "HBox(children=(FloatProgress(value=0.0, max=26421880.0), HTML(value='')))"
            ]
          },
          "metadata": {
            "tags": []
          }
        },
        {
          "output_type": "stream",
          "text": [
            "\n",
            "Extracting ../data/FashionMNIST/FashionMNIST/raw/train-images-idx3-ubyte.gz to ../data/FashionMNIST/FashionMNIST/raw\n",
            "\n",
            "Downloading http://fashion-mnist.s3-website.eu-central-1.amazonaws.com/train-labels-idx1-ubyte.gz\n",
            "Downloading http://fashion-mnist.s3-website.eu-central-1.amazonaws.com/train-labels-idx1-ubyte.gz to ../data/FashionMNIST/FashionMNIST/raw/train-labels-idx1-ubyte.gz\n"
          ],
          "name": "stdout"
        },
        {
          "output_type": "display_data",
          "data": {
            "application/vnd.jupyter.widget-view+json": {
              "model_id": "c6875873d475431f87aed4f0e9f302e7",
              "version_minor": 0,
              "version_major": 2
            },
            "text/plain": [
              "HBox(children=(FloatProgress(value=0.0, max=29515.0), HTML(value='')))"
            ]
          },
          "metadata": {
            "tags": []
          }
        },
        {
          "output_type": "stream",
          "text": [
            "\n",
            "Extracting ../data/FashionMNIST/FashionMNIST/raw/train-labels-idx1-ubyte.gz to ../data/FashionMNIST/FashionMNIST/raw\n",
            "\n",
            "Downloading http://fashion-mnist.s3-website.eu-central-1.amazonaws.com/t10k-images-idx3-ubyte.gz\n",
            "Downloading http://fashion-mnist.s3-website.eu-central-1.amazonaws.com/t10k-images-idx3-ubyte.gz to ../data/FashionMNIST/FashionMNIST/raw/t10k-images-idx3-ubyte.gz\n"
          ],
          "name": "stdout"
        },
        {
          "output_type": "display_data",
          "data": {
            "application/vnd.jupyter.widget-view+json": {
              "model_id": "4a69576aebf24c9788582a9f0c32e8f2",
              "version_minor": 0,
              "version_major": 2
            },
            "text/plain": [
              "HBox(children=(FloatProgress(value=0.0, max=4422102.0), HTML(value='')))"
            ]
          },
          "metadata": {
            "tags": []
          }
        },
        {
          "output_type": "stream",
          "text": [
            "\n",
            "Extracting ../data/FashionMNIST/FashionMNIST/raw/t10k-images-idx3-ubyte.gz to ../data/FashionMNIST/FashionMNIST/raw\n",
            "\n",
            "Downloading http://fashion-mnist.s3-website.eu-central-1.amazonaws.com/t10k-labels-idx1-ubyte.gz\n",
            "Downloading http://fashion-mnist.s3-website.eu-central-1.amazonaws.com/t10k-labels-idx1-ubyte.gz to ../data/FashionMNIST/FashionMNIST/raw/t10k-labels-idx1-ubyte.gz\n"
          ],
          "name": "stdout"
        },
        {
          "output_type": "display_data",
          "data": {
            "application/vnd.jupyter.widget-view+json": {
              "model_id": "e0f9b752ae3f4c08abbd042b7a17c864",
              "version_minor": 0,
              "version_major": 2
            },
            "text/plain": [
              "HBox(children=(FloatProgress(value=0.0, max=5148.0), HTML(value='')))"
            ]
          },
          "metadata": {
            "tags": []
          }
        },
        {
          "output_type": "stream",
          "text": [
            "\n",
            "Extracting ../data/FashionMNIST/FashionMNIST/raw/t10k-labels-idx1-ubyte.gz to ../data/FashionMNIST/FashionMNIST/raw\n",
            "\n"
          ],
          "name": "stdout"
        }
      ]
    },
    {
      "cell_type": "code",
      "metadata": {
        "colab": {
          "base_uri": "https://localhost:8080/"
        },
        "id": "ywfob4_aMqQT",
        "outputId": "650f49aa-3a54-45a5-d7d9-b3a796ab79d0"
      },
      "source": [
        "# 데이터 확인하기(1)\n",
        "for (X_train, y_train) in train_loader:\n",
        "  print('X_train:', X_train.size(), 'type:', X_train.type()) # 32개의 이미지 데이터가 1개의 mini-batch 구성. 가로 28개, 세로 28개, 채널 1 = 흑백으로 이루어진 데이터\n",
        "  print('y_train:', y_train.size(), 'type:', y_train.type()) # 32개의 이미지 데이터에 각각 label 값이 1개씩 존재\n",
        "  break"
      ],
      "execution_count": 37,
      "outputs": [
        {
          "output_type": "stream",
          "text": [
            "X_train: torch.Size([32, 1, 28, 28]) type: torch.FloatTensor\n",
            "y_train: torch.Size([32]) type: torch.LongTensor\n"
          ],
          "name": "stdout"
        }
      ]
    },
    {
      "cell_type": "code",
      "metadata": {
        "colab": {
          "base_uri": "https://localhost:8080/",
          "height": 94
        },
        "id": "XmsXeP3TMqQU",
        "outputId": "28955091-7c51-48e3-d263-2ae07c4c04ce"
      },
      "source": [
        "# 데이터 확인하기(2)\n",
        "pltsize=1\n",
        "plt.figure(figsize=(10*pltsize, pltsize))\n",
        "for i in range(10):\n",
        "  plt.subplot(1, 10, i+1)\n",
        "  plt.axis('off')\n",
        "  plt.imshow(X_train[i,:,:,:].numpy().reshape(28,28), cmap=\"gray_r\")\n",
        "  plt.title('Class: '+str(y_train[i].item()))"
      ],
      "execution_count": 38,
      "outputs": [
        {
          "output_type": "display_data",
          "data": {
            "image/png": "[encoded data removed]",
            "text/plain": [
              "<Figure size 720x72 with 10 Axes>"
            ]
          },
          "metadata": {
            "tags": [],
            "needs_background": "light"
          }
        }
      ]
    },
    {
      "cell_type": "code",
      "metadata": {
        "id": "vbYb5a95MqQV"
      },
      "source": [
        "# AutoEncoder(AE) 모델 설계\n",
        "class AE(nn.Module):\n",
        "  def __init__(self): # AE 클래스의 인스턴스를 생성했을 때 지니게 되는 성질을 정의해주는 메서드\n",
        "    super(AE, self).__init__() # nn.Module 내에 있는 메서드를 상속받아 이용\n",
        "\n",
        "    self.encoder=nn.Sequential( # nn.Sequential을 이용해 인코더 단위를 한 번에 정의\n",
        "        nn.Linear(28*28, 512),\n",
        "        nn.ReLU(), # 비선형함수를 적용해 두 번째 레이어의 input으로 전달\n",
        "        nn.Linear(512, 256),\n",
        "        nn.ReLU(),\n",
        "        nn.Linear(256, 32),\n",
        "    )\n",
        "    \n",
        "    self.decoder=nn.Sequential(\n",
        "        nn.Linear(32, 256),\n",
        "        nn.ReLU(),\n",
        "        nn.Linear(256, 512),\n",
        "        nn.ReLU(),\n",
        "        nn.Linear(512, 28*28),\n",
        "    )\n",
        "\n",
        "  def forward(self, x): # 설계한 AE의 인코더와 디코더에 데이터를 입력했을 때 output을 계산하기까지의 과정을 나열\n",
        "    encoded=self.encoder(x)\n",
        "    decoded=self.decoder(encoded)\n",
        "    return encoded, decoded"
      ],
      "execution_count": 49,
      "outputs": []
    },
    {
      "cell_type": "code",
      "metadata": {
        "id": "pu8D_hU8MqQW"
      },
      "source": [
        "# Optimizer, Objective Function 설정\n",
        "model=AE().to(DEVICE)\n",
        "optimizer=torch.optim.Adam(model.parameters(), lr=0.001) \n",
        "criterion=nn.MSELoss() # input으로 이루어진 이미지 데이터와 복원된 이미지 데이터 값 간의 MSE를 이용해 output을 계산하기 위해 사용"
      ],
      "execution_count": 50,
      "outputs": []
    },
    {
      "cell_type": "code",
      "metadata": {
        "id": "cME4T5muMqQW"
      },
      "source": [
        "# AE 모델 학습을 진행하며 학습 데이터에 대한 모델 성능을 확인하는 함수 정의\n",
        "def train(model, train_loader, optimizer, log_interval):\n",
        "  model.train()\n",
        "  for batch_idx, (image, _) in enumerate(train_loader): # 레이블 데이터를 활용해 학습하는 것이 아니라 입력 데이터를 타깃으로 학습하기 때문에 레이블 데이터 이용할 필요 X\n",
        "    image=image.view(-1, 28*28).to(DEVICE)\n",
        "    target=image.view(-1, 28*28).to(DEVICE) # 원본과 같게 복원\n",
        "    optimizer.zero_grad() # optimizer 초기화\n",
        "    encoded, decoded=model(image)\n",
        "    loss=criterion(decoded, target)\n",
        "    loss.backward()\n",
        "    optimizer.step()\n",
        "\n",
        "    if batch_idx%log_interval==0:\n",
        "      print(\"Train Epoch: {} [{}/{}({:.0f}%)]\\tTrain Loss: {:.6f}\".format(Epoch, batch_idx*len(image), len(train_loader.dataset), 100.*batch_idx/len(train_loader), loss.item()))"
      ],
      "execution_count": 51,
      "outputs": []
    },
    {
      "cell_type": "code",
      "metadata": {
        "id": "tFxgnYdPMqQX"
      },
      "source": [
        "# 학습되는 과정 속에서 검증 데이터에 대한 모델 성능을 확인하는 함수 정의\n",
        "def evaluate(model, test_loader):\n",
        "  model.eval()\n",
        "  test_loss=0\n",
        "  real_image=[] # 학습 과정 속에서 AE에 이용되는 실제 이미지 데이터를 리스트에 저장\n",
        "  gen_image=[] # 학습 과정 속에서 AE를 통해 생성되는 이미지 데이터를 리스트에 저장\n",
        "\n",
        "  with torch.no_grad(): # 평가하는 단계에서 gradient를 통해 파라미터 값이 업데이트되는 현상을 방지하기 위해 gradient 흐름 억제\n",
        "    for image, _ in test_loader:\n",
        "      image=image.view(-1, 28*28).to(DEVICE)\n",
        "      target=image.view(-1, 28*28).to(DEVICE)\n",
        "      encoded, decoded=model(image)\n",
        "\n",
        "      test_loss+=criterion(decoded, image).item()\n",
        "      real_image.append(image.to(\"cpu\"))\n",
        "      gen_image.append(decoded.to(\"cpu\"))\n",
        "  \n",
        "  test_loss/=len(test_loader.dataset)\n",
        "  return test_loss, real_image, gen_image"
      ],
      "execution_count": 52,
      "outputs": []
    },
    {
      "cell_type": "code",
      "metadata": {
        "colab": {
          "base_uri": "https://localhost:8080/",
          "height": 1000
        },
        "id": "kdVF2848MqQY",
        "outputId": "23a5f4ef-861f-4a59-9074-fcdef486a532"
      },
      "source": [
        "# AE 학습을 실행하면서 Test set의 Reconstruction Error 확인하기\n",
        "for Epoch in range(1, EPOCHS+1):\n",
        "  train(model, train_loader, optimizer, log_interval=200)\n",
        "  test_loss, real_image, gen_image=evaluate(model, test_loader)\n",
        "  print(\"\\n[EPOCH: {}], \\tTest Loss: {:.4f}\".format(Epoch, test_loss))\n",
        "  f, a = plt.subplots(2, 10, figsize=(10, 4))\n",
        "  for i in range(10):\n",
        "    img=np.reshape(real_image[0][i], (28,28))\n",
        "    a[0][i].imshow(img, cmap=\"gray_r\")\n",
        "    a[0][i].set_xticks(())\n",
        "    a[0][i].set_yticks(())\n",
        "\n",
        "  for i in range(10):\n",
        "    img=np.reshape(gen_image[0][i], (28,28))\n",
        "    a[1][i].imshow(img, cmap=\"gray_r\")\n",
        "    a[1][i].set_xticks(())\n",
        "    a[1][i].set_yticks(())\n",
        "\n",
        "  plt.show()"
      ],
      "execution_count": 55,
      "outputs": [
        {
          "output_type": "stream",
          "text": [
            "Train Epoch: 1 [0/60000(0%)]\tTrain Loss: 0.011396\n",
            "Train Epoch: 1 [6400/60000(11%)]\tTrain Loss: 0.009547\n",
            "Train Epoch: 1 [12800/60000(21%)]\tTrain Loss: 0.009162\n",
            "Train Epoch: 1 [19200/60000(32%)]\tTrain Loss: 0.010891\n",
            "Train Epoch: 1 [25600/60000(43%)]\tTrain Loss: 0.011338\n",
            "Train Epoch: 1 [32000/60000(53%)]\tTrain Loss: 0.009141\n",
            "Train Epoch: 1 [38400/60000(64%)]\tTrain Loss: 0.009589\n",
            "Train Epoch: 1 [44800/60000(75%)]\tTrain Loss: 0.011241\n",
            "Train Epoch: 1 [51200/60000(85%)]\tTrain Loss: 0.011166\n",
            "Train Epoch: 1 [57600/60000(96%)]\tTrain Loss: 0.011496\n",
            "\n",
            "[EPOCH: 1], \tTest Loss: 0.0003\n"
          ],
          "name": "stdout"
        },
        {
          "output_type": "display_data",
          "data": {
            "image/png": "[encoded data removed]",
            "text/plain": [
              "<Figure size 720x288 with 20 Axes>"
            ]
          },
          "metadata": {
            "tags": []
          }
        },
        {
          "output_type": "stream",
          "text": [
            "Train Epoch: 2 [0/60000(0%)]\tTrain Loss: 0.010991\n",
            "Train Epoch: 2 [6400/60000(11%)]\tTrain Loss: 0.007117\n",
            "Train Epoch: 2 [12800/60000(21%)]\tTrain Loss: 0.010522\n",
            "Train Epoch: 2 [19200/60000(32%)]\tTrain Loss: 0.008672\n",
            "Train Epoch: 2 [25600/60000(43%)]\tTrain Loss: 0.008948\n",
            "Train Epoch: 2 [32000/60000(53%)]\tTrain Loss: 0.008059\n",
            "Train Epoch: 2 [38400/60000(64%)]\tTrain Loss: 0.010143\n",
            "Train Epoch: 2 [44800/60000(75%)]\tTrain Loss: 0.009077\n",
            "Train Epoch: 2 [51200/60000(85%)]\tTrain Loss: 0.008935\n",
            "Train Epoch: 2 [57600/60000(96%)]\tTrain Loss: 0.009024\n",
            "\n",
            "[EPOCH: 2], \tTest Loss: 0.0003\n"
          ],
          "name": "stdout"
        },
        {
          "output_type": "display_data",
          "data": {
            "image/png": "[encoded data removed]",
            "text/plain": [
              "<Figure size 720x288 with 20 Axes>"
            ]
          },
          "metadata": {
            "tags": []
          }
        },
        {
          "output_type": "stream",
          "text": [
            "Train Epoch: 3 [0/60000(0%)]\tTrain Loss: 0.009874\n",
            "Train Epoch: 3 [6400/60000(11%)]\tTrain Loss: 0.008473\n",
            "Train Epoch: 3 [12800/60000(21%)]\tTrain Loss: 0.008553\n",
            "Train Epoch: 3 [19200/60000(32%)]\tTrain Loss: 0.010847\n",
            "Train Epoch: 3 [25600/60000(43%)]\tTrain Loss: 0.011667\n",
            "Train Epoch: 3 [32000/60000(53%)]\tTrain Loss: 0.009646\n",
            "Train Epoch: 3 [38400/60000(64%)]\tTrain Loss: 0.009814\n",
            "Train Epoch: 3 [44800/60000(75%)]\tTrain Loss: 0.012184\n",
            "Train Epoch: 3 [51200/60000(85%)]\tTrain Loss: 0.010158\n",
            "Train Epoch: 3 [57600/60000(96%)]\tTrain Loss: 0.009365\n",
            "\n",
            "[EPOCH: 3], \tTest Loss: 0.0003\n"
          ],
          "name": "stdout"
        },
        {
          "output_type": "display_data",
          "data": {
            "image/png": "[encoded data removed]",
            "text/plain": [
              "<Figure size 720x288 with 20 Axes>"
            ]
          },
          "metadata": {
            "tags": []
          }
        },
        {
          "output_type": "stream",
          "text": [
            "Train Epoch: 4 [0/60000(0%)]\tTrain Loss: 0.012646\n",
            "Train Epoch: 4 [6400/60000(11%)]\tTrain Loss: 0.008805\n",
            "Train Epoch: 4 [12800/60000(21%)]\tTrain Loss: 0.008464\n",
            "Train Epoch: 4 [19200/60000(32%)]\tTrain Loss: 0.008176\n",
            "Train Epoch: 4 [25600/60000(43%)]\tTrain Loss: 0.010235\n",
            "Train Epoch: 4 [32000/60000(53%)]\tTrain Loss: 0.009318\n",
            "Train Epoch: 4 [38400/60000(64%)]\tTrain Loss: 0.007914\n",
            "Train Epoch: 4 [44800/60000(75%)]\tTrain Loss: 0.009980\n",
            "Train Epoch: 4 [51200/60000(85%)]\tTrain Loss: 0.009330\n",
            "Train Epoch: 4 [57600/60000(96%)]\tTrain Loss: 0.008892\n",
            "\n",
            "[EPOCH: 4], \tTest Loss: 0.0003\n"
          ],
          "name": "stdout"
        },
        {
          "output_type": "display_data",
          "data": {
            "image/png": "[encoded data removed]",
            "text/plain": [
              "<Figure size 720x288 with 20 Axes>"
            ]
          },
          "metadata": {
            "tags": []
          }
        },
        {
          "output_type": "stream",
          "text": [
            "Train Epoch: 5 [0/60000(0%)]\tTrain Loss: 0.008548\n",
            "Train Epoch: 5 [6400/60000(11%)]\tTrain Loss: 0.010618\n",
            "Train Epoch: 5 [12800/60000(21%)]\tTrain Loss: 0.009842\n",
            "Train Epoch: 5 [19200/60000(32%)]\tTrain Loss: 0.010204\n",
            "Train Epoch: 5 [25600/60000(43%)]\tTrain Loss: 0.008328\n",
            "Train Epoch: 5 [32000/60000(53%)]\tTrain Loss: 0.007978\n",
            "Train Epoch: 5 [38400/60000(64%)]\tTrain Loss: 0.011331\n",
            "Train Epoch: 5 [44800/60000(75%)]\tTrain Loss: 0.008018\n",
            "Train Epoch: 5 [51200/60000(85%)]\tTrain Loss: 0.007855\n",
            "Train Epoch: 5 [57600/60000(96%)]\tTrain Loss: 0.008747\n",
            "\n",
            "[EPOCH: 5], \tTest Loss: 0.0003\n"
          ],
          "name": "stdout"
        },
        {
          "output_type": "display_data",
          "data": {
            "image/png": "[encoded data removed]",
            "text/plain": [
              "<Figure size 720x288 with 20 Axes>"
            ]
          },
          "metadata": {
            "tags": []
          }
        },
        {
          "output_type": "stream",
          "text": [
            "Train Epoch: 6 [0/60000(0%)]\tTrain Loss: 0.010606\n",
            "Train Epoch: 6 [6400/60000(11%)]\tTrain Loss: 0.008639\n",
            "Train Epoch: 6 [12800/60000(21%)]\tTrain Loss: 0.011744\n",
            "Train Epoch: 6 [19200/60000(32%)]\tTrain Loss: 0.010116\n",
            "Train Epoch: 6 [25600/60000(43%)]\tTrain Loss: 0.009491\n",
            "Train Epoch: 6 [32000/60000(53%)]\tTrain Loss: 0.011827\n",
            "Train Epoch: 6 [38400/60000(64%)]\tTrain Loss: 0.009816\n",
            "Train Epoch: 6 [44800/60000(75%)]\tTrain Loss: 0.010119\n",
            "Train Epoch: 6 [51200/60000(85%)]\tTrain Loss: 0.009756\n",
            "Train Epoch: 6 [57600/60000(96%)]\tTrain Loss: 0.009525\n",
            "\n",
            "[EPOCH: 6], \tTest Loss: 0.0003\n"
          ],
          "name": "stdout"
        },
        {
          "output_type": "display_data",
          "data": {
            "image/png": "[encoded data removed]",
            "text/plain": [
              "<Figure size 720x288 with 20 Axes>"
            ]
          },
          "metadata": {
            "tags": []
          }
        },
        {
          "output_type": "stream",
          "text": [
            "Train Epoch: 7 [0/60000(0%)]\tTrain Loss: 0.007721\n",
            "Train Epoch: 7 [6400/60000(11%)]\tTrain Loss: 0.007635\n",
            "Train Epoch: 7 [12800/60000(21%)]\tTrain Loss: 0.008756\n",
            "Train Epoch: 7 [19200/60000(32%)]\tTrain Loss: 0.008010\n",
            "Train Epoch: 7 [25600/60000(43%)]\tTrain Loss: 0.009615\n",
            "Train Epoch: 7 [32000/60000(53%)]\tTrain Loss: 0.008343\n",
            "Train Epoch: 7 [38400/60000(64%)]\tTrain Loss: 0.011139\n",
            "Train Epoch: 7 [44800/60000(75%)]\tTrain Loss: 0.009305\n",
            "Train Epoch: 7 [51200/60000(85%)]\tTrain Loss: 0.010328\n",
            "Train Epoch: 7 [57600/60000(96%)]\tTrain Loss: 0.008447\n",
            "\n",
            "[EPOCH: 7], \tTest Loss: 0.0003\n"
          ],
          "name": "stdout"
        },
        {
          "output_type": "display_data",
          "data": {
            "image/png": "[encoded data removed]",
            "text/plain": [
              "<Figure size 720x288 with 20 Axes>"
            ]
          },
          "metadata": {
            "tags": []
          }
        },
        {
          "output_type": "stream",
          "text": [
            "Train Epoch: 8 [0/60000(0%)]\tTrain Loss: 0.009407\n",
            "Train Epoch: 8 [6400/60000(11%)]\tTrain Loss: 0.009163\n",
            "Train Epoch: 8 [12800/60000(21%)]\tTrain Loss: 0.008172\n",
            "Train Epoch: 8 [19200/60000(32%)]\tTrain Loss: 0.009603\n",
            "Train Epoch: 8 [25600/60000(43%)]\tTrain Loss: 0.009658\n",
            "Train Epoch: 8 [32000/60000(53%)]\tTrain Loss: 0.009843\n",
            "Train Epoch: 8 [38400/60000(64%)]\tTrain Loss: 0.008754\n",
            "Train Epoch: 8 [44800/60000(75%)]\tTrain Loss: 0.008878\n",
            "Train Epoch: 8 [51200/60000(85%)]\tTrain Loss: 0.008057\n",
            "Train Epoch: 8 [57600/60000(96%)]\tTrain Loss: 0.011146\n",
            "\n",
            "[EPOCH: 8], \tTest Loss: 0.0003\n"
          ],
          "name": "stdout"
        },
        {
          "output_type": "display_data",
          "data": {
            "image/png": "[encoded data removed]",
            "text/plain": [
              "<Figure size 720x288 with 20 Axes>"
            ]
          },
          "metadata": {
            "tags": []
          }
        },
        {
          "output_type": "stream",
          "text": [
            "Train Epoch: 9 [0/60000(0%)]\tTrain Loss: 0.007894\n",
            "Train Epoch: 9 [6400/60000(11%)]\tTrain Loss: 0.008001\n",
            "Train Epoch: 9 [12800/60000(21%)]\tTrain Loss: 0.011138\n",
            "Train Epoch: 9 [19200/60000(32%)]\tTrain Loss: 0.006896\n",
            "Train Epoch: 9 [25600/60000(43%)]\tTrain Loss: 0.009512\n",
            "Train Epoch: 9 [32000/60000(53%)]\tTrain Loss: 0.008948\n",
            "Train Epoch: 9 [38400/60000(64%)]\tTrain Loss: 0.010156\n",
            "Train Epoch: 9 [44800/60000(75%)]\tTrain Loss: 0.009734\n",
            "Train Epoch: 9 [51200/60000(85%)]\tTrain Loss: 0.007848\n",
            "Train Epoch: 9 [57600/60000(96%)]\tTrain Loss: 0.010541\n",
            "\n",
            "[EPOCH: 9], \tTest Loss: 0.0003\n"
          ],
          "name": "stdout"
        },
        {
          "output_type": "display_data",
          "data": {
            "image/png": "[encoded data removed]",
            "text/plain": [
              "<Figure size 720x288 with 20 Axes>"
            ]
          },
          "metadata": {
            "tags": []
          }
        },
        {
          "output_type": "stream",
          "text": [
            "Train Epoch: 10 [0/60000(0%)]\tTrain Loss: 0.009020\n",
            "Train Epoch: 10 [6400/60000(11%)]\tTrain Loss: 0.008803\n",
            "Train Epoch: 10 [12800/60000(21%)]\tTrain Loss: 0.008603\n",
            "Train Epoch: 10 [19200/60000(32%)]\tTrain Loss: 0.008496\n",
            "Train Epoch: 10 [25600/60000(43%)]\tTrain Loss: 0.006505\n",
            "Train Epoch: 10 [32000/60000(53%)]\tTrain Loss: 0.006988\n",
            "Train Epoch: 10 [38400/60000(64%)]\tTrain Loss: 0.009454\n",
            "Train Epoch: 10 [44800/60000(75%)]\tTrain Loss: 0.010290\n",
            "Train Epoch: 10 [51200/60000(85%)]\tTrain Loss: 0.010343\n",
            "Train Epoch: 10 [57600/60000(96%)]\tTrain Loss: 0.008160\n",
            "\n",
            "[EPOCH: 10], \tTest Loss: 0.0003\n"
          ],
          "name": "stdout"
        },
        {
          "output_type": "display_data",
          "data": {
            "image/png": "[encoded data removed]",
            "text/plain": [
              "<Figure size 720x288 with 20 Axes>"
            ]
          },
          "metadata": {
            "tags": []
          }
        }
      ]
    }
  ]
}